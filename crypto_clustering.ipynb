{
 "cells": [
  {
   "cell_type": "markdown",
   "metadata": {},
   "source": [
    "# Clustering Crypto"
   ]
  },
  {
   "cell_type": "code",
   "execution_count": 125,
   "metadata": {},
   "outputs": [],
   "source": [
    "# Initial imports\n",
    "import pandas as pd\n",
    "import hvplot.pandas\n",
    "from path import Path\n",
    "import plotly.express as px\n",
    "from sklearn.preprocessing import StandardScaler, MinMaxScaler\n",
    "from sklearn.decomposition import PCA\n",
    "from sklearn.cluster import KMeans\n"
   ]
  },
  {
   "cell_type": "markdown",
   "metadata": {},
   "source": [
    "### Deliverable 1: Preprocessing the Data for PCA"
   ]
  },
  {
   "cell_type": "code",
   "execution_count": 126,
   "metadata": {},
   "outputs": [
    {
     "data": {
      "text/html": [
       "<div>\n",
       "<style scoped>\n",
       "    .dataframe tbody tr th:only-of-type {\n",
       "        vertical-align: middle;\n",
       "    }\n",
       "\n",
       "    .dataframe tbody tr th {\n",
       "        vertical-align: top;\n",
       "    }\n",
       "\n",
       "    .dataframe thead th {\n",
       "        text-align: right;\n",
       "    }\n",
       "</style>\n",
       "<table border=\"1\" class=\"dataframe\">\n",
       "  <thead>\n",
       "    <tr style=\"text-align: right;\">\n",
       "      <th></th>\n",
       "      <th>CoinName</th>\n",
       "      <th>Algorithm</th>\n",
       "      <th>IsTrading</th>\n",
       "      <th>ProofType</th>\n",
       "      <th>TotalCoinsMined</th>\n",
       "      <th>TotalCoinSupply</th>\n",
       "    </tr>\n",
       "    <tr>\n",
       "      <th></th>\n",
       "      <th></th>\n",
       "      <th></th>\n",
       "      <th></th>\n",
       "      <th></th>\n",
       "      <th></th>\n",
       "      <th></th>\n",
       "    </tr>\n",
       "  </thead>\n",
       "  <tbody>\n",
       "    <tr>\n",
       "      <th>42</th>\n",
       "      <td>42 Coin</td>\n",
       "      <td>Scrypt</td>\n",
       "      <td>True</td>\n",
       "      <td>PoW/PoS</td>\n",
       "      <td>4.199995e+01</td>\n",
       "      <td>42</td>\n",
       "    </tr>\n",
       "    <tr>\n",
       "      <th>365</th>\n",
       "      <td>365Coin</td>\n",
       "      <td>X11</td>\n",
       "      <td>True</td>\n",
       "      <td>PoW/PoS</td>\n",
       "      <td>NaN</td>\n",
       "      <td>2300000000</td>\n",
       "    </tr>\n",
       "    <tr>\n",
       "      <th>404</th>\n",
       "      <td>404Coin</td>\n",
       "      <td>Scrypt</td>\n",
       "      <td>True</td>\n",
       "      <td>PoW/PoS</td>\n",
       "      <td>1.055185e+09</td>\n",
       "      <td>532000000</td>\n",
       "    </tr>\n",
       "    <tr>\n",
       "      <th>611</th>\n",
       "      <td>SixEleven</td>\n",
       "      <td>SHA-256</td>\n",
       "      <td>True</td>\n",
       "      <td>PoW</td>\n",
       "      <td>NaN</td>\n",
       "      <td>611000</td>\n",
       "    </tr>\n",
       "    <tr>\n",
       "      <th>808</th>\n",
       "      <td>808</td>\n",
       "      <td>SHA-256</td>\n",
       "      <td>True</td>\n",
       "      <td>PoW/PoS</td>\n",
       "      <td>0.000000e+00</td>\n",
       "      <td>0</td>\n",
       "    </tr>\n",
       "  </tbody>\n",
       "</table>\n",
       "</div>"
      ],
      "text/plain": [
       "      CoinName Algorithm  IsTrading ProofType  TotalCoinsMined TotalCoinSupply\n",
       "                                                                              \n",
       "42     42 Coin    Scrypt       True   PoW/PoS     4.199995e+01              42\n",
       "365    365Coin       X11       True   PoW/PoS              NaN      2300000000\n",
       "404    404Coin    Scrypt       True   PoW/PoS     1.055185e+09       532000000\n",
       "611  SixEleven   SHA-256       True       PoW              NaN          611000\n",
       "808        808   SHA-256       True   PoW/PoS     0.000000e+00               0"
      ]
     },
     "execution_count": 126,
     "metadata": {},
     "output_type": "execute_result"
    }
   ],
   "source": [
    "# Load the crypto_data.csv dataset.\n",
    "crypto_df = pd.read_csv(\"crypto_data.csv\")\n",
    "crypto_df = crypto_df.set_index(\"Unnamed: 0\",\" \")\n",
    "#crypto_df = crypto_df.columns.Unnamed: 0 = None\n",
    "#crypto_df = crypto_df.rename_axis(None, axis = 1)\n",
    "#del crypto_df.index.name\n",
    "crypto_df.index.names = ['']\n",
    "crypto_df.head()\n"
   ]
  },
  {
   "cell_type": "code",
   "execution_count": 127,
   "metadata": {},
   "outputs": [
    {
     "data": {
      "text/html": [
       "<div>\n",
       "<style scoped>\n",
       "    .dataframe tbody tr th:only-of-type {\n",
       "        vertical-align: middle;\n",
       "    }\n",
       "\n",
       "    .dataframe tbody tr th {\n",
       "        vertical-align: top;\n",
       "    }\n",
       "\n",
       "    .dataframe thead th {\n",
       "        text-align: right;\n",
       "    }\n",
       "</style>\n",
       "<table border=\"1\" class=\"dataframe\">\n",
       "  <thead>\n",
       "    <tr style=\"text-align: right;\">\n",
       "      <th></th>\n",
       "      <th>CoinName</th>\n",
       "      <th>Algorithm</th>\n",
       "      <th>IsTrading</th>\n",
       "      <th>ProofType</th>\n",
       "      <th>TotalCoinsMined</th>\n",
       "      <th>TotalCoinSupply</th>\n",
       "    </tr>\n",
       "    <tr>\n",
       "      <th></th>\n",
       "      <th></th>\n",
       "      <th></th>\n",
       "      <th></th>\n",
       "      <th></th>\n",
       "      <th></th>\n",
       "      <th></th>\n",
       "    </tr>\n",
       "  </thead>\n",
       "  <tbody>\n",
       "    <tr>\n",
       "      <th>42</th>\n",
       "      <td>42 Coin</td>\n",
       "      <td>Scrypt</td>\n",
       "      <td>True</td>\n",
       "      <td>PoW/PoS</td>\n",
       "      <td>4.199995e+01</td>\n",
       "      <td>42</td>\n",
       "    </tr>\n",
       "    <tr>\n",
       "      <th>365</th>\n",
       "      <td>365Coin</td>\n",
       "      <td>X11</td>\n",
       "      <td>True</td>\n",
       "      <td>PoW/PoS</td>\n",
       "      <td>NaN</td>\n",
       "      <td>2300000000</td>\n",
       "    </tr>\n",
       "    <tr>\n",
       "      <th>404</th>\n",
       "      <td>404Coin</td>\n",
       "      <td>Scrypt</td>\n",
       "      <td>True</td>\n",
       "      <td>PoW/PoS</td>\n",
       "      <td>1.055185e+09</td>\n",
       "      <td>532000000</td>\n",
       "    </tr>\n",
       "    <tr>\n",
       "      <th>611</th>\n",
       "      <td>SixEleven</td>\n",
       "      <td>SHA-256</td>\n",
       "      <td>True</td>\n",
       "      <td>PoW</td>\n",
       "      <td>NaN</td>\n",
       "      <td>611000</td>\n",
       "    </tr>\n",
       "    <tr>\n",
       "      <th>808</th>\n",
       "      <td>808</td>\n",
       "      <td>SHA-256</td>\n",
       "      <td>True</td>\n",
       "      <td>PoW/PoS</td>\n",
       "      <td>0.000000e+00</td>\n",
       "      <td>0</td>\n",
       "    </tr>\n",
       "    <tr>\n",
       "      <th>...</th>\n",
       "      <td>...</td>\n",
       "      <td>...</td>\n",
       "      <td>...</td>\n",
       "      <td>...</td>\n",
       "      <td>...</td>\n",
       "      <td>...</td>\n",
       "    </tr>\n",
       "    <tr>\n",
       "      <th>SERO</th>\n",
       "      <td>Super Zero</td>\n",
       "      <td>Ethash</td>\n",
       "      <td>True</td>\n",
       "      <td>PoW</td>\n",
       "      <td>NaN</td>\n",
       "      <td>1000000000</td>\n",
       "    </tr>\n",
       "    <tr>\n",
       "      <th>UOS</th>\n",
       "      <td>UOS</td>\n",
       "      <td>SHA-256</td>\n",
       "      <td>True</td>\n",
       "      <td>DPoI</td>\n",
       "      <td>NaN</td>\n",
       "      <td>1000000000</td>\n",
       "    </tr>\n",
       "    <tr>\n",
       "      <th>BDX</th>\n",
       "      <td>Beldex</td>\n",
       "      <td>CryptoNight</td>\n",
       "      <td>True</td>\n",
       "      <td>PoW</td>\n",
       "      <td>9.802226e+08</td>\n",
       "      <td>1400222610</td>\n",
       "    </tr>\n",
       "    <tr>\n",
       "      <th>ZEN</th>\n",
       "      <td>Horizen</td>\n",
       "      <td>Equihash</td>\n",
       "      <td>True</td>\n",
       "      <td>PoW</td>\n",
       "      <td>7.296538e+06</td>\n",
       "      <td>21000000</td>\n",
       "    </tr>\n",
       "    <tr>\n",
       "      <th>XBC</th>\n",
       "      <td>BitcoinPlus</td>\n",
       "      <td>Scrypt</td>\n",
       "      <td>True</td>\n",
       "      <td>PoS</td>\n",
       "      <td>1.283270e+05</td>\n",
       "      <td>1000000</td>\n",
       "    </tr>\n",
       "  </tbody>\n",
       "</table>\n",
       "<p>1144 rows × 6 columns</p>\n",
       "</div>"
      ],
      "text/plain": [
       "         CoinName    Algorithm  IsTrading ProofType  TotalCoinsMined  \\\n",
       "                                                                       \n",
       "42        42 Coin       Scrypt       True   PoW/PoS     4.199995e+01   \n",
       "365       365Coin          X11       True   PoW/PoS              NaN   \n",
       "404       404Coin       Scrypt       True   PoW/PoS     1.055185e+09   \n",
       "611     SixEleven      SHA-256       True       PoW              NaN   \n",
       "808           808      SHA-256       True   PoW/PoS     0.000000e+00   \n",
       "...           ...          ...        ...       ...              ...   \n",
       "SERO   Super Zero       Ethash       True       PoW              NaN   \n",
       "UOS           UOS      SHA-256       True      DPoI              NaN   \n",
       "BDX        Beldex  CryptoNight       True       PoW     9.802226e+08   \n",
       "ZEN       Horizen     Equihash       True       PoW     7.296538e+06   \n",
       "XBC   BitcoinPlus       Scrypt       True       PoS     1.283270e+05   \n",
       "\n",
       "     TotalCoinSupply  \n",
       "                      \n",
       "42                42  \n",
       "365       2300000000  \n",
       "404        532000000  \n",
       "611           611000  \n",
       "808                0  \n",
       "...              ...  \n",
       "SERO      1000000000  \n",
       "UOS       1000000000  \n",
       "BDX       1400222610  \n",
       "ZEN         21000000  \n",
       "XBC          1000000  \n",
       "\n",
       "[1144 rows x 6 columns]"
      ]
     },
     "execution_count": 127,
     "metadata": {},
     "output_type": "execute_result"
    }
   ],
   "source": [
    "# Keep all the cryptocurrencies that are being traded.\n",
    "crypto_df = crypto_df[crypto_df[\"IsTrading\"] == True]\n",
    "crypto_df"
   ]
  },
  {
   "cell_type": "code",
   "execution_count": 128,
   "metadata": {},
   "outputs": [
    {
     "data": {
      "text/plain": [
       "0"
      ]
     },
     "execution_count": 128,
     "metadata": {},
     "output_type": "execute_result"
    }
   ],
   "source": [
    "# Keep all the cryptocurrencies that have a working algorithm.\n",
    "crypto_df['Algorithm'].isnull().sum()"
   ]
  },
  {
   "cell_type": "code",
   "execution_count": 129,
   "metadata": {},
   "outputs": [
    {
     "data": {
      "text/html": [
       "<div>\n",
       "<style scoped>\n",
       "    .dataframe tbody tr th:only-of-type {\n",
       "        vertical-align: middle;\n",
       "    }\n",
       "\n",
       "    .dataframe tbody tr th {\n",
       "        vertical-align: top;\n",
       "    }\n",
       "\n",
       "    .dataframe thead th {\n",
       "        text-align: right;\n",
       "    }\n",
       "</style>\n",
       "<table border=\"1\" class=\"dataframe\">\n",
       "  <thead>\n",
       "    <tr style=\"text-align: right;\">\n",
       "      <th></th>\n",
       "      <th>CoinName</th>\n",
       "      <th>Algorithm</th>\n",
       "      <th>ProofType</th>\n",
       "      <th>TotalCoinsMined</th>\n",
       "      <th>TotalCoinSupply</th>\n",
       "    </tr>\n",
       "    <tr>\n",
       "      <th></th>\n",
       "      <th></th>\n",
       "      <th></th>\n",
       "      <th></th>\n",
       "      <th></th>\n",
       "      <th></th>\n",
       "    </tr>\n",
       "  </thead>\n",
       "  <tbody>\n",
       "    <tr>\n",
       "      <th>42</th>\n",
       "      <td>42 Coin</td>\n",
       "      <td>Scrypt</td>\n",
       "      <td>PoW/PoS</td>\n",
       "      <td>4.199995e+01</td>\n",
       "      <td>42</td>\n",
       "    </tr>\n",
       "    <tr>\n",
       "      <th>365</th>\n",
       "      <td>365Coin</td>\n",
       "      <td>X11</td>\n",
       "      <td>PoW/PoS</td>\n",
       "      <td>NaN</td>\n",
       "      <td>2300000000</td>\n",
       "    </tr>\n",
       "    <tr>\n",
       "      <th>404</th>\n",
       "      <td>404Coin</td>\n",
       "      <td>Scrypt</td>\n",
       "      <td>PoW/PoS</td>\n",
       "      <td>1.055185e+09</td>\n",
       "      <td>532000000</td>\n",
       "    </tr>\n",
       "    <tr>\n",
       "      <th>611</th>\n",
       "      <td>SixEleven</td>\n",
       "      <td>SHA-256</td>\n",
       "      <td>PoW</td>\n",
       "      <td>NaN</td>\n",
       "      <td>611000</td>\n",
       "    </tr>\n",
       "    <tr>\n",
       "      <th>808</th>\n",
       "      <td>808</td>\n",
       "      <td>SHA-256</td>\n",
       "      <td>PoW/PoS</td>\n",
       "      <td>0.000000e+00</td>\n",
       "      <td>0</td>\n",
       "    </tr>\n",
       "    <tr>\n",
       "      <th>1337</th>\n",
       "      <td>EliteCoin</td>\n",
       "      <td>X13</td>\n",
       "      <td>PoW/PoS</td>\n",
       "      <td>2.927942e+10</td>\n",
       "      <td>314159265359</td>\n",
       "    </tr>\n",
       "    <tr>\n",
       "      <th>2015</th>\n",
       "      <td>2015 coin</td>\n",
       "      <td>X11</td>\n",
       "      <td>PoW/PoS</td>\n",
       "      <td>NaN</td>\n",
       "      <td>0</td>\n",
       "    </tr>\n",
       "    <tr>\n",
       "      <th>BTC</th>\n",
       "      <td>Bitcoin</td>\n",
       "      <td>SHA-256</td>\n",
       "      <td>PoW</td>\n",
       "      <td>1.792718e+07</td>\n",
       "      <td>21000000</td>\n",
       "    </tr>\n",
       "    <tr>\n",
       "      <th>ETH</th>\n",
       "      <td>Ethereum</td>\n",
       "      <td>Ethash</td>\n",
       "      <td>PoW</td>\n",
       "      <td>1.076842e+08</td>\n",
       "      <td>0</td>\n",
       "    </tr>\n",
       "    <tr>\n",
       "      <th>LTC</th>\n",
       "      <td>Litecoin</td>\n",
       "      <td>Scrypt</td>\n",
       "      <td>PoW</td>\n",
       "      <td>6.303924e+07</td>\n",
       "      <td>84000000</td>\n",
       "    </tr>\n",
       "  </tbody>\n",
       "</table>\n",
       "</div>"
      ],
      "text/plain": [
       "       CoinName Algorithm ProofType  TotalCoinsMined TotalCoinSupply\n",
       "                                                                    \n",
       "42      42 Coin    Scrypt   PoW/PoS     4.199995e+01              42\n",
       "365     365Coin       X11   PoW/PoS              NaN      2300000000\n",
       "404     404Coin    Scrypt   PoW/PoS     1.055185e+09       532000000\n",
       "611   SixEleven   SHA-256       PoW              NaN          611000\n",
       "808         808   SHA-256   PoW/PoS     0.000000e+00               0\n",
       "1337  EliteCoin       X13   PoW/PoS     2.927942e+10    314159265359\n",
       "2015  2015 coin       X11   PoW/PoS              NaN               0\n",
       "BTC     Bitcoin   SHA-256       PoW     1.792718e+07        21000000\n",
       "ETH    Ethereum    Ethash       PoW     1.076842e+08               0\n",
       "LTC    Litecoin    Scrypt       PoW     6.303924e+07        84000000"
      ]
     },
     "execution_count": 129,
     "metadata": {},
     "output_type": "execute_result"
    }
   ],
   "source": [
    "# Remove the \"IsTrading\" column. \n",
    "crypto_df = crypto_df.drop(columns=[\"IsTrading\"])\n",
    "\n",
    "crypto_df.head(10)\n"
   ]
  },
  {
   "cell_type": "code",
   "execution_count": 130,
   "metadata": {},
   "outputs": [
    {
     "name": "stdout",
     "output_type": "stream",
     "text": [
      "Column CoinName has 0 null values\n",
      "Column Algorithm has 0 null values\n",
      "Column ProofType has 0 null values\n",
      "Column TotalCoinsMined has 459 null values\n",
      "Column TotalCoinSupply has 0 null values\n"
     ]
    }
   ],
   "source": [
    "# Remove rows that have at least 1 null value.\n",
    "for column in crypto_df.columns:\n",
    "    print(f\"Column {column} has {crypto_df[column].isnull().sum()} null values\")\n",
    "    \n",
    "    \n",
    "    \n"
   ]
  },
  {
   "cell_type": "code",
   "execution_count": 131,
   "metadata": {},
   "outputs": [
    {
     "data": {
      "text/html": [
       "<div>\n",
       "<style scoped>\n",
       "    .dataframe tbody tr th:only-of-type {\n",
       "        vertical-align: middle;\n",
       "    }\n",
       "\n",
       "    .dataframe tbody tr th {\n",
       "        vertical-align: top;\n",
       "    }\n",
       "\n",
       "    .dataframe thead th {\n",
       "        text-align: right;\n",
       "    }\n",
       "</style>\n",
       "<table border=\"1\" class=\"dataframe\">\n",
       "  <thead>\n",
       "    <tr style=\"text-align: right;\">\n",
       "      <th></th>\n",
       "      <th>CoinName</th>\n",
       "      <th>Algorithm</th>\n",
       "      <th>ProofType</th>\n",
       "      <th>TotalCoinsMined</th>\n",
       "      <th>TotalCoinSupply</th>\n",
       "    </tr>\n",
       "    <tr>\n",
       "      <th></th>\n",
       "      <th></th>\n",
       "      <th></th>\n",
       "      <th></th>\n",
       "      <th></th>\n",
       "      <th></th>\n",
       "    </tr>\n",
       "  </thead>\n",
       "  <tbody>\n",
       "    <tr>\n",
       "      <th>42</th>\n",
       "      <td>42 Coin</td>\n",
       "      <td>Scrypt</td>\n",
       "      <td>PoW/PoS</td>\n",
       "      <td>4.199995e+01</td>\n",
       "      <td>42</td>\n",
       "    </tr>\n",
       "    <tr>\n",
       "      <th>404</th>\n",
       "      <td>404Coin</td>\n",
       "      <td>Scrypt</td>\n",
       "      <td>PoW/PoS</td>\n",
       "      <td>1.055185e+09</td>\n",
       "      <td>532000000</td>\n",
       "    </tr>\n",
       "    <tr>\n",
       "      <th>808</th>\n",
       "      <td>808</td>\n",
       "      <td>SHA-256</td>\n",
       "      <td>PoW/PoS</td>\n",
       "      <td>0.000000e+00</td>\n",
       "      <td>0</td>\n",
       "    </tr>\n",
       "    <tr>\n",
       "      <th>1337</th>\n",
       "      <td>EliteCoin</td>\n",
       "      <td>X13</td>\n",
       "      <td>PoW/PoS</td>\n",
       "      <td>2.927942e+10</td>\n",
       "      <td>314159265359</td>\n",
       "    </tr>\n",
       "    <tr>\n",
       "      <th>BTC</th>\n",
       "      <td>Bitcoin</td>\n",
       "      <td>SHA-256</td>\n",
       "      <td>PoW</td>\n",
       "      <td>1.792718e+07</td>\n",
       "      <td>21000000</td>\n",
       "    </tr>\n",
       "  </tbody>\n",
       "</table>\n",
       "</div>"
      ],
      "text/plain": [
       "       CoinName Algorithm ProofType  TotalCoinsMined TotalCoinSupply\n",
       "                                                                    \n",
       "42      42 Coin    Scrypt   PoW/PoS     4.199995e+01              42\n",
       "404     404Coin    Scrypt   PoW/PoS     1.055185e+09       532000000\n",
       "808         808   SHA-256   PoW/PoS     0.000000e+00               0\n",
       "1337  EliteCoin       X13   PoW/PoS     2.927942e+10    314159265359\n",
       "BTC     Bitcoin   SHA-256       PoW     1.792718e+07        21000000"
      ]
     },
     "execution_count": 131,
     "metadata": {},
     "output_type": "execute_result"
    }
   ],
   "source": [
    "# Keep the rows where coins are mined.\n",
    "crypto_df = crypto_df.dropna()\n",
    "crypto_df.head()"
   ]
  },
  {
   "cell_type": "code",
   "execution_count": 132,
   "metadata": {},
   "outputs": [
    {
     "data": {
      "text/html": [
       "<div>\n",
       "<style scoped>\n",
       "    .dataframe tbody tr th:only-of-type {\n",
       "        vertical-align: middle;\n",
       "    }\n",
       "\n",
       "    .dataframe tbody tr th {\n",
       "        vertical-align: top;\n",
       "    }\n",
       "\n",
       "    .dataframe thead th {\n",
       "        text-align: right;\n",
       "    }\n",
       "</style>\n",
       "<table border=\"1\" class=\"dataframe\">\n",
       "  <thead>\n",
       "    <tr style=\"text-align: right;\">\n",
       "      <th></th>\n",
       "      <th>CoinName</th>\n",
       "    </tr>\n",
       "    <tr>\n",
       "      <th></th>\n",
       "      <th></th>\n",
       "    </tr>\n",
       "  </thead>\n",
       "  <tbody>\n",
       "    <tr>\n",
       "      <th>42</th>\n",
       "      <td>42 Coin</td>\n",
       "    </tr>\n",
       "    <tr>\n",
       "      <th>404</th>\n",
       "      <td>404Coin</td>\n",
       "    </tr>\n",
       "    <tr>\n",
       "      <th>808</th>\n",
       "      <td>808</td>\n",
       "    </tr>\n",
       "    <tr>\n",
       "      <th>1337</th>\n",
       "      <td>EliteCoin</td>\n",
       "    </tr>\n",
       "    <tr>\n",
       "      <th>BTC</th>\n",
       "      <td>Bitcoin</td>\n",
       "    </tr>\n",
       "  </tbody>\n",
       "</table>\n",
       "</div>"
      ],
      "text/plain": [
       "       CoinName\n",
       "               \n",
       "42      42 Coin\n",
       "404     404Coin\n",
       "808         808\n",
       "1337  EliteCoin\n",
       "BTC     Bitcoin"
      ]
     },
     "execution_count": 132,
     "metadata": {},
     "output_type": "execute_result"
    }
   ],
   "source": [
    "# Create a new DataFrame that holds only the cryptocurrencies names.\n",
    "cryptocurrencies_name = crypto_df[[\"CoinName\"]]\n",
    "cryptocurrencies_name.head()"
   ]
  },
  {
   "cell_type": "code",
   "execution_count": 133,
   "metadata": {},
   "outputs": [
    {
     "data": {
      "text/html": [
       "<div>\n",
       "<style scoped>\n",
       "    .dataframe tbody tr th:only-of-type {\n",
       "        vertical-align: middle;\n",
       "    }\n",
       "\n",
       "    .dataframe tbody tr th {\n",
       "        vertical-align: top;\n",
       "    }\n",
       "\n",
       "    .dataframe thead th {\n",
       "        text-align: right;\n",
       "    }\n",
       "</style>\n",
       "<table border=\"1\" class=\"dataframe\">\n",
       "  <thead>\n",
       "    <tr style=\"text-align: right;\">\n",
       "      <th></th>\n",
       "      <th>Algorithm</th>\n",
       "      <th>ProofType</th>\n",
       "      <th>TotalCoinsMined</th>\n",
       "      <th>TotalCoinSupply</th>\n",
       "    </tr>\n",
       "    <tr>\n",
       "      <th></th>\n",
       "      <th></th>\n",
       "      <th></th>\n",
       "      <th></th>\n",
       "      <th></th>\n",
       "    </tr>\n",
       "  </thead>\n",
       "  <tbody>\n",
       "    <tr>\n",
       "      <th>42</th>\n",
       "      <td>Scrypt</td>\n",
       "      <td>PoW/PoS</td>\n",
       "      <td>4.199995e+01</td>\n",
       "      <td>42</td>\n",
       "    </tr>\n",
       "    <tr>\n",
       "      <th>404</th>\n",
       "      <td>Scrypt</td>\n",
       "      <td>PoW/PoS</td>\n",
       "      <td>1.055185e+09</td>\n",
       "      <td>532000000</td>\n",
       "    </tr>\n",
       "    <tr>\n",
       "      <th>808</th>\n",
       "      <td>SHA-256</td>\n",
       "      <td>PoW/PoS</td>\n",
       "      <td>0.000000e+00</td>\n",
       "      <td>0</td>\n",
       "    </tr>\n",
       "    <tr>\n",
       "      <th>1337</th>\n",
       "      <td>X13</td>\n",
       "      <td>PoW/PoS</td>\n",
       "      <td>2.927942e+10</td>\n",
       "      <td>314159265359</td>\n",
       "    </tr>\n",
       "    <tr>\n",
       "      <th>BTC</th>\n",
       "      <td>SHA-256</td>\n",
       "      <td>PoW</td>\n",
       "      <td>1.792718e+07</td>\n",
       "      <td>21000000</td>\n",
       "    </tr>\n",
       "    <tr>\n",
       "      <th>ETH</th>\n",
       "      <td>Ethash</td>\n",
       "      <td>PoW</td>\n",
       "      <td>1.076842e+08</td>\n",
       "      <td>0</td>\n",
       "    </tr>\n",
       "    <tr>\n",
       "      <th>LTC</th>\n",
       "      <td>Scrypt</td>\n",
       "      <td>PoW</td>\n",
       "      <td>6.303924e+07</td>\n",
       "      <td>84000000</td>\n",
       "    </tr>\n",
       "    <tr>\n",
       "      <th>DASH</th>\n",
       "      <td>X11</td>\n",
       "      <td>PoW/PoS</td>\n",
       "      <td>9.031294e+06</td>\n",
       "      <td>22000000</td>\n",
       "    </tr>\n",
       "    <tr>\n",
       "      <th>XMR</th>\n",
       "      <td>CryptoNight-V7</td>\n",
       "      <td>PoW</td>\n",
       "      <td>1.720114e+07</td>\n",
       "      <td>0</td>\n",
       "    </tr>\n",
       "    <tr>\n",
       "      <th>ETC</th>\n",
       "      <td>Ethash</td>\n",
       "      <td>PoW</td>\n",
       "      <td>1.133597e+08</td>\n",
       "      <td>210000000</td>\n",
       "    </tr>\n",
       "  </tbody>\n",
       "</table>\n",
       "</div>"
      ],
      "text/plain": [
       "           Algorithm ProofType  TotalCoinsMined TotalCoinSupply\n",
       "                                                               \n",
       "42            Scrypt   PoW/PoS     4.199995e+01              42\n",
       "404           Scrypt   PoW/PoS     1.055185e+09       532000000\n",
       "808          SHA-256   PoW/PoS     0.000000e+00               0\n",
       "1337             X13   PoW/PoS     2.927942e+10    314159265359\n",
       "BTC          SHA-256       PoW     1.792718e+07        21000000\n",
       "ETH           Ethash       PoW     1.076842e+08               0\n",
       "LTC           Scrypt       PoW     6.303924e+07        84000000\n",
       "DASH             X11   PoW/PoS     9.031294e+06        22000000\n",
       "XMR   CryptoNight-V7       PoW     1.720114e+07               0\n",
       "ETC           Ethash       PoW     1.133597e+08       210000000"
      ]
     },
     "execution_count": 133,
     "metadata": {},
     "output_type": "execute_result"
    }
   ],
   "source": [
    "# Drop the 'CoinName' column since it's not going to be used on the clustering algorithm.\n",
    "crypto_df = crypto_df[[\"Algorithm\",\"ProofType\",\"TotalCoinsMined\",\"TotalCoinSupply\"]].copy()\n",
    "crypto_df.head(10)"
   ]
  },
  {
   "cell_type": "code",
   "execution_count": null,
   "metadata": {},
   "outputs": [],
   "source": []
  },
  {
   "cell_type": "code",
   "execution_count": 134,
   "metadata": {},
   "outputs": [
    {
     "name": "stdout",
     "output_type": "stream",
     "text": [
      "(685, 109)\n"
     ]
    },
    {
     "data": {
      "text/html": [
       "<div>\n",
       "<style scoped>\n",
       "    .dataframe tbody tr th:only-of-type {\n",
       "        vertical-align: middle;\n",
       "    }\n",
       "\n",
       "    .dataframe tbody tr th {\n",
       "        vertical-align: top;\n",
       "    }\n",
       "\n",
       "    .dataframe thead th {\n",
       "        text-align: right;\n",
       "    }\n",
       "</style>\n",
       "<table border=\"1\" class=\"dataframe\">\n",
       "  <thead>\n",
       "    <tr style=\"text-align: right;\">\n",
       "      <th></th>\n",
       "      <th>TotalCoinsMined</th>\n",
       "      <th>TotalCoinSupply</th>\n",
       "      <th>Algorithm_1GB AES Pattern Search</th>\n",
       "      <th>Algorithm_536</th>\n",
       "      <th>Algorithm_Argon2</th>\n",
       "      <th>Algorithm_Argon2d</th>\n",
       "      <th>Algorithm_BLAKE256</th>\n",
       "      <th>Algorithm_Blake</th>\n",
       "      <th>Algorithm_Blake2S</th>\n",
       "      <th>Algorithm_Blake2b</th>\n",
       "      <th>...</th>\n",
       "      <th>ProofType_PoW/PoS</th>\n",
       "      <th>ProofType_PoW/PoS</th>\n",
       "      <th>ProofType_PoW/PoW</th>\n",
       "      <th>ProofType_PoW/nPoS</th>\n",
       "      <th>ProofType_Pos</th>\n",
       "      <th>ProofType_Proof of Authority</th>\n",
       "      <th>ProofType_Proof of Trust</th>\n",
       "      <th>ProofType_TPoS</th>\n",
       "      <th>ProofType_Zero-Knowledge Proof</th>\n",
       "      <th>ProofType_dPoW/PoW</th>\n",
       "    </tr>\n",
       "    <tr>\n",
       "      <th></th>\n",
       "      <th></th>\n",
       "      <th></th>\n",
       "      <th></th>\n",
       "      <th></th>\n",
       "      <th></th>\n",
       "      <th></th>\n",
       "      <th></th>\n",
       "      <th></th>\n",
       "      <th></th>\n",
       "      <th></th>\n",
       "      <th></th>\n",
       "      <th></th>\n",
       "      <th></th>\n",
       "      <th></th>\n",
       "      <th></th>\n",
       "      <th></th>\n",
       "      <th></th>\n",
       "      <th></th>\n",
       "      <th></th>\n",
       "      <th></th>\n",
       "      <th></th>\n",
       "    </tr>\n",
       "  </thead>\n",
       "  <tbody>\n",
       "    <tr>\n",
       "      <th>42</th>\n",
       "      <td>4.199995e+01</td>\n",
       "      <td>42</td>\n",
       "      <td>0</td>\n",
       "      <td>0</td>\n",
       "      <td>0</td>\n",
       "      <td>0</td>\n",
       "      <td>0</td>\n",
       "      <td>0</td>\n",
       "      <td>0</td>\n",
       "      <td>0</td>\n",
       "      <td>...</td>\n",
       "      <td>1</td>\n",
       "      <td>0</td>\n",
       "      <td>0</td>\n",
       "      <td>0</td>\n",
       "      <td>0</td>\n",
       "      <td>0</td>\n",
       "      <td>0</td>\n",
       "      <td>0</td>\n",
       "      <td>0</td>\n",
       "      <td>0</td>\n",
       "    </tr>\n",
       "    <tr>\n",
       "      <th>404</th>\n",
       "      <td>1.055185e+09</td>\n",
       "      <td>532000000</td>\n",
       "      <td>0</td>\n",
       "      <td>0</td>\n",
       "      <td>0</td>\n",
       "      <td>0</td>\n",
       "      <td>0</td>\n",
       "      <td>0</td>\n",
       "      <td>0</td>\n",
       "      <td>0</td>\n",
       "      <td>...</td>\n",
       "      <td>1</td>\n",
       "      <td>0</td>\n",
       "      <td>0</td>\n",
       "      <td>0</td>\n",
       "      <td>0</td>\n",
       "      <td>0</td>\n",
       "      <td>0</td>\n",
       "      <td>0</td>\n",
       "      <td>0</td>\n",
       "      <td>0</td>\n",
       "    </tr>\n",
       "    <tr>\n",
       "      <th>808</th>\n",
       "      <td>0.000000e+00</td>\n",
       "      <td>0</td>\n",
       "      <td>0</td>\n",
       "      <td>0</td>\n",
       "      <td>0</td>\n",
       "      <td>0</td>\n",
       "      <td>0</td>\n",
       "      <td>0</td>\n",
       "      <td>0</td>\n",
       "      <td>0</td>\n",
       "      <td>...</td>\n",
       "      <td>1</td>\n",
       "      <td>0</td>\n",
       "      <td>0</td>\n",
       "      <td>0</td>\n",
       "      <td>0</td>\n",
       "      <td>0</td>\n",
       "      <td>0</td>\n",
       "      <td>0</td>\n",
       "      <td>0</td>\n",
       "      <td>0</td>\n",
       "    </tr>\n",
       "    <tr>\n",
       "      <th>1337</th>\n",
       "      <td>2.927942e+10</td>\n",
       "      <td>314159265359</td>\n",
       "      <td>0</td>\n",
       "      <td>0</td>\n",
       "      <td>0</td>\n",
       "      <td>0</td>\n",
       "      <td>0</td>\n",
       "      <td>0</td>\n",
       "      <td>0</td>\n",
       "      <td>0</td>\n",
       "      <td>...</td>\n",
       "      <td>1</td>\n",
       "      <td>0</td>\n",
       "      <td>0</td>\n",
       "      <td>0</td>\n",
       "      <td>0</td>\n",
       "      <td>0</td>\n",
       "      <td>0</td>\n",
       "      <td>0</td>\n",
       "      <td>0</td>\n",
       "      <td>0</td>\n",
       "    </tr>\n",
       "    <tr>\n",
       "      <th>BTC</th>\n",
       "      <td>1.792718e+07</td>\n",
       "      <td>21000000</td>\n",
       "      <td>0</td>\n",
       "      <td>0</td>\n",
       "      <td>0</td>\n",
       "      <td>0</td>\n",
       "      <td>0</td>\n",
       "      <td>0</td>\n",
       "      <td>0</td>\n",
       "      <td>0</td>\n",
       "      <td>...</td>\n",
       "      <td>0</td>\n",
       "      <td>0</td>\n",
       "      <td>0</td>\n",
       "      <td>0</td>\n",
       "      <td>0</td>\n",
       "      <td>0</td>\n",
       "      <td>0</td>\n",
       "      <td>0</td>\n",
       "      <td>0</td>\n",
       "      <td>0</td>\n",
       "    </tr>\n",
       "    <tr>\n",
       "      <th>ETH</th>\n",
       "      <td>1.076842e+08</td>\n",
       "      <td>0</td>\n",
       "      <td>0</td>\n",
       "      <td>0</td>\n",
       "      <td>0</td>\n",
       "      <td>0</td>\n",
       "      <td>0</td>\n",
       "      <td>0</td>\n",
       "      <td>0</td>\n",
       "      <td>0</td>\n",
       "      <td>...</td>\n",
       "      <td>0</td>\n",
       "      <td>0</td>\n",
       "      <td>0</td>\n",
       "      <td>0</td>\n",
       "      <td>0</td>\n",
       "      <td>0</td>\n",
       "      <td>0</td>\n",
       "      <td>0</td>\n",
       "      <td>0</td>\n",
       "      <td>0</td>\n",
       "    </tr>\n",
       "    <tr>\n",
       "      <th>LTC</th>\n",
       "      <td>6.303924e+07</td>\n",
       "      <td>84000000</td>\n",
       "      <td>0</td>\n",
       "      <td>0</td>\n",
       "      <td>0</td>\n",
       "      <td>0</td>\n",
       "      <td>0</td>\n",
       "      <td>0</td>\n",
       "      <td>0</td>\n",
       "      <td>0</td>\n",
       "      <td>...</td>\n",
       "      <td>0</td>\n",
       "      <td>0</td>\n",
       "      <td>0</td>\n",
       "      <td>0</td>\n",
       "      <td>0</td>\n",
       "      <td>0</td>\n",
       "      <td>0</td>\n",
       "      <td>0</td>\n",
       "      <td>0</td>\n",
       "      <td>0</td>\n",
       "    </tr>\n",
       "    <tr>\n",
       "      <th>DASH</th>\n",
       "      <td>9.031294e+06</td>\n",
       "      <td>22000000</td>\n",
       "      <td>0</td>\n",
       "      <td>0</td>\n",
       "      <td>0</td>\n",
       "      <td>0</td>\n",
       "      <td>0</td>\n",
       "      <td>0</td>\n",
       "      <td>0</td>\n",
       "      <td>0</td>\n",
       "      <td>...</td>\n",
       "      <td>1</td>\n",
       "      <td>0</td>\n",
       "      <td>0</td>\n",
       "      <td>0</td>\n",
       "      <td>0</td>\n",
       "      <td>0</td>\n",
       "      <td>0</td>\n",
       "      <td>0</td>\n",
       "      <td>0</td>\n",
       "      <td>0</td>\n",
       "    </tr>\n",
       "    <tr>\n",
       "      <th>XMR</th>\n",
       "      <td>1.720114e+07</td>\n",
       "      <td>0</td>\n",
       "      <td>0</td>\n",
       "      <td>0</td>\n",
       "      <td>0</td>\n",
       "      <td>0</td>\n",
       "      <td>0</td>\n",
       "      <td>0</td>\n",
       "      <td>0</td>\n",
       "      <td>0</td>\n",
       "      <td>...</td>\n",
       "      <td>0</td>\n",
       "      <td>0</td>\n",
       "      <td>0</td>\n",
       "      <td>0</td>\n",
       "      <td>0</td>\n",
       "      <td>0</td>\n",
       "      <td>0</td>\n",
       "      <td>0</td>\n",
       "      <td>0</td>\n",
       "      <td>0</td>\n",
       "    </tr>\n",
       "    <tr>\n",
       "      <th>ETC</th>\n",
       "      <td>1.133597e+08</td>\n",
       "      <td>210000000</td>\n",
       "      <td>0</td>\n",
       "      <td>0</td>\n",
       "      <td>0</td>\n",
       "      <td>0</td>\n",
       "      <td>0</td>\n",
       "      <td>0</td>\n",
       "      <td>0</td>\n",
       "      <td>0</td>\n",
       "      <td>...</td>\n",
       "      <td>0</td>\n",
       "      <td>0</td>\n",
       "      <td>0</td>\n",
       "      <td>0</td>\n",
       "      <td>0</td>\n",
       "      <td>0</td>\n",
       "      <td>0</td>\n",
       "      <td>0</td>\n",
       "      <td>0</td>\n",
       "      <td>0</td>\n",
       "    </tr>\n",
       "  </tbody>\n",
       "</table>\n",
       "<p>10 rows × 109 columns</p>\n",
       "</div>"
      ],
      "text/plain": [
       "      TotalCoinsMined TotalCoinSupply  Algorithm_1GB AES Pattern Search  \\\n",
       "                                                                          \n",
       "42       4.199995e+01              42                                 0   \n",
       "404      1.055185e+09       532000000                                 0   \n",
       "808      0.000000e+00               0                                 0   \n",
       "1337     2.927942e+10    314159265359                                 0   \n",
       "BTC      1.792718e+07        21000000                                 0   \n",
       "ETH      1.076842e+08               0                                 0   \n",
       "LTC      6.303924e+07        84000000                                 0   \n",
       "DASH     9.031294e+06        22000000                                 0   \n",
       "XMR      1.720114e+07               0                                 0   \n",
       "ETC      1.133597e+08       210000000                                 0   \n",
       "\n",
       "      Algorithm_536  Algorithm_Argon2  Algorithm_Argon2d  Algorithm_BLAKE256  \\\n",
       "                                                                               \n",
       "42                0                 0                  0                   0   \n",
       "404               0                 0                  0                   0   \n",
       "808               0                 0                  0                   0   \n",
       "1337              0                 0                  0                   0   \n",
       "BTC               0                 0                  0                   0   \n",
       "ETH               0                 0                  0                   0   \n",
       "LTC               0                 0                  0                   0   \n",
       "DASH              0                 0                  0                   0   \n",
       "XMR               0                 0                  0                   0   \n",
       "ETC               0                 0                  0                   0   \n",
       "\n",
       "      Algorithm_Blake  Algorithm_Blake2S  Algorithm_Blake2b  ...  \\\n",
       "                                                             ...   \n",
       "42                  0                  0                  0  ...   \n",
       "404                 0                  0                  0  ...   \n",
       "808                 0                  0                  0  ...   \n",
       "1337                0                  0                  0  ...   \n",
       "BTC                 0                  0                  0  ...   \n",
       "ETH                 0                  0                  0  ...   \n",
       "LTC                 0                  0                  0  ...   \n",
       "DASH                0                  0                  0  ...   \n",
       "XMR                 0                  0                  0  ...   \n",
       "ETC                 0                  0                  0  ...   \n",
       "\n",
       "      ProofType_PoW/PoS  ProofType_PoW/PoS   ProofType_PoW/PoW  \\\n",
       "                                                                 \n",
       "42                    1                   0                  0   \n",
       "404                   1                   0                  0   \n",
       "808                   1                   0                  0   \n",
       "1337                  1                   0                  0   \n",
       "BTC                   0                   0                  0   \n",
       "ETH                   0                   0                  0   \n",
       "LTC                   0                   0                  0   \n",
       "DASH                  1                   0                  0   \n",
       "XMR                   0                   0                  0   \n",
       "ETC                   0                   0                  0   \n",
       "\n",
       "      ProofType_PoW/nPoS  ProofType_Pos  ProofType_Proof of Authority  \\\n",
       "                                                                        \n",
       "42                     0              0                             0   \n",
       "404                    0              0                             0   \n",
       "808                    0              0                             0   \n",
       "1337                   0              0                             0   \n",
       "BTC                    0              0                             0   \n",
       "ETH                    0              0                             0   \n",
       "LTC                    0              0                             0   \n",
       "DASH                   0              0                             0   \n",
       "XMR                    0              0                             0   \n",
       "ETC                    0              0                             0   \n",
       "\n",
       "      ProofType_Proof of Trust  ProofType_TPoS  \\\n",
       "                                                 \n",
       "42                           0               0   \n",
       "404                          0               0   \n",
       "808                          0               0   \n",
       "1337                         0               0   \n",
       "BTC                          0               0   \n",
       "ETH                          0               0   \n",
       "LTC                          0               0   \n",
       "DASH                         0               0   \n",
       "XMR                          0               0   \n",
       "ETC                          0               0   \n",
       "\n",
       "      ProofType_Zero-Knowledge Proof  ProofType_dPoW/PoW  \n",
       "                                                          \n",
       "42                                 0                   0  \n",
       "404                                0                   0  \n",
       "808                                0                   0  \n",
       "1337                               0                   0  \n",
       "BTC                                0                   0  \n",
       "ETH                                0                   0  \n",
       "LTC                                0                   0  \n",
       "DASH                               0                   0  \n",
       "XMR                                0                   0  \n",
       "ETC                                0                   0  \n",
       "\n",
       "[10 rows x 109 columns]"
      ]
     },
     "execution_count": 134,
     "metadata": {},
     "output_type": "execute_result"
    }
   ],
   "source": [
    "# Use get_dummies() to create variables for text features.\n",
    "#X = pd.get_dummies(crypto_df)\n",
    "X = pd.get_dummies(crypto_df, columns=[\"Algorithm\", \"ProofType\"])\n",
    "print(X.shape)\n",
    "X.head(10)\n",
    "#y = crypto_df['loan_status']"
   ]
  },
  {
   "cell_type": "code",
   "execution_count": 135,
   "metadata": {},
   "outputs": [
    {
     "name": "stdout",
     "output_type": "stream",
     "text": [
      "[[-0.10282804 -0.03823841 -0.03823596 -0.03823596 -0.03823596 -0.03823596\n",
      "  -0.05411338 -0.07664017 -0.03823596 -0.05411338 -0.05411338 -0.03823596\n",
      "  -0.03823596 -0.18216065 -0.05411338 -0.03823596 -0.03823596 -0.08574929\n",
      "  -0.03823596 -0.10160947 -0.06632365 -0.03823596 -0.03823596 -0.1642757\n",
      "  -0.03823596 -0.03823596 -0.13908716 -0.03823596 -0.03823596 -0.07664017\n",
      "  -0.03823596 -0.03823596 -0.03823596 -0.03823596 -0.06632365 -0.03823596\n",
      "  -0.07664017 -0.08574929 -0.07664017 -0.03823596 -0.03823596 -0.12775161\n",
      "  -0.1335313  -0.13908716 -0.03823596 -0.05411338 -0.03823596 -0.06632365\n",
      "  -0.1689039  -0.03823596 -0.03823596 -0.03823596 -0.07664017 -0.17342199\n",
      "  -0.33468341 -0.03823596 -0.08574929 -0.06632365 -0.05411338 -0.03823596\n",
      "   1.42042992 -0.06632365 -0.03823596 -0.03823596 -0.06632365 -0.06632365\n",
      "  -0.03823596 -0.03823596 -0.03823596 -0.03823596 -0.03823596 -0.03823596\n",
      "  -0.03823596 -0.41586681 -0.03823596 -0.19054822 -0.03823596 -0.10870529\n",
      "  -0.07664017 -0.09400279 -0.03823596 -0.03823596 -0.03823596 -0.03823596\n",
      "  -0.12171612 -0.03823596 -0.03823596 -0.03823596 -0.03823596 -0.03823596\n",
      "  -0.06632365 -0.42308595 -0.03823596 -0.05411338 -0.03823596 -0.03823596\n",
      "  -0.90921211 -0.03823596 -0.03823596  1.38379681 -0.03823596 -0.03823596\n",
      "  -0.03823596 -0.03823596 -0.03823596 -0.03823596 -0.03823596 -0.03823596\n",
      "  -0.03823596]\n",
      " [-0.07661326 -0.03823825 -0.03823596 -0.03823596 -0.03823596 -0.03823596\n",
      "  -0.05411338 -0.07664017 -0.03823596 -0.05411338 -0.05411338 -0.03823596\n",
      "  -0.03823596 -0.18216065 -0.05411338 -0.03823596 -0.03823596 -0.08574929\n",
      "  -0.03823596 -0.10160947 -0.06632365 -0.03823596 -0.03823596 -0.1642757\n",
      "  -0.03823596 -0.03823596 -0.13908716 -0.03823596 -0.03823596 -0.07664017\n",
      "  -0.03823596 -0.03823596 -0.03823596 -0.03823596 -0.06632365 -0.03823596\n",
      "  -0.07664017 -0.08574929 -0.07664017 -0.03823596 -0.03823596 -0.12775161\n",
      "  -0.1335313  -0.13908716 -0.03823596 -0.05411338 -0.03823596 -0.06632365\n",
      "  -0.1689039  -0.03823596 -0.03823596 -0.03823596 -0.07664017 -0.17342199\n",
      "  -0.33468341 -0.03823596 -0.08574929 -0.06632365 -0.05411338 -0.03823596\n",
      "   1.42042992 -0.06632365 -0.03823596 -0.03823596 -0.06632365 -0.06632365\n",
      "  -0.03823596 -0.03823596 -0.03823596 -0.03823596 -0.03823596 -0.03823596\n",
      "  -0.03823596 -0.41586681 -0.03823596 -0.19054822 -0.03823596 -0.10870529\n",
      "  -0.07664017 -0.09400279 -0.03823596 -0.03823596 -0.03823596 -0.03823596\n",
      "  -0.12171612 -0.03823596 -0.03823596 -0.03823596 -0.03823596 -0.03823596\n",
      "  -0.06632365 -0.42308595 -0.03823596 -0.05411338 -0.03823596 -0.03823596\n",
      "  -0.90921211 -0.03823596 -0.03823596  1.38379681 -0.03823596 -0.03823596\n",
      "  -0.03823596 -0.03823596 -0.03823596 -0.03823596 -0.03823596 -0.03823596\n",
      "  -0.03823596]\n",
      " [-0.10282804 -0.03823841 -0.03823596 -0.03823596 -0.03823596 -0.03823596\n",
      "  -0.05411338 -0.07664017 -0.03823596 -0.05411338 -0.05411338 -0.03823596\n",
      "  -0.03823596 -0.18216065 -0.05411338 -0.03823596 -0.03823596 -0.08574929\n",
      "  -0.03823596 -0.10160947 -0.06632365 -0.03823596 -0.03823596 -0.1642757\n",
      "  -0.03823596 -0.03823596 -0.13908716 -0.03823596 -0.03823596 -0.07664017\n",
      "  -0.03823596 -0.03823596 -0.03823596 -0.03823596 -0.06632365 -0.03823596\n",
      "  -0.07664017 -0.08574929 -0.07664017 -0.03823596 -0.03823596 -0.12775161\n",
      "  -0.1335313  -0.13908716 -0.03823596 -0.05411338 -0.03823596 -0.06632365\n",
      "  -0.1689039  -0.03823596 -0.03823596 -0.03823596 -0.07664017 -0.17342199\n",
      "   2.9878983  -0.03823596 -0.08574929 -0.06632365 -0.05411338 -0.03823596\n",
      "  -0.70401221 -0.06632365 -0.03823596 -0.03823596 -0.06632365 -0.06632365\n",
      "  -0.03823596 -0.03823596 -0.03823596 -0.03823596 -0.03823596 -0.03823596\n",
      "  -0.03823596 -0.41586681 -0.03823596 -0.19054822 -0.03823596 -0.10870529\n",
      "  -0.07664017 -0.09400279 -0.03823596 -0.03823596 -0.03823596 -0.03823596\n",
      "  -0.12171612 -0.03823596 -0.03823596 -0.03823596 -0.03823596 -0.03823596\n",
      "  -0.06632365 -0.42308595 -0.03823596 -0.05411338 -0.03823596 -0.03823596\n",
      "  -0.90921211 -0.03823596 -0.03823596  1.38379681 -0.03823596 -0.03823596\n",
      "  -0.03823596 -0.03823596 -0.03823596 -0.03823596 -0.03823596 -0.03823596\n",
      "  -0.03823596]\n",
      " [ 0.62458365 -0.03814919 -0.03823596 -0.03823596 -0.03823596 -0.03823596\n",
      "  -0.05411338 -0.07664017 -0.03823596 -0.05411338 -0.05411338 -0.03823596\n",
      "  -0.03823596 -0.18216065 -0.05411338 -0.03823596 -0.03823596 -0.08574929\n",
      "  -0.03823596 -0.10160947 -0.06632365 -0.03823596 -0.03823596 -0.1642757\n",
      "  -0.03823596 -0.03823596 -0.13908716 -0.03823596 -0.03823596 -0.07664017\n",
      "  -0.03823596 -0.03823596 -0.03823596 -0.03823596 -0.06632365 -0.03823596\n",
      "  -0.07664017 -0.08574929 -0.07664017 -0.03823596 -0.03823596 -0.12775161\n",
      "  -0.1335313  -0.13908716 -0.03823596 -0.05411338 -0.03823596 -0.06632365\n",
      "  -0.1689039  -0.03823596 -0.03823596 -0.03823596 -0.07664017 -0.17342199\n",
      "  -0.33468341 -0.03823596 -0.08574929 -0.06632365 -0.05411338 -0.03823596\n",
      "  -0.70401221 -0.06632365 -0.03823596 -0.03823596 -0.06632365 -0.06632365\n",
      "  -0.03823596 -0.03823596 -0.03823596 -0.03823596 -0.03823596 -0.03823596\n",
      "  -0.03823596 -0.41586681 -0.03823596  5.2480155  -0.03823596 -0.10870529\n",
      "  -0.07664017 -0.09400279 -0.03823596 -0.03823596 -0.03823596 -0.03823596\n",
      "  -0.12171612 -0.03823596 -0.03823596 -0.03823596 -0.03823596 -0.03823596\n",
      "  -0.06632365 -0.42308595 -0.03823596 -0.05411338 -0.03823596 -0.03823596\n",
      "  -0.90921211 -0.03823596 -0.03823596  1.38379681 -0.03823596 -0.03823596\n",
      "  -0.03823596 -0.03823596 -0.03823596 -0.03823596 -0.03823596 -0.03823596\n",
      "  -0.03823596]\n",
      " [-0.10238266 -0.0382384  -0.03823596 -0.03823596 -0.03823596 -0.03823596\n",
      "  -0.05411338 -0.07664017 -0.03823596 -0.05411338 -0.05411338 -0.03823596\n",
      "  -0.03823596 -0.18216065 -0.05411338 -0.03823596 -0.03823596 -0.08574929\n",
      "  -0.03823596 -0.10160947 -0.06632365 -0.03823596 -0.03823596 -0.1642757\n",
      "  -0.03823596 -0.03823596 -0.13908716 -0.03823596 -0.03823596 -0.07664017\n",
      "  -0.03823596 -0.03823596 -0.03823596 -0.03823596 -0.06632365 -0.03823596\n",
      "  -0.07664017 -0.08574929 -0.07664017 -0.03823596 -0.03823596 -0.12775161\n",
      "  -0.1335313  -0.13908716 -0.03823596 -0.05411338 -0.03823596 -0.06632365\n",
      "  -0.1689039  -0.03823596 -0.03823596 -0.03823596 -0.07664017 -0.17342199\n",
      "   2.9878983  -0.03823596 -0.08574929 -0.06632365 -0.05411338 -0.03823596\n",
      "  -0.70401221 -0.06632365 -0.03823596 -0.03823596 -0.06632365 -0.06632365\n",
      "  -0.03823596 -0.03823596 -0.03823596 -0.03823596 -0.03823596 -0.03823596\n",
      "  -0.03823596 -0.41586681 -0.03823596 -0.19054822 -0.03823596 -0.10870529\n",
      "  -0.07664017 -0.09400279 -0.03823596 -0.03823596 -0.03823596 -0.03823596\n",
      "  -0.12171612 -0.03823596 -0.03823596 -0.03823596 -0.03823596 -0.03823596\n",
      "  -0.06632365 -0.42308595 -0.03823596 -0.05411338 -0.03823596 -0.03823596\n",
      "   1.09985336 -0.03823596 -0.03823596 -0.72264945 -0.03823596 -0.03823596\n",
      "  -0.03823596 -0.03823596 -0.03823596 -0.03823596 -0.03823596 -0.03823596\n",
      "  -0.03823596]]\n"
     ]
    }
   ],
   "source": [
    "# Standardize the data with StandardScaler().\n",
    "X_scaled = StandardScaler().fit_transform(X)\n",
    "print(X_scaled[0:5])"
   ]
  },
  {
   "cell_type": "markdown",
   "metadata": {},
   "source": [
    "### Deliverable 2: Reducing Data Dimensions Using PCA"
   ]
  },
  {
   "cell_type": "code",
   "execution_count": 136,
   "metadata": {},
   "outputs": [],
   "source": [
    "# Using PCA to reduce dimension to three principal components.\n",
    "pca = PCA(n_components=3)\n",
    "crypto_pca = pca.fit_transform(X_scaled)"
   ]
  },
  {
   "cell_type": "code",
   "execution_count": 137,
   "metadata": {},
   "outputs": [
    {
     "data": {
      "text/html": [
       "<div>\n",
       "<style scoped>\n",
       "    .dataframe tbody tr th:only-of-type {\n",
       "        vertical-align: middle;\n",
       "    }\n",
       "\n",
       "    .dataframe tbody tr th {\n",
       "        vertical-align: top;\n",
       "    }\n",
       "\n",
       "    .dataframe thead th {\n",
       "        text-align: right;\n",
       "    }\n",
       "</style>\n",
       "<table border=\"1\" class=\"dataframe\">\n",
       "  <thead>\n",
       "    <tr style=\"text-align: right;\">\n",
       "      <th></th>\n",
       "      <th>PC1</th>\n",
       "      <th>PC2</th>\n",
       "      <th>PC3</th>\n",
       "    </tr>\n",
       "    <tr>\n",
       "      <th></th>\n",
       "      <th></th>\n",
       "      <th></th>\n",
       "      <th></th>\n",
       "    </tr>\n",
       "  </thead>\n",
       "  <tbody>\n",
       "    <tr>\n",
       "      <th>42</th>\n",
       "      <td>-0.237011</td>\n",
       "      <td>1.193314</td>\n",
       "      <td>-0.451605</td>\n",
       "    </tr>\n",
       "    <tr>\n",
       "      <th>404</th>\n",
       "      <td>-0.222535</td>\n",
       "      <td>1.191985</td>\n",
       "      <td>-0.451983</td>\n",
       "    </tr>\n",
       "    <tr>\n",
       "      <th>808</th>\n",
       "      <td>-0.159145</td>\n",
       "      <td>0.833268</td>\n",
       "      <td>-0.221968</td>\n",
       "    </tr>\n",
       "    <tr>\n",
       "      <th>1337</th>\n",
       "      <td>0.280074</td>\n",
       "      <td>1.954540</td>\n",
       "      <td>-0.403649</td>\n",
       "    </tr>\n",
       "    <tr>\n",
       "      <th>BTC</th>\n",
       "      <td>-0.203428</td>\n",
       "      <td>-1.416650</td>\n",
       "      <td>0.145584</td>\n",
       "    </tr>\n",
       "    <tr>\n",
       "      <th>ETH</th>\n",
       "      <td>-0.271954</td>\n",
       "      <td>-2.098155</td>\n",
       "      <td>0.247414</td>\n",
       "    </tr>\n",
       "    <tr>\n",
       "      <th>LTC</th>\n",
       "      <td>-0.280675</td>\n",
       "      <td>-1.056661</td>\n",
       "      <td>-0.084069</td>\n",
       "    </tr>\n",
       "    <tr>\n",
       "      <th>DASH</th>\n",
       "      <td>-0.226878</td>\n",
       "      <td>1.426893</td>\n",
       "      <td>-0.339785</td>\n",
       "    </tr>\n",
       "    <tr>\n",
       "      <th>XMR</th>\n",
       "      <td>-0.260225</td>\n",
       "      <td>-2.151619</td>\n",
       "      <td>0.293356</td>\n",
       "    </tr>\n",
       "    <tr>\n",
       "      <th>ETC</th>\n",
       "      <td>-0.271876</td>\n",
       "      <td>-2.098162</td>\n",
       "      <td>0.247412</td>\n",
       "    </tr>\n",
       "  </tbody>\n",
       "</table>\n",
       "</div>"
      ],
      "text/plain": [
       "           PC1       PC2       PC3\n",
       "                                  \n",
       "42   -0.237011  1.193314 -0.451605\n",
       "404  -0.222535  1.191985 -0.451983\n",
       "808  -0.159145  0.833268 -0.221968\n",
       "1337  0.280074  1.954540 -0.403649\n",
       "BTC  -0.203428 -1.416650  0.145584\n",
       "ETH  -0.271954 -2.098155  0.247414\n",
       "LTC  -0.280675 -1.056661 -0.084069\n",
       "DASH -0.226878  1.426893 -0.339785\n",
       "XMR  -0.260225 -2.151619  0.293356\n",
       "ETC  -0.271876 -2.098162  0.247412"
      ]
     },
     "execution_count": 137,
     "metadata": {},
     "output_type": "execute_result"
    }
   ],
   "source": [
    "# Create a DataFrame with the three principal components.\n",
    "pca_df =pd.DataFrame (data=crypto_pca,columns=[\"PC1\",\"PC2\",\"PC3\"],index=crypto_df.index)\n",
    "pca_df.head(10)"
   ]
  },
  {
   "cell_type": "markdown",
   "metadata": {},
   "source": [
    "### Deliverable 3: Clustering Crytocurrencies Using K-Means\n",
    "\n",
    "#### Finding the Best Value for `k` Using the Elbow Curve"
   ]
  },
  {
   "cell_type": "code",
   "execution_count": 138,
   "metadata": {},
   "outputs": [
    {
     "name": "stderr",
     "output_type": "stream",
     "text": [
      "C:\\Users\\vanda\\anaconda3\\envs\\PythonData\\lib\\site-packages\\sklearn\\cluster\\_kmeans.py:882: UserWarning:\n",
      "\n",
      "KMeans is known to have a memory leak on Windows with MKL, when there are less chunks than available threads. You can avoid it by setting the environment variable OMP_NUM_THREADS=3.\n",
      "\n"
     ]
    },
    {
     "data": {},
     "metadata": {},
     "output_type": "display_data"
    },
    {
     "data": {
      "application/vnd.holoviews_exec.v0+json": "",
      "text/html": [
       "<div id='1654'>\n",
       "\n",
       "\n",
       "\n",
       "\n",
       "\n",
       "  <div class=\"bk-root\" id=\"ee09de81-b84c-41ba-9194-e293c70f663e\" data-root-id=\"1654\"></div>\n",
       "</div>\n",
       "<script type=\"application/javascript\">(function(root) {\n",
       "  function embed_document(root) {\n",
       "    var docs_json = {\"254c5d19-d9d2-40d1-ad2c-8c374c5549e5\":{\"defs\":[{\"extends\":null,\"module\":null,\"name\":\"ReactiveHTML1\",\"overrides\":[],\"properties\":[]},{\"extends\":null,\"module\":null,\"name\":\"FlexBox1\",\"overrides\":[],\"properties\":[{\"default\":\"flex-start\",\"kind\":null,\"name\":\"align_content\"},{\"default\":\"flex-start\",\"kind\":null,\"name\":\"align_items\"},{\"default\":\"row\",\"kind\":null,\"name\":\"flex_direction\"},{\"default\":\"wrap\",\"kind\":null,\"name\":\"flex_wrap\"},{\"default\":\"flex-start\",\"kind\":null,\"name\":\"justify_content\"}]},{\"extends\":null,\"module\":null,\"name\":\"TemplateActions1\",\"overrides\":[],\"properties\":[{\"default\":0,\"kind\":null,\"name\":\"open_modal\"},{\"default\":0,\"kind\":null,\"name\":\"close_modal\"}]},{\"extends\":null,\"module\":null,\"name\":\"MaterialTemplateActions1\",\"overrides\":[],\"properties\":[{\"default\":0,\"kind\":null,\"name\":\"open_modal\"},{\"default\":0,\"kind\":null,\"name\":\"close_modal\"}]}],\"roots\":{\"references\":[{\"attributes\":{},\"id\":\"1677\",\"type\":\"PanTool\"},{\"attributes\":{\"axis\":{\"id\":\"1668\"},\"grid_line_color\":null,\"ticker\":null},\"id\":\"1671\",\"type\":\"Grid\"},{\"attributes\":{},\"id\":\"1680\",\"type\":\"ResetTool\"},{\"attributes\":{},\"id\":\"1678\",\"type\":\"WheelZoomTool\"},{\"attributes\":{},\"id\":\"1715\",\"type\":\"UnionRenderers\"},{\"attributes\":{\"data_source\":{\"id\":\"1689\"},\"glyph\":{\"id\":\"1692\"},\"hover_glyph\":null,\"muted_glyph\":{\"id\":\"1694\"},\"nonselection_glyph\":{\"id\":\"1693\"},\"selection_glyph\":{\"id\":\"1697\"},\"view\":{\"id\":\"1696\"}},\"id\":\"1695\",\"type\":\"GlyphRenderer\"},{\"attributes\":{\"overlay\":{\"id\":\"1681\"}},\"id\":\"1679\",\"type\":\"BoxZoomTool\"},{\"attributes\":{\"margin\":[5,5,5,5],\"name\":\"HSpacer02885\",\"sizing_mode\":\"stretch_width\"},\"id\":\"1725\",\"type\":\"Spacer\"},{\"attributes\":{\"text\":\"Elbow Curve\",\"text_color\":\"black\",\"text_font_size\":\"12pt\"},\"id\":\"1660\",\"type\":\"Title\"},{\"attributes\":{},\"id\":\"1664\",\"type\":\"LinearScale\"},{\"attributes\":{\"callback\":null,\"renderers\":[{\"id\":\"1695\"}],\"tags\":[\"hv_created\"],\"tooltips\":[[\"k\",\"@{k}\"],[\"inertia\",\"@{inertia}\"]]},\"id\":\"1658\",\"type\":\"HoverTool\"},{\"attributes\":{\"line_alpha\":0.1,\"line_color\":\"#30a2da\",\"line_width\":2,\"x\":{\"field\":\"k\"},\"y\":{\"field\":\"inertia\"}},\"id\":\"1693\",\"type\":\"Line\"},{\"attributes\":{\"end\":10.0,\"reset_end\":10.0,\"reset_start\":1.0,\"start\":1.0,\"tags\":[[[\"k\",\"k\",null]]]},\"id\":\"1656\",\"type\":\"Range1d\"},{\"attributes\":{},\"id\":\"1666\",\"type\":\"LinearScale\"},{\"attributes\":{\"data\":{\"inertia\":{\"__ndarray__\":\"qWsnqXXysECRfJLsYD+oQKsvNdLUB59A/7019KPPjUBBmQex/mKAQHMPlapyUXJAdrkJftYZa0AWGyh16NBlQPnoyCz2a2JAszY8keF6YEA=\",\"dtype\":\"float64\",\"order\":\"little\",\"shape\":[10]},\"k\":[1,2,3,4,5,6,7,8,9,10]},\"selected\":{\"id\":\"1690\"},\"selection_policy\":{\"id\":\"1715\"}},\"id\":\"1689\",\"type\":\"ColumnDataSource\"},{\"attributes\":{\"axis_label\":\"inertia\",\"formatter\":{\"id\":\"1704\"},\"major_label_policy\":{\"id\":\"1705\"},\"ticker\":{\"id\":\"1673\"}},\"id\":\"1672\",\"type\":\"LinearAxis\"},{\"attributes\":{},\"id\":\"1704\",\"type\":\"BasicTickFormatter\"},{\"attributes\":{\"axis_label\":\"k\",\"formatter\":{\"id\":\"1699\"},\"major_label_policy\":{\"id\":\"1700\"},\"ticker\":{\"id\":\"1698\"}},\"id\":\"1668\",\"type\":\"LinearAxis\"},{\"attributes\":{},\"id\":\"1705\",\"type\":\"AllLabels\"},{\"attributes\":{\"active_multi\":null,\"tools\":[{\"id\":\"1658\"},{\"id\":\"1676\"},{\"id\":\"1677\"},{\"id\":\"1678\"},{\"id\":\"1679\"},{\"id\":\"1680\"}]},\"id\":\"1682\",\"type\":\"Toolbar\"},{\"attributes\":{},\"id\":\"1673\",\"type\":\"BasicTicker\"},{\"attributes\":{\"axis\":{\"id\":\"1672\"},\"dimension\":1,\"grid_line_color\":null,\"ticker\":null},\"id\":\"1675\",\"type\":\"Grid\"},{\"attributes\":{\"end\":4759.121570061114,\"reset_end\":4759.121570061114,\"reset_start\":-288.82192265225706,\"start\":-288.82192265225706,\"tags\":[[[\"inertia\",\"inertia\",null]]]},\"id\":\"1657\",\"type\":\"Range1d\"},{\"attributes\":{\"line_color\":\"#30a2da\",\"line_width\":2,\"x\":{\"field\":\"k\"},\"y\":{\"field\":\"inertia\"}},\"id\":\"1697\",\"type\":\"Line\"},{\"attributes\":{\"below\":[{\"id\":\"1668\"}],\"center\":[{\"id\":\"1671\"},{\"id\":\"1675\"}],\"height\":300,\"left\":[{\"id\":\"1672\"}],\"margin\":[5,5,5,5],\"min_border_bottom\":10,\"min_border_left\":10,\"min_border_right\":10,\"min_border_top\":10,\"renderers\":[{\"id\":\"1695\"}],\"sizing_mode\":\"fixed\",\"title\":{\"id\":\"1660\"},\"toolbar\":{\"id\":\"1682\"},\"width\":700,\"x_range\":{\"id\":\"1656\"},\"x_scale\":{\"id\":\"1664\"},\"y_range\":{\"id\":\"1657\"},\"y_scale\":{\"id\":\"1666\"}},\"id\":\"1659\",\"subtype\":\"Figure\",\"type\":\"Plot\"},{\"attributes\":{\"bottom_units\":\"screen\",\"fill_alpha\":0.5,\"fill_color\":\"lightgrey\",\"left_units\":\"screen\",\"level\":\"overlay\",\"line_alpha\":1.0,\"line_color\":\"black\",\"line_dash\":[4,4],\"line_width\":2,\"right_units\":\"screen\",\"syncable\":false,\"top_units\":\"screen\"},\"id\":\"1681\",\"type\":\"BoxAnnotation\"},{\"attributes\":{\"margin\":[5,5,5,5],\"name\":\"HSpacer02884\",\"sizing_mode\":\"stretch_width\"},\"id\":\"1655\",\"type\":\"Spacer\"},{\"attributes\":{\"source\":{\"id\":\"1689\"}},\"id\":\"1696\",\"type\":\"CDSView\"},{\"attributes\":{\"line_color\":\"#30a2da\",\"line_width\":2,\"x\":{\"field\":\"k\"},\"y\":{\"field\":\"inertia\"}},\"id\":\"1692\",\"type\":\"Line\"},{\"attributes\":{},\"id\":\"1700\",\"type\":\"AllLabels\"},{\"attributes\":{\"line_alpha\":0.2,\"line_color\":\"#30a2da\",\"line_width\":2,\"x\":{\"field\":\"k\"},\"y\":{\"field\":\"inertia\"}},\"id\":\"1694\",\"type\":\"Line\"},{\"attributes\":{},\"id\":\"1699\",\"type\":\"BasicTickFormatter\"},{\"attributes\":{\"children\":[{\"id\":\"1655\"},{\"id\":\"1659\"},{\"id\":\"1725\"}],\"margin\":[0,0,0,0],\"name\":\"Row02880\",\"tags\":[\"embedded\"]},\"id\":\"1654\",\"type\":\"Row\"},{\"attributes\":{\"ticks\":[1,2,3,4,5,6,7,8,9,10]},\"id\":\"1698\",\"type\":\"FixedTicker\"},{\"attributes\":{},\"id\":\"1690\",\"type\":\"Selection\"},{\"attributes\":{},\"id\":\"1676\",\"type\":\"SaveTool\"}],\"root_ids\":[\"1654\"]},\"title\":\"Bokeh Application\",\"version\":\"2.3.2\"}};\n",
       "    var render_items = [{\"docid\":\"254c5d19-d9d2-40d1-ad2c-8c374c5549e5\",\"root_ids\":[\"1654\"],\"roots\":{\"1654\":\"ee09de81-b84c-41ba-9194-e293c70f663e\"}}];\n",
       "    root.Bokeh.embed.embed_items_notebook(docs_json, render_items);\n",
       "  }\n",
       "  if (root.Bokeh !== undefined && root.Bokeh.Panel !== undefined) {\n",
       "    embed_document(root);\n",
       "  } else {\n",
       "    var attempts = 0;\n",
       "    var timer = setInterval(function(root) {\n",
       "      if (root.Bokeh !== undefined && root.Bokeh.Panel !== undefined) {\n",
       "        clearInterval(timer);\n",
       "        embed_document(root);\n",
       "      } else if (document.readyState == \"complete\") {\n",
       "        attempts++;\n",
       "        if (attempts > 200) {\n",
       "          clearInterval(timer);\n",
       "          console.log(\"Bokeh: ERROR: Unable to run BokehJS code because BokehJS library is missing\");\n",
       "        }\n",
       "      }\n",
       "    }, 25, root)\n",
       "  }\n",
       "})(window);</script>"
      ],
      "text/plain": [
       ":Curve   [k]   (inertia)"
      ]
     },
     "execution_count": 138,
     "metadata": {
      "application/vnd.holoviews_exec.v0+json": {
       "id": "1654"
      }
     },
     "output_type": "execute_result"
    }
   ],
   "source": [
    "# Create an elbow curve to find the best value for K.\n",
    "# Initialize empty inertia list\n",
    "inertia = []\n",
    "# Initialize k range\n",
    "k = list(range(1,11))\n",
    "# Looping through k list\n",
    "for i in k:\n",
    "    km = KMeans(n_clusters=i, random_state=0)\n",
    "    km.fit(pca_df)\n",
    "    inertia.append(km.inertia_)\n",
    "\n",
    "# Define a DataFrame to plot the Elbow Curve using hvPlot\n",
    "elbow_data = {\"k\": k, \"inertia\": inertia}\n",
    "elbow_df = pd.DataFrame(elbow_data)\n",
    "elbow_df.hvplot.line(x=\"k\", y=\"inertia\", title=\"Elbow Curve\", xticks=k)\n"
   ]
  },
  {
   "cell_type": "markdown",
   "metadata": {},
   "source": [
    "Running K-Means with `k=4`"
   ]
  },
  {
   "cell_type": "code",
   "execution_count": 139,
   "metadata": {},
   "outputs": [
    {
     "data": {
      "text/plain": [
       "array([0, 0, 0, 0, 3, 3, 3, 0, 3, 3, 3, 0, 3, 0, 0, 0, 3, 0, 3, 3, 0, 0,\n",
       "       0, 3, 0, 3, 0, 3, 3, 3, 3, 3, 0, 3, 3, 3, 3, 0, 3, 0, 3, 0, 3, 0,\n",
       "       0, 3, 0, 0, 0, 3, 0, 3, 3, 3, 3, 3, 3, 3, 0, 3, 0, 0, 3, 0, 3, 3,\n",
       "       3, 3, 3, 0, 0, 0, 3, 0, 3, 0, 3, 0, 0, 3, 3, 3, 3, 0, 0, 3, 3, 0,\n",
       "       3, 0, 0, 0, 3, 3, 3, 3, 0, 0, 0, 0, 0, 3, 3, 3, 0, 0, 3, 3, 3, 0,\n",
       "       0, 3, 0, 3, 0, 0, 3, 3, 3, 3, 3, 0, 0, 0, 3, 3, 0, 3, 3, 0, 0, 0,\n",
       "       3, 0, 0, 0, 3, 3, 0, 0, 3, 0, 3, 0, 0, 3, 0, 3, 0, 3, 0, 3, 0, 0,\n",
       "       0, 0, 3, 0, 3, 3, 0, 3, 3, 0, 3, 0, 0, 3, 3, 3, 3, 3, 3, 3, 3, 0,\n",
       "       0, 3, 0, 3, 0, 3, 3, 0, 3, 0, 0, 0, 3, 3, 0, 3, 0, 0, 3, 0, 0, 0,\n",
       "       3, 3, 0, 3, 3, 3, 0, 0, 3, 3, 0, 0, 3, 0, 0, 0, 0, 3, 3, 0, 3, 3,\n",
       "       3, 3, 3, 0, 3, 3, 0, 3, 0, 0, 0, 0, 3, 3, 0, 0, 0, 0, 0, 3, 0, 0,\n",
       "       0, 0, 0, 0, 0, 3, 0, 0, 0, 0, 0, 3, 0, 3, 0, 0, 0, 3, 0, 3, 0, 0,\n",
       "       3, 0, 3, 0, 0, 3, 0, 3, 0, 0, 0, 3, 0, 3, 3, 3, 0, 0, 3, 0, 0, 0,\n",
       "       3, 3, 3, 0, 0, 0, 3, 3, 3, 0, 0, 0, 0, 0, 0, 0, 3, 0, 0, 0, 0, 0,\n",
       "       0, 0, 0, 3, 0, 0, 0, 0, 0, 0, 3, 3, 0, 3, 0, 0, 0, 0, 0, 0, 3, 0,\n",
       "       3, 0, 3, 3, 0, 0, 3, 3, 0, 3, 3, 0, 3, 3, 3, 3, 0, 3, 0, 0, 0, 3,\n",
       "       0, 0, 0, 3, 0, 0, 0, 0, 0, 3, 0, 0, 3, 3, 0, 3, 0, 0, 0, 0, 0, 3,\n",
       "       0, 3, 0, 3, 3, 3, 3, 0, 3, 0, 0, 3, 0, 3, 0, 3, 3, 0, 3, 0, 3, 3,\n",
       "       3, 0, 3, 0, 3, 0, 3, 0, 0, 3, 0, 3, 3, 3, 3, 3, 3, 0, 0, 3, 0, 0,\n",
       "       0, 3, 0, 3, 0, 3, 0, 3, 0, 0, 0, 0, 3, 0, 0, 3, 0, 0, 0, 0, 0, 0,\n",
       "       3, 3, 3, 3, 3, 3, 0, 0, 0, 0, 0, 3, 0, 3, 3, 3, 0, 0, 3, 3, 3, 0,\n",
       "       0, 3, 0, 0, 3, 3, 0, 3, 0, 3, 3, 0, 0, 0, 3, 3, 3, 0, 0, 0, 3, 0,\n",
       "       3, 3, 0, 3, 3, 3, 3, 3, 3, 0, 0, 1, 3, 3, 3, 3, 3, 3, 0, 0, 0, 0,\n",
       "       0, 0, 3, 3, 3, 3, 3, 3, 0, 3, 0, 0, 3, 3, 0, 3, 0, 0, 0, 0, 0, 0,\n",
       "       0, 3, 0, 0, 3, 0, 0, 3, 3, 0, 3, 0, 3, 3, 3, 3, 0, 0, 3, 0, 3, 0,\n",
       "       0, 0, 0, 0, 0, 3, 3, 3, 0, 0, 0, 0, 0, 0, 0, 3, 0, 3, 3, 0, 3, 3,\n",
       "       0, 0, 0, 0, 3, 0, 3, 0, 0, 0, 3, 0, 0, 0, 3, 1, 0, 3, 0, 3, 3, 3,\n",
       "       3, 3, 0, 3, 0, 3, 0, 3, 0, 3, 3, 3, 3, 3, 3, 3, 0, 3, 0, 3, 0, 0,\n",
       "       3, 0, 0, 3, 0, 0, 0, 3, 3, 3, 3, 0, 0, 0, 0, 3, 3, 0, 3, 0, 0, 3,\n",
       "       0, 0, 0, 0, 3, 3, 0, 0, 0, 3, 0, 3, 3, 0, 0, 3, 0, 0, 0, 3, 3, 0,\n",
       "       0, 0, 0, 0, 3, 0, 0, 0, 3, 0, 3, 0, 3, 0, 3, 0, 0, 0, 2, 0, 0, 0,\n",
       "       3, 3, 0])"
      ]
     },
     "execution_count": 139,
     "metadata": {},
     "output_type": "execute_result"
    }
   ],
   "source": [
    "# Initialize the K-Means model.\n",
    "km4 = KMeans(n_clusters=4, random_state=0)\n",
    "# Fit the mode\n",
    "km4.fit(pca_df)\n",
    "# Predict clusters\n",
    "predictions = km4.predict(pca_df)\n",
    "predictions"
   ]
  },
  {
   "cell_type": "code",
   "execution_count": 140,
   "metadata": {},
   "outputs": [
    {
     "name": "stdout",
     "output_type": "stream",
     "text": [
      "(685, 9)\n"
     ]
    },
    {
     "data": {
      "text/html": [
       "<div>\n",
       "<style scoped>\n",
       "    .dataframe tbody tr th:only-of-type {\n",
       "        vertical-align: middle;\n",
       "    }\n",
       "\n",
       "    .dataframe tbody tr th {\n",
       "        vertical-align: top;\n",
       "    }\n",
       "\n",
       "    .dataframe thead th {\n",
       "        text-align: right;\n",
       "    }\n",
       "</style>\n",
       "<table border=\"1\" class=\"dataframe\">\n",
       "  <thead>\n",
       "    <tr style=\"text-align: right;\">\n",
       "      <th></th>\n",
       "      <th>Algorithm</th>\n",
       "      <th>ProofType</th>\n",
       "      <th>TotalCoinsMined</th>\n",
       "      <th>TotalCoinSupply</th>\n",
       "      <th>PC1</th>\n",
       "      <th>PC2</th>\n",
       "      <th>PC3</th>\n",
       "      <th>CoinName</th>\n",
       "      <th>Class</th>\n",
       "    </tr>\n",
       "    <tr>\n",
       "      <th></th>\n",
       "      <th></th>\n",
       "      <th></th>\n",
       "      <th></th>\n",
       "      <th></th>\n",
       "      <th></th>\n",
       "      <th></th>\n",
       "      <th></th>\n",
       "      <th></th>\n",
       "      <th></th>\n",
       "    </tr>\n",
       "  </thead>\n",
       "  <tbody>\n",
       "    <tr>\n",
       "      <th>42</th>\n",
       "      <td>Scrypt</td>\n",
       "      <td>PoW/PoS</td>\n",
       "      <td>4.199995e+01</td>\n",
       "      <td>42</td>\n",
       "      <td>-0.237011</td>\n",
       "      <td>1.193314</td>\n",
       "      <td>-0.451605</td>\n",
       "      <td>42 Coin</td>\n",
       "      <td>0</td>\n",
       "    </tr>\n",
       "    <tr>\n",
       "      <th>404</th>\n",
       "      <td>Scrypt</td>\n",
       "      <td>PoW/PoS</td>\n",
       "      <td>1.055185e+09</td>\n",
       "      <td>532000000</td>\n",
       "      <td>-0.222535</td>\n",
       "      <td>1.191985</td>\n",
       "      <td>-0.451983</td>\n",
       "      <td>404Coin</td>\n",
       "      <td>0</td>\n",
       "    </tr>\n",
       "    <tr>\n",
       "      <th>808</th>\n",
       "      <td>SHA-256</td>\n",
       "      <td>PoW/PoS</td>\n",
       "      <td>0.000000e+00</td>\n",
       "      <td>0</td>\n",
       "      <td>-0.159145</td>\n",
       "      <td>0.833268</td>\n",
       "      <td>-0.221968</td>\n",
       "      <td>808</td>\n",
       "      <td>0</td>\n",
       "    </tr>\n",
       "    <tr>\n",
       "      <th>1337</th>\n",
       "      <td>X13</td>\n",
       "      <td>PoW/PoS</td>\n",
       "      <td>2.927942e+10</td>\n",
       "      <td>314159265359</td>\n",
       "      <td>0.280074</td>\n",
       "      <td>1.954540</td>\n",
       "      <td>-0.403649</td>\n",
       "      <td>EliteCoin</td>\n",
       "      <td>0</td>\n",
       "    </tr>\n",
       "    <tr>\n",
       "      <th>BTC</th>\n",
       "      <td>SHA-256</td>\n",
       "      <td>PoW</td>\n",
       "      <td>1.792718e+07</td>\n",
       "      <td>21000000</td>\n",
       "      <td>-0.203428</td>\n",
       "      <td>-1.416650</td>\n",
       "      <td>0.145584</td>\n",
       "      <td>Bitcoin</td>\n",
       "      <td>3</td>\n",
       "    </tr>\n",
       "    <tr>\n",
       "      <th>ETH</th>\n",
       "      <td>Ethash</td>\n",
       "      <td>PoW</td>\n",
       "      <td>1.076842e+08</td>\n",
       "      <td>0</td>\n",
       "      <td>-0.271954</td>\n",
       "      <td>-2.098155</td>\n",
       "      <td>0.247414</td>\n",
       "      <td>Ethereum</td>\n",
       "      <td>3</td>\n",
       "    </tr>\n",
       "    <tr>\n",
       "      <th>LTC</th>\n",
       "      <td>Scrypt</td>\n",
       "      <td>PoW</td>\n",
       "      <td>6.303924e+07</td>\n",
       "      <td>84000000</td>\n",
       "      <td>-0.280675</td>\n",
       "      <td>-1.056661</td>\n",
       "      <td>-0.084069</td>\n",
       "      <td>Litecoin</td>\n",
       "      <td>3</td>\n",
       "    </tr>\n",
       "    <tr>\n",
       "      <th>DASH</th>\n",
       "      <td>X11</td>\n",
       "      <td>PoW/PoS</td>\n",
       "      <td>9.031294e+06</td>\n",
       "      <td>22000000</td>\n",
       "      <td>-0.226878</td>\n",
       "      <td>1.426893</td>\n",
       "      <td>-0.339785</td>\n",
       "      <td>Dash</td>\n",
       "      <td>0</td>\n",
       "    </tr>\n",
       "    <tr>\n",
       "      <th>XMR</th>\n",
       "      <td>CryptoNight-V7</td>\n",
       "      <td>PoW</td>\n",
       "      <td>1.720114e+07</td>\n",
       "      <td>0</td>\n",
       "      <td>-0.260225</td>\n",
       "      <td>-2.151619</td>\n",
       "      <td>0.293356</td>\n",
       "      <td>Monero</td>\n",
       "      <td>3</td>\n",
       "    </tr>\n",
       "    <tr>\n",
       "      <th>ETC</th>\n",
       "      <td>Ethash</td>\n",
       "      <td>PoW</td>\n",
       "      <td>1.133597e+08</td>\n",
       "      <td>210000000</td>\n",
       "      <td>-0.271876</td>\n",
       "      <td>-2.098162</td>\n",
       "      <td>0.247412</td>\n",
       "      <td>Ethereum Classic</td>\n",
       "      <td>3</td>\n",
       "    </tr>\n",
       "  </tbody>\n",
       "</table>\n",
       "</div>"
      ],
      "text/plain": [
       "           Algorithm ProofType  TotalCoinsMined TotalCoinSupply       PC1  \\\n",
       "                                                                            \n",
       "42            Scrypt   PoW/PoS     4.199995e+01              42 -0.237011   \n",
       "404           Scrypt   PoW/PoS     1.055185e+09       532000000 -0.222535   \n",
       "808          SHA-256   PoW/PoS     0.000000e+00               0 -0.159145   \n",
       "1337             X13   PoW/PoS     2.927942e+10    314159265359  0.280074   \n",
       "BTC          SHA-256       PoW     1.792718e+07        21000000 -0.203428   \n",
       "ETH           Ethash       PoW     1.076842e+08               0 -0.271954   \n",
       "LTC           Scrypt       PoW     6.303924e+07        84000000 -0.280675   \n",
       "DASH             X11   PoW/PoS     9.031294e+06        22000000 -0.226878   \n",
       "XMR   CryptoNight-V7       PoW     1.720114e+07               0 -0.260225   \n",
       "ETC           Ethash       PoW     1.133597e+08       210000000 -0.271876   \n",
       "\n",
       "           PC2       PC3          CoinName  Class  \n",
       "                                                   \n",
       "42    1.193314 -0.451605           42 Coin      0  \n",
       "404   1.191985 -0.451983           404Coin      0  \n",
       "808   0.833268 -0.221968               808      0  \n",
       "1337  1.954540 -0.403649         EliteCoin      0  \n",
       "BTC  -1.416650  0.145584           Bitcoin      3  \n",
       "ETH  -2.098155  0.247414          Ethereum      3  \n",
       "LTC  -1.056661 -0.084069          Litecoin      3  \n",
       "DASH  1.426893 -0.339785              Dash      0  \n",
       "XMR  -2.151619  0.293356            Monero      3  \n",
       "ETC  -2.098162  0.247412  Ethereum Classic      3  "
      ]
     },
     "execution_count": 140,
     "metadata": {},
     "output_type": "execute_result"
    }
   ],
   "source": [
    "# Create a new DataFrame including predicted clusters and cryptocurrencies features.\n",
    "# Concatentate the crypto_df and pcs_df DataFrames on the same columns.\n",
    "clustered_df = pd.concat([crypto_df, pca_df], axis=1, join='inner')\n",
    "\n",
    "\n",
    "#  Add a new column, \"CoinName\" to the clustered_df DataFrame that holds the names of the cryptocurrencies. \n",
    "clustered_df[\"CoinName\"] = cryptocurrencies_name.CoinName\n",
    "\n",
    "#  Add a new column, \"Class\" to the clustered_df DataFrame that holds the predictions.\n",
    "clustered_df[\"Class\"] = km4.labels_\n",
    "\n",
    "# Print the shape of the clustered_df\n",
    "print(clustered_df.shape)\n",
    "clustered_df.head(10)"
   ]
  },
  {
   "cell_type": "markdown",
   "metadata": {},
   "source": [
    "### Deliverable 4: Visualizing Cryptocurrencies Results\n",
    "\n",
    "#### 3D-Scatter with Clusters"
   ]
  },
  {
   "cell_type": "code",
   "execution_count": 141,
   "metadata": {},
   "outputs": [
    {
     "data": {
      "application/vnd.plotly.v1+json": {
       "config": {
        "plotlyServerURL": "https://plot.ly"
       },
       "data": [
        {
         "customdata": [
          [
           "Scrypt"
          ],
          [
           "Scrypt"
          ],
          [
           "SHA-256"
          ],
          [
           "X13"
          ],
          [
           "X11"
          ],
          [
           "SHA-512"
          ],
          [
           "SHA-256"
          ],
          [
           "X11"
          ],
          [
           "SHA-256"
          ],
          [
           "X15"
          ],
          [
           "X13"
          ],
          [
           "X13"
          ],
          [
           "Scrypt"
          ],
          [
           "Scrypt"
          ],
          [
           "Scrypt"
          ],
          [
           "Scrypt"
          ],
          [
           "Scrypt"
          ],
          [
           "Scrypt"
          ],
          [
           "Scrypt"
          ],
          [
           "Multiple"
          ],
          [
           "Scrypt"
          ],
          [
           "Scrypt"
          ],
          [
           "SHA-256"
          ],
          [
           "Groestl"
          ],
          [
           "X11"
          ],
          [
           "PoS"
          ],
          [
           "X11"
          ],
          [
           "NIST5"
          ],
          [
           "Scrypt"
          ],
          [
           "X11"
          ],
          [
           "X15"
          ],
          [
           "Scrypt"
          ],
          [
           "X11"
          ],
          [
           "X11"
          ],
          [
           "X11"
          ],
          [
           "X13"
          ],
          [
           "X11"
          ],
          [
           "SHA3"
          ],
          [
           "Scrypt"
          ],
          [
           "SHA-256"
          ],
          [
           "Scrypt"
          ],
          [
           "X13"
          ],
          [
           "X13"
          ],
          [
           "NeoScrypt"
          ],
          [
           "Scrypt"
          ],
          [
           "Scrypt"
          ],
          [
           "Scrypt"
          ],
          [
           "X15"
          ],
          [
           "Scrypt"
          ],
          [
           "X11"
          ],
          [
           "X11"
          ],
          [
           "Multiple"
          ],
          [
           "PHI1612"
          ],
          [
           "X11"
          ],
          [
           "Scrypt"
          ],
          [
           "Scrypt"
          ],
          [
           "X13"
          ],
          [
           "Scrypt"
          ],
          [
           "Scrypt"
          ],
          [
           "X11"
          ],
          [
           "Multiple"
          ],
          [
           "X13"
          ],
          [
           "Scrypt"
          ],
          [
           "Scrypt"
          ],
          [
           "Shabal256"
          ],
          [
           "Counterparty"
          ],
          [
           "SHA-256"
          ],
          [
           "Scrypt"
          ],
          [
           "Groestl"
          ],
          [
           "Scrypt"
          ],
          [
           "X13"
          ],
          [
           "Scrypt"
          ],
          [
           "SHA-256"
          ],
          [
           "Scrypt"
          ],
          [
           "X13"
          ],
          [
           "X13"
          ],
          [
           "X11"
          ],
          [
           "X11"
          ],
          [
           "X15"
          ],
          [
           "Scrypt"
          ],
          [
           "Scrypt"
          ],
          [
           "Scrypt"
          ],
          [
           "X11"
          ],
          [
           "SHA3"
          ],
          [
           "Scrypt"
          ],
          [
           "QUAIT"
          ],
          [
           "vDPOS"
          ],
          [
           "X11"
          ],
          [
           "X11"
          ],
          [
           "Scrypt"
          ],
          [
           "X11"
          ],
          [
           "X13"
          ],
          [
           "SHA-256"
          ],
          [
           "X13"
          ],
          [
           "X15"
          ],
          [
           "BLAKE256"
          ],
          [
           "SHA-256"
          ],
          [
           "X11"
          ],
          [
           "SHA-256"
          ],
          [
           "Quark"
          ],
          [
           "NIST5"
          ],
          [
           "Blake"
          ],
          [
           "Scrypt"
          ],
          [
           "Scrypt"
          ],
          [
           "Scrypt"
          ],
          [
           "SHA-256"
          ],
          [
           "X11"
          ],
          [
           "Scrypt"
          ],
          [
           "SHA-256"
          ],
          [
           "Scrypt"
          ],
          [
           "PoS"
          ],
          [
           "X11"
          ],
          [
           "X11"
          ],
          [
           "X11"
          ],
          [
           "PoS"
          ],
          [
           "SHA-256"
          ],
          [
           "SHA-256"
          ],
          [
           "NIST5"
          ],
          [
           "X15"
          ],
          [
           "X11"
          ],
          [
           "NIST5"
          ],
          [
           "Scrypt"
          ],
          [
           "Scrypt"
          ],
          [
           "POS 3.0"
          ],
          [
           "Scrypt"
          ],
          [
           "Scrypt"
          ],
          [
           "Scrypt"
          ],
          [
           "X13"
          ],
          [
           "X11"
          ],
          [
           "X11"
          ],
          [
           "X11"
          ],
          [
           "Scrypt"
          ],
          [
           "SHA-256"
          ],
          [
           "X11"
          ],
          [
           "Scrypt"
          ],
          [
           "Scrypt"
          ],
          [
           "X11"
          ],
          [
           "Scrypt"
          ],
          [
           "Scrypt"
          ],
          [
           "SHA-256D"
          ],
          [
           "PoS"
          ],
          [
           "Scrypt"
          ],
          [
           "X11"
          ],
          [
           "PoS"
          ],
          [
           "X13"
          ],
          [
           "X14"
          ],
          [
           "PoS"
          ],
          [
           "SHA-256D"
          ],
          [
           "DPoS"
          ],
          [
           "X11"
          ],
          [
           "Scrypt"
          ],
          [
           "X13"
          ],
          [
           "X11"
          ],
          [
           "PoS"
          ],
          [
           "SHA-256D"
          ],
          [
           "Scrypt"
          ],
          [
           "Scrypt"
          ],
          [
           "Scrypt"
          ],
          [
           "PoS"
          ],
          [
           "X11"
          ],
          [
           "SHA-256"
          ],
          [
           "Scrypt"
          ],
          [
           "X11"
          ],
          [
           "Scrypt"
          ],
          [
           "Scrypt"
          ],
          [
           "X11"
          ],
          [
           "Scrypt"
          ],
          [
           "Scrypt"
          ],
          [
           "Scrypt"
          ],
          [
           "Scrypt"
          ],
          [
           "Quark"
          ],
          [
           "QuBit"
          ],
          [
           "X11"
          ],
          [
           "X13"
          ],
          [
           "PoS"
          ],
          [
           "Scrypt"
          ],
          [
           "SHA-256"
          ],
          [
           "X11"
          ],
          [
           "X11"
          ],
          [
           "Scrypt"
          ],
          [
           "Scrypt"
          ],
          [
           "Scrypt"
          ],
          [
           "Scrypt"
          ],
          [
           "X13"
          ],
          [
           "Scrypt"
          ],
          [
           "Scrypt"
          ],
          [
           "X11"
          ],
          [
           "Blake2S"
          ],
          [
           "X11"
          ],
          [
           "Scrypt"
          ],
          [
           "PoS"
          ],
          [
           "X11"
          ],
          [
           "PoS"
          ],
          [
           "X11"
          ],
          [
           "Scrypt"
          ],
          [
           "Scrypt"
          ],
          [
           "Scrypt"
          ],
          [
           "SHA-256"
          ],
          [
           "X11"
          ],
          [
           "Scrypt"
          ],
          [
           "PoS"
          ],
          [
           "Scrypt"
          ],
          [
           "X11"
          ],
          [
           "X15"
          ],
          [
           "SHA-256"
          ],
          [
           "POS 3.0"
          ],
          [
           "536"
          ],
          [
           "NIST5"
          ],
          [
           "NIST5"
          ],
          [
           "Skein"
          ],
          [
           "X13"
          ],
          [
           "X11"
          ],
          [
           "Scrypt"
          ],
          [
           "X13"
          ],
          [
           "SkunkHash v2 Raptor"
          ],
          [
           "Skein"
          ],
          [
           "X11"
          ],
          [
           "Scrypt"
          ],
          [
           "VeChainThor Authority"
          ],
          [
           "PoS"
          ],
          [
           "Scrypt"
          ],
          [
           "Scrypt"
          ],
          [
           "SHA-512"
          ],
          [
           "Ouroboros"
          ],
          [
           "X11"
          ],
          [
           "NeoScrypt"
          ],
          [
           "Scrypt"
          ],
          [
           "Lyra2REv2"
          ],
          [
           "Scrypt"
          ],
          [
           "SHA-256"
          ],
          [
           "NIST5"
          ],
          [
           "PHI1612"
          ],
          [
           "Scrypt"
          ],
          [
           "Quark"
          ],
          [
           "POS 2.0"
          ],
          [
           "Scrypt"
          ],
          [
           "SkunkHash"
          ],
          [
           "X11"
          ],
          [
           "Quark"
          ],
          [
           "SHA-256"
          ],
          [
           "Quark"
          ],
          [
           "X11"
          ],
          [
           "DPoS"
          ],
          [
           "NIST5"
          ],
          [
           "X13"
          ],
          [
           "Scrypt"
          ],
          [
           "NIST5"
          ],
          [
           "Quark"
          ],
          [
           "Scrypt"
          ],
          [
           "Scrypt"
          ],
          [
           "X11"
          ],
          [
           "SHA-256"
          ],
          [
           "Scrypt"
          ],
          [
           "Quark"
          ],
          [
           "Scrypt"
          ],
          [
           "Scrypt"
          ],
          [
           "X11"
          ],
          [
           "Scrypt"
          ],
          [
           "Scrypt"
          ],
          [
           "POS 3.0"
          ],
          [
           "Scrypt"
          ],
          [
           "Scrypt"
          ],
          [
           "X13"
          ],
          [
           "Proof-of-BibleHash"
          ],
          [
           "C11"
          ],
          [
           "Proof-of-Authority"
          ],
          [
           "X11"
          ],
          [
           "XEVAN"
          ],
          [
           "Scrypt"
          ],
          [
           "VBFT"
          ],
          [
           "NIST5"
          ],
          [
           "Scrypt"
          ],
          [
           "Scrypt"
          ],
          [
           "Scrypt"
          ],
          [
           "Equihash"
          ],
          [
           "Green Protocol"
          ],
          [
           "PoS"
          ],
          [
           "Scrypt"
          ],
          [
           "Scrypt"
          ],
          [
           "Semux BFT consensus"
          ],
          [
           "Scrypt"
          ],
          [
           "Quark"
          ],
          [
           "PoS"
          ],
          [
           "X16R"
          ],
          [
           "Scrypt"
          ],
          [
           "XEVAN"
          ],
          [
           "Scrypt"
          ],
          [
           "Scrypt"
          ],
          [
           "Scrypt"
          ],
          [
           "SHA-256D"
          ],
          [
           "Scrypt"
          ],
          [
           "X15"
          ],
          [
           "Scrypt"
          ],
          [
           "Quark"
          ],
          [
           "SHA-256"
          ],
          [
           "DPoS"
          ],
          [
           "X16R"
          ],
          [
           "Quark"
          ],
          [
           "Quark"
          ],
          [
           "Scrypt"
          ],
          [
           "Zhash"
          ],
          [
           "Lyra2REv2"
          ],
          [
           "Quark"
          ],
          [
           "Scrypt"
          ],
          [
           "Scrypt"
          ],
          [
           "X11"
          ],
          [
           "X11"
          ],
          [
           "Scrypt"
          ],
          [
           "PoS"
          ],
          [
           "Scrypt"
          ],
          [
           "Scrypt"
          ],
          [
           "Keccak"
          ],
          [
           "X11"
          ],
          [
           "Quark"
          ],
          [
           "Scrypt"
          ],
          [
           "SHA-512"
          ],
          [
           "NeoScrypt"
          ],
          [
           "XEVAN"
          ],
          [
           "XEVAN"
          ],
          [
           "X11"
          ],
          [
           "Quark"
          ],
          [
           "Quark"
          ],
          [
           "Scrypt"
          ],
          [
           "Quark"
          ],
          [
           "Quark"
          ],
          [
           "Scrypt"
          ],
          [
           "X11"
          ],
          [
           "Scrypt"
          ],
          [
           "XEVAN"
          ],
          [
           "SHA-256D"
          ],
          [
           "X11"
          ],
          [
           "X11"
          ],
          [
           "DPoS"
          ],
          [
           "X11"
          ],
          [
           "Scrypt"
          ],
          [
           "X11"
          ],
          [
           "QuBit"
          ],
          [
           "Scrypt"
          ],
          [
           "Scrypt"
          ],
          [
           "SHA-256"
          ],
          [
           "Scrypt"
          ],
          [
           "X11"
          ],
          [
           "Scrypt"
          ],
          [
           "SHA-256"
          ],
          [
           "X11"
          ],
          [
           "Scrypt"
          ],
          [
           "SHA-256"
          ],
          [
           "Scrypt"
          ],
          [
           "X11"
          ],
          [
           "Scrypt"
          ],
          [
           "PoS"
          ],
          [
           "X11"
          ],
          [
           "SHA-256"
          ],
          [
           "DPoS"
          ],
          [
           "Scrypt"
          ],
          [
           "Scrypt"
          ],
          [
           "NeoScrypt"
          ],
          [
           "Scrypt"
          ],
          [
           "SHA3-256"
          ],
          [
           "X13"
          ],
          [
           "DPoS"
          ],
          [
           "DPoS"
          ],
          [
           "SHA-256"
          ],
          [
           "Leased POS"
          ],
          [
           "PoS"
          ],
          [
           "PoS"
          ],
          [
           "SHA-256"
          ],
          [
           "Scrypt"
          ],
          [
           "Scrypt"
          ]
         ],
         "hovertemplate": "<b>%{hovertext}</b><br><br>Class=%{marker.color}<br>PC1=%{x}<br>PC2=%{y}<br>PC3=%{z}<br>Algorithm=%{customdata[0]}<extra></extra>",
         "hovertext": [
          "42 Coin",
          "404Coin",
          "808",
          "EliteCoin",
          "Dash",
          "Bitshares",
          "BitcoinDark",
          "Bitstake",
          "PayCoin",
          "KoboCoin",
          "Aero Coin",
          "ApexCoin",
          "ArchCoin",
          "Aurora Coin",
          "BlueCoin",
          "EnergyCoin",
          "BitBar",
          "CashCoin",
          "CryptoBullion",
          "CinderCoin",
          "CoolCoin",
          "CasinoCoin",
          "eMark",
          "Diamond",
          "DarkCash",
          "Exclusive Coin",
          "Fuel2Coin",
          "FIBRE",
          "FlutterCoin",
          "GlyphCoin",
          "Halcyon",
          "HoboNickels",
          "HyperStake",
          "IOCoin",
          "JumBucks Coin",
          "JudgeCoin",
          "LibrexCoin",
          "MaxCoin",
          "MintCoin",
          "MazaCoin",
          "Nautilus Coin",
          "NavCoin",
          "OpalCoin",
          "Orbitcoin",
          "PotCoin",
          "PhoenixCoin",
          "Reddcoin",
          "ShieldCoin",
          "SilkCoin",
          "SuperCoin",
          "SyncCoin",
          "TeslaCoin",
          "TittieCoin",
          "TorCoin",
          "UnitaryStatus Dollar",
          "UltraCoin",
          "Utility Coin",
          "VeriCoin",
          "SocialXbotCoin",
          "X11 Coin",
          "Crypti",
          "StealthCoin",
          "XXXCoin",
          "ZCC Coin",
          "BurstCoin",
          "StorjCoin",
          "Neutron",
          "KryptCoin",
          "FairCoin",
          "RubyCoin",
          "Kore",
          "Dnotes",
          "MaieutiCoin",
          "8BIT Coin",
          "Sativa Coin",
          "AeroMe",
          "MasterTraderCoin",
          "Ucoin",
          "MaryJane Coin",
          "CyberCoin",
          "Vtorrent",
          "ViorCoin",
          "IslaCoin",
          "Nexus",
          "Singular",
          "Droidz",
          "CryptoCircuits",
          "Squall Coin",
          "Milllionaire Coin",
          "Diggits",
          "MapCoin",
          "Paycon",
          "Emercoin",
          "BlitzCoin",
          "EverGreenCoin",
          "Decred",
          "EDRCoin",
          "Hitcoin",
          "DubaiCoin",
          "BiosCrypto",
          "PWR Coin",
          "TrumpCoin",
          "BillaryCoin",
          "EthereumScrypt",
          "GPU Coin",
          "Universal Currency",
          "EuropeCoin",
          "ZeitCoin",
          "SwingCoin",
          "SafeExchangeCoin",
          "Nebuchadnezzar",
          "GIZMOcoin",
          "SecretCoin",
          "Ratecoin",
          "Digital Bullion Gold",
          "Revenu",
          "Clockcoin",
          "VIP Tokens",
          "OrlyCoin",
          "BitSend",
          "16BitCoin",
          "ChessCoin",
          "ReeCoin",
          "Let it Ride",
          "PutinCoin",
          "iBankCoin",
          "Frankywillcoin",
          "MudraCoin",
          "Lutetium Coin",
          "GoldBlocks",
          "WayCoin",
          "CarterCoin",
          "BitTokens",
          "MustangCoin",
          "ZoneCoin",
          "RootCoin",
          "PROUD Money",
          "BitCurrency",
          "Swiscoin",
          "BuzzCoin",
          "Opair",
          "PesoBit",
          "Halloween Coin",
          "CoffeeCoin",
          "RoyalCoin",
          "GanjaCoin V2",
          "TeamUP",
          "LanaCoin",
          "ARK",
          "InsaneCoin",
          "LuckChain",
          "EmberCoin",
          "XenixCoin",
          "FreeCoin",
          "NPCcoin",
          "PLNCoin",
          "Icobid",
          "AquariusCoin",
          "Creatio",
          "Eternity",
          "Eurocoin",
          "BitcoinFast",
          "Stakenet",
          "BitConnect Coin",
          "MoneyCoin",
          "Enigma",
          "Russiacoin",
          "PandaCoin",
          "GameUnits",
          "GAKHcoin",
          "Allsafe",
          "LiteCreed",
          "NeptuneClassic",
          "GoldenBird",
          "Ride My Car",
          "Klingon Empire Darsek",
          "Internet of People",
          "KushCoin",
          "Eryllium",
          "Printerium",
          "Impeach",
          "Zilbercoin",
          "FirstCoin",
          "FindCoin",
          "OpenChat",
          "RenosCoin",
          "VirtacoinPlus",
          "TajCoin",
          "Impact",
          "Universe",
          "Atmos",
          "HappyCoin",
          "MacronCoin",
          "Condensate",
          "Independent Money System",
          "ArgusCoin",
          "LomoCoin",
          "ProCurrency",
          "GoldReserve",
          "GrowthCoin",
          "Phreak",
          "Degas Coin",
          "ZSEcoin",
          "HTML5 Coin",
          "Ultimate Secure Cash",
          "QTUM",
          "Espers",
          "Denarius",
          "Virta Unique Coin",
          "Bitcoin Planet",
          "BritCoin",
          "Octanox",
          "Linda",
          "DeepOnion",
          "Signatum",
          "Cream",
          "Monoeci",
          "Draftcoin",
          "Vechain",
          "Stakecoin",
          "CoinonatX",
          "Ethereum Dark",
          "Obsidian",
          "Cardano",
          "Regalcoin",
          "TrezarCoin",
          "TerraNovaCoin",
          "Rupee",
          "WomenCoin",
          "Theresa May Coin",
          "NamoCoin",
          "LUXCoin",
          "Xios",
          "Bitcloud 2.0",
          "KekCoin",
          "BlackholeCoin",
          "AltCommunity Coin",
          "Pure",
          "Rupaya",
          "Infinity Economics",
          "Castle",
          "Magnet",
          "Lamden Tau",
          "Electra",
          "Bitcoin Diamond",
          "Cash & Back Coin",
          "Bulwark",
          "Kalkulus",
          "GermanCoin",
          "LiteCoin Ultra",
          "PhantomX",
          "HTML Coin",
          "Fantasy Cash",
          "Digiwage",
          "Trollcoin",
          "Litecoin Plus",
          "Monkey Project",
          "OP Coin",
          "Valorbit",
          "TokenPay",
          "My Big Coin",
          "Unified Society USDEX",
          "Tokyo Coin",
          "BiblePay",
          "Stipend",
          "Poa Network",
          "Pushi",
          "Ellerium",
          "Velox",
          "Ontology",
          "Bitspace",
          "Briacoin",
          "Ignition",
          "MedicCoin",
          "Zelcash",
          "Bitcoin Green",
          "Deviant Coin",
          "Abjcoin",
          "Profit Hunters Coin",
          "Semux",
          "BitBlocks",
          "Carebit",
          "Zealium",
          "Proton",
          "iDealCash",
          "Bitcoin Incognito",
          "HollyWoodCoin",
          "Swisscoin",
          "Xt3ch",
          "TheVig",
          "EmaratCoin",
          "Dekado",
          "Lynx",
          "Poseidon Quark",
          "BitcoinWSpectrum",
          "Muse",
          "Trivechain",
          "Dystem",
          "Giant",
          "Peony Coin",
          "SafeCoin",
          "Absolute Coin",
          "Vitae",
          "TPCash",
          "MUSDcoin",
          "ARENON",
          "EUNO",
          "MMOCoin",
          "Ketan",
          "Safe Trade Coin",
          "Mont Blanc",
          "XDNA",
          "PAXEX",
          "Apollon",
          "ThunderStake",
          "Kcash",
          "Traid",
          "Bettex coin",
          "BitMoney",
          "Junson Ming Chan Coin",
          "Zenad",
          "HerbCoin",
          "Oduwa",
          "Galilel",
          "Crypto Sports",
          "Credit",
          "Dash Platinum",
          "Nasdacoin",
          "Beetle Coin",
          "Titan Coin",
          "Award",
          "Insane Coin",
          "ALAX",
          "The Freedom Coin",
          "LiteDoge",
          "TruckCoin",
          "Ascension Coin",
          "OrangeCoin",
          "BitstarCoin",
          "NeosCoin",
          "HyperCoin",
          "PinkCoin",
          "AudioCoin",
          "IncaKoin",
          "Piggy Coin",
          "Genstake",
          "ParkByte",
          "XiaoMiCoin",
          "CapriCoin",
          " ClubCoin",
          "Radium",
          "Creditbit ",
          "OKCash",
          "Lisk",
          "HiCoin",
          "WhiteCoin",
          "FriendshipCoin",
          "The Hempcoin",
          "Fiii",
          "Triangles Coin",
          "EOS",
          "Oxycoin",
          "TigerCash",
          "Waves",
          "Particl",
          "Nxt",
          "ZEPHYR",
          "Gapcoin",
          "BitcoinPlus"
         ],
         "legendgroup": "0",
         "marker": {
          "color": [
           0,
           0,
           0,
           0,
           0,
           0,
           0,
           0,
           0,
           0,
           0,
           0,
           0,
           0,
           0,
           0,
           0,
           0,
           0,
           0,
           0,
           0,
           0,
           0,
           0,
           0,
           0,
           0,
           0,
           0,
           0,
           0,
           0,
           0,
           0,
           0,
           0,
           0,
           0,
           0,
           0,
           0,
           0,
           0,
           0,
           0,
           0,
           0,
           0,
           0,
           0,
           0,
           0,
           0,
           0,
           0,
           0,
           0,
           0,
           0,
           0,
           0,
           0,
           0,
           0,
           0,
           0,
           0,
           0,
           0,
           0,
           0,
           0,
           0,
           0,
           0,
           0,
           0,
           0,
           0,
           0,
           0,
           0,
           0,
           0,
           0,
           0,
           0,
           0,
           0,
           0,
           0,
           0,
           0,
           0,
           0,
           0,
           0,
           0,
           0,
           0,
           0,
           0,
           0,
           0,
           0,
           0,
           0,
           0,
           0,
           0,
           0,
           0,
           0,
           0,
           0,
           0,
           0,
           0,
           0,
           0,
           0,
           0,
           0,
           0,
           0,
           0,
           0,
           0,
           0,
           0,
           0,
           0,
           0,
           0,
           0,
           0,
           0,
           0,
           0,
           0,
           0,
           0,
           0,
           0,
           0,
           0,
           0,
           0,
           0,
           0,
           0,
           0,
           0,
           0,
           0,
           0,
           0,
           0,
           0,
           0,
           0,
           0,
           0,
           0,
           0,
           0,
           0,
           0,
           0,
           0,
           0,
           0,
           0,
           0,
           0,
           0,
           0,
           0,
           0,
           0,
           0,
           0,
           0,
           0,
           0,
           0,
           0,
           0,
           0,
           0,
           0,
           0,
           0,
           0,
           0,
           0,
           0,
           0,
           0,
           0,
           0,
           0,
           0,
           0,
           0,
           0,
           0,
           0,
           0,
           0,
           0,
           0,
           0,
           0,
           0,
           0,
           0,
           0,
           0,
           0,
           0,
           0,
           0,
           0,
           0,
           0,
           0,
           0,
           0,
           0,
           0,
           0,
           0,
           0,
           0,
           0,
           0,
           0,
           0,
           0,
           0,
           0,
           0,
           0,
           0,
           0,
           0,
           0,
           0,
           0,
           0,
           0,
           0,
           0,
           0,
           0,
           0,
           0,
           0,
           0,
           0,
           0,
           0,
           0,
           0,
           0,
           0,
           0,
           0,
           0,
           0,
           0,
           0,
           0,
           0,
           0,
           0,
           0,
           0,
           0,
           0,
           0,
           0,
           0,
           0,
           0,
           0,
           0,
           0,
           0,
           0,
           0,
           0,
           0,
           0,
           0,
           0,
           0,
           0,
           0,
           0,
           0,
           0,
           0,
           0,
           0,
           0,
           0,
           0,
           0,
           0,
           0,
           0,
           0,
           0,
           0,
           0,
           0,
           0,
           0,
           0,
           0,
           0,
           0,
           0,
           0,
           0,
           0,
           0,
           0,
           0,
           0,
           0,
           0,
           0,
           0,
           0,
           0,
           0,
           0,
           0,
           0,
           0,
           0,
           0,
           0,
           0,
           0,
           0,
           0,
           0,
           0,
           0,
           0,
           0,
           0,
           0,
           0,
           0,
           0,
           0,
           0,
           0,
           0,
           0,
           0,
           0,
           0
          ],
          "coloraxis": "coloraxis",
          "symbol": "circle"
         },
         "mode": "markers",
         "name": "0",
         "scene": "scene",
         "showlegend": true,
         "type": "scatter3d",
         "x": [
          -0.2370109351562444,
          -0.22253541186927583,
          -0.15914535699391655,
          0.2800740247766828,
          -0.22687769983973835,
          0.03452597024914609,
          -0.15912767581534024,
          -0.22700159536438203,
          -0.017172290723605016,
          -0.11420533545873793,
          0.020214116084962912,
          -0.12159439253689161,
          -0.0952024271378804,
          -0.23676214989599215,
          -0.22829389058765828,
          -0.2353227021090378,
          -0.2370103516079333,
          -0.2370109358165391,
          -0.23699668064123613,
          -0.14984149356756066,
          -0.09520242728613265,
          0.5864557530101349,
          -0.15914535699391763,
          -0.19199356695315817,
          -0.22700159536867384,
          0.049173195357837096,
          -0.08519308691578997,
          -0.16724999820474049,
          -0.21256006477917916,
          -0.22700159537449074,
          -0.11455573940392826,
          -0.23578632999184335,
          -0.06216635543727804,
          -0.22675945182739132,
          -0.2270015953679166,
          -0.12159439256455673,
          -0.22700159536385012,
          -0.23271037132039635,
          0.19691769839729775,
          -0.13700599551599066,
          -0.09498046225633645,
          -0.12068777853025744,
          -0.12138647036263578,
          -0.22422783586722864,
          -0.23395614512950122,
          -0.23599632764898654,
          0.16515385922920545,
          -0.11455573940570184,
          -0.23701093573419263,
          -0.08449745508742845,
          -0.2270015792154366,
          -0.006931933973899131,
          0.0439268975736064,
          -0.22698195257158812,
          -0.22193498791451408,
          -0.2363217855592928,
          -0.12159439252625083,
          -0.20506926749776014,
          -0.23701093573596604,
          -0.22690624058824937,
          -0.006661137515877495,
          -0.12114039717223953,
          -0.23701093582109017,
          -0.2349807375315517,
          0.3576967696419366,
          0.0293080880388998,
          -0.1586086672406518,
          -0.09520242713893882,
          -0.19130916137396703,
          -0.09482949743147932,
          -0.12156664741908572,
          -0.09280655012637157,
          -0.01733684837029266,
          -0.23699079919638016,
          -0.12149703482363079,
          -0.12159439254753181,
          -0.22700159538000575,
          -0.08515618666261289,
          -0.11455573940392826,
          -0.23701093573241916,
          -0.2368517367110589,
          -0.23701093573241916,
          -0.22698082965574432,
          -0.2424034273644841,
          -0.23701093573241916,
          -0.22575875797235673,
          0.07184754154856979,
          -0.1698693270062302,
          -0.22700159536207654,
          -0.09383058006024744,
          -0.08519308674240078,
          -0.12127828329117618,
          -0.1585546441668354,
          0.020214116090545374,
          -0.11437012088769755,
          0.023986803226666322,
          -0.1590950144671593,
          -0.07614895765571789,
          -0.15907499477626422,
          -0.004179046404812679,
          -0.02911254099725511,
          -0.07463260160929278,
          -0.236887486797384,
          -0.23701093573986762,
          -0.09464714432301223,
          -0.15914535736633553,
          -0.2268588242011898,
          0.4119862734062896,
          -0.15908531019221908,
          0.06717716166401269,
          0.04936964789206446,
          -0.22700159536225398,
          -0.2270015953993185,
          -0.225155707267609,
          0.04909527845575438,
          -0.15912895661235515,
          -0.15891676949103833,
          -0.16610518632469587,
          -0.11455573946777149,
          -0.22666703328655732,
          -0.16724999823200828,
          -0.23701093586483454,
          -0.23701093635311576,
          0.09717021319454995,
          -0.22585655458862236,
          -0.2369488415608122,
          -0.23563908868387612,
          0.020282708103987555,
          -0.07618005162951941,
          -0.22678808289075683,
          -0.08519308691578997,
          -0.2364187711777374,
          -0.15913718865494073,
          -0.2269925736014349,
          -0.23697551508584289,
          -0.2369843234189874,
          -0.22700161309626588,
          -0.09287579320005532,
          -0.20176429117662653,
          0.1226039522865927,
          0.0501109090758568,
          -0.23655105197678006,
          -0.22337061393465713,
          0.05113544592613972,
          0.020248413974681044,
          -0.21454143729612726,
          0.04933972304553217,
          -0.13112773886340992,
          6.93329202511639,
          -0.22674996004398926,
          -0.23701093750583813,
          1.1431502869569765,
          -0.22694873361241458,
          0.04978120200662744,
          -0.14597335606123704,
          -0.23677649259725195,
          -0.23701093608710294,
          -0.23697733134708465,
          0.04936964789206446,
          -0.22691833144698004,
          -0.15897502087778626,
          -0.23673321871421898,
          -0.22045892517227333,
          -0.23685892519953866,
          -0.23686120774575703,
          -0.22699041932943004,
          -0.23689600436945293,
          0.3686621907330014,
          -0.23696329173453282,
          -0.23696544817888682,
          0.13777375000156802,
          -0.20695904259023415,
          -0.22700159580543144,
          -0.12159439332428924,
          0.049095278305013985,
          -0.23668216832817365,
          -0.15911070309367284,
          -0.22692396121404654,
          -0.22700159553941848,
          -0.23684875972026792,
          -0.23700670802625387,
          -0.09516233340773686,
          -0.23051904467830595,
          0.020413374843747428,
          -0.2232924652469872,
          -0.09470787123766923,
          -0.22682102273123464,
          -0.3305457913242287,
          -0.22548391565044,
          -0.09520242730741382,
          0.05061989218209144,
          -0.2267063558804517,
          0.05460216612671591,
          -0.22533253212554896,
          -0.2369372821978985,
          -0.23699518253220075,
          -0.23700407826970868,
          -0.01595764736318079,
          -0.22676603030540043,
          -0.09115362294774022,
          0.04925153492820359,
          -0.23671792630721095,
          -0.2270015990747292,
          0.4432237389304313,
          -0.017194957016361614,
          0.09801266708284656,
          0.46839867251725664,
          -0.16719277323311993,
          -0.16638652930664202,
          -0.2213021609631861,
          -0.12130262684935254,
          -0.2270015953760966,
          -0.11292839017527226,
          -0.12129372455565934,
          0.07782093257263398,
          -0.22074618639527435,
          -0.22682916429952343,
          -0.09494639521271808,
          7.652381939156588,
          0.049150152262148965,
          -0.2367428825220627,
          -0.2369533181563804,
          -0.0027412137118319473,
          0.7478086735145774,
          -0.22690196634900403,
          -0.22176649868119258,
          -0.23699528662001013,
          -0.08342344232101986,
          0.42777894847085624,
          -0.15788256082505445,
          -0.1595599293488345,
          -0.12002350548349912,
          -0.23698144533446772,
          -0.003757731169726266,
          0.12320417587582772,
          -0.23678646663908812,
          -0.2517193848207928,
          -0.22700159536861494,
          0.1376294621216159,
          0.10612938586141374,
          4.175748364522426,
          -0.22647756925388904,
          6.9357598196218575,
          0.22234290289718645,
          -0.1190765864696629,
          -0.2354885015204669,
          -0.025259758573174224,
          0.1378620694095904,
          -0.16963274420812582,
          -0.23689543466125554,
          -0.2263818742476936,
          -0.1591455166016211,
          -0.23701093574057683,
          0.13800397194456743,
          -0.22890300815570833,
          -0.2369765780146751,
          -0.08513262601139,
          -0.2370109392792571,
          -0.40057996064857976,
          0.09692130597423602,
          -0.19562864711568959,
          -0.23378920416162505,
          0.02337346409249748,
          0.40001510375654087,
          -0.2706172742596984,
          0.20364187934630645,
          -0.226971856130479,
          -0.1629813178130363,
          -0.09485164581284634,
          0.03743713339384286,
          -0.1670608499910848,
          -0.23699933487885422,
          -0.23699471840129094,
          -0.09153551223815198,
          -0.16249999517198815,
          0.09117581944374419,
          0.049395391676156995,
          -0.23687539038793068,
          -0.23701093590976108,
          7.468573666169479,
          -0.23701093661912867,
          -0.00226203294555007,
          0.04924721390651703,
          -0.0740910365158985,
          -0.21774804870082723,
          -0.10570971789332302,
          -0.09467142886300439,
          -0.09708253678101324,
          -0.09509775524327489,
          -0.14551736672331356,
          -0.23671462593927559,
          0.027668221967863338,
          1.7191775296128446,
          0.13766672410730563,
          -0.01654376993460891,
          2.89393836238659,
          -0.2154534298083024,
          0.1377266218189533,
          -0.004097840021970565,
          -0.09518816222518228,
          -0.1892442084376946,
          -0.22537829118003666,
          0.13853562036507672,
          -0.23693680559120583,
          -0.23701093590976108,
          -0.0849287385984327,
          -0.22657946261267112,
          -0.09372407193734464,
          0.04922323210600716,
          -0.0952024285984627,
          -0.09520242723293007,
          -0.1867855413667468,
          -0.08513129015063246,
          -0.0041790468123613575,
          -0.22247001700586505,
          -0.0972186501483885,
          -0.2242720182425275,
          -0.021085448159669888,
          -0.05680642249763516,
          0.15090077450554026,
          0.09815993264729178,
          -0.003694617224246353,
          -0.23680821036824456,
          -0.003928478352643916,
          0.1376560033821728,
          0.18587057911063354,
          -0.08518326901917718,
          -0.2367290689041767,
          -0.16025794299633378,
          -0.13367664669728022,
          -0.22679005404716535,
          -0.22667542556319148,
          6.945526128535797,
          -0.0851930867827835,
          -0.026859270344713436,
          -0.2236738492288479,
          -0.20737372100024867,
          -0.23696241179295244,
          -0.23672865724521258,
          -0.01727659333462313,
          -0.23687881038249453,
          -0.2210154911561668,
          -0.2235568023611567,
          0.08696026303495995,
          -0.2202213702693866,
          -0.2361878274234895,
          -0.15914535703825303,
          -0.2314643320882199,
          -0.22423918479121138,
          -0.23558940218255836,
          0.04914770012009408,
          -0.1964573963386638,
          -0.15812091565472544,
          6.9334540409800764,
          0.04198563433410214,
          -0.23355380492299282,
          -0.22425664793171854,
          -0.23701093626444486,
          -0.6570640961330949,
          -0.12159246127075969,
          6.945807969779052,
          6.947205028268598,
          -0.0036183778848572156,
          0.269591833669551,
          0.049222628932079154,
          0.021516893976923728,
          4.048218994892652,
          -0.23680610503330551,
          -0.09520066666022484
         ],
         "y": [
          1.1933136043729915,
          1.191984772987231,
          0.833267982471741,
          1.9545403836535988,
          1.426892633703952,
          1.4572726544427625,
          0.8332663595971067,
          1.4269040069530137,
          0.34162924897487157,
          2.073371763012831,
          1.499786075339029,
          1.9914097027489321,
          0.701689977185227,
          1.1932907663407701,
          1.1925133892523925,
          1.193158626432841,
          1.193313550809314,
          1.1933136049470632,
          1.1933122958349933,
          0.5166298505404554,
          0.7016899781037448,
          0.40580221591843296,
          0.8332679824717446,
          1.1007487468024166,
          1.4269040069796033,
          1.2265896001815237,
          0.9352803806165872,
          1.793277467703607,
          0.38782984414873095,
          1.4269040070156422,
          2.073403925921642,
          1.1932011882624078,
          0.9331665508663642,
          1.4268817786662475,
          1.4269040069749115,
          1.9914097029203366,
          1.426904006949717,
          1.800677641501287,
          0.6748736702139382,
          0.831235639582811,
          0.7016696010503899,
          1.991326476513583,
          1.9913906156566736,
          0.699582202761924,
          1.1930331825488798,
          1.1932204655786258,
          1.156395317801265,
          2.073403925932629,
          1.1933136044368755,
          0.9352165212960383,
          1.4269040054564963,
          0.024905147697858687,
          1.4367772928803741,
          1.4269022038603763,
          1.1919296662881678,
          1.1932503422791079,
          1.991409702683007,
          0.3828646985369368,
          1.193313604447863,
          1.4268952535347215,
          0.024880287797863346,
          1.991368026407969,
          1.1933136049752617,
          1.193127245284757,
          0.7188803773285335,
          1.1060301836349542,
          0.8332187156777255,
          0.7016899771917848,
          1.100685919074271,
          0.7016557424700751,
          1.991407155842528,
          0.7014700435408774,
          0.3416443550508763,
          1.1933117559139885,
          1.9914007654610464,
          1.9914097028148576,
          1.426904007049813,
          0.9352769923478856,
          2.073403925921642,
          1.193313604425888,
          1.1932989903470117,
          1.193313604425888,
          1.4269021006696887,
          1.3690933241285999,
          1.193313604425888,
          2.1008930847642624,
          1.1136152632580238,
          0.9061655440141118,
          1.4269040069387298,
          0.7015640440346145,
          0.9352803795423305,
          1.9913806847435296,
          0.8332137665074582,
          1.4997860753044425,
          2.073386886630317,
          1.1024208724667375,
          0.8332633613212039,
          1.4130561878194987,
          0.8332615234110763,
          1.4632536218197894,
          1.7805966007918577,
          0.021356570700240152,
          1.1933022724038274,
          1.1933136044720354,
          0.7016390050477529,
          0.8332679847791131,
          1.4268909048595886,
          0.6551316828030948,
          0.8332624706742633,
          0.45347101072612955,
          1.2265715662710677,
          1.4269040069398287,
          1.4269040071694667,
          1.4267345572501828,
          1.2265967530299569,
          0.8332664793456487,
          0.8332470040729084,
          1.7931723761974185,
          2.0734039263171904,
          1.4268732960121555,
          1.7932774678725496,
          1.1933136052462858,
          1.1933136082715028,
          1.1945396227728957,
          1.1922896661330749,
          1.193307904729004,
          1.1931876714555048,
          1.4997797807561548,
          0.9344529999024226,
          1.4268844072695195,
          0.9352803806165872,
          1.1932592453441502,
          0.8332672328545129,
          1.4269031787834823,
          1.1933103530767404,
          1.1933111614447336,
          1.4269041168134324,
          0.7014763945666806,
          0.28085139954156063,
          2.169579813074227,
          1.2265035198927885,
          1.1932713876020453,
          1.4265707030673016,
          1.2264094681667728,
          1.4997829267817007,
          2.280357554993626,
          1.226574316380857,
          2.1928719684961426,
          0.12023316125109666,
          1.42688090741755,
          1.1933136154133586,
          1.875307538921316,
          1.4268991543298606,
          1.2265337863799533,
          2.1942347743780206,
          1.1932920832206673,
          1.1933136066233823,
          1.193310520034846,
          1.2265715662710677,
          1.4268963640522232,
          0.8332523460197957,
          1.1932881106657485,
          0.895931582119101,
          1.193299650328959,
          1.1932998666042847,
          1.4269029810453269,
          1.193303055411708,
          0.6591080663460096,
          1.193309230899913,
          1.1933094287543087,
          0.9716167488826769,
          1.1177967392860482,
          1.4269040096855972,
          1.9914097076273691,
          1.2265967539638918,
          1.1932834293514814,
          0.8332648015090681,
          1.4268968803104325,
          1.4269040080374766,
          1.1932987170625258,
          1.1933132165645248,
          0.7016862970426186,
          0.30789302326632384,
          1.499767783685201,
          1.1920542747220566,
          0.7016445776916765,
          1.426887431651944,
          2.0944924491889063,
          1.4267646867982369,
          0.7016899782355942,
          1.2264567961952968,
          1.4268769053609394,
          1.226091230955494,
          1.4267507941784834,
          1.1933068433419005,
          1.1933121586089899,
          1.1933129857430127,
          0.34151855776311324,
          1.42688238275815,
          0.7013183228777026,
          1.226582409019716,
          1.1932867076189515,
          1.4269040299409987,
          2.02220135643952,
          0.3416313317461978,
          1.1944622871507542,
          2.0484614270093475,
          1.7932722146155338,
          1.7931982034990044,
          1.4179353511714397,
          1.9913829192389503,
          1.4269040070255925,
          1.1819235042125653,
          1.991382101897989,
          1.1821008891911133,
          1.4178843133165315,
          1.4268881780594196,
          0.7016664737464589,
          4.127103926397708,
          1.2265917161792068,
          1.193288997957796,
          1.193308315241132,
          1.4606937030275033,
          1.0515801519913652,
          1.4268948613969827,
          0.6993562589997067,
          1.193312168024859,
          0.32084013877201545,
          1.1322868935723087,
          0.8331520602523844,
          1.7925715408087215,
          1.9304334976525175,
          1.193310897467053,
          1.4632149474901668,
          1.2082906295981692,
          1.193292998569652,
          0.7272591323842305,
          1.4269040069792394,
          0.9716299950011179,
          0.3303103877289649,
          0.3943012442496565,
          1.4268559034760995,
          0.12000662448423816,
          1.7575135918655362,
          1.9911785731245946,
          1.1931738489099535,
          1.3016371578689807,
          0.9716086413121134,
          1.1871289016547972,
          1.1933030031780691,
          1.4268471177620796,
          0.8332689713440743,
          1.1933136044764303,
          0.9715956158976701,
          1.19256931531857,
          1.1933104504684209,
          0.9352748295167964,
          1.193313626400829,
          2.2067288665203306,
          1.1945624720904253,
          0.40325394185682456,
          1.1930178555162814,
          1.499496059244678,
          4.983880918910908,
          1.106342263424321,
          3.7001077779036415,
          1.4269012771805376,
          1.569314156369826,
          0.7016577770094262,
          1.0859166548187726,
          1.7932601046397454,
          1.193312539512742,
          1.193312115746819,
          0.7013533636582621,
          0.3111260838824712,
          1.1962634078660614,
          1.2265692037560316,
          1.1933011618368252,
          1.1933136055246352,
          0.036767294010706074,
          1.193313609919623,
          1.4630776440353745,
          1.226582806225996,
          0.5047658509790209,
          1.191545347989328,
          1.04856290253846,
          0.7016412322304806,
          1.1804684414468078,
          0.7016803687189525,
          2.194192840367209,
          1.1932864044214802,
          1.581742161368833,
          0.22305411964870478,
          0.9716265806159292,
          0.34157155240651704,
          0.6976752602170954,
          0.9963485259087419,
          0.9716210752630452,
          1.4632461670002077,
          0.7016888502248148,
          2.0107384858721695,
          0.8124772003743446,
          0.9715468109398919,
          1.1933068101849877,
          1.1933136055246352,
          0.9352561132441817,
          1.4268652561570445,
          0.7015542684378192,
          1.2265850091361603,
          0.701689986234473,
          0.701689977774121,
          0.7779696250861261,
          0.9352747077413945,
          1.463253624344815,
          1.191978958895952,
          2.030748839242846,
          0.6995862613424751,
          1.0776825091940767,
          1.1201574334788327,
          0.9136072222725591,
          0.48895534553311354,
          1.4632091521188646,
          1.1932949946873552,
          1.4632306199352116,
          0.9716275578754149,
          1.1544943553473648,
          0.9352794784752362,
          1.1932877302698008,
          1.5690641583146114,
          2.193105928310115,
          1.4268845922246427,
          1.426874065234047,
          0.1191100934610968,
          0.9352803797925269,
          1.1740222911407716,
          1.426598523497365,
          1.1178348054554303,
          1.1933091521464558,
          1.193287692157992,
          0.3416388239320546,
          1.1933014754638305,
          1.426354494557347,
          1.1920786434132993,
          0.8106757588190098,
          1.426281600544174,
          1.193238044149222,
          0.8332679827464313,
          1.192804436631058,
          1.4266504229328172,
          1.193183110938717,
          1.226591940713778,
          0.7200985230062358,
          0.8331739410181725,
          0.12021828875067508,
          0.6890963719311809,
          1.1929962468607072,
          0.6995848482883017,
          1.1933136077221294,
          4.707395767898368,
          1.9914095253971726,
          0.11908420991973917,
          0.11895596148428435,
          0.3403850253470227,
          5.156122875877472,
          1.226585062327145,
          1.4819730403920273,
          -0.2382030548276704,
          1.1932948038987694,
          0.7016898154085769
         ],
         "z": [
          -0.4516051179740795,
          -0.4519827644699779,
          -0.2219684234465778,
          -0.40364935236985044,
          -0.33978514086967326,
          0.08170778691879443,
          -0.22196888484571306,
          -0.3397819085139314,
          0.009766024390924947,
          -0.4412689130591948,
          -0.16142993105030642,
          -0.3931686720015904,
          -0.21986637709470794,
          -0.45161160848278653,
          -0.45183253185615274,
          -0.4516491612995558,
          -0.45160513320077805,
          -0.4516051182267839,
          -0.45160548985748517,
          -0.16034639395445013,
          -0.21986637756656113,
          -0.3362327581380905,
          -0.22196842344658252,
          -0.2571050894234176,
          -0.3397819085275908,
          0.013008013180122562,
          -0.10804316811410461,
          -0.3515358058295648,
          -0.36946133397295067,
          -0.3397819085461046,
          -0.44125976958369245,
          -0.45163706666551423,
          -0.10864389848724473,
          -0.3397882257729714,
          -0.33978190852518086,
          -0.3931686720896425,
          -0.3397819085122383,
          -0.35738166532303955,
          -0.2274873282602845,
          -0.22254601807819924,
          -0.21987216780553068,
          -0.39319232409049854,
          -0.3931740963275541,
          -0.20446921074368288,
          -0.4516848149961426,
          -0.45163158803415165,
          -0.4620969602956289,
          -0.44125976958933705,
          -0.4516051179646948,
          -0.10806131547732689,
          -0.33978190892783966,
          0.07136362240677285,
          -0.08083365609832442,
          -0.3397824210127834,
          -0.4519984346573091,
          -0.4516230973642874,
          -0.3931686719677238,
          -0.3629589455247582,
          -0.45160511797033903,
          -0.3397843961928675,
          0.0713565583252814,
          -0.3931805159872289,
          -0.4516051182412698,
          -0.4516580883042517,
          -0.21838232840281305,
          -0.014699724281405408,
          -0.2219824252189131,
          -0.219866377098077,
          -0.25712294445572553,
          -0.21987610614655737,
          -0.39316939586190014,
          -0.21992888448204848,
          0.00977031751033422,
          -0.4516056432893726,
          -0.3931712119328446,
          -0.3931686720354566,
          -0.33978190856365853,
          -0.10804413032799512,
          -0.44125976958369245,
          -0.45160511795905045,
          -0.4516092713231062,
          -0.45160511795905045,
          -0.3397824502509721,
          -0.1342963573041872,
          -0.45160511795905045,
          -0.5340254332747494,
          -0.156467936891684,
          -0.08181028220407016,
          -0.33978190850659373,
          -0.21990216688721817,
          -0.10804316756224643,
          -0.3931769190413767,
          -0.22198383989900955,
          -0.16142993103253886,
          -0.44126461222635205,
          -0.2913979488440631,
          -0.2219697369285406,
          -0.34371756591007085,
          -0.22197025914511548,
          -0.27124490250784,
          -0.35513959322847677,
          0.053253102773725594,
          -0.45160833878518836,
          -0.45160511798275677,
          -0.21988086470818324,
          -0.22196842463190442,
          -0.3397856353651956,
          -0.2330986900164072,
          -0.22196999020013075,
          -0.322685386995748,
          0.013002887930938309,
          -0.3397819085071582,
          -0.33978190862512586,
          -0.3398300652292715,
          0.01301004582329153,
          -0.22196885257400506,
          -0.22197438991996754,
          -0.35156567266635713,
          -0.44125976978689063,
          -0.33979063749208677,
          -0.35153580591635286,
          -0.45160511838049827,
          -0.45160511993458685,
          -0.033044176304051855,
          -0.45189612947212127,
          -0.4516067381498951,
          -0.4516409078441465,
          -0.16143172160570662,
          -0.10827830709474681,
          -0.3397874789932279,
          -0.10804316811410461,
          -0.4516205671062537,
          -0.22196863666510872,
          -0.33978214388710737,
          -0.451606042147105,
          -0.45160581223214497,
          -0.3397819649504945,
          -0.21992707519463242,
          -0.3369232906706135,
          -0.4723985663313677,
          0.01298354929376436,
          -0.4516171155976248,
          -0.3398766435953259,
          0.012956820944033163,
          -0.16143082580230259,
          -0.44547211066215214,
          0.013003667023699116,
          -0.4657790374063425,
          0.1748469369073791,
          -0.3397884734440874,
          -0.4516051236034403,
          -0.4261638617125764,
          -0.33978328760781973,
          0.01299215096540947,
          -0.465391735894618,
          -0.451611234428328,
          -0.4516051190879283,
          -0.45160599488323067,
          0.013002887930938309,
          -0.33978408107165997,
          -0.2219728673597959,
          -0.4516123633438498,
          -0.2032356768576741,
          -0.4516090838323559,
          -0.45160902782768403,
          -0.3397822001000322,
          -0.45160811715567467,
          -0.23196805499562245,
          -0.4516063609894497,
          -0.45160630467612345,
          -0.039509925761026396,
          -0.2474163162695999,
          -0.3397819099176912,
          -0.3931686745076995,
          0.013010045343518404,
          -0.45161369782507715,
          -0.22196932763144026,
          -0.33978393391174777,
          -0.33978190907103273,
          -0.4516093489880791,
          -0.45160522837802103,
          -0.21986742329624698,
          -0.4067185311277358,
          -0.1614351294384519,
          -0.4519630168100109,
          -0.21987927937716623,
          -0.3397866199295105,
          -0.47744123996350024,
          -0.3398215029917287,
          -0.2198663776342939,
          0.012970270524408118,
          -0.33978961140597663,
          0.012866377657811588,
          -0.33982545456740637,
          -0.45160703958378473,
          -0.4516055290978384,
          -0.4516053025500437,
          0.009733909542004563,
          -0.3397880542533345,
          -0.21997201526933124,
          0.013005969254128561,
          -0.4516127627082478,
          -0.3397819203231244,
          -0.45581186462261436,
          0.009766614651114894,
          -0.03306615496969622,
          -0.4773705338964299,
          -0.35153729879176643,
          -0.3515583330444194,
          -0.303111430528223,
          -0.3931762838426991,
          -0.33978190855121626,
          -0.4548425195170403,
          -0.39317651602626075,
          0.046887083235485565,
          -0.30312593502384966,
          -0.3397864070139298,
          -0.2198730565677012,
          -0.7069960670876516,
          0.013008613987437025,
          -0.4516121113172078,
          -0.45160662113422445,
          0.08268004867415757,
          -0.09072063502787706,
          -0.3397845078233467,
          -0.20453342538609132,
          -0.4516055263091327,
          -0.0043881283351422645,
          -0.4689485750540797,
          -0.22200136836700088,
          -0.351736434367602,
          -0.3119947373626041,
          -0.45160588743631386,
          -0.2712558949780528,
          -0.07594313001374649,
          -0.451610974086216,
          -0.27419204454826046,
          -0.3397819085274038,
          -0.03950616186027836,
          0.006549227855279153,
          0.06172850193636877,
          -0.3397955803369776,
          0.17478255392455005,
          -0.3616998380895637,
          -0.39323435873372853,
          -0.45164483705063124,
          -0.11980180610088274,
          -0.03951222990290737,
          -0.4533631927590455,
          -0.451608132052603,
          -0.33979807633315456,
          -0.22196893144168972,
          -0.4516051179850145,
          -0.039515932484289334,
          -0.45181664606543914,
          -0.4516060143202348,
          -0.10804474499374829,
          -0.45160512924783064,
          -0.9722082122480961,
          -0.03303768266065553,
          -0.5275592523491252,
          -0.4516891691516606,
          -0.16151235794704596,
          1.9397912545721498,
          -0.3153866106829162,
          8.416095277854351,
          -0.33978268449829563,
          -0.2911797510145093,
          -0.21987552903601923,
          -0.03537379810099228,
          -0.3515407406877667,
          -0.4516054206240121,
          -0.4516055410719791,
          -0.21996204384680162,
          -0.1825037437279388,
          -0.05949277493348063,
          0.013002215929433599,
          -0.45160865429305835,
          -0.45160511852348917,
          0.2086246457120763,
          -0.45160512078124543,
          -0.27129491537503375,
          0.013006081698205305,
          -0.028607514751358983,
          -0.45210768531008955,
          -0.033211759429803575,
          -0.21988023005303242,
          -0.4552556862388483,
          -0.21986910797564702,
          -0.46540359266847925,
          -0.45161284869011437,
          -0.20953186764290643,
          -0.43063563123715803,
          -0.039507137238576635,
          0.009749626779903512,
          0.07364448680214174,
          -0.2603578943641469,
          -0.039508696295552814,
          -0.27124702096812575,
          -0.21986684520860453,
          -0.38915221438811265,
          -0.23612305166936487,
          -0.03952980223545783,
          -0.45160705758764336,
          -0.45160511852348917,
          -0.10805006428680851,
          -0.33979292156575863,
          -0.2199049464259051,
          0.013006706605600347,
          -0.21986638174340978,
          -0.21986637739722958,
          -0.19480292793407,
          -0.10804478029380081,
          -0.2712449038049747,
          -0.4519845699227359,
          0.3164056523992086,
          -0.2044680595081026,
          -0.05944328911153138,
          -0.020163263154717496,
          -0.11420248233763036,
          0.16764838037963503,
          -0.2712575406900611,
          -0.45161040686212056,
          -0.2712514394247675,
          -0.03950685392900071,
          -0.46263785235615185,
          -0.10804342379051263,
          -0.45161247189604276,
          -0.2912508020526261,
          -0.4657125261784986,
          -0.33978742967442266,
          -0.33979041793060394,
          0.1745277635527674,
          -0.10804316769077546,
          -0.457087841131219,
          -0.3398687241309433,
          -0.2474054975182483,
          -0.45160638500988387,
          -0.4516124824663105,
          0.00976874543242543,
          -0.451608564900099,
          -0.33993807932665626,
          -0.4519561747347308,
          -0.22838893024048443,
          -0.33995879952776636,
          -0.4516265916361103,
          -0.2219684235876922,
          -0.45174982233670863,
          -0.3398539766054588,
          -0.45164220442768493,
          0.013008678259266234,
          0.009060520931657809,
          -0.22199515009558204,
          0.17484270997147386,
          -0.22344545313008654,
          -0.45169531073180985,
          -0.20446845940351077,
          -0.4516051196523674,
          9.976966141206422,
          -0.3931687223518029,
          0.17452041645191804,
          0.1744839694093351,
          0.009412418659385016,
          5.28919909888882,
          0.013006723487356011,
          0.23795333011095118,
          0.11028918346564172,
          -0.4516104630901336,
          -0.2198664229351268
         ]
        },
        {
         "customdata": [
          [
           "SHA-256"
          ],
          [
           "Ethash"
          ],
          [
           "Scrypt"
          ],
          [
           "CryptoNight-V7"
          ],
          [
           "Ethash"
          ],
          [
           "Equihash"
          ],
          [
           "Multiple"
          ],
          [
           "Scrypt"
          ],
          [
           "X11"
          ],
          [
           "SHA-256"
          ],
          [
           "Scrypt"
          ],
          [
           "SHA-256"
          ],
          [
           "Multiple"
          ],
          [
           "Scrypt"
          ],
          [
           "SHA-256"
          ],
          [
           "Scrypt"
          ],
          [
           "Scrypt"
          ],
          [
           "Quark"
          ],
          [
           "Groestl"
          ],
          [
           "Scrypt"
          ],
          [
           "X11"
          ],
          [
           "Scrypt"
          ],
          [
           "Scrypt"
          ],
          [
           "Scrypt"
          ],
          [
           "X11"
          ],
          [
           "Multiple"
          ],
          [
           "Scrypt"
          ],
          [
           "SHA-256"
          ],
          [
           "Scrypt"
          ],
          [
           "Scrypt"
          ],
          [
           "Scrypt"
          ],
          [
           "Scrypt"
          ],
          [
           "Scrypt"
          ],
          [
           "Scrypt"
          ],
          [
           "SHA-256"
          ],
          [
           "Scrypt"
          ],
          [
           "NeoScrypt"
          ],
          [
           "Scrypt"
          ],
          [
           "Scrypt"
          ],
          [
           "Scrypt"
          ],
          [
           "Multiple"
          ],
          [
           "Scrypt"
          ],
          [
           "SHA-256"
          ],
          [
           "Scrypt"
          ],
          [
           "Scrypt"
          ],
          [
           "Scrypt"
          ],
          [
           "Scrypt"
          ],
          [
           "Scrypt"
          ],
          [
           "HybridScryptHash256"
          ],
          [
           "Scrypt"
          ],
          [
           "SHA-256"
          ],
          [
           "Scrypt"
          ],
          [
           "SHA-256"
          ],
          [
           "Scrypt"
          ],
          [
           "Scrypt"
          ],
          [
           "Scrypt"
          ],
          [
           "Scrypt"
          ],
          [
           "Scrypt"
          ],
          [
           "Scrypt-n"
          ],
          [
           "Scrypt"
          ],
          [
           "SHA-256"
          ],
          [
           "SHA-256"
          ],
          [
           "SHA-256"
          ],
          [
           "SHA-256"
          ],
          [
           "SHA-256"
          ],
          [
           "SHA-256"
          ],
          [
           "X11"
          ],
          [
           "Scrypt"
          ],
          [
           "X11"
          ],
          [
           "Lyra2REv2"
          ],
          [
           "Scrypt"
          ],
          [
           "SHA-256"
          ],
          [
           "CryptoNight"
          ],
          [
           "CryptoNight"
          ],
          [
           "Scrypt"
          ],
          [
           "SHA-256"
          ],
          [
           "Scrypt"
          ],
          [
           "Scrypt"
          ],
          [
           "Scrypt"
          ],
          [
           "Scrypt"
          ],
          [
           "Scrypt"
          ],
          [
           "Momentum"
          ],
          [
           "Stanford Folding"
          ],
          [
           "Multiple"
          ],
          [
           "QuBit"
          ],
          [
           "Scrypt"
          ],
          [
           "Scrypt"
          ],
          [
           "SHA-256"
          ],
          [
           "M7 POW"
          ],
          [
           "Scrypt"
          ],
          [
           "X11"
          ],
          [
           "Scrypt"
          ],
          [
           "SHA-256"
          ],
          [
           "Scrypt"
          ],
          [
           "X11"
          ],
          [
           "X11"
          ],
          [
           "Lyra2RE"
          ],
          [
           "SHA-256"
          ],
          [
           "X11"
          ],
          [
           "Scrypt"
          ],
          [
           "Scrypt"
          ],
          [
           "Ethash"
          ],
          [
           "Blake2b"
          ],
          [
           "X11"
          ],
          [
           "SHA-256"
          ],
          [
           "Scrypt"
          ],
          [
           "Scrypt"
          ],
          [
           "1GB AES Pattern Search"
          ],
          [
           "Scrypt"
          ],
          [
           "CryptoNight"
          ],
          [
           "SHA-256"
          ],
          [
           "SHA-256"
          ],
          [
           "X11"
          ],
          [
           "Scrypt-n"
          ],
          [
           "X11"
          ],
          [
           "Scrypt"
          ],
          [
           "Dagger"
          ],
          [
           "Scrypt"
          ],
          [
           "CryptoNight-Lite"
          ],
          [
           "X11GOST"
          ],
          [
           "SHA-256"
          ],
          [
           "Scrypt"
          ],
          [
           "X11"
          ],
          [
           "SHA-256"
          ],
          [
           "Scrypt"
          ],
          [
           "X11"
          ],
          [
           "Equihash"
          ],
          [
           "CryptoNight"
          ],
          [
           "SHA-256"
          ],
          [
           "Multiple"
          ],
          [
           "Scrypt"
          ],
          [
           "SHA-256"
          ],
          [
           "Scrypt"
          ],
          [
           "Scrypt"
          ],
          [
           "Scrypt-n"
          ],
          [
           "Lyra2Z"
          ],
          [
           "SHA-256"
          ],
          [
           "Quark"
          ],
          [
           "Ethash"
          ],
          [
           "SHA-256"
          ],
          [
           "Equihash"
          ],
          [
           "Scrypt"
          ],
          [
           "Equihash"
          ],
          [
           "X11"
          ],
          [
           "X11"
          ],
          [
           "CryptoNight"
          ],
          [
           "Scrypt"
          ],
          [
           "CryptoNight"
          ],
          [
           "Lyra2RE"
          ],
          [
           "X11"
          ],
          [
           "X11"
          ],
          [
           "Scrypt"
          ],
          [
           "CryptoNight-V7"
          ],
          [
           "Keccak"
          ],
          [
           "Scrypt"
          ],
          [
           "X11"
          ],
          [
           "Equihash"
          ],
          [
           "Scrypt"
          ],
          [
           "Lyra2RE"
          ],
          [
           "Ethash"
          ],
          [
           "X11"
          ],
          [
           "Dagger-Hashimoto"
          ],
          [
           "Scrypt"
          ],
          [
           "NIST5"
          ],
          [
           "Scrypt"
          ],
          [
           "Scrypt"
          ],
          [
           "Scrypt"
          ],
          [
           "SHA-256"
          ],
          [
           "Scrypt"
          ],
          [
           "CryptoNight-V7"
          ],
          [
           "Argon2d"
          ],
          [
           "Blake2b"
          ],
          [
           "Cloverhash"
          ],
          [
           "CryptoNight"
          ],
          [
           "X11"
          ],
          [
           "Scrypt"
          ],
          [
           "Scrypt"
          ],
          [
           "X11"
          ],
          [
           "X11"
          ],
          [
           "CryptoNight"
          ],
          [
           "Time Travel"
          ],
          [
           "Scrypt"
          ],
          [
           "Keccak"
          ],
          [
           "X11"
          ],
          [
           "SHA-256"
          ],
          [
           "Scrypt"
          ],
          [
           "Scrypt"
          ],
          [
           "Scrypt"
          ],
          [
           "Scrypt"
          ],
          [
           "Scrypt"
          ],
          [
           "Scrypt"
          ],
          [
           "Scrypt"
          ],
          [
           "Scrypt"
          ],
          [
           "CryptoNight"
          ],
          [
           "Equihash"
          ],
          [
           "X11"
          ],
          [
           "NeoScrypt"
          ],
          [
           "Equihash"
          ],
          [
           "Dagger"
          ],
          [
           "Scrypt"
          ],
          [
           "X11"
          ],
          [
           "NeoScrypt"
          ],
          [
           "Scrypt"
          ],
          [
           "Ethash"
          ],
          [
           "Scrypt"
          ],
          [
           "NeoScrypt"
          ],
          [
           "Multiple"
          ],
          [
           "CryptoNight"
          ],
          [
           "CryptoNight"
          ],
          [
           "Ethash"
          ],
          [
           "X11"
          ],
          [
           "SHA-256"
          ],
          [
           "CryptoNight-V7"
          ],
          [
           "Scrypt"
          ],
          [
           "BLAKE256"
          ],
          [
           "X11"
          ],
          [
           "NeoScrypt"
          ],
          [
           "NeoScrypt"
          ],
          [
           "Scrypt"
          ],
          [
           "X11"
          ],
          [
           "SHA-256"
          ],
          [
           "C11"
          ],
          [
           "Ethash"
          ],
          [
           "CryptoNight"
          ],
          [
           "SkunkHash"
          ],
          [
           "CryptoNight"
          ],
          [
           "Equihash"
          ],
          [
           "Skein"
          ],
          [
           "Scrypt"
          ],
          [
           "Dagger"
          ],
          [
           "Lyra2REv2"
          ],
          [
           "Scrypt"
          ],
          [
           "Scrypt"
          ],
          [
           "Scrypt"
          ],
          [
           "NeoScrypt"
          ],
          [
           "Equihash"
          ],
          [
           "X11"
          ],
          [
           "Ethash"
          ],
          [
           "X11"
          ],
          [
           "CryptoNight"
          ],
          [
           "NeoScrypt"
          ],
          [
           "Scrypt"
          ],
          [
           "IMesh"
          ],
          [
           "Equihash"
          ],
          [
           "Equihash"
          ],
          [
           "Equihash"
          ],
          [
           "Lyra2Z"
          ],
          [
           "X11"
          ],
          [
           "CryptoNight"
          ],
          [
           "NIST5"
          ],
          [
           "Lyra2RE"
          ],
          [
           "Tribus"
          ],
          [
           "Lyra2Z"
          ],
          [
           "CryptoNight"
          ],
          [
           "CryptoNight Heavy"
          ],
          [
           "CryptoNight"
          ],
          [
           "Jump Consistent Hash"
          ],
          [
           "CryptoNight"
          ],
          [
           "X16R"
          ],
          [
           "HMQ1725"
          ],
          [
           "X11"
          ],
          [
           "Scrypt"
          ],
          [
           "CryptoNight-V7"
          ],
          [
           "Cryptonight-GPU"
          ],
          [
           "XEVAN"
          ],
          [
           "CryptoNight Heavy"
          ],
          [
           "Lyra2REv2"
          ],
          [
           "SHA-256"
          ],
          [
           "X11"
          ],
          [
           "X16R"
          ],
          [
           "Equihash"
          ],
          [
           "Quark"
          ],
          [
           "CryptoNight Heavy X"
          ],
          [
           "Lyra2Z"
          ],
          [
           "Ethash"
          ],
          [
           "SHA-256"
          ],
          [
           "Ethash"
          ],
          [
           "CryptoNight"
          ],
          [
           "SkunkHash"
          ],
          [
           "Argon2"
          ],
          [
           "Blake"
          ],
          [
           "Blake"
          ],
          [
           "SHA-256"
          ],
          [
           "Equihash"
          ],
          [
           "Exosis"
          ],
          [
           "Scrypt"
          ],
          [
           "Equihash"
          ],
          [
           "Equihash"
          ],
          [
           "QuBit"
          ],
          [
           "Equihash1927"
          ],
          [
           "SHA-256"
          ],
          [
           "SHA-256"
          ],
          [
           "X13"
          ],
          [
           "SHA-256"
          ],
          [
           "X11"
          ],
          [
           "Scrypt"
          ],
          [
           "NeoScrypt"
          ],
          [
           "Blake"
          ],
          [
           "CryptoNight"
          ],
          [
           "Scrypt"
          ],
          [
           "SHA-256"
          ],
          [
           "CryptoNight"
          ],
          [
           "Scrypt"
          ],
          [
           "Groestl"
          ],
          [
           "Scrypt"
          ],
          [
           "Scrypt"
          ],
          [
           "Scrypt"
          ],
          [
           "Multiple"
          ],
          [
           "Equihash+Scrypt"
          ],
          [
           "Ethash"
          ],
          [
           "Ethash"
          ],
          [
           "CryptoNight"
          ],
          [
           "Equihash"
          ]
         ],
         "hovertemplate": "<b>%{hovertext}</b><br><br>Class=%{marker.color}<br>PC1=%{x}<br>PC2=%{y}<br>PC3=%{z}<br>Algorithm=%{customdata[0]}<extra></extra>",
         "hovertext": [
          "Bitcoin",
          "Ethereum",
          "Litecoin",
          "Monero",
          "Ethereum Classic",
          "ZCash",
          "DigiByte",
          "ProsperCoin",
          "Spreadcoin",
          "ACoin",
          "Argentum",
          "BetaCoin",
          "MyriadCoin",
          "MoonCoin",
          "ZetaCoin",
          "SexCoin",
          "Quatloo",
          "QuarkCoin",
          "Riecoin",
          "Digitalcoin ",
          "LimeCoinX",
          "BitMark",
          "Catcoin",
          "CannaCoin",
          "CryptCoin",
          "Verge",
          "DarkShibe",
          "DevCoin",
          "EarthCoin",
          "E-Gulden",
          "Elacoin",
          "Einsteinium",
          "Emerald",
          "Flappy Coin",
          "FireRoosterCoin",
          "Franko",
          "FeatherCoin",
          "GrandCoin",
          "GlobalCoin",
          "GoldCoin",
          "HunterCoin",
          "Infinite Coin",
          "IXcoin",
          "KrugerCoin",
          "LuckyCoin",
          "Litebar ",
          "LitecoinDark",
          "MegaCoin",
          "MediterraneanCoin",
          "MinCoin",
          "NoirBits",
          "NobleCoin",
          "Namecoin",
          "NyanCoin",
          "RipOffCoin",
          "RonPaulCoin",
          "StableCoin",
          "SmartCoin",
          "SpainCoin",
          "SecureCoin",
          "SysCoin",
          "TigerCoin",
          "TerraCoin",
          "Umbrella",
          "UnbreakableCoin",
          "Unobtanium",
          "UroCoin",
          "ViaCoin",
          "VootCoin",
          "Vertcoin",
          "WorldCoin",
          "JouleCoin",
          "ByteCoin",
          "DigitalNote ",
          "MonaCoin",
          "Sling Coin",
          "Gulden",
          "PesetaCoin",
          "Wild Beast Coin",
          "Flo",
          "ArtByte",
          "BitCredit",
          "Folding Coin",
          "Unitus",
          "CypherPunkCoin",
          "OmniCron",
          "GreenCoin",
          "Unattanium",
          "Cryptonite",
          "Gridmaster",
          "ConSpiracy Coin ",
          "MasterCoin",
          "SoonCoin",
          "1Credit",
          "Quicksilver coin",
          "MarsCoin ",
          "Crypto",
          "Anarchists Prime",
          "BowsCoin",
          "Song Coin",
          "BitZeny",
          "Expanse",
          "Siacoin",
          "MindCoin",
          "I0coin",
          "DogeCoinDark",
          "Revolution VR",
          "HOdlcoin",
          "Gamecredits",
          "Dashcoin",
          "CarpeDiemCoin",
          "Phalanx",
          "SunShotCoin",
          "HempCoin",
          "Adzcoin",
          "VirtaCoin",
          "SoilCoin",
          "YoCoin",
          "AEON",
          "SibCoin",
          "Anti Bitcoin",
          "Francs",
          "BolivarCoin",
          "Clinton",
          "Omni",
          "PizzaCoin",
          "Komodo",
          "Karbo",
          "ZayedCoin",
          "Circuits of Value",
          "DopeCoin",
          "DollarCoin",
          "Shilling",
          "GBR Coin",
          "FujiCoin",
          "ZCoin",
          "LeaCoin",
          "Zurcoin",
          "Elementrem",
          "CashOut",
          "ZClassic",
          "KiloCoin",
          "Hush",
          "ArtexCoin",
          "Kurrent",
          "Cannabis Industry Coin",
          "OsmiumCoin",
          "Bikercoins",
          "HexxCoin",
          "MarxCoin",
          "PacCoin",
          "Solarflarecoin",
          "Citadel",
          "CreativeChain",
          "BeaverCoin",
          "VaultCoin",
          "Zero",
          "Canada eCoin",
          "Zoin",
          "Musicoin",
          "BnrtxCoin",
          "DubaiCoin",
          "EB3coin",
          "Coinonat",
          "Bitcoin Scrypt",
          "BenjiRolls",
          "ParallelCoin",
          "ILCoin",
          "EquiTrader",
          "Quantum Resistant Ledger",
          "Dynamic",
          "Nano",
          "ChanCoin",
          "Dinastycoin",
          "DigitalPrice",
          "Unify",
          "SocialCoin",
          "ArcticCoin",
          "DAS",
          "LeviarCoin",
          "Bitcore",
          "gCn Coin",
          "SmartCash",
          "Onix",
          "Bitcoin Cash",
          "CampusCoin",
          "Sojourn Coin",
          "NewYorkCoin",
          "LiteBitcoin",
          "FrazCoin",
          "Kronecoin",
          "AdCoin",
          "Linx",
          "Sumokoin",
          "BitcoinZ",
          "Elements",
          "VIVO Coin",
          "Bitcoin Gold",
          "Pirl",
          "eBoost",
          "Pura",
          "Innova",
          "Bitdeal",
          "Ellaism",
          "Sakuracoin",
          "GoByte",
          "SHIELD",
          "UltraNote",
          "BitCoal",
          "DaxxCoin",
          "AC3",
          "CHIPS",
          "Lethean",
          "PopularCoin",
          "Photon",
          "Sucre",
          "SparksPay",
          "GunCoin",
          "IrishCoin",
          "Pioneer Coin",
          "UnitedBitcoin",
          "Interzone",
          "1717 Masonic Commemorative Token",
          "TurtleCoin",
          "MUNcoin",
          "Niobio Cash",
          "Bitcoin Private",
          "Skeincoin",
          "ShareChain",
          "Travelflex",
          "KREDS",
          "BitFlip",
          "LottoCoin",
          "LeafCoin",
          "Cerberus",
          "Bitcoin Hush",
          "Crypto Improvement Fund",
          "Callisto Network",
          "Curium",
          "BitTube",
          "Dinero",
          "Poseidon",
          "Aidos Kuneen",
          "Snowgem",
          "Bitrolium",
          "Bitcoin Interest",
          "Alpenschillling",
          "FuturoCoin",
          "Monero Classic",
          "Jumpcoin",
          "Infinex",
          "KEYCO",
          "GINcoin",
          "PlatinCoin",
          "Loki",
          "Newton Coin",
          "MassGrid",
          "PluraCoin",
          "Motion",
          "PlusOneCoin",
          "Axe",
          "HexCoin",
          "Webchain",
          "Ryo",
          "Urals Coin",
          "Qwertycoin",
          "NIX",
          "Project Pai",
          "Azart",
          "Xchange",
          "CrypticCoin",
          "ZestCoin",
          "X-CASH",
          "Actinium",
          "ETHER-1",
          "Bitcoin SV",
          "Bitcoiin2Gen",
          "FREDEnergy",
          "C25 Coin",
          "Aquachain",
          "Universal Molecule",
          "Lithium",
          "Smart Bitcoin",
          "PirateCash",
          "Exosis",
          "Block-Logic",
          "Beam",
          "Bithereum",
          "SLICE",
          "Vidulum",
          "BlockStamp",
          "BLAST",
          "Bitcoin Rhodium",
          "GlobalToken",
          "Boolberry",
          "SolarCoin",
          "UFO Coin",
          "BlakeCoin",
          "FantomCoin ",
          "Crypto Escudo",
          "Crown Coin",
          "Quazar Coin",
          "SmileyCoin",
          "Groestlcoin",
          "Bata",
          "Pakcoin",
          "Dotcoin",
          "JoinCoin",
          "Vollar",
          "Reality Clash",
          "iOlite",
          "Beldex",
          "Horizen"
         ],
         "legendgroup": "3",
         "marker": {
          "color": [
           3,
           3,
           3,
           3,
           3,
           3,
           3,
           3,
           3,
           3,
           3,
           3,
           3,
           3,
           3,
           3,
           3,
           3,
           3,
           3,
           3,
           3,
           3,
           3,
           3,
           3,
           3,
           3,
           3,
           3,
           3,
           3,
           3,
           3,
           3,
           3,
           3,
           3,
           3,
           3,
           3,
           3,
           3,
           3,
           3,
           3,
           3,
           3,
           3,
           3,
           3,
           3,
           3,
           3,
           3,
           3,
           3,
           3,
           3,
           3,
           3,
           3,
           3,
           3,
           3,
           3,
           3,
           3,
           3,
           3,
           3,
           3,
           3,
           3,
           3,
           3,
           3,
           3,
           3,
           3,
           3,
           3,
           3,
           3,
           3,
           3,
           3,
           3,
           3,
           3,
           3,
           3,
           3,
           3,
           3,
           3,
           3,
           3,
           3,
           3,
           3,
           3,
           3,
           3,
           3,
           3,
           3,
           3,
           3,
           3,
           3,
           3,
           3,
           3,
           3,
           3,
           3,
           3,
           3,
           3,
           3,
           3,
           3,
           3,
           3,
           3,
           3,
           3,
           3,
           3,
           3,
           3,
           3,
           3,
           3,
           3,
           3,
           3,
           3,
           3,
           3,
           3,
           3,
           3,
           3,
           3,
           3,
           3,
           3,
           3,
           3,
           3,
           3,
           3,
           3,
           3,
           3,
           3,
           3,
           3,
           3,
           3,
           3,
           3,
           3,
           3,
           3,
           3,
           3,
           3,
           3,
           3,
           3,
           3,
           3,
           3,
           3,
           3,
           3,
           3,
           3,
           3,
           3,
           3,
           3,
           3,
           3,
           3,
           3,
           3,
           3,
           3,
           3,
           3,
           3,
           3,
           3,
           3,
           3,
           3,
           3,
           3,
           3,
           3,
           3,
           3,
           3,
           3,
           3,
           3,
           3,
           3,
           3,
           3,
           3,
           3,
           3,
           3,
           3,
           3,
           3,
           3,
           3,
           3,
           3,
           3,
           3,
           3,
           3,
           3,
           3,
           3,
           3,
           3,
           3,
           3,
           3,
           3,
           3,
           3,
           3,
           3,
           3,
           3,
           3,
           3,
           3,
           3,
           3,
           3,
           3,
           3,
           3,
           3,
           3,
           3,
           3,
           3,
           3,
           3,
           3,
           3,
           3,
           3,
           3,
           3,
           3,
           3,
           3,
           3,
           3,
           3,
           3,
           3,
           3,
           3,
           3,
           3,
           3,
           3,
           3,
           3,
           3,
           3,
           3,
           3,
           3,
           3,
           3,
           3,
           3,
           3,
           3,
           3,
           3,
           3,
           3,
           3,
           3,
           3,
           3,
           3,
           3,
           3,
           3,
           3,
           3,
           3,
           3,
           3,
           3,
           3,
           3
          ],
          "coloraxis": "coloraxis",
          "symbol": "diamond"
         },
         "mode": "markers",
         "name": "3",
         "scene": "scene",
         "showlegend": true,
         "type": "scatter3d",
         "x": [
          -0.20342825684806656,
          -0.2719535517615297,
          -0.280674967040777,
          -0.2602252036775673,
          -0.27187569321471333,
          -0.20692754385428286,
          -0.03789446301282776,
          -0.2814606366387673,
          -0.27137747135082685,
          -0.20367419026657693,
          -0.28137232424953085,
          -0.20367419032048903,
          -0.171210061087539,
          -0.281540448787884,
          -0.20133924636567163,
          -0.2797708965837612,
          -0.2814388314758356,
          -0.045147152310393505,
          -0.23588800199694554,
          -0.28108098237980866,
          -0.27153042866914023,
          -0.2815397690511519,
          -0.2814407222645208,
          -0.28147523898486365,
          -0.27146187764717855,
          0.02415846858668223,
          -0.2815397690058659,
          0.05387441579983268,
          -0.10952366094966873,
          -0.28125290921605983,
          -0.28153976913524736,
          -0.27853718149352136,
          -0.2812723029368563,
          -0.28153994634413393,
          -0.20367419026835476,
          -0.28152409248287963,
          -0.26593823049761045,
          -0.2694109162335056,
          -0.2806388397324374,
          -0.28096827612343395,
          -0.19437032670969664,
          0.9612953948818062,
          -0.2033848766517814,
          -0.2794621390904938,
          -0.2812746414646702,
          -0.28152461908896004,
          -0.2815397691476669,
          -0.2810163819231997,
          -0.3626533167046941,
          -0.28146014419623516,
          -0.2036741903524105,
          -0.24908098062528833,
          -0.2034720294063862,
          -0.27694807040274816,
          -0.281539769023522,
          -0.28152462168652365,
          -0.2812075741468582,
          -0.28118866212014626,
          -0.2700315178884173,
          -0.2815397690394828,
          -0.19594607512431492,
          -0.2030769319640723,
          -0.20335955174445144,
          -0.20367419026839464,
          -0.2036429376680366,
          -0.2036714340613445,
          -0.27151386618315554,
          -0.28122217417105555,
          -0.2715304286318985,
          -0.2693880023445271,
          -0.2798989449708686,
          -0.20313648468043954,
          2.3848311212593636,
          -0.04553642365993086,
          -0.2806042424332412,
          -0.20367419026551295,
          -0.2758461612412909,
          -0.27965323717013285,
          -0.2815372733528049,
          -0.2794508483942604,
          -0.27066737049742906,
          -0.2989327909399596,
          -0.2253486896492111,
          -0.1934770716080439,
          -0.2518152322843783,
          -0.2814006630898246,
          -0.21829295655052794,
          -0.20367419026373956,
          -0.327453004431275,
          -0.2815397691512082,
          -0.27153042869042127,
          -0.2815312707115816,
          -0.20350322219423875,
          -0.28153872200918906,
          -0.27153042869042127,
          -0.2710883979101029,
          -0.2803631330271261,
          -0.20347188130498,
          -0.27131280105447775,
          -0.28109302321043333,
          -0.28050245402497886,
          -0.27328683563306116,
          0.3261825010752694,
          -0.2713127481266038,
          -0.20338613699710262,
          -0.2815397982636532,
          -0.27865889020030027,
          -0.3417977496627394,
          -0.28058172455069197,
          -0.14028423649481692,
          0.0945649731999899,
          -0.20367419029034084,
          -0.27153043262209103,
          -0.27003152666684105,
          -0.27091158405248383,
          -0.2815398062440384,
          -0.2884425523398107,
          -0.2815310380068275,
          -0.4422593101752025,
          -0.23929938542583953,
          -0.20367419033822307,
          -0.28144962759515163,
          -0.2713431155242541,
          -0.20367419026803343,
          -0.2815313122785472,
          -0.2715115257600945,
          0.10948044717734483,
          -0.1401769246535107,
          -0.2035885343351767,
          -0.18065185650446494,
          -0.2799368313380277,
          -0.20354926007922752,
          -0.2813872306187031,
          -0.281539769157415,
          -0.27003151781748086,
          -0.29981391547867237,
          -0.20367419381057741,
          -0.04870787986227906,
          -0.27307131486984454,
          -0.20367419044108126,
          -0.20695181877668528,
          -0.27884687846679795,
          -0.2070288281066339,
          -0.2602264083773148,
          -0.27068859755142793,
          -0.14027081784429704,
          -0.281527504336175,
          -0.14015587155428663,
          -0.2805259244352618,
          -0.2715304288103754,
          -0.26416403228812213,
          -0.28153976903770944,
          -0.26031069511884924,
          -0.23137847394299302,
          -0.28149703242774754,
          -0.27111358721775713,
          -0.20693387358253035,
          -0.28017007015237266,
          -0.28029724285792623,
          -0.27343081558989635,
          -0.27153042900431645,
          -0.24696127085473257,
          -0.28066047618465295,
          -0.21163995672065572,
          -0.2815397690394828,
          -0.28126161196157423,
          -0.28153976900401434,
          -0.18559671217436674,
          -0.28135219088309865,
          -0.25951410858703233,
          -0.3501087216540203,
          -0.12604759922428652,
          -0.26693454025530955,
          -0.11546111520439305,
          -0.2710483757554984,
          -0.281291009303855,
          -0.2814688751572698,
          -0.2711731672850901,
          -0.27149444667658695,
          -0.14008995825627674,
          -0.28730423784485903,
          1.9553267080319516,
          -0.20063526076070368,
          -0.2698502519350245,
          -0.20342731830362856,
          -0.2815397707933942,
          -0.28153313122834106,
          1.6802932626797444,
          -0.28153977077565984,
          -0.2814066444067336,
          -0.2813003303741928,
          -0.28109190590515243,
          -0.28107722995298706,
          -0.14016150220875026,
          -0.1355343165155851,
          -0.23445138131121643,
          -0.26874370040272133,
          -0.20679283799324769,
          -0.2880545265088199,
          -0.2801680591179324,
          -0.2691267353515928,
          -0.26871339233096836,
          -0.2815397695342666,
          -0.2732558174129153,
          -0.2815397691886272,
          -0.26872084078177283,
          -0.18776172039199074,
          0.12423274495840135,
          -0.14022250335910563,
          -0.2662849930835671,
          -0.27042861394961326,
          -0.20367419030098136,
          -0.2544078997693278,
          -0.22715699300819336,
          0.3920999419470504,
          -0.2714724126921773,
          -0.2686931965256955,
          -0.26468808205066635,
          -0.2809158111651237,
          -0.2714141220334953,
          -0.2033975435879303,
          -0.31513698137849216,
          -0.08707127595176568,
          0.5887113453389813,
          -0.2961821178614254,
          -0.13844688821425344,
          -0.2070288281066339,
          -0.26592433953715017,
          -0.14435506414792118,
          -0.28704843716658046,
          -0.2612581331040571,
          -0.28136902759555865,
          -0.08274522230843066,
          -0.2815398062440384,
          -0.26880085112131064,
          -0.2070288281066339,
          -0.2686317487264783,
          -0.2700339617429675,
          -0.27153042867091365,
          -0.1391860871123331,
          -0.2688008512427897,
          -0.2814839319470249,
          -0.28063754936421453,
          -0.20702882821852947,
          -0.20604994006179,
          -0.20702882810893944,
          -0.29954267131566725,
          -0.27109416134615855,
          -0.14006450959027622,
          -0.2114897922686234,
          -0.28048172981219194,
          -0.21340284909099208,
          -0.29982189798517866,
          -0.14028308105894394,
          0.35696728799497435,
          0.42621316452459257,
          -0.3753372838185941,
          -0.13260071463488685,
          -0.2603773173229584,
          -0.2512825828013021,
          -0.27146193191603085,
          -0.2815203345884718,
          -0.26024744365410063,
          -0.3015869352937943,
          -0.20731360847436425,
          1.7224207876208368,
          -0.2700900278164689,
          -0.17486540224433247,
          -0.2714616184467626,
          -0.2603549853166312,
          -0.14892958186661184,
          -0.04870787969078935,
          -0.3388015396508646,
          -0.2997306915345793,
          -0.27343081480740716,
          -0.20342736048793053,
          -0.273430814960513,
          -0.11467111030642944,
          -0.29624821809256574,
          -0.3365560313107156,
          -0.2609482920594691,
          -0.26075255072036496,
          -0.20367419030098105,
          -0.020506617327468182,
          -0.3168899771699401,
          -0.281055716801339,
          -0.20653925028233966,
          -0.20668379774355908,
          -0.251725232350075,
          -0.3420696678208437,
          -0.20367419044994836,
          -0.2029567988301511,
          -0.16610717117460153,
          -0.20251342809658862,
          -0.2715304286646181,
          -0.28077767501567075,
          -0.21633202292315865,
          -0.2606495364176739,
          -0.1402842364947335,
          -0.2708364719316512,
          -0.20335884478924843,
          -0.14028423649481692,
          0.12430727915944927,
          -0.23556219354826094,
          -0.2814704556628858,
          -0.28058380505619424,
          -0.28153977058058377,
          -0.1943246040353214,
          -0.3899463521317373,
          -0.27309487764484364,
          -0.27343081655658996,
          -0.1268370824682776,
          -0.2069287307593546
         ],
         "y": [
          -1.4166498698399894,
          -2.0981545675498907,
          -1.0566610586569143,
          -2.151618684784222,
          -2.0981617126058216,
          -1.938778492098835,
          -1.7476295119949175,
          -1.0565889357323903,
          -0.8230053102767534,
          -1.416627293632188,
          -1.0565970422472994,
          -1.4166272932981692,
          -1.735391492132977,
          -1.0565774526178384,
          -1.416841637098001,
          -1.0567440495353566,
          -1.0565909365672574,
          -0.786968522709156,
          -1.1492047655178543,
          -1.056623787282462,
          -0.8229912689520454,
          -1.0565816713925897,
          -1.0565907638500813,
          -1.0565875953381332,
          -0.8229975618930709,
          -1.7533259511010195,
          -1.0565816716731662,
          -1.4402697455953415,
          -1.0723724154183902,
          -1.0566080048817226,
          -1.0565816708715638,
          -1.0568573026871084,
          -1.0566062244403749,
          -1.0565805729485906,
          -1.4166272936211746,
          -1.0565831106612655,
          -1.5505717993359314,
          -1.0576950716854063,
          -1.0566643752556986,
          -1.0566341333323976,
          -1.7332654263721547,
          -1.1706715944662966,
          -1.4166538520943792,
          -1.056772392967316,
          -1.0566060098959857,
          -1.0565830624264163,
          -1.0565816707946165,
          -1.0566297176001964,
          -2.232263353832069,
          -1.0565889810571456,
          -1.4166272931003947,
          -1.0595611904607367,
          -1.4166458515671951,
          -1.057003180937733,
          -1.0565816715637746,
          -1.0565830619752579,
          -1.0566121641124502,
          -1.056613902367683,
          -2.15626787425483,
          -1.0565816714648872,
          -1.417336716522251,
          -1.4166821207970353,
          -1.4166561766657484,
          -1.4166272936209257,
          -1.4166301617377668,
          -1.4166275466634157,
          -0.8229927895973922,
          -1.0566108263034593,
          -0.8229912691827824,
          -1.4374657302454954,
          -1.0567322946670843,
          -1.4166766539448366,
          -2.506667323017644,
          -2.283564139344928,
          -1.0566675508696166,
          -1.4166272936387807,
          -1.0571043204513895,
          -1.056754851445439,
          -1.0565819007650548,
          -1.0567734305819796,
          -1.0575797351164513,
          -2.227746862682308,
          -2.166188861940508,
          -1.7333474266643822,
          -1.132068486728494,
          -1.0565944414291604,
          -1.062387551390756,
          -1.4166272936497681,
          -2.2242490667846115,
          -1.0565816707726767,
          -0.8229912688201958,
          -1.0565824518226705,
          -1.4166429881035176,
          -1.056580771938574,
          -0.8229912688201958,
          -0.8230318467605057,
          -2.1975484950024478,
          -1.4166458648081246,
          -0.8230112469281297,
          -1.0566226801930327,
          -1.0566768933654591,
          -2.0980321733713447,
          -2.2846386509673744,
          -0.8230112518409733,
          -1.4166537363960623,
          -1.0565814904023638,
          -1.0568461309334285,
          -2.2011629956374112,
          -1.0566696182151285,
          -2.274866502201153,
          -1.444005087309605,
          -1.416627293484956,
          -0.822991244460974,
          -2.156267819866852,
          -0.8230480775264458,
          -1.0565814409587473,
          -2.225407233215751,
          -1.0565824713690695,
          -2.168598133941343,
          -2.145527326724054,
          -1.4166272931882946,
          -1.0565899463613315,
          -0.8230084640497888,
          -1.416627293623165,
          -1.0565824480069015,
          -0.822993004175043,
          -1.170006082785913,
          -2.2748763534017957,
          -1.4166351566645756,
          -1.734524754339966,
          -1.056728817448335,
          -1.4166387619883845,
          -1.056595674227015,
          -1.0565816707342206,
          -2.156267874694329,
          -2.154574034731616,
          -1.4166272716748272,
          -0.7866416531391436,
          -2.0980519578401187,
          -1.4166272925510208,
          -1.9387762636876102,
          -1.0568287678434207,
          -1.9387691943156729,
          -0.8240289604186797,
          -0.8230685458836642,
          -2.274867733990899,
          -1.0565827975491218,
          -2.274878285890819,
          -2.1975335515338137,
          -0.8229912680770035,
          -0.8236664138120373,
          -1.0565816714758747,
          -2.1516108347612124,
          -1.4719197695064272,
          -1.0565855948298695,
          -0.8230295239422613,
          -1.9387779110800296,
          -1.0567074074637273,
          -2.197554544132463,
          -2.0980189514282688,
          -0.8229912668754136,
          -2.1584040355651846,
          -1.0566623465121778,
          -0.45663055645228046,
          -1.0565816714648872,
          -1.0566072058220608,
          -1.0565816716846366,
          -1.4182867592287034,
          -1.0565988903816355,
          -2.151683961396202,
          -2.211714249926156,
          -2.243124420597991,
          -2.319130071222205,
          -2.277145216031649,
          -0.8230355200251035,
          -1.056604507354148,
          -1.056588178860905,
          -0.8230240647326876,
          -0.8229945720821875,
          -2.274884336345292,
          -2.1871437925713284,
          -1.26192139340748,
          -1.4747419098438297,
          -0.8231454956516825,
          -1.4166499559973378,
          -1.0565816605982792,
          -1.05658216737692,
          -1.2366757900288798,
          -1.0565816607081537,
          -1.0565938921708358,
          -1.056603650989517,
          -1.056622783953743,
          -1.0566241311900382,
          -2.274877768311345,
          -1.9453320848922375,
          -0.8263950655318378,
          -1.5503142636237044,
          -1.938790857948979,
          -2.225442852193777,
          -1.0567075920744813,
          -0.8232119217981679,
          -1.55031704567657,
          -1.056581668399383,
          -2.098035017961996,
          -1.056581670540841,
          -1.5503163620598506,
          -1.7338720824866187,
          -2.299147950777282,
          -2.2748721692996026,
          -2.0986748267660666,
          -0.8230924086073196,
          -1.4166272934190314,
          -2.1521526960768873,
          -1.0615738966994857,
          -1.1853535096341086,
          -0.8229965947680222,
          -1.5503188998891129,
          -1.550686559815526,
          -1.0566389496472242,
          -0.8230019457518506,
          -1.4166526892925753,
          -1.143553850428224,
          -0.3397493453628482,
          -2.3417766717472728,
          -1.5226422115401816,
          -2.2750351653186,
          -1.9387691943156729,
          -0.8319513568520877,
          -1.069174968733938,
          -2.2255352107002704,
          -1.4382120323177936,
          -1.0565973451363069,
          -1.074830593568085,
          -1.0565814409587473,
          -1.5503090172017744,
          -1.9387691943156729,
          -0.8232573594031868,
          -2.098330713445631,
          -0.822991268941058,
          -2.2749673004837696,
          -1.5503090164491329,
          -1.056586797248669,
          -2.168520368809142,
          -1.9387691936224072,
          -1.9388590546330204,
          -1.9387691943013892,
          -2.1545989316322163,
          -0.8230313169581508,
          -2.274886672890249,
          -0.4566443416790994,
          -2.1975376083754634,
          -2.1209776529352147,
          -2.1545733020642714,
          -2.2748666019737684,
          -2.232345738075601,
          -2.3268683500944767,
          -2.2663691372332466,
          -2.2755718304468546,
          -1.2535104853214176,
          -2.245051280410953,
          -0.822997556878776,
          -1.056583455514188,
          -2.151616624235617,
          -2.1356894183630843,
          -0.6805991605236527,
          -2.357690874951486,
          -1.4374012840929076,
          -1.4192718860278142,
          -0.8229975856116115,
          -1.2535125345315739,
          -1.9441025592908225,
          -0.7866416542016318,
          -2.178766250647755,
          -2.154581673920684,
          -2.098018956276294,
          -1.416649952124865,
          -2.098018955327705,
          -2.277217671799895,
          -1.522636143725196,
          -2.226751193317134,
          -1.736917064571109,
          -1.7369350342759229,
          -1.4166272934190343,
          -0.18051451546651232,
          -2.293157392429517,
          -1.056626105857246,
          -1.9388141344050105,
          -1.9388008676171682,
          -1.1320767475411817,
          -2.0443431701910253,
          -1.4166272924960837,
          -1.4166931487029402,
          -0.25848704721239707,
          -1.41673384852372,
          -0.8229912689800637,
          -1.056650569186493,
          -1.5551255550650218,
          -1.7369444153761926,
          -2.2748665022016654,
          -1.0575642117904527,
          -1.4166562415634596,
          -2.274866502201153,
          -1.0938374438874987,
          -1.1492346741484067,
          -1.0565880345299516,
          -1.0566694261661895,
          -1.0565816619167756,
          -1.733269624087789,
          -2.195155441910561,
          -2.0980497948218373,
          -2.0980189454389806,
          -2.2761009212193475,
          -1.9387783831422523
         ],
         "z": [
          0.14558364306427277,
          0.2474143262850865,
          -0.08406919710656616,
          0.2933557568597996,
          0.24741229388391342,
          0.18505209763670985,
          0.20312976245713502,
          -0.08404869987301003,
          0.027772583610000515,
          0.14559005918792134,
          -0.08405100404802697,
          0.14559005901633187,
          0.2066078633167261,
          -0.0840488027928011,
          0.14552914324373814,
          -0.08409278381709007,
          -0.08404926918472601,
          0.09622068510945372,
          0.11043684232240965,
          -0.08405860460571885,
          0.027776574018408884,
          -0.08404663547118774,
          -0.08404921940748307,
          -0.08404831887620687,
          0.027774785647925737,
          0.20151092507933233,
          -0.0840466353270524,
          0.1388709046043879,
          -0.08853433986722956,
          -0.0840541191523585,
          -0.08404663573884473,
          -0.08412496977252759,
          -0.08405361326350633,
          -0.08404719975452359,
          0.14559005918226336,
          -0.08404704435500787,
          0.16301574141049482,
          -0.08436306595227971,
          -0.08407013953113635,
          -0.08406154507041243,
          0.2072120890954807,
          -0.1164707512467646,
          0.14558251134368244,
          -0.08410083889866843,
          -0.08405355218673277,
          -0.08404703056043279,
          -0.08404663577837357,
          -0.08406028989419448,
          0.36556488114573643,
          -0.08404871265745832,
          0.1455900589147329,
          -0.08489351903849525,
          0.14558478502097086,
          -0.0841664273749361,
          -0.08404663538324816,
          -0.0840470306044879,
          -0.08405530317564817,
          -0.08405579542915985,
          0.28874695572958015,
          -0.08404663543404768,
          0.14538843986358974,
          0.14557447740664273,
          0.14558185053746958,
          0.14559005918213583,
          0.14558924341099264,
          0.14558998729057598,
          0.02777614204889391,
          -0.0840549209923694,
          0.027776574136941134,
          0.1314218877216498,
          -0.08408944332529662,
          0.14557603105411066,
          0.20543051369340148,
          0.26883594525686105,
          -0.08407104231971438,
          0.14559005919130802,
          -0.08419518208171531,
          -0.08409585288896121,
          -0.08404670043801037,
          -0.08410113285513149,
          -0.0843302846576346,
          0.28800068565769543,
          0.2372812200431744,
          0.20718878572410182,
          0.12015070703302709,
          -0.08405026438756504,
          -0.08569670135476679,
          0.1455900591969523,
          0.3054810054844984,
          -0.0840466357896442,
          0.027776573950676273,
          -0.08404685702597987,
          0.1455855987913861,
          -0.0840471861702363,
          0.027776573950676273,
          0.027765042067942818,
          0.2663716086673581,
          0.14558478097081393,
          0.02777089645873751,
          -0.08405829140183194,
          -0.08407369864248121,
          0.24744910945271628,
          0.31819303747413535,
          0.02777089510638646,
          0.14558254422409506,
          -0.08404672844795183,
          -0.08412179407421716,
          0.24334351033193768,
          -0.0840716296554076,
          0.27130782238298135,
          0.1378093488653695,
          0.14559005911228648,
          0.027776561437063432,
          0.28874692778984906,
          0.02776042898430654,
          -0.08404675384770713,
          0.2777020071850496,
          -0.08404686405138222,
          0.23570794800053246,
          0.29483256903645394,
          0.14559005895988805,
          -0.08404898707582535,
          0.0277716872924631,
          0.145590059183286,
          -0.08404685594154637,
          0.027776080848697877,
          0.01611297818243527,
          0.2713050228351272,
          0.14558782451407976,
          0.20685418935270644,
          -0.08408845455771481,
          0.14558679990583087,
          -0.08405061497098969,
          -0.08404663580939964,
          0.2887469559553556,
          0.22206746006440567,
          0.14559004790817226,
          0.09631357953846452,
          0.2474434868045428,
          0.1455900586325134,
          0.1850527309309761,
          -0.08411694546970071,
          0.18505473998238578,
          0.02748166731253202,
          0.027754610800324996,
          0.2713074722971194,
          -0.08404695529666786,
          0.27130447350776377,
          0.2663758559547568,
          0.027776573568889695,
          0.02758382746159829,
          -0.08404663542840328,
          0.2933579861432832,
          0.17275722838716934,
          -0.08404775026415555,
          0.027765693714207083,
          0.18505226279205436,
          -0.08408236915751159,
          0.2663698899521153,
          0.2474528631692158,
          0.02777657295161921,
          0.34997331731818904,
          -0.08406959743465457,
          0.016019053520630346,
          -0.08404663543404768,
          -0.08405389219414676,
          -0.08404663532115984,
          0.14511843220775186,
          -0.08405152934118444,
          0.29333720491798104,
          0.2715601342637639,
          0.3299910023703086,
          0.3536346285620627,
          0.27066021520032957,
          0.027763997572063766,
          -0.08405312517162512,
          -0.0840484852504103,
          0.027767253412985405,
          0.027775635317181177,
          0.2713027537692185,
          0.381092957977718,
          -0.1424040758854734,
          0.1719551588639546,
          0.027732734729161965,
          0.14558361857913732,
          -0.08404664101634944,
          -0.08404686823640568,
          -0.1352277509103375,
          -0.08404664095990548,
          -0.08405010843911133,
          -0.08405288236798522,
          -0.08405831992321867,
          -0.08405870279555906,
          0.2713046200390482,
          0.18318944206200205,
          0.026809230294815946,
          0.16308893343392614,
          0.18504858337421506,
          0.277691883487114,
          -0.08408242162221394,
          0.027713863595785072,
          0.16308814264192042,
          -0.08404663700883251,
          0.2474482987393208,
          -0.08404663590874083,
          0.16308833703531778,
          0.20703967751007615,
          0.26440650981975045,
          0.2713062118971175,
          0.24726638566351852,
          0.02774782640766381,
          0.14559005907842024,
          0.2932039869296886,
          -0.0854654242339152,
          0.06539484647406615,
          0.02777506048031553,
          0.16308761590193355,
          0.16298312608490106,
          -0.08406291375112923,
          0.027773539751172374,
          0.145582841808724,
          0.05217163385297272,
          0.11163254495808152,
          0.25228379207573653,
          0.09336471357900822,
          0.2712598870702313,
          0.18505473998238578,
          0.06444948781873104,
          -0.08762562382512143,
          0.2776656365305803,
          0.13120978653190035,
          -0.0840510899159304,
          -0.089232974829281,
          -0.08404675384770713,
          0.16309042438002028,
          0.18505473998238578,
          0.027700949325362344,
          0.24736421023351332,
          0.02777657401276451,
          0.2712791678197478,
          0.16309042399337959,
          -0.0840480921353252,
          0.2944172727986645,
          0.18505473962624738,
          0.18502920206534074,
          0.1850547399750479,
          0.2220603821485178,
          0.027765192045584357,
          0.2713020900564291,
          0.016015136123069464,
          0.2663747028944161,
          0.26305570454338256,
          0.22206766837738157,
          0.27130778893006763,
          0.3086868099306492,
          0.2565277557366527,
          0.29800833276979344,
          0.2711073658852507,
          0.10721089496285596,
          0.2633367016966963,
          0.02777478704664215,
          -0.08404714245437353,
          0.29335632710690324,
          0.2699923931263587,
          0.07637360329016098,
          0.2730632425602222,
          0.13144020193611922,
          0.14483847160993515,
          0.027774778845962973,
          0.10721031191275192,
          0.183538979567203,
          0.09631358008427704,
          0.25683949654095467,
          0.22206528852732385,
          0.2474528656597022,
          0.14558361967965897,
          0.24745286517240075,
          0.27063957062498745,
          0.09336643808906561,
          0.22088570185023895,
          0.18907227907856666,
          0.18906717295178266,
          0.14559005907842146,
          0.04923017488143011,
          0.30658713475218247,
          -0.08405926415341464,
          0.18504196629660477,
          0.1850457386305992,
          0.12014835850826566,
          0.184137522221805,
          0.14559005860429144,
          0.14557134322683676,
          -0.025610608175777712,
          0.14555977579501797,
          0.027776574032802134,
          -0.08406707539354365,
          0.1617215731971914,
          0.18906444578081283,
          0.2713078223832452,
          -0.08432587306912917,
          0.14558183209412842,
          0.27130782238298135,
          -0.09463482633694752,
          0.11042834237666962,
          -0.08404844361917696,
          -0.08407157593599958,
          -0.08404664033902265,
          0.20721089648642002,
          0.24800233128159727,
          0.2474441015297856,
          0.24745286009244974,
          0.2709569995760219,
          0.18505212860118306
         ]
        },
        {
         "customdata": [
          [
           "SHA-256 + Hive"
          ],
          [
           "ECC 256K1"
          ]
         ],
         "hovertemplate": "<b>%{hovertext}</b><br><br>Class=%{marker.color}<br>PC1=%{x}<br>PC2=%{y}<br>PC3=%{z}<br>Algorithm=%{customdata[0]}<extra></extra>",
         "hovertext": [
          "LitecoinCash",
          "Acute Angle Cloud"
         ],
         "legendgroup": "1",
         "marker": {
          "color": [
           1,
           1
          ],
          "coloraxis": "coloraxis",
          "symbol": "square"
         },
         "mode": "markers",
         "name": "1",
         "scene": "scene",
         "showlegend": true,
         "type": "scatter3d",
         "x": [
          0.09587128235550454,
          0.1128756140348761
         ],
         "y": [
          2.667875907828556,
          0.9029548752471462
         ],
         "z": [
          21.2237174632324,
          25.942566364389144
         ]
        },
        {
         "customdata": [
          [
           "TRC10"
          ]
         ],
         "hovertemplate": "<b>%{hovertext}</b><br><br>Class=%{marker.color}<br>PC1=%{x}<br>PC2=%{y}<br>PC3=%{z}<br>Algorithm=%{customdata[0]}<extra></extra>",
         "hovertext": [
          "BitTorrent"
         ],
         "legendgroup": "2",
         "marker": {
          "color": [
           2
          ],
          "coloraxis": "coloraxis",
          "symbol": "x"
         },
         "mode": "markers",
         "name": "2",
         "scene": "scene",
         "showlegend": true,
         "type": "scatter3d",
         "x": [
          32.057660024325365
         ],
         "y": [
          -2.2560183537120344
         ],
         "z": [
          -0.536685169168685
         ]
        }
       ],
       "layout": {
        "coloraxis": {
         "colorbar": {
          "title": {
           "text": "Class"
          }
         },
         "colorscale": [
          [
           0,
           "#0d0887"
          ],
          [
           0.1111111111111111,
           "#46039f"
          ],
          [
           0.2222222222222222,
           "#7201a8"
          ],
          [
           0.3333333333333333,
           "#9c179e"
          ],
          [
           0.4444444444444444,
           "#bd3786"
          ],
          [
           0.5555555555555556,
           "#d8576b"
          ],
          [
           0.6666666666666666,
           "#ed7953"
          ],
          [
           0.7777777777777778,
           "#fb9f3a"
          ],
          [
           0.8888888888888888,
           "#fdca26"
          ],
          [
           1,
           "#f0f921"
          ]
         ]
        },
        "legend": {
         "title": {
          "text": "Class"
         },
         "tracegroupgap": 0,
         "x": 0,
         "y": 1
        },
        "margin": {
         "t": 60
        },
        "scene": {
         "domain": {
          "x": [
           0,
           1
          ],
          "y": [
           0,
           1
          ]
         },
         "xaxis": {
          "title": {
           "text": "PC1"
          }
         },
         "yaxis": {
          "title": {
           "text": "PC2"
          }
         },
         "zaxis": {
          "title": {
           "text": "PC3"
          }
         }
        },
        "template": {
         "data": {
          "bar": [
           {
            "error_x": {
             "color": "#2a3f5f"
            },
            "error_y": {
             "color": "#2a3f5f"
            },
            "marker": {
             "line": {
              "color": "#E5ECF6",
              "width": 0.5
             },
             "pattern": {
              "fillmode": "overlay",
              "size": 10,
              "solidity": 0.2
             }
            },
            "type": "bar"
           }
          ],
          "barpolar": [
           {
            "marker": {
             "line": {
              "color": "#E5ECF6",
              "width": 0.5
             },
             "pattern": {
              "fillmode": "overlay",
              "size": 10,
              "solidity": 0.2
             }
            },
            "type": "barpolar"
           }
          ],
          "carpet": [
           {
            "aaxis": {
             "endlinecolor": "#2a3f5f",
             "gridcolor": "white",
             "linecolor": "white",
             "minorgridcolor": "white",
             "startlinecolor": "#2a3f5f"
            },
            "baxis": {
             "endlinecolor": "#2a3f5f",
             "gridcolor": "white",
             "linecolor": "white",
             "minorgridcolor": "white",
             "startlinecolor": "#2a3f5f"
            },
            "type": "carpet"
           }
          ],
          "choropleth": [
           {
            "colorbar": {
             "outlinewidth": 0,
             "ticks": ""
            },
            "type": "choropleth"
           }
          ],
          "contour": [
           {
            "colorbar": {
             "outlinewidth": 0,
             "ticks": ""
            },
            "colorscale": [
             [
              0,
              "#0d0887"
             ],
             [
              0.1111111111111111,
              "#46039f"
             ],
             [
              0.2222222222222222,
              "#7201a8"
             ],
             [
              0.3333333333333333,
              "#9c179e"
             ],
             [
              0.4444444444444444,
              "#bd3786"
             ],
             [
              0.5555555555555556,
              "#d8576b"
             ],
             [
              0.6666666666666666,
              "#ed7953"
             ],
             [
              0.7777777777777778,
              "#fb9f3a"
             ],
             [
              0.8888888888888888,
              "#fdca26"
             ],
             [
              1,
              "#f0f921"
             ]
            ],
            "type": "contour"
           }
          ],
          "contourcarpet": [
           {
            "colorbar": {
             "outlinewidth": 0,
             "ticks": ""
            },
            "type": "contourcarpet"
           }
          ],
          "heatmap": [
           {
            "colorbar": {
             "outlinewidth": 0,
             "ticks": ""
            },
            "colorscale": [
             [
              0,
              "#0d0887"
             ],
             [
              0.1111111111111111,
              "#46039f"
             ],
             [
              0.2222222222222222,
              "#7201a8"
             ],
             [
              0.3333333333333333,
              "#9c179e"
             ],
             [
              0.4444444444444444,
              "#bd3786"
             ],
             [
              0.5555555555555556,
              "#d8576b"
             ],
             [
              0.6666666666666666,
              "#ed7953"
             ],
             [
              0.7777777777777778,
              "#fb9f3a"
             ],
             [
              0.8888888888888888,
              "#fdca26"
             ],
             [
              1,
              "#f0f921"
             ]
            ],
            "type": "heatmap"
           }
          ],
          "heatmapgl": [
           {
            "colorbar": {
             "outlinewidth": 0,
             "ticks": ""
            },
            "colorscale": [
             [
              0,
              "#0d0887"
             ],
             [
              0.1111111111111111,
              "#46039f"
             ],
             [
              0.2222222222222222,
              "#7201a8"
             ],
             [
              0.3333333333333333,
              "#9c179e"
             ],
             [
              0.4444444444444444,
              "#bd3786"
             ],
             [
              0.5555555555555556,
              "#d8576b"
             ],
             [
              0.6666666666666666,
              "#ed7953"
             ],
             [
              0.7777777777777778,
              "#fb9f3a"
             ],
             [
              0.8888888888888888,
              "#fdca26"
             ],
             [
              1,
              "#f0f921"
             ]
            ],
            "type": "heatmapgl"
           }
          ],
          "histogram": [
           {
            "marker": {
             "pattern": {
              "fillmode": "overlay",
              "size": 10,
              "solidity": 0.2
             }
            },
            "type": "histogram"
           }
          ],
          "histogram2d": [
           {
            "colorbar": {
             "outlinewidth": 0,
             "ticks": ""
            },
            "colorscale": [
             [
              0,
              "#0d0887"
             ],
             [
              0.1111111111111111,
              "#46039f"
             ],
             [
              0.2222222222222222,
              "#7201a8"
             ],
             [
              0.3333333333333333,
              "#9c179e"
             ],
             [
              0.4444444444444444,
              "#bd3786"
             ],
             [
              0.5555555555555556,
              "#d8576b"
             ],
             [
              0.6666666666666666,
              "#ed7953"
             ],
             [
              0.7777777777777778,
              "#fb9f3a"
             ],
             [
              0.8888888888888888,
              "#fdca26"
             ],
             [
              1,
              "#f0f921"
             ]
            ],
            "type": "histogram2d"
           }
          ],
          "histogram2dcontour": [
           {
            "colorbar": {
             "outlinewidth": 0,
             "ticks": ""
            },
            "colorscale": [
             [
              0,
              "#0d0887"
             ],
             [
              0.1111111111111111,
              "#46039f"
             ],
             [
              0.2222222222222222,
              "#7201a8"
             ],
             [
              0.3333333333333333,
              "#9c179e"
             ],
             [
              0.4444444444444444,
              "#bd3786"
             ],
             [
              0.5555555555555556,
              "#d8576b"
             ],
             [
              0.6666666666666666,
              "#ed7953"
             ],
             [
              0.7777777777777778,
              "#fb9f3a"
             ],
             [
              0.8888888888888888,
              "#fdca26"
             ],
             [
              1,
              "#f0f921"
             ]
            ],
            "type": "histogram2dcontour"
           }
          ],
          "mesh3d": [
           {
            "colorbar": {
             "outlinewidth": 0,
             "ticks": ""
            },
            "type": "mesh3d"
           }
          ],
          "parcoords": [
           {
            "line": {
             "colorbar": {
              "outlinewidth": 0,
              "ticks": ""
             }
            },
            "type": "parcoords"
           }
          ],
          "pie": [
           {
            "automargin": true,
            "type": "pie"
           }
          ],
          "scatter": [
           {
            "marker": {
             "colorbar": {
              "outlinewidth": 0,
              "ticks": ""
             }
            },
            "type": "scatter"
           }
          ],
          "scatter3d": [
           {
            "line": {
             "colorbar": {
              "outlinewidth": 0,
              "ticks": ""
             }
            },
            "marker": {
             "colorbar": {
              "outlinewidth": 0,
              "ticks": ""
             }
            },
            "type": "scatter3d"
           }
          ],
          "scattercarpet": [
           {
            "marker": {
             "colorbar": {
              "outlinewidth": 0,
              "ticks": ""
             }
            },
            "type": "scattercarpet"
           }
          ],
          "scattergeo": [
           {
            "marker": {
             "colorbar": {
              "outlinewidth": 0,
              "ticks": ""
             }
            },
            "type": "scattergeo"
           }
          ],
          "scattergl": [
           {
            "marker": {
             "colorbar": {
              "outlinewidth": 0,
              "ticks": ""
             }
            },
            "type": "scattergl"
           }
          ],
          "scattermapbox": [
           {
            "marker": {
             "colorbar": {
              "outlinewidth": 0,
              "ticks": ""
             }
            },
            "type": "scattermapbox"
           }
          ],
          "scatterpolar": [
           {
            "marker": {
             "colorbar": {
              "outlinewidth": 0,
              "ticks": ""
             }
            },
            "type": "scatterpolar"
           }
          ],
          "scatterpolargl": [
           {
            "marker": {
             "colorbar": {
              "outlinewidth": 0,
              "ticks": ""
             }
            },
            "type": "scatterpolargl"
           }
          ],
          "scatterternary": [
           {
            "marker": {
             "colorbar": {
              "outlinewidth": 0,
              "ticks": ""
             }
            },
            "type": "scatterternary"
           }
          ],
          "surface": [
           {
            "colorbar": {
             "outlinewidth": 0,
             "ticks": ""
            },
            "colorscale": [
             [
              0,
              "#0d0887"
             ],
             [
              0.1111111111111111,
              "#46039f"
             ],
             [
              0.2222222222222222,
              "#7201a8"
             ],
             [
              0.3333333333333333,
              "#9c179e"
             ],
             [
              0.4444444444444444,
              "#bd3786"
             ],
             [
              0.5555555555555556,
              "#d8576b"
             ],
             [
              0.6666666666666666,
              "#ed7953"
             ],
             [
              0.7777777777777778,
              "#fb9f3a"
             ],
             [
              0.8888888888888888,
              "#fdca26"
             ],
             [
              1,
              "#f0f921"
             ]
            ],
            "type": "surface"
           }
          ],
          "table": [
           {
            "cells": {
             "fill": {
              "color": "#EBF0F8"
             },
             "line": {
              "color": "white"
             }
            },
            "header": {
             "fill": {
              "color": "#C8D4E3"
             },
             "line": {
              "color": "white"
             }
            },
            "type": "table"
           }
          ]
         },
         "layout": {
          "annotationdefaults": {
           "arrowcolor": "#2a3f5f",
           "arrowhead": 0,
           "arrowwidth": 1
          },
          "autotypenumbers": "strict",
          "coloraxis": {
           "colorbar": {
            "outlinewidth": 0,
            "ticks": ""
           }
          },
          "colorscale": {
           "diverging": [
            [
             0,
             "#8e0152"
            ],
            [
             0.1,
             "#c51b7d"
            ],
            [
             0.2,
             "#de77ae"
            ],
            [
             0.3,
             "#f1b6da"
            ],
            [
             0.4,
             "#fde0ef"
            ],
            [
             0.5,
             "#f7f7f7"
            ],
            [
             0.6,
             "#e6f5d0"
            ],
            [
             0.7,
             "#b8e186"
            ],
            [
             0.8,
             "#7fbc41"
            ],
            [
             0.9,
             "#4d9221"
            ],
            [
             1,
             "#276419"
            ]
           ],
           "sequential": [
            [
             0,
             "#0d0887"
            ],
            [
             0.1111111111111111,
             "#46039f"
            ],
            [
             0.2222222222222222,
             "#7201a8"
            ],
            [
             0.3333333333333333,
             "#9c179e"
            ],
            [
             0.4444444444444444,
             "#bd3786"
            ],
            [
             0.5555555555555556,
             "#d8576b"
            ],
            [
             0.6666666666666666,
             "#ed7953"
            ],
            [
             0.7777777777777778,
             "#fb9f3a"
            ],
            [
             0.8888888888888888,
             "#fdca26"
            ],
            [
             1,
             "#f0f921"
            ]
           ],
           "sequentialminus": [
            [
             0,
             "#0d0887"
            ],
            [
             0.1111111111111111,
             "#46039f"
            ],
            [
             0.2222222222222222,
             "#7201a8"
            ],
            [
             0.3333333333333333,
             "#9c179e"
            ],
            [
             0.4444444444444444,
             "#bd3786"
            ],
            [
             0.5555555555555556,
             "#d8576b"
            ],
            [
             0.6666666666666666,
             "#ed7953"
            ],
            [
             0.7777777777777778,
             "#fb9f3a"
            ],
            [
             0.8888888888888888,
             "#fdca26"
            ],
            [
             1,
             "#f0f921"
            ]
           ]
          },
          "colorway": [
           "#636efa",
           "#EF553B",
           "#00cc96",
           "#ab63fa",
           "#FFA15A",
           "#19d3f3",
           "#FF6692",
           "#B6E880",
           "#FF97FF",
           "#FECB52"
          ],
          "font": {
           "color": "#2a3f5f"
          },
          "geo": {
           "bgcolor": "white",
           "lakecolor": "white",
           "landcolor": "#E5ECF6",
           "showlakes": true,
           "showland": true,
           "subunitcolor": "white"
          },
          "hoverlabel": {
           "align": "left"
          },
          "hovermode": "closest",
          "mapbox": {
           "style": "light"
          },
          "paper_bgcolor": "white",
          "plot_bgcolor": "#E5ECF6",
          "polar": {
           "angularaxis": {
            "gridcolor": "white",
            "linecolor": "white",
            "ticks": ""
           },
           "bgcolor": "#E5ECF6",
           "radialaxis": {
            "gridcolor": "white",
            "linecolor": "white",
            "ticks": ""
           }
          },
          "scene": {
           "xaxis": {
            "backgroundcolor": "#E5ECF6",
            "gridcolor": "white",
            "gridwidth": 2,
            "linecolor": "white",
            "showbackground": true,
            "ticks": "",
            "zerolinecolor": "white"
           },
           "yaxis": {
            "backgroundcolor": "#E5ECF6",
            "gridcolor": "white",
            "gridwidth": 2,
            "linecolor": "white",
            "showbackground": true,
            "ticks": "",
            "zerolinecolor": "white"
           },
           "zaxis": {
            "backgroundcolor": "#E5ECF6",
            "gridcolor": "white",
            "gridwidth": 2,
            "linecolor": "white",
            "showbackground": true,
            "ticks": "",
            "zerolinecolor": "white"
           }
          },
          "shapedefaults": {
           "line": {
            "color": "#2a3f5f"
           }
          },
          "ternary": {
           "aaxis": {
            "gridcolor": "white",
            "linecolor": "white",
            "ticks": ""
           },
           "baxis": {
            "gridcolor": "white",
            "linecolor": "white",
            "ticks": ""
           },
           "bgcolor": "#E5ECF6",
           "caxis": {
            "gridcolor": "white",
            "linecolor": "white",
            "ticks": ""
           }
          },
          "title": {
           "x": 0.05
          },
          "xaxis": {
           "automargin": true,
           "gridcolor": "white",
           "linecolor": "white",
           "ticks": "",
           "title": {
            "standoff": 15
           },
           "zerolinecolor": "white",
           "zerolinewidth": 2
          },
          "yaxis": {
           "automargin": true,
           "gridcolor": "white",
           "linecolor": "white",
           "ticks": "",
           "title": {
            "standoff": 15
           },
           "zerolinecolor": "white",
           "zerolinewidth": 2
          }
         }
        },
        "width": 800
       }
      },
      "text/html": [
       "<div>                            <div id=\"4be66a9d-93b1-4551-9485-6ce47daa80d2\" class=\"plotly-graph-div\" style=\"height:525px; width:800px;\"></div>            <script type=\"text/javascript\">                require([\"plotly\"], function(Plotly) {                    window.PLOTLYENV=window.PLOTLYENV || {};                                    if (document.getElementById(\"4be66a9d-93b1-4551-9485-6ce47daa80d2\")) {                    Plotly.newPlot(                        \"4be66a9d-93b1-4551-9485-6ce47daa80d2\",                        [{\"customdata\":[[\"Scrypt\"],[\"Scrypt\"],[\"SHA-256\"],[\"X13\"],[\"X11\"],[\"SHA-512\"],[\"SHA-256\"],[\"X11\"],[\"SHA-256\"],[\"X15\"],[\"X13\"],[\"X13\"],[\"Scrypt\"],[\"Scrypt\"],[\"Scrypt\"],[\"Scrypt\"],[\"Scrypt\"],[\"Scrypt\"],[\"Scrypt\"],[\"Multiple\"],[\"Scrypt\"],[\"Scrypt\"],[\"SHA-256\"],[\"Groestl\"],[\"X11\"],[\"PoS\"],[\"X11\"],[\"NIST5\"],[\"Scrypt\"],[\"X11\"],[\"X15\"],[\"Scrypt\"],[\"X11\"],[\"X11\"],[\"X11\"],[\"X13\"],[\"X11\"],[\"SHA3\"],[\"Scrypt\"],[\"SHA-256\"],[\"Scrypt\"],[\"X13\"],[\"X13\"],[\"NeoScrypt\"],[\"Scrypt\"],[\"Scrypt\"],[\"Scrypt\"],[\"X15\"],[\"Scrypt\"],[\"X11\"],[\"X11\"],[\"Multiple\"],[\"PHI1612\"],[\"X11\"],[\"Scrypt\"],[\"Scrypt\"],[\"X13\"],[\"Scrypt\"],[\"Scrypt\"],[\"X11\"],[\"Multiple\"],[\"X13\"],[\"Scrypt\"],[\"Scrypt\"],[\"Shabal256\"],[\"Counterparty\"],[\"SHA-256\"],[\"Scrypt\"],[\"Groestl\"],[\"Scrypt\"],[\"X13\"],[\"Scrypt\"],[\"SHA-256\"],[\"Scrypt\"],[\"X13\"],[\"X13\"],[\"X11\"],[\"X11\"],[\"X15\"],[\"Scrypt\"],[\"Scrypt\"],[\"Scrypt\"],[\"X11\"],[\"SHA3\"],[\"Scrypt\"],[\"QUAIT\"],[\"vDPOS\"],[\"X11\"],[\"X11\"],[\"Scrypt\"],[\"X11\"],[\"X13\"],[\"SHA-256\"],[\"X13\"],[\"X15\"],[\"BLAKE256\"],[\"SHA-256\"],[\"X11\"],[\"SHA-256\"],[\"Quark\"],[\"NIST5\"],[\"Blake\"],[\"Scrypt\"],[\"Scrypt\"],[\"Scrypt\"],[\"SHA-256\"],[\"X11\"],[\"Scrypt\"],[\"SHA-256\"],[\"Scrypt\"],[\"PoS\"],[\"X11\"],[\"X11\"],[\"X11\"],[\"PoS\"],[\"SHA-256\"],[\"SHA-256\"],[\"NIST5\"],[\"X15\"],[\"X11\"],[\"NIST5\"],[\"Scrypt\"],[\"Scrypt\"],[\"POS 3.0\"],[\"Scrypt\"],[\"Scrypt\"],[\"Scrypt\"],[\"X13\"],[\"X11\"],[\"X11\"],[\"X11\"],[\"Scrypt\"],[\"SHA-256\"],[\"X11\"],[\"Scrypt\"],[\"Scrypt\"],[\"X11\"],[\"Scrypt\"],[\"Scrypt\"],[\"SHA-256D\"],[\"PoS\"],[\"Scrypt\"],[\"X11\"],[\"PoS\"],[\"X13\"],[\"X14\"],[\"PoS\"],[\"SHA-256D\"],[\"DPoS\"],[\"X11\"],[\"Scrypt\"],[\"X13\"],[\"X11\"],[\"PoS\"],[\"SHA-256D\"],[\"Scrypt\"],[\"Scrypt\"],[\"Scrypt\"],[\"PoS\"],[\"X11\"],[\"SHA-256\"],[\"Scrypt\"],[\"X11\"],[\"Scrypt\"],[\"Scrypt\"],[\"X11\"],[\"Scrypt\"],[\"Scrypt\"],[\"Scrypt\"],[\"Scrypt\"],[\"Quark\"],[\"QuBit\"],[\"X11\"],[\"X13\"],[\"PoS\"],[\"Scrypt\"],[\"SHA-256\"],[\"X11\"],[\"X11\"],[\"Scrypt\"],[\"Scrypt\"],[\"Scrypt\"],[\"Scrypt\"],[\"X13\"],[\"Scrypt\"],[\"Scrypt\"],[\"X11\"],[\"Blake2S\"],[\"X11\"],[\"Scrypt\"],[\"PoS\"],[\"X11\"],[\"PoS\"],[\"X11\"],[\"Scrypt\"],[\"Scrypt\"],[\"Scrypt\"],[\"SHA-256\"],[\"X11\"],[\"Scrypt\"],[\"PoS\"],[\"Scrypt\"],[\"X11\"],[\"X15\"],[\"SHA-256\"],[\"POS 3.0\"],[\"536\"],[\"NIST5\"],[\"NIST5\"],[\"Skein\"],[\"X13\"],[\"X11\"],[\"Scrypt\"],[\"X13\"],[\"SkunkHash v2 Raptor\"],[\"Skein\"],[\"X11\"],[\"Scrypt\"],[\"VeChainThor Authority\"],[\"PoS\"],[\"Scrypt\"],[\"Scrypt\"],[\"SHA-512\"],[\"Ouroboros\"],[\"X11\"],[\"NeoScrypt\"],[\"Scrypt\"],[\"Lyra2REv2\"],[\"Scrypt\"],[\"SHA-256\"],[\"NIST5\"],[\"PHI1612\"],[\"Scrypt\"],[\"Quark\"],[\"POS 2.0\"],[\"Scrypt\"],[\"SkunkHash\"],[\"X11\"],[\"Quark\"],[\"SHA-256\"],[\"Quark\"],[\"X11\"],[\"DPoS\"],[\"NIST5\"],[\"X13\"],[\"Scrypt\"],[\"NIST5\"],[\"Quark\"],[\"Scrypt\"],[\"Scrypt\"],[\"X11\"],[\"SHA-256\"],[\"Scrypt\"],[\"Quark\"],[\"Scrypt\"],[\"Scrypt\"],[\"X11\"],[\"Scrypt\"],[\"Scrypt\"],[\"POS 3.0\"],[\"Scrypt\"],[\"Scrypt\"],[\"X13\"],[\"Proof-of-BibleHash\"],[\"C11\"],[\"Proof-of-Authority\"],[\"X11\"],[\"XEVAN\"],[\"Scrypt\"],[\"VBFT\"],[\"NIST5\"],[\"Scrypt\"],[\"Scrypt\"],[\"Scrypt\"],[\"Equihash\"],[\"Green Protocol\"],[\"PoS\"],[\"Scrypt\"],[\"Scrypt\"],[\"Semux BFT consensus\"],[\"Scrypt\"],[\"Quark\"],[\"PoS\"],[\"X16R\"],[\"Scrypt\"],[\"XEVAN\"],[\"Scrypt\"],[\"Scrypt\"],[\"Scrypt\"],[\"SHA-256D\"],[\"Scrypt\"],[\"X15\"],[\"Scrypt\"],[\"Quark\"],[\"SHA-256\"],[\"DPoS\"],[\"X16R\"],[\"Quark\"],[\"Quark\"],[\"Scrypt\"],[\"Zhash\"],[\"Lyra2REv2\"],[\"Quark\"],[\"Scrypt\"],[\"Scrypt\"],[\"X11\"],[\"X11\"],[\"Scrypt\"],[\"PoS\"],[\"Scrypt\"],[\"Scrypt\"],[\"Keccak\"],[\"X11\"],[\"Quark\"],[\"Scrypt\"],[\"SHA-512\"],[\"NeoScrypt\"],[\"XEVAN\"],[\"XEVAN\"],[\"X11\"],[\"Quark\"],[\"Quark\"],[\"Scrypt\"],[\"Quark\"],[\"Quark\"],[\"Scrypt\"],[\"X11\"],[\"Scrypt\"],[\"XEVAN\"],[\"SHA-256D\"],[\"X11\"],[\"X11\"],[\"DPoS\"],[\"X11\"],[\"Scrypt\"],[\"X11\"],[\"QuBit\"],[\"Scrypt\"],[\"Scrypt\"],[\"SHA-256\"],[\"Scrypt\"],[\"X11\"],[\"Scrypt\"],[\"SHA-256\"],[\"X11\"],[\"Scrypt\"],[\"SHA-256\"],[\"Scrypt\"],[\"X11\"],[\"Scrypt\"],[\"PoS\"],[\"X11\"],[\"SHA-256\"],[\"DPoS\"],[\"Scrypt\"],[\"Scrypt\"],[\"NeoScrypt\"],[\"Scrypt\"],[\"SHA3-256\"],[\"X13\"],[\"DPoS\"],[\"DPoS\"],[\"SHA-256\"],[\"Leased POS\"],[\"PoS\"],[\"PoS\"],[\"SHA-256\"],[\"Scrypt\"],[\"Scrypt\"]],\"hovertemplate\":\"<b>%{hovertext}</b><br><br>Class=%{marker.color}<br>PC1=%{x}<br>PC2=%{y}<br>PC3=%{z}<br>Algorithm=%{customdata[0]}<extra></extra>\",\"hovertext\":[\"42 Coin\",\"404Coin\",\"808\",\"EliteCoin\",\"Dash\",\"Bitshares\",\"BitcoinDark\",\"Bitstake\",\"PayCoin\",\"KoboCoin\",\"Aero Coin\",\"ApexCoin\",\"ArchCoin\",\"Aurora Coin\",\"BlueCoin\",\"EnergyCoin\",\"BitBar\",\"CashCoin\",\"CryptoBullion\",\"CinderCoin\",\"CoolCoin\",\"CasinoCoin\",\"eMark\",\"Diamond\",\"DarkCash\",\"Exclusive Coin\",\"Fuel2Coin\",\"FIBRE\",\"FlutterCoin\",\"GlyphCoin\",\"Halcyon\",\"HoboNickels\",\"HyperStake\",\"IOCoin\",\"JumBucks Coin\",\"JudgeCoin\",\"LibrexCoin\",\"MaxCoin\",\"MintCoin\",\"MazaCoin\",\"Nautilus Coin\",\"NavCoin\",\"OpalCoin\",\"Orbitcoin\",\"PotCoin\",\"PhoenixCoin\",\"Reddcoin\",\"ShieldCoin\",\"SilkCoin\",\"SuperCoin\",\"SyncCoin\",\"TeslaCoin\",\"TittieCoin\",\"TorCoin\",\"UnitaryStatus Dollar\",\"UltraCoin\",\"Utility Coin\",\"VeriCoin\",\"SocialXbotCoin\",\"X11 Coin\",\"Crypti\",\"StealthCoin\",\"XXXCoin\",\"ZCC Coin\",\"BurstCoin\",\"StorjCoin\",\"Neutron\",\"KryptCoin\",\"FairCoin\",\"RubyCoin\",\"Kore\",\"Dnotes\",\"MaieutiCoin\",\"8BIT Coin\",\"Sativa Coin\",\"AeroMe\",\"MasterTraderCoin\",\"Ucoin\",\"MaryJane Coin\",\"CyberCoin\",\"Vtorrent\",\"ViorCoin\",\"IslaCoin\",\"Nexus\",\"Singular\",\"Droidz\",\"CryptoCircuits\",\"Squall Coin\",\"Milllionaire Coin\",\"Diggits\",\"MapCoin\",\"Paycon\",\"Emercoin\",\"BlitzCoin\",\"EverGreenCoin\",\"Decred\",\"EDRCoin\",\"Hitcoin\",\"DubaiCoin\",\"BiosCrypto\",\"PWR Coin\",\"TrumpCoin\",\"BillaryCoin\",\"EthereumScrypt\",\"GPU Coin\",\"Universal Currency\",\"EuropeCoin\",\"ZeitCoin\",\"SwingCoin\",\"SafeExchangeCoin\",\"Nebuchadnezzar\",\"GIZMOcoin\",\"SecretCoin\",\"Ratecoin\",\"Digital Bullion Gold\",\"Revenu\",\"Clockcoin\",\"VIP Tokens\",\"OrlyCoin\",\"BitSend\",\"16BitCoin\",\"ChessCoin\",\"ReeCoin\",\"Let it Ride\",\"PutinCoin\",\"iBankCoin\",\"Frankywillcoin\",\"MudraCoin\",\"Lutetium Coin\",\"GoldBlocks\",\"WayCoin\",\"CarterCoin\",\"BitTokens\",\"MustangCoin\",\"ZoneCoin\",\"RootCoin\",\"PROUD Money\",\"BitCurrency\",\"Swiscoin\",\"BuzzCoin\",\"Opair\",\"PesoBit\",\"Halloween Coin\",\"CoffeeCoin\",\"RoyalCoin\",\"GanjaCoin V2\",\"TeamUP\",\"LanaCoin\",\"ARK\",\"InsaneCoin\",\"LuckChain\",\"EmberCoin\",\"XenixCoin\",\"FreeCoin\",\"NPCcoin\",\"PLNCoin\",\"Icobid\",\"AquariusCoin\",\"Creatio\",\"Eternity\",\"Eurocoin\",\"BitcoinFast\",\"Stakenet\",\"BitConnect Coin\",\"MoneyCoin\",\"Enigma\",\"Russiacoin\",\"PandaCoin\",\"GameUnits\",\"GAKHcoin\",\"Allsafe\",\"LiteCreed\",\"NeptuneClassic\",\"GoldenBird\",\"Ride My Car\",\"Klingon Empire Darsek\",\"Internet of People\",\"KushCoin\",\"Eryllium\",\"Printerium\",\"Impeach\",\"Zilbercoin\",\"FirstCoin\",\"FindCoin\",\"OpenChat\",\"RenosCoin\",\"VirtacoinPlus\",\"TajCoin\",\"Impact\",\"Universe\",\"Atmos\",\"HappyCoin\",\"MacronCoin\",\"Condensate\",\"Independent Money System\",\"ArgusCoin\",\"LomoCoin\",\"ProCurrency\",\"GoldReserve\",\"GrowthCoin\",\"Phreak\",\"Degas Coin\",\"ZSEcoin\",\"HTML5 Coin\",\"Ultimate Secure Cash\",\"QTUM\",\"Espers\",\"Denarius\",\"Virta Unique Coin\",\"Bitcoin Planet\",\"BritCoin\",\"Octanox\",\"Linda\",\"DeepOnion\",\"Signatum\",\"Cream\",\"Monoeci\",\"Draftcoin\",\"Vechain\",\"Stakecoin\",\"CoinonatX\",\"Ethereum Dark\",\"Obsidian\",\"Cardano\",\"Regalcoin\",\"TrezarCoin\",\"TerraNovaCoin\",\"Rupee\",\"WomenCoin\",\"Theresa May Coin\",\"NamoCoin\",\"LUXCoin\",\"Xios\",\"Bitcloud 2.0\",\"KekCoin\",\"BlackholeCoin\",\"AltCommunity Coin\",\"Pure\",\"Rupaya\",\"Infinity Economics\",\"Castle\",\"Magnet\",\"Lamden Tau\",\"Electra\",\"Bitcoin Diamond\",\"Cash & Back Coin\",\"Bulwark\",\"Kalkulus\",\"GermanCoin\",\"LiteCoin Ultra\",\"PhantomX\",\"HTML Coin\",\"Fantasy Cash\",\"Digiwage\",\"Trollcoin\",\"Litecoin Plus\",\"Monkey Project\",\"OP Coin\",\"Valorbit\",\"TokenPay\",\"My Big Coin\",\"Unified Society USDEX\",\"Tokyo Coin\",\"BiblePay\",\"Stipend\",\"Poa Network\",\"Pushi\",\"Ellerium\",\"Velox\",\"Ontology\",\"Bitspace\",\"Briacoin\",\"Ignition\",\"MedicCoin\",\"Zelcash\",\"Bitcoin Green\",\"Deviant Coin\",\"Abjcoin\",\"Profit Hunters Coin\",\"Semux\",\"BitBlocks\",\"Carebit\",\"Zealium\",\"Proton\",\"iDealCash\",\"Bitcoin Incognito\",\"HollyWoodCoin\",\"Swisscoin\",\"Xt3ch\",\"TheVig\",\"EmaratCoin\",\"Dekado\",\"Lynx\",\"Poseidon Quark\",\"BitcoinWSpectrum\",\"Muse\",\"Trivechain\",\"Dystem\",\"Giant\",\"Peony Coin\",\"SafeCoin\",\"Absolute Coin\",\"Vitae\",\"TPCash\",\"MUSDcoin\",\"ARENON\",\"EUNO\",\"MMOCoin\",\"Ketan\",\"Safe Trade Coin\",\"Mont Blanc\",\"XDNA\",\"PAXEX\",\"Apollon\",\"ThunderStake\",\"Kcash\",\"Traid\",\"Bettex coin\",\"BitMoney\",\"Junson Ming Chan Coin\",\"Zenad\",\"HerbCoin\",\"Oduwa\",\"Galilel\",\"Crypto Sports\",\"Credit\",\"Dash Platinum\",\"Nasdacoin\",\"Beetle Coin\",\"Titan Coin\",\"Award\",\"Insane Coin\",\"ALAX\",\"The Freedom Coin\",\"LiteDoge\",\"TruckCoin\",\"Ascension Coin\",\"OrangeCoin\",\"BitstarCoin\",\"NeosCoin\",\"HyperCoin\",\"PinkCoin\",\"AudioCoin\",\"IncaKoin\",\"Piggy Coin\",\"Genstake\",\"ParkByte\",\"XiaoMiCoin\",\"CapriCoin\",\" ClubCoin\",\"Radium\",\"Creditbit \",\"OKCash\",\"Lisk\",\"HiCoin\",\"WhiteCoin\",\"FriendshipCoin\",\"The Hempcoin\",\"Fiii\",\"Triangles Coin\",\"EOS\",\"Oxycoin\",\"TigerCash\",\"Waves\",\"Particl\",\"Nxt\",\"ZEPHYR\",\"Gapcoin\",\"BitcoinPlus\"],\"legendgroup\":\"0\",\"marker\":{\"color\":[0,0,0,0,0,0,0,0,0,0,0,0,0,0,0,0,0,0,0,0,0,0,0,0,0,0,0,0,0,0,0,0,0,0,0,0,0,0,0,0,0,0,0,0,0,0,0,0,0,0,0,0,0,0,0,0,0,0,0,0,0,0,0,0,0,0,0,0,0,0,0,0,0,0,0,0,0,0,0,0,0,0,0,0,0,0,0,0,0,0,0,0,0,0,0,0,0,0,0,0,0,0,0,0,0,0,0,0,0,0,0,0,0,0,0,0,0,0,0,0,0,0,0,0,0,0,0,0,0,0,0,0,0,0,0,0,0,0,0,0,0,0,0,0,0,0,0,0,0,0,0,0,0,0,0,0,0,0,0,0,0,0,0,0,0,0,0,0,0,0,0,0,0,0,0,0,0,0,0,0,0,0,0,0,0,0,0,0,0,0,0,0,0,0,0,0,0,0,0,0,0,0,0,0,0,0,0,0,0,0,0,0,0,0,0,0,0,0,0,0,0,0,0,0,0,0,0,0,0,0,0,0,0,0,0,0,0,0,0,0,0,0,0,0,0,0,0,0,0,0,0,0,0,0,0,0,0,0,0,0,0,0,0,0,0,0,0,0,0,0,0,0,0,0,0,0,0,0,0,0,0,0,0,0,0,0,0,0,0,0,0,0,0,0,0,0,0,0,0,0,0,0,0,0,0,0,0,0,0,0,0,0,0,0,0,0,0,0,0,0,0,0,0,0,0,0,0,0,0,0,0,0,0,0,0,0,0,0,0,0,0,0,0,0,0,0,0,0,0,0,0,0,0,0,0,0,0,0,0,0,0,0,0,0,0,0,0,0,0],\"coloraxis\":\"coloraxis\",\"symbol\":\"circle\"},\"mode\":\"markers\",\"name\":\"0\",\"scene\":\"scene\",\"showlegend\":true,\"x\":[-0.2370109351562444,-0.22253541186927583,-0.15914535699391655,0.2800740247766828,-0.22687769983973835,0.03452597024914609,-0.15912767581534024,-0.22700159536438203,-0.017172290723605016,-0.11420533545873793,0.020214116084962912,-0.12159439253689161,-0.0952024271378804,-0.23676214989599215,-0.22829389058765828,-0.2353227021090378,-0.2370103516079333,-0.2370109358165391,-0.23699668064123613,-0.14984149356756066,-0.09520242728613265,0.5864557530101349,-0.15914535699391763,-0.19199356695315817,-0.22700159536867384,0.049173195357837096,-0.08519308691578997,-0.16724999820474049,-0.21256006477917916,-0.22700159537449074,-0.11455573940392826,-0.23578632999184335,-0.06216635543727804,-0.22675945182739132,-0.2270015953679166,-0.12159439256455673,-0.22700159536385012,-0.23271037132039635,0.19691769839729775,-0.13700599551599066,-0.09498046225633645,-0.12068777853025744,-0.12138647036263578,-0.22422783586722864,-0.23395614512950122,-0.23599632764898654,0.16515385922920545,-0.11455573940570184,-0.23701093573419263,-0.08449745508742845,-0.2270015792154366,-0.006931933973899131,0.0439268975736064,-0.22698195257158812,-0.22193498791451408,-0.2363217855592928,-0.12159439252625083,-0.20506926749776014,-0.23701093573596604,-0.22690624058824937,-0.006661137515877495,-0.12114039717223953,-0.23701093582109017,-0.2349807375315517,0.3576967696419366,0.0293080880388998,-0.1586086672406518,-0.09520242713893882,-0.19130916137396703,-0.09482949743147932,-0.12156664741908572,-0.09280655012637157,-0.01733684837029266,-0.23699079919638016,-0.12149703482363079,-0.12159439254753181,-0.22700159538000575,-0.08515618666261289,-0.11455573940392826,-0.23701093573241916,-0.2368517367110589,-0.23701093573241916,-0.22698082965574432,-0.2424034273644841,-0.23701093573241916,-0.22575875797235673,0.07184754154856979,-0.1698693270062302,-0.22700159536207654,-0.09383058006024744,-0.08519308674240078,-0.12127828329117618,-0.1585546441668354,0.020214116090545374,-0.11437012088769755,0.023986803226666322,-0.1590950144671593,-0.07614895765571789,-0.15907499477626422,-0.004179046404812679,-0.02911254099725511,-0.07463260160929278,-0.236887486797384,-0.23701093573986762,-0.09464714432301223,-0.15914535736633553,-0.2268588242011898,0.4119862734062896,-0.15908531019221908,0.06717716166401269,0.04936964789206446,-0.22700159536225398,-0.2270015953993185,-0.225155707267609,0.04909527845575438,-0.15912895661235515,-0.15891676949103833,-0.16610518632469587,-0.11455573946777149,-0.22666703328655732,-0.16724999823200828,-0.23701093586483454,-0.23701093635311576,0.09717021319454995,-0.22585655458862236,-0.2369488415608122,-0.23563908868387612,0.020282708103987555,-0.07618005162951941,-0.22678808289075683,-0.08519308691578997,-0.2364187711777374,-0.15913718865494073,-0.2269925736014349,-0.23697551508584289,-0.2369843234189874,-0.22700161309626588,-0.09287579320005532,-0.20176429117662653,0.1226039522865927,0.0501109090758568,-0.23655105197678006,-0.22337061393465713,0.05113544592613972,0.020248413974681044,-0.21454143729612726,0.04933972304553217,-0.13112773886340992,6.93329202511639,-0.22674996004398926,-0.23701093750583813,1.1431502869569765,-0.22694873361241458,0.04978120200662744,-0.14597335606123704,-0.23677649259725195,-0.23701093608710294,-0.23697733134708465,0.04936964789206446,-0.22691833144698004,-0.15897502087778626,-0.23673321871421898,-0.22045892517227333,-0.23685892519953866,-0.23686120774575703,-0.22699041932943004,-0.23689600436945293,0.3686621907330014,-0.23696329173453282,-0.23696544817888682,0.13777375000156802,-0.20695904259023415,-0.22700159580543144,-0.12159439332428924,0.049095278305013985,-0.23668216832817365,-0.15911070309367284,-0.22692396121404654,-0.22700159553941848,-0.23684875972026792,-0.23700670802625387,-0.09516233340773686,-0.23051904467830595,0.020413374843747428,-0.2232924652469872,-0.09470787123766923,-0.22682102273123464,-0.3305457913242287,-0.22548391565044,-0.09520242730741382,0.05061989218209144,-0.2267063558804517,0.05460216612671591,-0.22533253212554896,-0.2369372821978985,-0.23699518253220075,-0.23700407826970868,-0.01595764736318079,-0.22676603030540043,-0.09115362294774022,0.04925153492820359,-0.23671792630721095,-0.2270015990747292,0.4432237389304313,-0.017194957016361614,0.09801266708284656,0.46839867251725664,-0.16719277323311993,-0.16638652930664202,-0.2213021609631861,-0.12130262684935254,-0.2270015953760966,-0.11292839017527226,-0.12129372455565934,0.07782093257263398,-0.22074618639527435,-0.22682916429952343,-0.09494639521271808,7.652381939156588,0.049150152262148965,-0.2367428825220627,-0.2369533181563804,-0.0027412137118319473,0.7478086735145774,-0.22690196634900403,-0.22176649868119258,-0.23699528662001013,-0.08342344232101986,0.42777894847085624,-0.15788256082505445,-0.1595599293488345,-0.12002350548349912,-0.23698144533446772,-0.003757731169726266,0.12320417587582772,-0.23678646663908812,-0.2517193848207928,-0.22700159536861494,0.1376294621216159,0.10612938586141374,4.175748364522426,-0.22647756925388904,6.9357598196218575,0.22234290289718645,-0.1190765864696629,-0.2354885015204669,-0.025259758573174224,0.1378620694095904,-0.16963274420812582,-0.23689543466125554,-0.2263818742476936,-0.1591455166016211,-0.23701093574057683,0.13800397194456743,-0.22890300815570833,-0.2369765780146751,-0.08513262601139,-0.2370109392792571,-0.40057996064857976,0.09692130597423602,-0.19562864711568959,-0.23378920416162505,0.02337346409249748,0.40001510375654087,-0.2706172742596984,0.20364187934630645,-0.226971856130479,-0.1629813178130363,-0.09485164581284634,0.03743713339384286,-0.1670608499910848,-0.23699933487885422,-0.23699471840129094,-0.09153551223815198,-0.16249999517198815,0.09117581944374419,0.049395391676156995,-0.23687539038793068,-0.23701093590976108,7.468573666169479,-0.23701093661912867,-0.00226203294555007,0.04924721390651703,-0.0740910365158985,-0.21774804870082723,-0.10570971789332302,-0.09467142886300439,-0.09708253678101324,-0.09509775524327489,-0.14551736672331356,-0.23671462593927559,0.027668221967863338,1.7191775296128446,0.13766672410730563,-0.01654376993460891,2.89393836238659,-0.2154534298083024,0.1377266218189533,-0.004097840021970565,-0.09518816222518228,-0.1892442084376946,-0.22537829118003666,0.13853562036507672,-0.23693680559120583,-0.23701093590976108,-0.0849287385984327,-0.22657946261267112,-0.09372407193734464,0.04922323210600716,-0.0952024285984627,-0.09520242723293007,-0.1867855413667468,-0.08513129015063246,-0.0041790468123613575,-0.22247001700586505,-0.0972186501483885,-0.2242720182425275,-0.021085448159669888,-0.05680642249763516,0.15090077450554026,0.09815993264729178,-0.003694617224246353,-0.23680821036824456,-0.003928478352643916,0.1376560033821728,0.18587057911063354,-0.08518326901917718,-0.2367290689041767,-0.16025794299633378,-0.13367664669728022,-0.22679005404716535,-0.22667542556319148,6.945526128535797,-0.0851930867827835,-0.026859270344713436,-0.2236738492288479,-0.20737372100024867,-0.23696241179295244,-0.23672865724521258,-0.01727659333462313,-0.23687881038249453,-0.2210154911561668,-0.2235568023611567,0.08696026303495995,-0.2202213702693866,-0.2361878274234895,-0.15914535703825303,-0.2314643320882199,-0.22423918479121138,-0.23558940218255836,0.04914770012009408,-0.1964573963386638,-0.15812091565472544,6.9334540409800764,0.04198563433410214,-0.23355380492299282,-0.22425664793171854,-0.23701093626444486,-0.6570640961330949,-0.12159246127075969,6.945807969779052,6.947205028268598,-0.0036183778848572156,0.269591833669551,0.049222628932079154,0.021516893976923728,4.048218994892652,-0.23680610503330551,-0.09520066666022484],\"y\":[1.1933136043729915,1.191984772987231,0.833267982471741,1.9545403836535988,1.426892633703952,1.4572726544427625,0.8332663595971067,1.4269040069530137,0.34162924897487157,2.073371763012831,1.499786075339029,1.9914097027489321,0.701689977185227,1.1932907663407701,1.1925133892523925,1.193158626432841,1.193313550809314,1.1933136049470632,1.1933122958349933,0.5166298505404554,0.7016899781037448,0.40580221591843296,0.8332679824717446,1.1007487468024166,1.4269040069796033,1.2265896001815237,0.9352803806165872,1.793277467703607,0.38782984414873095,1.4269040070156422,2.073403925921642,1.1932011882624078,0.9331665508663642,1.4268817786662475,1.4269040069749115,1.9914097029203366,1.426904006949717,1.800677641501287,0.6748736702139382,0.831235639582811,0.7016696010503899,1.991326476513583,1.9913906156566736,0.699582202761924,1.1930331825488798,1.1932204655786258,1.156395317801265,2.073403925932629,1.1933136044368755,0.9352165212960383,1.4269040054564963,0.024905147697858687,1.4367772928803741,1.4269022038603763,1.1919296662881678,1.1932503422791079,1.991409702683007,0.3828646985369368,1.193313604447863,1.4268952535347215,0.024880287797863346,1.991368026407969,1.1933136049752617,1.193127245284757,0.7188803773285335,1.1060301836349542,0.8332187156777255,0.7016899771917848,1.100685919074271,0.7016557424700751,1.991407155842528,0.7014700435408774,0.3416443550508763,1.1933117559139885,1.9914007654610464,1.9914097028148576,1.426904007049813,0.9352769923478856,2.073403925921642,1.193313604425888,1.1932989903470117,1.193313604425888,1.4269021006696887,1.3690933241285999,1.193313604425888,2.1008930847642624,1.1136152632580238,0.9061655440141118,1.4269040069387298,0.7015640440346145,0.9352803795423305,1.9913806847435296,0.8332137665074582,1.4997860753044425,2.073386886630317,1.1024208724667375,0.8332633613212039,1.4130561878194987,0.8332615234110763,1.4632536218197894,1.7805966007918577,0.021356570700240152,1.1933022724038274,1.1933136044720354,0.7016390050477529,0.8332679847791131,1.4268909048595886,0.6551316828030948,0.8332624706742633,0.45347101072612955,1.2265715662710677,1.4269040069398287,1.4269040071694667,1.4267345572501828,1.2265967530299569,0.8332664793456487,0.8332470040729084,1.7931723761974185,2.0734039263171904,1.4268732960121555,1.7932774678725496,1.1933136052462858,1.1933136082715028,1.1945396227728957,1.1922896661330749,1.193307904729004,1.1931876714555048,1.4997797807561548,0.9344529999024226,1.4268844072695195,0.9352803806165872,1.1932592453441502,0.8332672328545129,1.4269031787834823,1.1933103530767404,1.1933111614447336,1.4269041168134324,0.7014763945666806,0.28085139954156063,2.169579813074227,1.2265035198927885,1.1932713876020453,1.4265707030673016,1.2264094681667728,1.4997829267817007,2.280357554993626,1.226574316380857,2.1928719684961426,0.12023316125109666,1.42688090741755,1.1933136154133586,1.875307538921316,1.4268991543298606,1.2265337863799533,2.1942347743780206,1.1932920832206673,1.1933136066233823,1.193310520034846,1.2265715662710677,1.4268963640522232,0.8332523460197957,1.1932881106657485,0.895931582119101,1.193299650328959,1.1932998666042847,1.4269029810453269,1.193303055411708,0.6591080663460096,1.193309230899913,1.1933094287543087,0.9716167488826769,1.1177967392860482,1.4269040096855972,1.9914097076273691,1.2265967539638918,1.1932834293514814,0.8332648015090681,1.4268968803104325,1.4269040080374766,1.1932987170625258,1.1933132165645248,0.7016862970426186,0.30789302326632384,1.499767783685201,1.1920542747220566,0.7016445776916765,1.426887431651944,2.0944924491889063,1.4267646867982369,0.7016899782355942,1.2264567961952968,1.4268769053609394,1.226091230955494,1.4267507941784834,1.1933068433419005,1.1933121586089899,1.1933129857430127,0.34151855776311324,1.42688238275815,0.7013183228777026,1.226582409019716,1.1932867076189515,1.4269040299409987,2.02220135643952,0.3416313317461978,1.1944622871507542,2.0484614270093475,1.7932722146155338,1.7931982034990044,1.4179353511714397,1.9913829192389503,1.4269040070255925,1.1819235042125653,1.991382101897989,1.1821008891911133,1.4178843133165315,1.4268881780594196,0.7016664737464589,4.127103926397708,1.2265917161792068,1.193288997957796,1.193308315241132,1.4606937030275033,1.0515801519913652,1.4268948613969827,0.6993562589997067,1.193312168024859,0.32084013877201545,1.1322868935723087,0.8331520602523844,1.7925715408087215,1.9304334976525175,1.193310897467053,1.4632149474901668,1.2082906295981692,1.193292998569652,0.7272591323842305,1.4269040069792394,0.9716299950011179,0.3303103877289649,0.3943012442496565,1.4268559034760995,0.12000662448423816,1.7575135918655362,1.9911785731245946,1.1931738489099535,1.3016371578689807,0.9716086413121134,1.1871289016547972,1.1933030031780691,1.4268471177620796,0.8332689713440743,1.1933136044764303,0.9715956158976701,1.19256931531857,1.1933104504684209,0.9352748295167964,1.193313626400829,2.2067288665203306,1.1945624720904253,0.40325394185682456,1.1930178555162814,1.499496059244678,4.983880918910908,1.106342263424321,3.7001077779036415,1.4269012771805376,1.569314156369826,0.7016577770094262,1.0859166548187726,1.7932601046397454,1.193312539512742,1.193312115746819,0.7013533636582621,0.3111260838824712,1.1962634078660614,1.2265692037560316,1.1933011618368252,1.1933136055246352,0.036767294010706074,1.193313609919623,1.4630776440353745,1.226582806225996,0.5047658509790209,1.191545347989328,1.04856290253846,0.7016412322304806,1.1804684414468078,0.7016803687189525,2.194192840367209,1.1932864044214802,1.581742161368833,0.22305411964870478,0.9716265806159292,0.34157155240651704,0.6976752602170954,0.9963485259087419,0.9716210752630452,1.4632461670002077,0.7016888502248148,2.0107384858721695,0.8124772003743446,0.9715468109398919,1.1933068101849877,1.1933136055246352,0.9352561132441817,1.4268652561570445,0.7015542684378192,1.2265850091361603,0.701689986234473,0.701689977774121,0.7779696250861261,0.9352747077413945,1.463253624344815,1.191978958895952,2.030748839242846,0.6995862613424751,1.0776825091940767,1.1201574334788327,0.9136072222725591,0.48895534553311354,1.4632091521188646,1.1932949946873552,1.4632306199352116,0.9716275578754149,1.1544943553473648,0.9352794784752362,1.1932877302698008,1.5690641583146114,2.193105928310115,1.4268845922246427,1.426874065234047,0.1191100934610968,0.9352803797925269,1.1740222911407716,1.426598523497365,1.1178348054554303,1.1933091521464558,1.193287692157992,0.3416388239320546,1.1933014754638305,1.426354494557347,1.1920786434132993,0.8106757588190098,1.426281600544174,1.193238044149222,0.8332679827464313,1.192804436631058,1.4266504229328172,1.193183110938717,1.226591940713778,0.7200985230062358,0.8331739410181725,0.12021828875067508,0.6890963719311809,1.1929962468607072,0.6995848482883017,1.1933136077221294,4.707395767898368,1.9914095253971726,0.11908420991973917,0.11895596148428435,0.3403850253470227,5.156122875877472,1.226585062327145,1.4819730403920273,-0.2382030548276704,1.1932948038987694,0.7016898154085769],\"z\":[-0.4516051179740795,-0.4519827644699779,-0.2219684234465778,-0.40364935236985044,-0.33978514086967326,0.08170778691879443,-0.22196888484571306,-0.3397819085139314,0.009766024390924947,-0.4412689130591948,-0.16142993105030642,-0.3931686720015904,-0.21986637709470794,-0.45161160848278653,-0.45183253185615274,-0.4516491612995558,-0.45160513320077805,-0.4516051182267839,-0.45160548985748517,-0.16034639395445013,-0.21986637756656113,-0.3362327581380905,-0.22196842344658252,-0.2571050894234176,-0.3397819085275908,0.013008013180122562,-0.10804316811410461,-0.3515358058295648,-0.36946133397295067,-0.3397819085461046,-0.44125976958369245,-0.45163706666551423,-0.10864389848724473,-0.3397882257729714,-0.33978190852518086,-0.3931686720896425,-0.3397819085122383,-0.35738166532303955,-0.2274873282602845,-0.22254601807819924,-0.21987216780553068,-0.39319232409049854,-0.3931740963275541,-0.20446921074368288,-0.4516848149961426,-0.45163158803415165,-0.4620969602956289,-0.44125976958933705,-0.4516051179646948,-0.10806131547732689,-0.33978190892783966,0.07136362240677285,-0.08083365609832442,-0.3397824210127834,-0.4519984346573091,-0.4516230973642874,-0.3931686719677238,-0.3629589455247582,-0.45160511797033903,-0.3397843961928675,0.0713565583252814,-0.3931805159872289,-0.4516051182412698,-0.4516580883042517,-0.21838232840281305,-0.014699724281405408,-0.2219824252189131,-0.219866377098077,-0.25712294445572553,-0.21987610614655737,-0.39316939586190014,-0.21992888448204848,0.00977031751033422,-0.4516056432893726,-0.3931712119328446,-0.3931686720354566,-0.33978190856365853,-0.10804413032799512,-0.44125976958369245,-0.45160511795905045,-0.4516092713231062,-0.45160511795905045,-0.3397824502509721,-0.1342963573041872,-0.45160511795905045,-0.5340254332747494,-0.156467936891684,-0.08181028220407016,-0.33978190850659373,-0.21990216688721817,-0.10804316756224643,-0.3931769190413767,-0.22198383989900955,-0.16142993103253886,-0.44126461222635205,-0.2913979488440631,-0.2219697369285406,-0.34371756591007085,-0.22197025914511548,-0.27124490250784,-0.35513959322847677,0.053253102773725594,-0.45160833878518836,-0.45160511798275677,-0.21988086470818324,-0.22196842463190442,-0.3397856353651956,-0.2330986900164072,-0.22196999020013075,-0.322685386995748,0.013002887930938309,-0.3397819085071582,-0.33978190862512586,-0.3398300652292715,0.01301004582329153,-0.22196885257400506,-0.22197438991996754,-0.35156567266635713,-0.44125976978689063,-0.33979063749208677,-0.35153580591635286,-0.45160511838049827,-0.45160511993458685,-0.033044176304051855,-0.45189612947212127,-0.4516067381498951,-0.4516409078441465,-0.16143172160570662,-0.10827830709474681,-0.3397874789932279,-0.10804316811410461,-0.4516205671062537,-0.22196863666510872,-0.33978214388710737,-0.451606042147105,-0.45160581223214497,-0.3397819649504945,-0.21992707519463242,-0.3369232906706135,-0.4723985663313677,0.01298354929376436,-0.4516171155976248,-0.3398766435953259,0.012956820944033163,-0.16143082580230259,-0.44547211066215214,0.013003667023699116,-0.4657790374063425,0.1748469369073791,-0.3397884734440874,-0.4516051236034403,-0.4261638617125764,-0.33978328760781973,0.01299215096540947,-0.465391735894618,-0.451611234428328,-0.4516051190879283,-0.45160599488323067,0.013002887930938309,-0.33978408107165997,-0.2219728673597959,-0.4516123633438498,-0.2032356768576741,-0.4516090838323559,-0.45160902782768403,-0.3397822001000322,-0.45160811715567467,-0.23196805499562245,-0.4516063609894497,-0.45160630467612345,-0.039509925761026396,-0.2474163162695999,-0.3397819099176912,-0.3931686745076995,0.013010045343518404,-0.45161369782507715,-0.22196932763144026,-0.33978393391174777,-0.33978190907103273,-0.4516093489880791,-0.45160522837802103,-0.21986742329624698,-0.4067185311277358,-0.1614351294384519,-0.4519630168100109,-0.21987927937716623,-0.3397866199295105,-0.47744123996350024,-0.3398215029917287,-0.2198663776342939,0.012970270524408118,-0.33978961140597663,0.012866377657811588,-0.33982545456740637,-0.45160703958378473,-0.4516055290978384,-0.4516053025500437,0.009733909542004563,-0.3397880542533345,-0.21997201526933124,0.013005969254128561,-0.4516127627082478,-0.3397819203231244,-0.45581186462261436,0.009766614651114894,-0.03306615496969622,-0.4773705338964299,-0.35153729879176643,-0.3515583330444194,-0.303111430528223,-0.3931762838426991,-0.33978190855121626,-0.4548425195170403,-0.39317651602626075,0.046887083235485565,-0.30312593502384966,-0.3397864070139298,-0.2198730565677012,-0.7069960670876516,0.013008613987437025,-0.4516121113172078,-0.45160662113422445,0.08268004867415757,-0.09072063502787706,-0.3397845078233467,-0.20453342538609132,-0.4516055263091327,-0.0043881283351422645,-0.4689485750540797,-0.22200136836700088,-0.351736434367602,-0.3119947373626041,-0.45160588743631386,-0.2712558949780528,-0.07594313001374649,-0.451610974086216,-0.27419204454826046,-0.3397819085274038,-0.03950616186027836,0.006549227855279153,0.06172850193636877,-0.3397955803369776,0.17478255392455005,-0.3616998380895637,-0.39323435873372853,-0.45164483705063124,-0.11980180610088274,-0.03951222990290737,-0.4533631927590455,-0.451608132052603,-0.33979807633315456,-0.22196893144168972,-0.4516051179850145,-0.039515932484289334,-0.45181664606543914,-0.4516060143202348,-0.10804474499374829,-0.45160512924783064,-0.9722082122480961,-0.03303768266065553,-0.5275592523491252,-0.4516891691516606,-0.16151235794704596,1.9397912545721498,-0.3153866106829162,8.416095277854351,-0.33978268449829563,-0.2911797510145093,-0.21987552903601923,-0.03537379810099228,-0.3515407406877667,-0.4516054206240121,-0.4516055410719791,-0.21996204384680162,-0.1825037437279388,-0.05949277493348063,0.013002215929433599,-0.45160865429305835,-0.45160511852348917,0.2086246457120763,-0.45160512078124543,-0.27129491537503375,0.013006081698205305,-0.028607514751358983,-0.45210768531008955,-0.033211759429803575,-0.21988023005303242,-0.4552556862388483,-0.21986910797564702,-0.46540359266847925,-0.45161284869011437,-0.20953186764290643,-0.43063563123715803,-0.039507137238576635,0.009749626779903512,0.07364448680214174,-0.2603578943641469,-0.039508696295552814,-0.27124702096812575,-0.21986684520860453,-0.38915221438811265,-0.23612305166936487,-0.03952980223545783,-0.45160705758764336,-0.45160511852348917,-0.10805006428680851,-0.33979292156575863,-0.2199049464259051,0.013006706605600347,-0.21986638174340978,-0.21986637739722958,-0.19480292793407,-0.10804478029380081,-0.2712449038049747,-0.4519845699227359,0.3164056523992086,-0.2044680595081026,-0.05944328911153138,-0.020163263154717496,-0.11420248233763036,0.16764838037963503,-0.2712575406900611,-0.45161040686212056,-0.2712514394247675,-0.03950685392900071,-0.46263785235615185,-0.10804342379051263,-0.45161247189604276,-0.2912508020526261,-0.4657125261784986,-0.33978742967442266,-0.33979041793060394,0.1745277635527674,-0.10804316769077546,-0.457087841131219,-0.3398687241309433,-0.2474054975182483,-0.45160638500988387,-0.4516124824663105,0.00976874543242543,-0.451608564900099,-0.33993807932665626,-0.4519561747347308,-0.22838893024048443,-0.33995879952776636,-0.4516265916361103,-0.2219684235876922,-0.45174982233670863,-0.3398539766054588,-0.45164220442768493,0.013008678259266234,0.009060520931657809,-0.22199515009558204,0.17484270997147386,-0.22344545313008654,-0.45169531073180985,-0.20446845940351077,-0.4516051196523674,9.976966141206422,-0.3931687223518029,0.17452041645191804,0.1744839694093351,0.009412418659385016,5.28919909888882,0.013006723487356011,0.23795333011095118,0.11028918346564172,-0.4516104630901336,-0.2198664229351268],\"type\":\"scatter3d\"},{\"customdata\":[[\"SHA-256\"],[\"Ethash\"],[\"Scrypt\"],[\"CryptoNight-V7\"],[\"Ethash\"],[\"Equihash\"],[\"Multiple\"],[\"Scrypt\"],[\"X11\"],[\"SHA-256\"],[\"Scrypt\"],[\"SHA-256\"],[\"Multiple\"],[\"Scrypt\"],[\"SHA-256\"],[\"Scrypt\"],[\"Scrypt\"],[\"Quark\"],[\"Groestl\"],[\"Scrypt\"],[\"X11\"],[\"Scrypt\"],[\"Scrypt\"],[\"Scrypt\"],[\"X11\"],[\"Multiple\"],[\"Scrypt\"],[\"SHA-256\"],[\"Scrypt\"],[\"Scrypt\"],[\"Scrypt\"],[\"Scrypt\"],[\"Scrypt\"],[\"Scrypt\"],[\"SHA-256\"],[\"Scrypt\"],[\"NeoScrypt\"],[\"Scrypt\"],[\"Scrypt\"],[\"Scrypt\"],[\"Multiple\"],[\"Scrypt\"],[\"SHA-256\"],[\"Scrypt\"],[\"Scrypt\"],[\"Scrypt\"],[\"Scrypt\"],[\"Scrypt\"],[\"HybridScryptHash256\"],[\"Scrypt\"],[\"SHA-256\"],[\"Scrypt\"],[\"SHA-256\"],[\"Scrypt\"],[\"Scrypt\"],[\"Scrypt\"],[\"Scrypt\"],[\"Scrypt\"],[\"Scrypt-n\"],[\"Scrypt\"],[\"SHA-256\"],[\"SHA-256\"],[\"SHA-256\"],[\"SHA-256\"],[\"SHA-256\"],[\"SHA-256\"],[\"X11\"],[\"Scrypt\"],[\"X11\"],[\"Lyra2REv2\"],[\"Scrypt\"],[\"SHA-256\"],[\"CryptoNight\"],[\"CryptoNight\"],[\"Scrypt\"],[\"SHA-256\"],[\"Scrypt\"],[\"Scrypt\"],[\"Scrypt\"],[\"Scrypt\"],[\"Scrypt\"],[\"Momentum\"],[\"Stanford Folding\"],[\"Multiple\"],[\"QuBit\"],[\"Scrypt\"],[\"Scrypt\"],[\"SHA-256\"],[\"M7 POW\"],[\"Scrypt\"],[\"X11\"],[\"Scrypt\"],[\"SHA-256\"],[\"Scrypt\"],[\"X11\"],[\"X11\"],[\"Lyra2RE\"],[\"SHA-256\"],[\"X11\"],[\"Scrypt\"],[\"Scrypt\"],[\"Ethash\"],[\"Blake2b\"],[\"X11\"],[\"SHA-256\"],[\"Scrypt\"],[\"Scrypt\"],[\"1GB AES Pattern Search\"],[\"Scrypt\"],[\"CryptoNight\"],[\"SHA-256\"],[\"SHA-256\"],[\"X11\"],[\"Scrypt-n\"],[\"X11\"],[\"Scrypt\"],[\"Dagger\"],[\"Scrypt\"],[\"CryptoNight-Lite\"],[\"X11GOST\"],[\"SHA-256\"],[\"Scrypt\"],[\"X11\"],[\"SHA-256\"],[\"Scrypt\"],[\"X11\"],[\"Equihash\"],[\"CryptoNight\"],[\"SHA-256\"],[\"Multiple\"],[\"Scrypt\"],[\"SHA-256\"],[\"Scrypt\"],[\"Scrypt\"],[\"Scrypt-n\"],[\"Lyra2Z\"],[\"SHA-256\"],[\"Quark\"],[\"Ethash\"],[\"SHA-256\"],[\"Equihash\"],[\"Scrypt\"],[\"Equihash\"],[\"X11\"],[\"X11\"],[\"CryptoNight\"],[\"Scrypt\"],[\"CryptoNight\"],[\"Lyra2RE\"],[\"X11\"],[\"X11\"],[\"Scrypt\"],[\"CryptoNight-V7\"],[\"Keccak\"],[\"Scrypt\"],[\"X11\"],[\"Equihash\"],[\"Scrypt\"],[\"Lyra2RE\"],[\"Ethash\"],[\"X11\"],[\"Dagger-Hashimoto\"],[\"Scrypt\"],[\"NIST5\"],[\"Scrypt\"],[\"Scrypt\"],[\"Scrypt\"],[\"SHA-256\"],[\"Scrypt\"],[\"CryptoNight-V7\"],[\"Argon2d\"],[\"Blake2b\"],[\"Cloverhash\"],[\"CryptoNight\"],[\"X11\"],[\"Scrypt\"],[\"Scrypt\"],[\"X11\"],[\"X11\"],[\"CryptoNight\"],[\"Time Travel\"],[\"Scrypt\"],[\"Keccak\"],[\"X11\"],[\"SHA-256\"],[\"Scrypt\"],[\"Scrypt\"],[\"Scrypt\"],[\"Scrypt\"],[\"Scrypt\"],[\"Scrypt\"],[\"Scrypt\"],[\"Scrypt\"],[\"CryptoNight\"],[\"Equihash\"],[\"X11\"],[\"NeoScrypt\"],[\"Equihash\"],[\"Dagger\"],[\"Scrypt\"],[\"X11\"],[\"NeoScrypt\"],[\"Scrypt\"],[\"Ethash\"],[\"Scrypt\"],[\"NeoScrypt\"],[\"Multiple\"],[\"CryptoNight\"],[\"CryptoNight\"],[\"Ethash\"],[\"X11\"],[\"SHA-256\"],[\"CryptoNight-V7\"],[\"Scrypt\"],[\"BLAKE256\"],[\"X11\"],[\"NeoScrypt\"],[\"NeoScrypt\"],[\"Scrypt\"],[\"X11\"],[\"SHA-256\"],[\"C11\"],[\"Ethash\"],[\"CryptoNight\"],[\"SkunkHash\"],[\"CryptoNight\"],[\"Equihash\"],[\"Skein\"],[\"Scrypt\"],[\"Dagger\"],[\"Lyra2REv2\"],[\"Scrypt\"],[\"Scrypt\"],[\"Scrypt\"],[\"NeoScrypt\"],[\"Equihash\"],[\"X11\"],[\"Ethash\"],[\"X11\"],[\"CryptoNight\"],[\"NeoScrypt\"],[\"Scrypt\"],[\"IMesh\"],[\"Equihash\"],[\"Equihash\"],[\"Equihash\"],[\"Lyra2Z\"],[\"X11\"],[\"CryptoNight\"],[\"NIST5\"],[\"Lyra2RE\"],[\"Tribus\"],[\"Lyra2Z\"],[\"CryptoNight\"],[\"CryptoNight Heavy\"],[\"CryptoNight\"],[\"Jump Consistent Hash\"],[\"CryptoNight\"],[\"X16R\"],[\"HMQ1725\"],[\"X11\"],[\"Scrypt\"],[\"CryptoNight-V7\"],[\"Cryptonight-GPU\"],[\"XEVAN\"],[\"CryptoNight Heavy\"],[\"Lyra2REv2\"],[\"SHA-256\"],[\"X11\"],[\"X16R\"],[\"Equihash\"],[\"Quark\"],[\"CryptoNight Heavy X\"],[\"Lyra2Z\"],[\"Ethash\"],[\"SHA-256\"],[\"Ethash\"],[\"CryptoNight\"],[\"SkunkHash\"],[\"Argon2\"],[\"Blake\"],[\"Blake\"],[\"SHA-256\"],[\"Equihash\"],[\"Exosis\"],[\"Scrypt\"],[\"Equihash\"],[\"Equihash\"],[\"QuBit\"],[\"Equihash1927\"],[\"SHA-256\"],[\"SHA-256\"],[\"X13\"],[\"SHA-256\"],[\"X11\"],[\"Scrypt\"],[\"NeoScrypt\"],[\"Blake\"],[\"CryptoNight\"],[\"Scrypt\"],[\"SHA-256\"],[\"CryptoNight\"],[\"Scrypt\"],[\"Groestl\"],[\"Scrypt\"],[\"Scrypt\"],[\"Scrypt\"],[\"Multiple\"],[\"Equihash+Scrypt\"],[\"Ethash\"],[\"Ethash\"],[\"CryptoNight\"],[\"Equihash\"]],\"hovertemplate\":\"<b>%{hovertext}</b><br><br>Class=%{marker.color}<br>PC1=%{x}<br>PC2=%{y}<br>PC3=%{z}<br>Algorithm=%{customdata[0]}<extra></extra>\",\"hovertext\":[\"Bitcoin\",\"Ethereum\",\"Litecoin\",\"Monero\",\"Ethereum Classic\",\"ZCash\",\"DigiByte\",\"ProsperCoin\",\"Spreadcoin\",\"ACoin\",\"Argentum\",\"BetaCoin\",\"MyriadCoin\",\"MoonCoin\",\"ZetaCoin\",\"SexCoin\",\"Quatloo\",\"QuarkCoin\",\"Riecoin\",\"Digitalcoin \",\"LimeCoinX\",\"BitMark\",\"Catcoin\",\"CannaCoin\",\"CryptCoin\",\"Verge\",\"DarkShibe\",\"DevCoin\",\"EarthCoin\",\"E-Gulden\",\"Elacoin\",\"Einsteinium\",\"Emerald\",\"Flappy Coin\",\"FireRoosterCoin\",\"Franko\",\"FeatherCoin\",\"GrandCoin\",\"GlobalCoin\",\"GoldCoin\",\"HunterCoin\",\"Infinite Coin\",\"IXcoin\",\"KrugerCoin\",\"LuckyCoin\",\"Litebar \",\"LitecoinDark\",\"MegaCoin\",\"MediterraneanCoin\",\"MinCoin\",\"NoirBits\",\"NobleCoin\",\"Namecoin\",\"NyanCoin\",\"RipOffCoin\",\"RonPaulCoin\",\"StableCoin\",\"SmartCoin\",\"SpainCoin\",\"SecureCoin\",\"SysCoin\",\"TigerCoin\",\"TerraCoin\",\"Umbrella\",\"UnbreakableCoin\",\"Unobtanium\",\"UroCoin\",\"ViaCoin\",\"VootCoin\",\"Vertcoin\",\"WorldCoin\",\"JouleCoin\",\"ByteCoin\",\"DigitalNote \",\"MonaCoin\",\"Sling Coin\",\"Gulden\",\"PesetaCoin\",\"Wild Beast Coin\",\"Flo\",\"ArtByte\",\"BitCredit\",\"Folding Coin\",\"Unitus\",\"CypherPunkCoin\",\"OmniCron\",\"GreenCoin\",\"Unattanium\",\"Cryptonite\",\"Gridmaster\",\"ConSpiracy Coin \",\"MasterCoin\",\"SoonCoin\",\"1Credit\",\"Quicksilver coin\",\"MarsCoin \",\"Crypto\",\"Anarchists Prime\",\"BowsCoin\",\"Song Coin\",\"BitZeny\",\"Expanse\",\"Siacoin\",\"MindCoin\",\"I0coin\",\"DogeCoinDark\",\"Revolution VR\",\"HOdlcoin\",\"Gamecredits\",\"Dashcoin\",\"CarpeDiemCoin\",\"Phalanx\",\"SunShotCoin\",\"HempCoin\",\"Adzcoin\",\"VirtaCoin\",\"SoilCoin\",\"YoCoin\",\"AEON\",\"SibCoin\",\"Anti Bitcoin\",\"Francs\",\"BolivarCoin\",\"Clinton\",\"Omni\",\"PizzaCoin\",\"Komodo\",\"Karbo\",\"ZayedCoin\",\"Circuits of Value\",\"DopeCoin\",\"DollarCoin\",\"Shilling\",\"GBR Coin\",\"FujiCoin\",\"ZCoin\",\"LeaCoin\",\"Zurcoin\",\"Elementrem\",\"CashOut\",\"ZClassic\",\"KiloCoin\",\"Hush\",\"ArtexCoin\",\"Kurrent\",\"Cannabis Industry Coin\",\"OsmiumCoin\",\"Bikercoins\",\"HexxCoin\",\"MarxCoin\",\"PacCoin\",\"Solarflarecoin\",\"Citadel\",\"CreativeChain\",\"BeaverCoin\",\"VaultCoin\",\"Zero\",\"Canada eCoin\",\"Zoin\",\"Musicoin\",\"BnrtxCoin\",\"DubaiCoin\",\"EB3coin\",\"Coinonat\",\"Bitcoin Scrypt\",\"BenjiRolls\",\"ParallelCoin\",\"ILCoin\",\"EquiTrader\",\"Quantum Resistant Ledger\",\"Dynamic\",\"Nano\",\"ChanCoin\",\"Dinastycoin\",\"DigitalPrice\",\"Unify\",\"SocialCoin\",\"ArcticCoin\",\"DAS\",\"LeviarCoin\",\"Bitcore\",\"gCn Coin\",\"SmartCash\",\"Onix\",\"Bitcoin Cash\",\"CampusCoin\",\"Sojourn Coin\",\"NewYorkCoin\",\"LiteBitcoin\",\"FrazCoin\",\"Kronecoin\",\"AdCoin\",\"Linx\",\"Sumokoin\",\"BitcoinZ\",\"Elements\",\"VIVO Coin\",\"Bitcoin Gold\",\"Pirl\",\"eBoost\",\"Pura\",\"Innova\",\"Bitdeal\",\"Ellaism\",\"Sakuracoin\",\"GoByte\",\"SHIELD\",\"UltraNote\",\"BitCoal\",\"DaxxCoin\",\"AC3\",\"CHIPS\",\"Lethean\",\"PopularCoin\",\"Photon\",\"Sucre\",\"SparksPay\",\"GunCoin\",\"IrishCoin\",\"Pioneer Coin\",\"UnitedBitcoin\",\"Interzone\",\"1717 Masonic Commemorative Token\",\"TurtleCoin\",\"MUNcoin\",\"Niobio Cash\",\"Bitcoin Private\",\"Skeincoin\",\"ShareChain\",\"Travelflex\",\"KREDS\",\"BitFlip\",\"LottoCoin\",\"LeafCoin\",\"Cerberus\",\"Bitcoin Hush\",\"Crypto Improvement Fund\",\"Callisto Network\",\"Curium\",\"BitTube\",\"Dinero\",\"Poseidon\",\"Aidos Kuneen\",\"Snowgem\",\"Bitrolium\",\"Bitcoin Interest\",\"Alpenschillling\",\"FuturoCoin\",\"Monero Classic\",\"Jumpcoin\",\"Infinex\",\"KEYCO\",\"GINcoin\",\"PlatinCoin\",\"Loki\",\"Newton Coin\",\"MassGrid\",\"PluraCoin\",\"Motion\",\"PlusOneCoin\",\"Axe\",\"HexCoin\",\"Webchain\",\"Ryo\",\"Urals Coin\",\"Qwertycoin\",\"NIX\",\"Project Pai\",\"Azart\",\"Xchange\",\"CrypticCoin\",\"ZestCoin\",\"X-CASH\",\"Actinium\",\"ETHER-1\",\"Bitcoin SV\",\"Bitcoiin2Gen\",\"FREDEnergy\",\"C25 Coin\",\"Aquachain\",\"Universal Molecule\",\"Lithium\",\"Smart Bitcoin\",\"PirateCash\",\"Exosis\",\"Block-Logic\",\"Beam\",\"Bithereum\",\"SLICE\",\"Vidulum\",\"BlockStamp\",\"BLAST\",\"Bitcoin Rhodium\",\"GlobalToken\",\"Boolberry\",\"SolarCoin\",\"UFO Coin\",\"BlakeCoin\",\"FantomCoin \",\"Crypto Escudo\",\"Crown Coin\",\"Quazar Coin\",\"SmileyCoin\",\"Groestlcoin\",\"Bata\",\"Pakcoin\",\"Dotcoin\",\"JoinCoin\",\"Vollar\",\"Reality Clash\",\"iOlite\",\"Beldex\",\"Horizen\"],\"legendgroup\":\"3\",\"marker\":{\"color\":[3,3,3,3,3,3,3,3,3,3,3,3,3,3,3,3,3,3,3,3,3,3,3,3,3,3,3,3,3,3,3,3,3,3,3,3,3,3,3,3,3,3,3,3,3,3,3,3,3,3,3,3,3,3,3,3,3,3,3,3,3,3,3,3,3,3,3,3,3,3,3,3,3,3,3,3,3,3,3,3,3,3,3,3,3,3,3,3,3,3,3,3,3,3,3,3,3,3,3,3,3,3,3,3,3,3,3,3,3,3,3,3,3,3,3,3,3,3,3,3,3,3,3,3,3,3,3,3,3,3,3,3,3,3,3,3,3,3,3,3,3,3,3,3,3,3,3,3,3,3,3,3,3,3,3,3,3,3,3,3,3,3,3,3,3,3,3,3,3,3,3,3,3,3,3,3,3,3,3,3,3,3,3,3,3,3,3,3,3,3,3,3,3,3,3,3,3,3,3,3,3,3,3,3,3,3,3,3,3,3,3,3,3,3,3,3,3,3,3,3,3,3,3,3,3,3,3,3,3,3,3,3,3,3,3,3,3,3,3,3,3,3,3,3,3,3,3,3,3,3,3,3,3,3,3,3,3,3,3,3,3,3,3,3,3,3,3,3,3,3,3,3,3,3,3,3,3,3,3,3,3,3,3,3,3,3,3,3,3,3,3,3,3,3,3,3,3,3,3,3,3,3,3,3,3,3,3,3,3,3,3,3,3],\"coloraxis\":\"coloraxis\",\"symbol\":\"diamond\"},\"mode\":\"markers\",\"name\":\"3\",\"scene\":\"scene\",\"showlegend\":true,\"x\":[-0.20342825684806656,-0.2719535517615297,-0.280674967040777,-0.2602252036775673,-0.27187569321471333,-0.20692754385428286,-0.03789446301282776,-0.2814606366387673,-0.27137747135082685,-0.20367419026657693,-0.28137232424953085,-0.20367419032048903,-0.171210061087539,-0.281540448787884,-0.20133924636567163,-0.2797708965837612,-0.2814388314758356,-0.045147152310393505,-0.23588800199694554,-0.28108098237980866,-0.27153042866914023,-0.2815397690511519,-0.2814407222645208,-0.28147523898486365,-0.27146187764717855,0.02415846858668223,-0.2815397690058659,0.05387441579983268,-0.10952366094966873,-0.28125290921605983,-0.28153976913524736,-0.27853718149352136,-0.2812723029368563,-0.28153994634413393,-0.20367419026835476,-0.28152409248287963,-0.26593823049761045,-0.2694109162335056,-0.2806388397324374,-0.28096827612343395,-0.19437032670969664,0.9612953948818062,-0.2033848766517814,-0.2794621390904938,-0.2812746414646702,-0.28152461908896004,-0.2815397691476669,-0.2810163819231997,-0.3626533167046941,-0.28146014419623516,-0.2036741903524105,-0.24908098062528833,-0.2034720294063862,-0.27694807040274816,-0.281539769023522,-0.28152462168652365,-0.2812075741468582,-0.28118866212014626,-0.2700315178884173,-0.2815397690394828,-0.19594607512431492,-0.2030769319640723,-0.20335955174445144,-0.20367419026839464,-0.2036429376680366,-0.2036714340613445,-0.27151386618315554,-0.28122217417105555,-0.2715304286318985,-0.2693880023445271,-0.2798989449708686,-0.20313648468043954,2.3848311212593636,-0.04553642365993086,-0.2806042424332412,-0.20367419026551295,-0.2758461612412909,-0.27965323717013285,-0.2815372733528049,-0.2794508483942604,-0.27066737049742906,-0.2989327909399596,-0.2253486896492111,-0.1934770716080439,-0.2518152322843783,-0.2814006630898246,-0.21829295655052794,-0.20367419026373956,-0.327453004431275,-0.2815397691512082,-0.27153042869042127,-0.2815312707115816,-0.20350322219423875,-0.28153872200918906,-0.27153042869042127,-0.2710883979101029,-0.2803631330271261,-0.20347188130498,-0.27131280105447775,-0.28109302321043333,-0.28050245402497886,-0.27328683563306116,0.3261825010752694,-0.2713127481266038,-0.20338613699710262,-0.2815397982636532,-0.27865889020030027,-0.3417977496627394,-0.28058172455069197,-0.14028423649481692,0.0945649731999899,-0.20367419029034084,-0.27153043262209103,-0.27003152666684105,-0.27091158405248383,-0.2815398062440384,-0.2884425523398107,-0.2815310380068275,-0.4422593101752025,-0.23929938542583953,-0.20367419033822307,-0.28144962759515163,-0.2713431155242541,-0.20367419026803343,-0.2815313122785472,-0.2715115257600945,0.10948044717734483,-0.1401769246535107,-0.2035885343351767,-0.18065185650446494,-0.2799368313380277,-0.20354926007922752,-0.2813872306187031,-0.281539769157415,-0.27003151781748086,-0.29981391547867237,-0.20367419381057741,-0.04870787986227906,-0.27307131486984454,-0.20367419044108126,-0.20695181877668528,-0.27884687846679795,-0.2070288281066339,-0.2602264083773148,-0.27068859755142793,-0.14027081784429704,-0.281527504336175,-0.14015587155428663,-0.2805259244352618,-0.2715304288103754,-0.26416403228812213,-0.28153976903770944,-0.26031069511884924,-0.23137847394299302,-0.28149703242774754,-0.27111358721775713,-0.20693387358253035,-0.28017007015237266,-0.28029724285792623,-0.27343081558989635,-0.27153042900431645,-0.24696127085473257,-0.28066047618465295,-0.21163995672065572,-0.2815397690394828,-0.28126161196157423,-0.28153976900401434,-0.18559671217436674,-0.28135219088309865,-0.25951410858703233,-0.3501087216540203,-0.12604759922428652,-0.26693454025530955,-0.11546111520439305,-0.2710483757554984,-0.281291009303855,-0.2814688751572698,-0.2711731672850901,-0.27149444667658695,-0.14008995825627674,-0.28730423784485903,1.9553267080319516,-0.20063526076070368,-0.2698502519350245,-0.20342731830362856,-0.2815397707933942,-0.28153313122834106,1.6802932626797444,-0.28153977077565984,-0.2814066444067336,-0.2813003303741928,-0.28109190590515243,-0.28107722995298706,-0.14016150220875026,-0.1355343165155851,-0.23445138131121643,-0.26874370040272133,-0.20679283799324769,-0.2880545265088199,-0.2801680591179324,-0.2691267353515928,-0.26871339233096836,-0.2815397695342666,-0.2732558174129153,-0.2815397691886272,-0.26872084078177283,-0.18776172039199074,0.12423274495840135,-0.14022250335910563,-0.2662849930835671,-0.27042861394961326,-0.20367419030098136,-0.2544078997693278,-0.22715699300819336,0.3920999419470504,-0.2714724126921773,-0.2686931965256955,-0.26468808205066635,-0.2809158111651237,-0.2714141220334953,-0.2033975435879303,-0.31513698137849216,-0.08707127595176568,0.5887113453389813,-0.2961821178614254,-0.13844688821425344,-0.2070288281066339,-0.26592433953715017,-0.14435506414792118,-0.28704843716658046,-0.2612581331040571,-0.28136902759555865,-0.08274522230843066,-0.2815398062440384,-0.26880085112131064,-0.2070288281066339,-0.2686317487264783,-0.2700339617429675,-0.27153042867091365,-0.1391860871123331,-0.2688008512427897,-0.2814839319470249,-0.28063754936421453,-0.20702882821852947,-0.20604994006179,-0.20702882810893944,-0.29954267131566725,-0.27109416134615855,-0.14006450959027622,-0.2114897922686234,-0.28048172981219194,-0.21340284909099208,-0.29982189798517866,-0.14028308105894394,0.35696728799497435,0.42621316452459257,-0.3753372838185941,-0.13260071463488685,-0.2603773173229584,-0.2512825828013021,-0.27146193191603085,-0.2815203345884718,-0.26024744365410063,-0.3015869352937943,-0.20731360847436425,1.7224207876208368,-0.2700900278164689,-0.17486540224433247,-0.2714616184467626,-0.2603549853166312,-0.14892958186661184,-0.04870787969078935,-0.3388015396508646,-0.2997306915345793,-0.27343081480740716,-0.20342736048793053,-0.273430814960513,-0.11467111030642944,-0.29624821809256574,-0.3365560313107156,-0.2609482920594691,-0.26075255072036496,-0.20367419030098105,-0.020506617327468182,-0.3168899771699401,-0.281055716801339,-0.20653925028233966,-0.20668379774355908,-0.251725232350075,-0.3420696678208437,-0.20367419044994836,-0.2029567988301511,-0.16610717117460153,-0.20251342809658862,-0.2715304286646181,-0.28077767501567075,-0.21633202292315865,-0.2606495364176739,-0.1402842364947335,-0.2708364719316512,-0.20335884478924843,-0.14028423649481692,0.12430727915944927,-0.23556219354826094,-0.2814704556628858,-0.28058380505619424,-0.28153977058058377,-0.1943246040353214,-0.3899463521317373,-0.27309487764484364,-0.27343081655658996,-0.1268370824682776,-0.2069287307593546],\"y\":[-1.4166498698399894,-2.0981545675498907,-1.0566610586569143,-2.151618684784222,-2.0981617126058216,-1.938778492098835,-1.7476295119949175,-1.0565889357323903,-0.8230053102767534,-1.416627293632188,-1.0565970422472994,-1.4166272932981692,-1.735391492132977,-1.0565774526178384,-1.416841637098001,-1.0567440495353566,-1.0565909365672574,-0.786968522709156,-1.1492047655178543,-1.056623787282462,-0.8229912689520454,-1.0565816713925897,-1.0565907638500813,-1.0565875953381332,-0.8229975618930709,-1.7533259511010195,-1.0565816716731662,-1.4402697455953415,-1.0723724154183902,-1.0566080048817226,-1.0565816708715638,-1.0568573026871084,-1.0566062244403749,-1.0565805729485906,-1.4166272936211746,-1.0565831106612655,-1.5505717993359314,-1.0576950716854063,-1.0566643752556986,-1.0566341333323976,-1.7332654263721547,-1.1706715944662966,-1.4166538520943792,-1.056772392967316,-1.0566060098959857,-1.0565830624264163,-1.0565816707946165,-1.0566297176001964,-2.232263353832069,-1.0565889810571456,-1.4166272931003947,-1.0595611904607367,-1.4166458515671951,-1.057003180937733,-1.0565816715637746,-1.0565830619752579,-1.0566121641124502,-1.056613902367683,-2.15626787425483,-1.0565816714648872,-1.417336716522251,-1.4166821207970353,-1.4166561766657484,-1.4166272936209257,-1.4166301617377668,-1.4166275466634157,-0.8229927895973922,-1.0566108263034593,-0.8229912691827824,-1.4374657302454954,-1.0567322946670843,-1.4166766539448366,-2.506667323017644,-2.283564139344928,-1.0566675508696166,-1.4166272936387807,-1.0571043204513895,-1.056754851445439,-1.0565819007650548,-1.0567734305819796,-1.0575797351164513,-2.227746862682308,-2.166188861940508,-1.7333474266643822,-1.132068486728494,-1.0565944414291604,-1.062387551390756,-1.4166272936497681,-2.2242490667846115,-1.0565816707726767,-0.8229912688201958,-1.0565824518226705,-1.4166429881035176,-1.056580771938574,-0.8229912688201958,-0.8230318467605057,-2.1975484950024478,-1.4166458648081246,-0.8230112469281297,-1.0566226801930327,-1.0566768933654591,-2.0980321733713447,-2.2846386509673744,-0.8230112518409733,-1.4166537363960623,-1.0565814904023638,-1.0568461309334285,-2.2011629956374112,-1.0566696182151285,-2.274866502201153,-1.444005087309605,-1.416627293484956,-0.822991244460974,-2.156267819866852,-0.8230480775264458,-1.0565814409587473,-2.225407233215751,-1.0565824713690695,-2.168598133941343,-2.145527326724054,-1.4166272931882946,-1.0565899463613315,-0.8230084640497888,-1.416627293623165,-1.0565824480069015,-0.822993004175043,-1.170006082785913,-2.2748763534017957,-1.4166351566645756,-1.734524754339966,-1.056728817448335,-1.4166387619883845,-1.056595674227015,-1.0565816707342206,-2.156267874694329,-2.154574034731616,-1.4166272716748272,-0.7866416531391436,-2.0980519578401187,-1.4166272925510208,-1.9387762636876102,-1.0568287678434207,-1.9387691943156729,-0.8240289604186797,-0.8230685458836642,-2.274867733990899,-1.0565827975491218,-2.274878285890819,-2.1975335515338137,-0.8229912680770035,-0.8236664138120373,-1.0565816714758747,-2.1516108347612124,-1.4719197695064272,-1.0565855948298695,-0.8230295239422613,-1.9387779110800296,-1.0567074074637273,-2.197554544132463,-2.0980189514282688,-0.8229912668754136,-2.1584040355651846,-1.0566623465121778,-0.45663055645228046,-1.0565816714648872,-1.0566072058220608,-1.0565816716846366,-1.4182867592287034,-1.0565988903816355,-2.151683961396202,-2.211714249926156,-2.243124420597991,-2.319130071222205,-2.277145216031649,-0.8230355200251035,-1.056604507354148,-1.056588178860905,-0.8230240647326876,-0.8229945720821875,-2.274884336345292,-2.1871437925713284,-1.26192139340748,-1.4747419098438297,-0.8231454956516825,-1.4166499559973378,-1.0565816605982792,-1.05658216737692,-1.2366757900288798,-1.0565816607081537,-1.0565938921708358,-1.056603650989517,-1.056622783953743,-1.0566241311900382,-2.274877768311345,-1.9453320848922375,-0.8263950655318378,-1.5503142636237044,-1.938790857948979,-2.225442852193777,-1.0567075920744813,-0.8232119217981679,-1.55031704567657,-1.056581668399383,-2.098035017961996,-1.056581670540841,-1.5503163620598506,-1.7338720824866187,-2.299147950777282,-2.2748721692996026,-2.0986748267660666,-0.8230924086073196,-1.4166272934190314,-2.1521526960768873,-1.0615738966994857,-1.1853535096341086,-0.8229965947680222,-1.5503188998891129,-1.550686559815526,-1.0566389496472242,-0.8230019457518506,-1.4166526892925753,-1.143553850428224,-0.3397493453628482,-2.3417766717472728,-1.5226422115401816,-2.2750351653186,-1.9387691943156729,-0.8319513568520877,-1.069174968733938,-2.2255352107002704,-1.4382120323177936,-1.0565973451363069,-1.074830593568085,-1.0565814409587473,-1.5503090172017744,-1.9387691943156729,-0.8232573594031868,-2.098330713445631,-0.822991268941058,-2.2749673004837696,-1.5503090164491329,-1.056586797248669,-2.168520368809142,-1.9387691936224072,-1.9388590546330204,-1.9387691943013892,-2.1545989316322163,-0.8230313169581508,-2.274886672890249,-0.4566443416790994,-2.1975376083754634,-2.1209776529352147,-2.1545733020642714,-2.2748666019737684,-2.232345738075601,-2.3268683500944767,-2.2663691372332466,-2.2755718304468546,-1.2535104853214176,-2.245051280410953,-0.822997556878776,-1.056583455514188,-2.151616624235617,-2.1356894183630843,-0.6805991605236527,-2.357690874951486,-1.4374012840929076,-1.4192718860278142,-0.8229975856116115,-1.2535125345315739,-1.9441025592908225,-0.7866416542016318,-2.178766250647755,-2.154581673920684,-2.098018956276294,-1.416649952124865,-2.098018955327705,-2.277217671799895,-1.522636143725196,-2.226751193317134,-1.736917064571109,-1.7369350342759229,-1.4166272934190343,-0.18051451546651232,-2.293157392429517,-1.056626105857246,-1.9388141344050105,-1.9388008676171682,-1.1320767475411817,-2.0443431701910253,-1.4166272924960837,-1.4166931487029402,-0.25848704721239707,-1.41673384852372,-0.8229912689800637,-1.056650569186493,-1.5551255550650218,-1.7369444153761926,-2.2748665022016654,-1.0575642117904527,-1.4166562415634596,-2.274866502201153,-1.0938374438874987,-1.1492346741484067,-1.0565880345299516,-1.0566694261661895,-1.0565816619167756,-1.733269624087789,-2.195155441910561,-2.0980497948218373,-2.0980189454389806,-2.2761009212193475,-1.9387783831422523],\"z\":[0.14558364306427277,0.2474143262850865,-0.08406919710656616,0.2933557568597996,0.24741229388391342,0.18505209763670985,0.20312976245713502,-0.08404869987301003,0.027772583610000515,0.14559005918792134,-0.08405100404802697,0.14559005901633187,0.2066078633167261,-0.0840488027928011,0.14552914324373814,-0.08409278381709007,-0.08404926918472601,0.09622068510945372,0.11043684232240965,-0.08405860460571885,0.027776574018408884,-0.08404663547118774,-0.08404921940748307,-0.08404831887620687,0.027774785647925737,0.20151092507933233,-0.0840466353270524,0.1388709046043879,-0.08853433986722956,-0.0840541191523585,-0.08404663573884473,-0.08412496977252759,-0.08405361326350633,-0.08404719975452359,0.14559005918226336,-0.08404704435500787,0.16301574141049482,-0.08436306595227971,-0.08407013953113635,-0.08406154507041243,0.2072120890954807,-0.1164707512467646,0.14558251134368244,-0.08410083889866843,-0.08405355218673277,-0.08404703056043279,-0.08404663577837357,-0.08406028989419448,0.36556488114573643,-0.08404871265745832,0.1455900589147329,-0.08489351903849525,0.14558478502097086,-0.0841664273749361,-0.08404663538324816,-0.0840470306044879,-0.08405530317564817,-0.08405579542915985,0.28874695572958015,-0.08404663543404768,0.14538843986358974,0.14557447740664273,0.14558185053746958,0.14559005918213583,0.14558924341099264,0.14558998729057598,0.02777614204889391,-0.0840549209923694,0.027776574136941134,0.1314218877216498,-0.08408944332529662,0.14557603105411066,0.20543051369340148,0.26883594525686105,-0.08407104231971438,0.14559005919130802,-0.08419518208171531,-0.08409585288896121,-0.08404670043801037,-0.08410113285513149,-0.0843302846576346,0.28800068565769543,0.2372812200431744,0.20718878572410182,0.12015070703302709,-0.08405026438756504,-0.08569670135476679,0.1455900591969523,0.3054810054844984,-0.0840466357896442,0.027776573950676273,-0.08404685702597987,0.1455855987913861,-0.0840471861702363,0.027776573950676273,0.027765042067942818,0.2663716086673581,0.14558478097081393,0.02777089645873751,-0.08405829140183194,-0.08407369864248121,0.24744910945271628,0.31819303747413535,0.02777089510638646,0.14558254422409506,-0.08404672844795183,-0.08412179407421716,0.24334351033193768,-0.0840716296554076,0.27130782238298135,0.1378093488653695,0.14559005911228648,0.027776561437063432,0.28874692778984906,0.02776042898430654,-0.08404675384770713,0.2777020071850496,-0.08404686405138222,0.23570794800053246,0.29483256903645394,0.14559005895988805,-0.08404898707582535,0.0277716872924631,0.145590059183286,-0.08404685594154637,0.027776080848697877,0.01611297818243527,0.2713050228351272,0.14558782451407976,0.20685418935270644,-0.08408845455771481,0.14558679990583087,-0.08405061497098969,-0.08404663580939964,0.2887469559553556,0.22206746006440567,0.14559004790817226,0.09631357953846452,0.2474434868045428,0.1455900586325134,0.1850527309309761,-0.08411694546970071,0.18505473998238578,0.02748166731253202,0.027754610800324996,0.2713074722971194,-0.08404695529666786,0.27130447350776377,0.2663758559547568,0.027776573568889695,0.02758382746159829,-0.08404663542840328,0.2933579861432832,0.17275722838716934,-0.08404775026415555,0.027765693714207083,0.18505226279205436,-0.08408236915751159,0.2663698899521153,0.2474528631692158,0.02777657295161921,0.34997331731818904,-0.08406959743465457,0.016019053520630346,-0.08404663543404768,-0.08405389219414676,-0.08404663532115984,0.14511843220775186,-0.08405152934118444,0.29333720491798104,0.2715601342637639,0.3299910023703086,0.3536346285620627,0.27066021520032957,0.027763997572063766,-0.08405312517162512,-0.0840484852504103,0.027767253412985405,0.027775635317181177,0.2713027537692185,0.381092957977718,-0.1424040758854734,0.1719551588639546,0.027732734729161965,0.14558361857913732,-0.08404664101634944,-0.08404686823640568,-0.1352277509103375,-0.08404664095990548,-0.08405010843911133,-0.08405288236798522,-0.08405831992321867,-0.08405870279555906,0.2713046200390482,0.18318944206200205,0.026809230294815946,0.16308893343392614,0.18504858337421506,0.277691883487114,-0.08408242162221394,0.027713863595785072,0.16308814264192042,-0.08404663700883251,0.2474482987393208,-0.08404663590874083,0.16308833703531778,0.20703967751007615,0.26440650981975045,0.2713062118971175,0.24726638566351852,0.02774782640766381,0.14559005907842024,0.2932039869296886,-0.0854654242339152,0.06539484647406615,0.02777506048031553,0.16308761590193355,0.16298312608490106,-0.08406291375112923,0.027773539751172374,0.145582841808724,0.05217163385297272,0.11163254495808152,0.25228379207573653,0.09336471357900822,0.2712598870702313,0.18505473998238578,0.06444948781873104,-0.08762562382512143,0.2776656365305803,0.13120978653190035,-0.0840510899159304,-0.089232974829281,-0.08404675384770713,0.16309042438002028,0.18505473998238578,0.027700949325362344,0.24736421023351332,0.02777657401276451,0.2712791678197478,0.16309042399337959,-0.0840480921353252,0.2944172727986645,0.18505473962624738,0.18502920206534074,0.1850547399750479,0.2220603821485178,0.027765192045584357,0.2713020900564291,0.016015136123069464,0.2663747028944161,0.26305570454338256,0.22206766837738157,0.27130778893006763,0.3086868099306492,0.2565277557366527,0.29800833276979344,0.2711073658852507,0.10721089496285596,0.2633367016966963,0.02777478704664215,-0.08404714245437353,0.29335632710690324,0.2699923931263587,0.07637360329016098,0.2730632425602222,0.13144020193611922,0.14483847160993515,0.027774778845962973,0.10721031191275192,0.183538979567203,0.09631358008427704,0.25683949654095467,0.22206528852732385,0.2474528656597022,0.14558361967965897,0.24745286517240075,0.27063957062498745,0.09336643808906561,0.22088570185023895,0.18907227907856666,0.18906717295178266,0.14559005907842146,0.04923017488143011,0.30658713475218247,-0.08405926415341464,0.18504196629660477,0.1850457386305992,0.12014835850826566,0.184137522221805,0.14559005860429144,0.14557134322683676,-0.025610608175777712,0.14555977579501797,0.027776574032802134,-0.08406707539354365,0.1617215731971914,0.18906444578081283,0.2713078223832452,-0.08432587306912917,0.14558183209412842,0.27130782238298135,-0.09463482633694752,0.11042834237666962,-0.08404844361917696,-0.08407157593599958,-0.08404664033902265,0.20721089648642002,0.24800233128159727,0.2474441015297856,0.24745286009244974,0.2709569995760219,0.18505212860118306],\"type\":\"scatter3d\"},{\"customdata\":[[\"SHA-256 + Hive\"],[\"ECC 256K1\"]],\"hovertemplate\":\"<b>%{hovertext}</b><br><br>Class=%{marker.color}<br>PC1=%{x}<br>PC2=%{y}<br>PC3=%{z}<br>Algorithm=%{customdata[0]}<extra></extra>\",\"hovertext\":[\"LitecoinCash\",\"Acute Angle Cloud\"],\"legendgroup\":\"1\",\"marker\":{\"color\":[1,1],\"coloraxis\":\"coloraxis\",\"symbol\":\"square\"},\"mode\":\"markers\",\"name\":\"1\",\"scene\":\"scene\",\"showlegend\":true,\"x\":[0.09587128235550454,0.1128756140348761],\"y\":[2.667875907828556,0.9029548752471462],\"z\":[21.2237174632324,25.942566364389144],\"type\":\"scatter3d\"},{\"customdata\":[[\"TRC10\"]],\"hovertemplate\":\"<b>%{hovertext}</b><br><br>Class=%{marker.color}<br>PC1=%{x}<br>PC2=%{y}<br>PC3=%{z}<br>Algorithm=%{customdata[0]}<extra></extra>\",\"hovertext\":[\"BitTorrent\"],\"legendgroup\":\"2\",\"marker\":{\"color\":[2],\"coloraxis\":\"coloraxis\",\"symbol\":\"x\"},\"mode\":\"markers\",\"name\":\"2\",\"scene\":\"scene\",\"showlegend\":true,\"x\":[32.057660024325365],\"y\":[-2.2560183537120344],\"z\":[-0.536685169168685],\"type\":\"scatter3d\"}],                        {\"template\":{\"data\":{\"bar\":[{\"error_x\":{\"color\":\"#2a3f5f\"},\"error_y\":{\"color\":\"#2a3f5f\"},\"marker\":{\"line\":{\"color\":\"#E5ECF6\",\"width\":0.5},\"pattern\":{\"fillmode\":\"overlay\",\"size\":10,\"solidity\":0.2}},\"type\":\"bar\"}],\"barpolar\":[{\"marker\":{\"line\":{\"color\":\"#E5ECF6\",\"width\":0.5},\"pattern\":{\"fillmode\":\"overlay\",\"size\":10,\"solidity\":0.2}},\"type\":\"barpolar\"}],\"carpet\":[{\"aaxis\":{\"endlinecolor\":\"#2a3f5f\",\"gridcolor\":\"white\",\"linecolor\":\"white\",\"minorgridcolor\":\"white\",\"startlinecolor\":\"#2a3f5f\"},\"baxis\":{\"endlinecolor\":\"#2a3f5f\",\"gridcolor\":\"white\",\"linecolor\":\"white\",\"minorgridcolor\":\"white\",\"startlinecolor\":\"#2a3f5f\"},\"type\":\"carpet\"}],\"choropleth\":[{\"colorbar\":{\"outlinewidth\":0,\"ticks\":\"\"},\"type\":\"choropleth\"}],\"contour\":[{\"colorbar\":{\"outlinewidth\":0,\"ticks\":\"\"},\"colorscale\":[[0.0,\"#0d0887\"],[0.1111111111111111,\"#46039f\"],[0.2222222222222222,\"#7201a8\"],[0.3333333333333333,\"#9c179e\"],[0.4444444444444444,\"#bd3786\"],[0.5555555555555556,\"#d8576b\"],[0.6666666666666666,\"#ed7953\"],[0.7777777777777778,\"#fb9f3a\"],[0.8888888888888888,\"#fdca26\"],[1.0,\"#f0f921\"]],\"type\":\"contour\"}],\"contourcarpet\":[{\"colorbar\":{\"outlinewidth\":0,\"ticks\":\"\"},\"type\":\"contourcarpet\"}],\"heatmap\":[{\"colorbar\":{\"outlinewidth\":0,\"ticks\":\"\"},\"colorscale\":[[0.0,\"#0d0887\"],[0.1111111111111111,\"#46039f\"],[0.2222222222222222,\"#7201a8\"],[0.3333333333333333,\"#9c179e\"],[0.4444444444444444,\"#bd3786\"],[0.5555555555555556,\"#d8576b\"],[0.6666666666666666,\"#ed7953\"],[0.7777777777777778,\"#fb9f3a\"],[0.8888888888888888,\"#fdca26\"],[1.0,\"#f0f921\"]],\"type\":\"heatmap\"}],\"heatmapgl\":[{\"colorbar\":{\"outlinewidth\":0,\"ticks\":\"\"},\"colorscale\":[[0.0,\"#0d0887\"],[0.1111111111111111,\"#46039f\"],[0.2222222222222222,\"#7201a8\"],[0.3333333333333333,\"#9c179e\"],[0.4444444444444444,\"#bd3786\"],[0.5555555555555556,\"#d8576b\"],[0.6666666666666666,\"#ed7953\"],[0.7777777777777778,\"#fb9f3a\"],[0.8888888888888888,\"#fdca26\"],[1.0,\"#f0f921\"]],\"type\":\"heatmapgl\"}],\"histogram\":[{\"marker\":{\"pattern\":{\"fillmode\":\"overlay\",\"size\":10,\"solidity\":0.2}},\"type\":\"histogram\"}],\"histogram2d\":[{\"colorbar\":{\"outlinewidth\":0,\"ticks\":\"\"},\"colorscale\":[[0.0,\"#0d0887\"],[0.1111111111111111,\"#46039f\"],[0.2222222222222222,\"#7201a8\"],[0.3333333333333333,\"#9c179e\"],[0.4444444444444444,\"#bd3786\"],[0.5555555555555556,\"#d8576b\"],[0.6666666666666666,\"#ed7953\"],[0.7777777777777778,\"#fb9f3a\"],[0.8888888888888888,\"#fdca26\"],[1.0,\"#f0f921\"]],\"type\":\"histogram2d\"}],\"histogram2dcontour\":[{\"colorbar\":{\"outlinewidth\":0,\"ticks\":\"\"},\"colorscale\":[[0.0,\"#0d0887\"],[0.1111111111111111,\"#46039f\"],[0.2222222222222222,\"#7201a8\"],[0.3333333333333333,\"#9c179e\"],[0.4444444444444444,\"#bd3786\"],[0.5555555555555556,\"#d8576b\"],[0.6666666666666666,\"#ed7953\"],[0.7777777777777778,\"#fb9f3a\"],[0.8888888888888888,\"#fdca26\"],[1.0,\"#f0f921\"]],\"type\":\"histogram2dcontour\"}],\"mesh3d\":[{\"colorbar\":{\"outlinewidth\":0,\"ticks\":\"\"},\"type\":\"mesh3d\"}],\"parcoords\":[{\"line\":{\"colorbar\":{\"outlinewidth\":0,\"ticks\":\"\"}},\"type\":\"parcoords\"}],\"pie\":[{\"automargin\":true,\"type\":\"pie\"}],\"scatter\":[{\"marker\":{\"colorbar\":{\"outlinewidth\":0,\"ticks\":\"\"}},\"type\":\"scatter\"}],\"scatter3d\":[{\"line\":{\"colorbar\":{\"outlinewidth\":0,\"ticks\":\"\"}},\"marker\":{\"colorbar\":{\"outlinewidth\":0,\"ticks\":\"\"}},\"type\":\"scatter3d\"}],\"scattercarpet\":[{\"marker\":{\"colorbar\":{\"outlinewidth\":0,\"ticks\":\"\"}},\"type\":\"scattercarpet\"}],\"scattergeo\":[{\"marker\":{\"colorbar\":{\"outlinewidth\":0,\"ticks\":\"\"}},\"type\":\"scattergeo\"}],\"scattergl\":[{\"marker\":{\"colorbar\":{\"outlinewidth\":0,\"ticks\":\"\"}},\"type\":\"scattergl\"}],\"scattermapbox\":[{\"marker\":{\"colorbar\":{\"outlinewidth\":0,\"ticks\":\"\"}},\"type\":\"scattermapbox\"}],\"scatterpolar\":[{\"marker\":{\"colorbar\":{\"outlinewidth\":0,\"ticks\":\"\"}},\"type\":\"scatterpolar\"}],\"scatterpolargl\":[{\"marker\":{\"colorbar\":{\"outlinewidth\":0,\"ticks\":\"\"}},\"type\":\"scatterpolargl\"}],\"scatterternary\":[{\"marker\":{\"colorbar\":{\"outlinewidth\":0,\"ticks\":\"\"}},\"type\":\"scatterternary\"}],\"surface\":[{\"colorbar\":{\"outlinewidth\":0,\"ticks\":\"\"},\"colorscale\":[[0.0,\"#0d0887\"],[0.1111111111111111,\"#46039f\"],[0.2222222222222222,\"#7201a8\"],[0.3333333333333333,\"#9c179e\"],[0.4444444444444444,\"#bd3786\"],[0.5555555555555556,\"#d8576b\"],[0.6666666666666666,\"#ed7953\"],[0.7777777777777778,\"#fb9f3a\"],[0.8888888888888888,\"#fdca26\"],[1.0,\"#f0f921\"]],\"type\":\"surface\"}],\"table\":[{\"cells\":{\"fill\":{\"color\":\"#EBF0F8\"},\"line\":{\"color\":\"white\"}},\"header\":{\"fill\":{\"color\":\"#C8D4E3\"},\"line\":{\"color\":\"white\"}},\"type\":\"table\"}]},\"layout\":{\"annotationdefaults\":{\"arrowcolor\":\"#2a3f5f\",\"arrowhead\":0,\"arrowwidth\":1},\"autotypenumbers\":\"strict\",\"coloraxis\":{\"colorbar\":{\"outlinewidth\":0,\"ticks\":\"\"}},\"colorscale\":{\"diverging\":[[0,\"#8e0152\"],[0.1,\"#c51b7d\"],[0.2,\"#de77ae\"],[0.3,\"#f1b6da\"],[0.4,\"#fde0ef\"],[0.5,\"#f7f7f7\"],[0.6,\"#e6f5d0\"],[0.7,\"#b8e186\"],[0.8,\"#7fbc41\"],[0.9,\"#4d9221\"],[1,\"#276419\"]],\"sequential\":[[0.0,\"#0d0887\"],[0.1111111111111111,\"#46039f\"],[0.2222222222222222,\"#7201a8\"],[0.3333333333333333,\"#9c179e\"],[0.4444444444444444,\"#bd3786\"],[0.5555555555555556,\"#d8576b\"],[0.6666666666666666,\"#ed7953\"],[0.7777777777777778,\"#fb9f3a\"],[0.8888888888888888,\"#fdca26\"],[1.0,\"#f0f921\"]],\"sequentialminus\":[[0.0,\"#0d0887\"],[0.1111111111111111,\"#46039f\"],[0.2222222222222222,\"#7201a8\"],[0.3333333333333333,\"#9c179e\"],[0.4444444444444444,\"#bd3786\"],[0.5555555555555556,\"#d8576b\"],[0.6666666666666666,\"#ed7953\"],[0.7777777777777778,\"#fb9f3a\"],[0.8888888888888888,\"#fdca26\"],[1.0,\"#f0f921\"]]},\"colorway\":[\"#636efa\",\"#EF553B\",\"#00cc96\",\"#ab63fa\",\"#FFA15A\",\"#19d3f3\",\"#FF6692\",\"#B6E880\",\"#FF97FF\",\"#FECB52\"],\"font\":{\"color\":\"#2a3f5f\"},\"geo\":{\"bgcolor\":\"white\",\"lakecolor\":\"white\",\"landcolor\":\"#E5ECF6\",\"showlakes\":true,\"showland\":true,\"subunitcolor\":\"white\"},\"hoverlabel\":{\"align\":\"left\"},\"hovermode\":\"closest\",\"mapbox\":{\"style\":\"light\"},\"paper_bgcolor\":\"white\",\"plot_bgcolor\":\"#E5ECF6\",\"polar\":{\"angularaxis\":{\"gridcolor\":\"white\",\"linecolor\":\"white\",\"ticks\":\"\"},\"bgcolor\":\"#E5ECF6\",\"radialaxis\":{\"gridcolor\":\"white\",\"linecolor\":\"white\",\"ticks\":\"\"}},\"scene\":{\"xaxis\":{\"backgroundcolor\":\"#E5ECF6\",\"gridcolor\":\"white\",\"gridwidth\":2,\"linecolor\":\"white\",\"showbackground\":true,\"ticks\":\"\",\"zerolinecolor\":\"white\"},\"yaxis\":{\"backgroundcolor\":\"#E5ECF6\",\"gridcolor\":\"white\",\"gridwidth\":2,\"linecolor\":\"white\",\"showbackground\":true,\"ticks\":\"\",\"zerolinecolor\":\"white\"},\"zaxis\":{\"backgroundcolor\":\"#E5ECF6\",\"gridcolor\":\"white\",\"gridwidth\":2,\"linecolor\":\"white\",\"showbackground\":true,\"ticks\":\"\",\"zerolinecolor\":\"white\"}},\"shapedefaults\":{\"line\":{\"color\":\"#2a3f5f\"}},\"ternary\":{\"aaxis\":{\"gridcolor\":\"white\",\"linecolor\":\"white\",\"ticks\":\"\"},\"baxis\":{\"gridcolor\":\"white\",\"linecolor\":\"white\",\"ticks\":\"\"},\"bgcolor\":\"#E5ECF6\",\"caxis\":{\"gridcolor\":\"white\",\"linecolor\":\"white\",\"ticks\":\"\"}},\"title\":{\"x\":0.05},\"xaxis\":{\"automargin\":true,\"gridcolor\":\"white\",\"linecolor\":\"white\",\"ticks\":\"\",\"title\":{\"standoff\":15},\"zerolinecolor\":\"white\",\"zerolinewidth\":2},\"yaxis\":{\"automargin\":true,\"gridcolor\":\"white\",\"linecolor\":\"white\",\"ticks\":\"\",\"title\":{\"standoff\":15},\"zerolinecolor\":\"white\",\"zerolinewidth\":2}}},\"scene\":{\"domain\":{\"x\":[0.0,1.0],\"y\":[0.0,1.0]},\"xaxis\":{\"title\":{\"text\":\"PC1\"}},\"yaxis\":{\"title\":{\"text\":\"PC2\"}},\"zaxis\":{\"title\":{\"text\":\"PC3\"}}},\"coloraxis\":{\"colorbar\":{\"title\":{\"text\":\"Class\"}},\"colorscale\":[[0.0,\"#0d0887\"],[0.1111111111111111,\"#46039f\"],[0.2222222222222222,\"#7201a8\"],[0.3333333333333333,\"#9c179e\"],[0.4444444444444444,\"#bd3786\"],[0.5555555555555556,\"#d8576b\"],[0.6666666666666666,\"#ed7953\"],[0.7777777777777778,\"#fb9f3a\"],[0.8888888888888888,\"#fdca26\"],[1.0,\"#f0f921\"]]},\"legend\":{\"title\":{\"text\":\"Class\"},\"tracegroupgap\":0,\"x\":0,\"y\":1},\"margin\":{\"t\":60},\"width\":800},                        {\"responsive\": true}                    ).then(function(){\n",
       "                            \n",
       "var gd = document.getElementById('4be66a9d-93b1-4551-9485-6ce47daa80d2');\n",
       "var x = new MutationObserver(function (mutations, observer) {{\n",
       "        var display = window.getComputedStyle(gd).display;\n",
       "        if (!display || display === 'none') {{\n",
       "            console.log([gd, 'removed!']);\n",
       "            Plotly.purge(gd);\n",
       "            observer.disconnect();\n",
       "        }}\n",
       "}});\n",
       "\n",
       "// Listen for the removal of the full notebook cells\n",
       "var notebookContainer = gd.closest('#notebook-container');\n",
       "if (notebookContainer) {{\n",
       "    x.observe(notebookContainer, {childList: true});\n",
       "}}\n",
       "\n",
       "// Listen for the clearing of the current output cell\n",
       "var outputEl = gd.closest('.output');\n",
       "if (outputEl) {{\n",
       "    x.observe(outputEl, {childList: true});\n",
       "}}\n",
       "\n",
       "                        })                };                });            </script>        </div>"
      ]
     },
     "metadata": {},
     "output_type": "display_data"
    }
   ],
   "source": [
    "# Creating a 3D-Scatter with the PCA data and the clusters\n",
    "fig = px.scatter_3d(clustered_df, x=\"PC1\", y=\"PC2\", z=\"PC3\", color=\"Class\", symbol=\"Class\", width=800, \n",
    "                    hover_name=\"CoinName\", hover_data=[\"Algorithm\"])\n",
    "fig.update_layout(legend=dict(x=0, y=1))\n",
    "fig.show()\n"
   ]
  },
  {
   "cell_type": "code",
   "execution_count": 142,
   "metadata": {},
   "outputs": [
    {
     "data": {},
     "metadata": {},
     "output_type": "display_data"
    },
    {
     "data": {
      "application/vnd.holoviews_exec.v0+json": "",
      "text/html": [
       "<div id='1772'>\n",
       "\n",
       "\n",
       "\n",
       "\n",
       "\n",
       "  <div class=\"bk-root\" id=\"34254da3-69ff-4a22-a2b7-846d99d7409b\" data-root-id=\"1772\"></div>\n",
       "</div>\n",
       "<script type=\"application/javascript\">(function(root) {\n",
       "  function embed_document(root) {\n",
       "    var docs_json = {\"28658e53-b9dc-49b1-a6a6-94de1e1268b4\":{\"defs\":[{\"extends\":null,\"module\":null,\"name\":\"ReactiveHTML1\",\"overrides\":[],\"properties\":[]},{\"extends\":null,\"module\":null,\"name\":\"FlexBox1\",\"overrides\":[],\"properties\":[{\"default\":\"flex-start\",\"kind\":null,\"name\":\"align_content\"},{\"default\":\"flex-start\",\"kind\":null,\"name\":\"align_items\"},{\"default\":\"row\",\"kind\":null,\"name\":\"flex_direction\"},{\"default\":\"wrap\",\"kind\":null,\"name\":\"flex_wrap\"},{\"default\":\"flex-start\",\"kind\":null,\"name\":\"justify_content\"}]},{\"extends\":null,\"module\":null,\"name\":\"TemplateActions1\",\"overrides\":[],\"properties\":[{\"default\":0,\"kind\":null,\"name\":\"open_modal\"},{\"default\":0,\"kind\":null,\"name\":\"close_modal\"}]},{\"extends\":null,\"module\":null,\"name\":\"MaterialTemplateActions1\",\"overrides\":[],\"properties\":[{\"default\":0,\"kind\":null,\"name\":\"open_modal\"},{\"default\":0,\"kind\":null,\"name\":\"close_modal\"}]}],\"roots\":{\"references\":[{\"attributes\":{},\"id\":\"1782\",\"type\":\"StringEditor\"},{\"attributes\":{\"editor\":{\"id\":\"1797\"},\"field\":\"TotalCoinsMined\",\"formatter\":{\"id\":\"1796\"},\"title\":\"TotalCoinsMined\"},\"id\":\"1798\",\"type\":\"TableColumn\"},{\"attributes\":{},\"id\":\"1801\",\"type\":\"NumberFormatter\"},{\"attributes\":{},\"id\":\"1781\",\"type\":\"StringFormatter\"},{\"attributes\":{\"data\":{\"Algorithm\":[\"Scrypt\",\"Scrypt\",\"SHA-256\",\"X13\",\"SHA-256\",\"Ethash\",\"Scrypt\",\"X11\",\"CryptoNight-V7\",\"Ethash\",\"Equihash\",\"SHA-512\",\"Multiple\",\"SHA-256\",\"X11\",\"SHA-256\",\"Scrypt\",\"X15\",\"X11\",\"SHA-256\",\"X13\",\"X13\",\"Scrypt\",\"Scrypt\",\"Scrypt\",\"SHA-256\",\"Scrypt\",\"Multiple\",\"Scrypt\",\"SHA-256\",\"Scrypt\",\"Scrypt\",\"Scrypt\",\"Quark\",\"Groestl\",\"Scrypt\",\"X11\",\"Scrypt\",\"Scrypt\",\"Scrypt\",\"Scrypt\",\"Scrypt\",\"Scrypt\",\"Multiple\",\"Scrypt\",\"X11\",\"Scrypt\",\"SHA-256\",\"Groestl\",\"Multiple\",\"X11\",\"Scrypt\",\"SHA-256\",\"Scrypt\",\"Scrypt\",\"Scrypt\",\"Scrypt\",\"Scrypt\",\"PoS\",\"Scrypt\",\"X11\",\"NIST5\",\"SHA-256\",\"Scrypt\",\"Scrypt\",\"NeoScrypt\",\"Scrypt\",\"Scrypt\",\"Scrypt\",\"X11\",\"X15\",\"Scrypt\",\"Multiple\",\"X11\",\"Scrypt\",\"X11\",\"SHA-256\",\"X11\",\"X13\",\"Scrypt\",\"Scrypt\",\"Scrypt\",\"Scrypt\",\"X11\",\"SHA3\",\"Scrypt\",\"HybridScryptHash256\",\"Scrypt\",\"Scrypt\",\"SHA-256\",\"Scrypt\",\"X13\",\"SHA-256\",\"Scrypt\",\"SHA-256\",\"Scrypt\",\"X13\",\"NeoScrypt\",\"Scrypt\",\"Scrypt\",\"Scrypt\",\"Scrypt\",\"Scrypt\",\"Scrypt\",\"X15\",\"Scrypt\",\"Scrypt\",\"Scrypt-n\",\"Scrypt\",\"X11\",\"X11\",\"SHA-256\",\"Multiple\",\"SHA-256\",\"PHI1612\",\"X11\",\"SHA-256\",\"SHA-256\",\"SHA-256\",\"SHA-256\",\"X11\",\"Scrypt\",\"Scrypt\",\"X13\",\"Scrypt\",\"X11\",\"Scrypt\",\"Lyra2REv2\",\"Scrypt\",\"Scrypt\",\"X11\",\"Multiple\",\"SHA-256\",\"X13\",\"Scrypt\",\"Scrypt\",\"CryptoNight\",\"CryptoNight\",\"Shabal256\",\"Counterparty\",\"Scrypt\",\"SHA-256\",\"SHA-256\",\"Scrypt\",\"Groestl\",\"Scrypt\",\"Scrypt\",\"Scrypt\",\"X13\",\"Scrypt\",\"Scrypt\",\"Scrypt\",\"SHA-256\",\"Scrypt\",\"X13\",\"X13\",\"Scrypt\",\"X11\",\"Momentum\",\"Stanford Folding\",\"X11\",\"Multiple\",\"QuBit\",\"X15\",\"Scrypt\",\"Scrypt\",\"Scrypt\",\"Scrypt\",\"SHA-256\",\"M7 POW\",\"Scrypt\",\"X11\",\"Scrypt\",\"SHA-256\",\"Scrypt\",\"Scrypt\",\"X11\",\"X11\",\"SHA3\",\"X11\",\"Scrypt\",\"Lyra2RE\",\"SHA-256\",\"QUAIT\",\"X11\",\"vDPOS\",\"X11\",\"X11\",\"Scrypt\",\"Scrypt\",\"Scrypt\",\"Ethash\",\"X11\",\"X13\",\"Blake2b\",\"SHA-256\",\"X13\",\"X15\",\"X11\",\"SHA-256\",\"BLAKE256\",\"Scrypt\",\"Scrypt\",\"1GB AES Pattern Search\",\"SHA-256\",\"X11\",\"Scrypt\",\"CryptoNight\",\"SHA-256\",\"Quark\",\"SHA-256\",\"NIST5\",\"Blake\",\"Scrypt\",\"Scrypt\",\"SHA-256\",\"X11\",\"Scrypt\",\"Scrypt-n\",\"X11\",\"Scrypt\",\"Dagger\",\"Scrypt\",\"SHA-256\",\"CryptoNight-Lite\",\"X11GOST\",\"X11\",\"SHA-256\",\"Scrypt\",\"SHA-256\",\"Scrypt\",\"PoS\",\"Scrypt\",\"X11\",\"X11\",\"X11\",\"X11\",\"PoS\",\"SHA-256\",\"SHA-256\",\"SHA-256\",\"NIST5\",\"X15\",\"X11\",\"NIST5\",\"Scrypt\",\"Scrypt\",\"Scrypt\",\"POS 3.0\",\"Scrypt\",\"Scrypt\",\"Scrypt\",\"X13\",\"X11\",\"X11\",\"Equihash\",\"X11\",\"X11\",\"Scrypt\",\"CryptoNight\",\"SHA-256\",\"SHA-256\",\"X11\",\"Scrypt\",\"Multiple\",\"Scrypt\",\"Scrypt\",\"X11\",\"Scrypt\",\"SHA-256\",\"Scrypt\",\"Scrypt\",\"SHA-256D\",\"PoS\",\"Scrypt\",\"Scrypt\",\"X11\",\"Scrypt-n\",\"Lyra2Z\",\"SHA-256\",\"PoS\",\"X13\",\"Quark\",\"X14\",\"PoS\",\"SHA-256D\",\"Ethash\",\"SHA-256\",\"Equihash\",\"DPoS\",\"X11\",\"Scrypt\",\"Scrypt\",\"Equihash\",\"X11\",\"X13\",\"X11\",\"PoS\",\"SHA-256D\",\"Scrypt\",\"Scrypt\",\"Scrypt\",\"X11\",\"PoS\",\"X11\",\"SHA-256\",\"Scrypt\",\"X11\",\"Scrypt\",\"Scrypt\",\"X11\",\"CryptoNight\",\"Scrypt\",\"Scrypt\",\"Scrypt\",\"Scrypt\",\"Quark\",\"QuBit\",\"Scrypt\",\"CryptoNight\",\"X11\",\"Lyra2RE\",\"X13\",\"PoS\",\"Scrypt\",\"SHA-256\",\"X11\",\"X11\",\"X11\",\"Scrypt\",\"X11\",\"Scrypt\",\"Scrypt\",\"CryptoNight-V7\",\"Scrypt\",\"Scrypt\",\"Keccak\",\"Scrypt\",\"X13\",\"X11\",\"Equihash\",\"Scrypt\",\"Scrypt\",\"Lyra2RE\",\"Ethash\",\"X11\",\"Scrypt\",\"Dagger-Hashimoto\",\"X11\",\"Blake2S\",\"X11\",\"Scrypt\",\"Scrypt\",\"PoS\",\"X11\",\"NIST5\",\"PoS\",\"X11\",\"Scrypt\",\"Scrypt\",\"Scrypt\",\"Scrypt\",\"SHA-256\",\"X11\",\"Scrypt\",\"Scrypt\",\"Scrypt\",\"SHA-256\",\"PoS\",\"Scrypt\",\"X11\",\"X15\",\"SHA-256\",\"Scrypt\",\"POS 3.0\",\"CryptoNight-V7\",\"536\",\"Argon2d\",\"Blake2b\",\"Cloverhash\",\"CryptoNight\",\"NIST5\",\"X11\",\"NIST5\",\"Skein\",\"Scrypt\",\"X13\",\"Scrypt\",\"X11\",\"X11\",\"X11\",\"Scrypt\",\"CryptoNight\",\"X13\",\"Time Travel\",\"Scrypt\",\"Keccak\",\"SkunkHash v2 Raptor\",\"X11\",\"Skein\",\"SHA-256\",\"X11\",\"Scrypt\",\"Scrypt\",\"VeChainThor Authority\",\"Scrypt\",\"PoS\",\"Scrypt\",\"Scrypt\",\"Scrypt\",\"Scrypt\",\"Scrypt\",\"Scrypt\",\"Scrypt\",\"Scrypt\",\"CryptoNight\",\"SHA-512\",\"Ouroboros\",\"X11\",\"Equihash\",\"NeoScrypt\",\"X11\",\"Scrypt\",\"NeoScrypt\",\"Lyra2REv2\",\"Equihash\",\"Scrypt\",\"SHA-256\",\"NIST5\",\"PHI1612\",\"Dagger\",\"Scrypt\",\"Quark\",\"Scrypt\",\"POS 2.0\",\"Scrypt\",\"SkunkHash\",\"X11\",\"Quark\",\"SHA-256\",\"X11\",\"NeoScrypt\",\"Scrypt\",\"Ethash\",\"Scrypt\",\"NeoScrypt\",\"Quark\",\"X11\",\"DPoS\",\"NIST5\",\"X13\",\"Multiple\",\"Scrypt\",\"CryptoNight\",\"CryptoNight\",\"Ethash\",\"NIST5\",\"Quark\",\"X11\",\"SHA-256\",\"CryptoNight-V7\",\"Scrypt\",\"Scrypt\",\"Scrypt\",\"X11\",\"SHA-256\",\"BLAKE256\",\"X11\",\"Scrypt\",\"NeoScrypt\",\"Quark\",\"NeoScrypt\",\"Scrypt\",\"Scrypt\",\"Scrypt\",\"X11\",\"X11\",\"SHA-256\",\"C11\",\"Scrypt\",\"Scrypt\",\"POS 3.0\",\"Ethash\",\"Scrypt\",\"CryptoNight\",\"SkunkHash\",\"Scrypt\",\"CryptoNight\",\"Equihash\",\"Skein\",\"Scrypt\",\"Dagger\",\"Lyra2REv2\",\"X13\",\"Proof-of-BibleHash\",\"SHA-256 + Hive\",\"Scrypt\",\"Scrypt\",\"Scrypt\",\"NeoScrypt\",\"Equihash\",\"X11\",\"C11\",\"Proof-of-Authority\",\"X11\",\"XEVAN\",\"Scrypt\",\"VBFT\",\"Ethash\",\"X11\",\"CryptoNight\",\"NeoScrypt\",\"Scrypt\",\"IMesh\",\"NIST5\",\"Equihash\",\"Scrypt\",\"Scrypt\",\"Equihash\",\"Equihash\",\"Scrypt\",\"Lyra2Z\",\"Equihash\",\"Green Protocol\",\"PoS\",\"Scrypt\",\"Scrypt\",\"Semux BFT consensus\",\"Scrypt\",\"X11\",\"Quark\",\"PoS\",\"CryptoNight\",\"X16R\",\"Scrypt\",\"NIST5\",\"Lyra2RE\",\"XEVAN\",\"Tribus\",\"Scrypt\",\"Lyra2Z\",\"CryptoNight\",\"CryptoNight Heavy\",\"CryptoNight\",\"Scrypt\",\"Scrypt\",\"Jump Consistent Hash\",\"SHA-256D\",\"CryptoNight\",\"Scrypt\",\"X15\",\"Scrypt\",\"Quark\",\"SHA-256\",\"DPoS\",\"X16R\",\"HMQ1725\",\"X11\",\"X16R\",\"Quark\",\"Quark\",\"Scrypt\",\"Zhash\",\"Lyra2REv2\",\"Quark\",\"Scrypt\",\"Scrypt\",\"CryptoNight-V7\",\"Cryptonight-GPU\",\"Scrypt\",\"XEVAN\",\"CryptoNight Heavy\",\"X11\",\"X11\",\"Scrypt\",\"PoS\",\"Lyra2REv2\",\"Scrypt\",\"SHA-256\",\"Scrypt\",\"Keccak\",\"X11\",\"X11\",\"Quark\",\"Scrypt\",\"SHA-512\",\"X16R\",\"ECC 256K1\",\"NeoScrypt\",\"Equihash\",\"XEVAN\",\"Quark\",\"CryptoNight Heavy X\",\"Lyra2Z\",\"Ethash\",\"SHA-256\",\"XEVAN\",\"Ethash\",\"X11\",\"CryptoNight\",\"Quark\",\"SkunkHash\",\"Quark\",\"Argon2\",\"Blake\",\"Blake\",\"SHA-256\",\"Equihash\",\"Exosis\",\"Scrypt\",\"Scrypt\",\"Equihash\",\"Quark\",\"Equihash\",\"Quark\",\"Scrypt\",\"QuBit\",\"X11\",\"Scrypt\",\"Equihash1927\",\"XEVAN\",\"SHA-256D\",\"X11\",\"SHA-256\",\"SHA-256\",\"X13\",\"SHA-256\",\"X11\",\"DPoS\",\"X11\",\"Scrypt\",\"X11\",\"Scrypt\",\"X11\",\"NeoScrypt\",\"QuBit\",\"Scrypt\",\"Blake\",\"Scrypt\",\"SHA-256\",\"Scrypt\",\"X11\",\"CryptoNight\",\"Scrypt\",\"Scrypt\",\"SHA-256\",\"X11\",\"SHA-256\",\"Scrypt\",\"CryptoNight\",\"Scrypt\",\"SHA-256\",\"Scrypt\",\"Groestl\",\"X11\",\"Scrypt\",\"PoS\",\"Scrypt\",\"Scrypt\",\"X11\",\"SHA-256\",\"DPoS\",\"Scrypt\",\"Scrypt\",\"Scrypt\",\"NeoScrypt\",\"Scrypt\",\"SHA3-256\",\"Multiple\",\"X13\",\"Equihash+Scrypt\",\"DPoS\",\"Ethash\",\"DPoS\",\"Ethash\",\"SHA-256\",\"Leased POS\",\"PoS\",\"TRC10\",\"PoS\",\"SHA-256\",\"Scrypt\",\"CryptoNight\",\"Equihash\",\"Scrypt\"],\"Class\":{\"__ndarray__\":\"AAAAAAAAAAAAAAAAAAAAAAMAAAADAAAAAwAAAAAAAAADAAAAAwAAAAMAAAAAAAAAAwAAAAAAAAAAAAAAAAAAAAMAAAAAAAAAAwAAAAMAAAAAAAAAAAAAAAAAAAADAAAAAAAAAAMAAAAAAAAAAwAAAAMAAAADAAAAAwAAAAMAAAAAAAAAAwAAAAMAAAADAAAAAwAAAAAAAAADAAAAAAAAAAMAAAAAAAAAAwAAAAAAAAAAAAAAAwAAAAAAAAAAAAAAAAAAAAMAAAAAAAAAAwAAAAMAAAADAAAAAwAAAAMAAAADAAAAAwAAAAAAAAADAAAAAAAAAAAAAAADAAAAAAAAAAMAAAADAAAAAwAAAAMAAAADAAAAAAAAAAAAAAAAAAAAAwAAAAAAAAADAAAAAAAAAAMAAAAAAAAAAAAAAAMAAAADAAAAAwAAAAMAAAAAAAAAAAAAAAMAAAADAAAAAAAAAAMAAAAAAAAAAAAAAAAAAAADAAAAAwAAAAMAAAADAAAAAAAAAAAAAAAAAAAAAAAAAAAAAAADAAAAAwAAAAMAAAAAAAAAAAAAAAMAAAADAAAAAwAAAAAAAAAAAAAAAwAAAAAAAAADAAAAAAAAAAAAAAADAAAAAwAAAAMAAAADAAAAAwAAAAAAAAAAAAAAAAAAAAMAAAADAAAAAAAAAAMAAAADAAAAAAAAAAAAAAAAAAAAAwAAAAAAAAAAAAAAAAAAAAMAAAADAAAAAAAAAAAAAAADAAAAAAAAAAMAAAAAAAAAAAAAAAMAAAAAAAAAAwAAAAAAAAADAAAAAAAAAAMAAAAAAAAAAAAAAAAAAAAAAAAAAwAAAAAAAAADAAAAAwAAAAAAAAADAAAAAwAAAAAAAAADAAAAAAAAAAAAAAADAAAAAwAAAAMAAAADAAAAAwAAAAMAAAADAAAAAwAAAAAAAAAAAAAAAwAAAAAAAAADAAAAAAAAAAMAAAADAAAAAAAAAAMAAAAAAAAAAAAAAAAAAAADAAAAAwAAAAAAAAADAAAAAAAAAAAAAAADAAAAAAAAAAAAAAAAAAAAAwAAAAMAAAAAAAAAAwAAAAMAAAADAAAAAAAAAAAAAAADAAAAAwAAAAAAAAAAAAAAAwAAAAAAAAAAAAAAAAAAAAAAAAADAAAAAwAAAAAAAAADAAAAAwAAAAMAAAADAAAAAwAAAAAAAAADAAAAAwAAAAAAAAADAAAAAAAAAAAAAAAAAAAAAAAAAAMAAAADAAAAAAAAAAAAAAAAAAAAAAAAAAAAAAADAAAAAAAAAAAAAAAAAAAAAAAAAAAAAAAAAAAAAAAAAAMAAAAAAAAAAAAAAAAAAAAAAAAAAAAAAAMAAAAAAAAAAwAAAAAAAAAAAAAAAAAAAAMAAAAAAAAAAwAAAAAAAAAAAAAAAwAAAAAAAAADAAAAAAAAAAAAAAADAAAAAAAAAAMAAAAAAAAAAAAAAAAAAAADAAAAAAAAAAMAAAADAAAAAwAAAAAAAAAAAAAAAwAAAAAAAAAAAAAAAAAAAAMAAAADAAAAAwAAAAAAAAAAAAAAAAAAAAMAAAADAAAAAwAAAAAAAAAAAAAAAAAAAAAAAAAAAAAAAAAAAAAAAAADAAAAAAAAAAAAAAAAAAAAAAAAAAAAAAAAAAAAAAAAAAAAAAADAAAAAAAAAAAAAAAAAAAAAAAAAAAAAAAAAAAAAwAAAAMAAAAAAAAAAwAAAAAAAAAAAAAAAAAAAAAAAAAAAAAAAAAAAAMAAAAAAAAAAwAAAAAAAAADAAAAAwAAAAAAAAAAAAAAAwAAAAMAAAAAAAAAAwAAAAMAAAAAAAAAAwAAAAMAAAADAAAAAwAAAAAAAAADAAAAAAAAAAAAAAAAAAAAAwAAAAAAAAAAAAAAAAAAAAMAAAAAAAAAAAAAAAAAAAAAAAAAAAAAAAMAAAAAAAAAAAAAAAMAAAADAAAAAAAAAAMAAAAAAAAAAAAAAAAAAAAAAAAAAAAAAAMAAAAAAAAAAwAAAAAAAAADAAAAAwAAAAMAAAADAAAAAAAAAAMAAAAAAAAAAAAAAAMAAAAAAAAAAwAAAAAAAAADAAAAAwAAAAAAAAADAAAAAAAAAAMAAAADAAAAAwAAAAAAAAADAAAAAAAAAAMAAAAAAAAAAwAAAAAAAAAAAAAAAwAAAAAAAAADAAAAAwAAAAMAAAADAAAAAwAAAAMAAAAAAAAAAAAAAAMAAAAAAAAAAAAAAAAAAAADAAAAAAAAAAMAAAAAAAAAAwAAAAAAAAADAAAAAAAAAAAAAAAAAAAAAAAAAAMAAAAAAAAAAAAAAAMAAAAAAAAAAAAAAAAAAAAAAAAAAAAAAAAAAAADAAAAAwAAAAMAAAADAAAAAwAAAAMAAAAAAAAAAAAAAAAAAAAAAAAAAAAAAAMAAAAAAAAAAwAAAAMAAAADAAAAAAAAAAAAAAADAAAAAwAAAAMAAAAAAAAAAAAAAAMAAAAAAAAAAAAAAAMAAAADAAAAAAAAAAMAAAAAAAAAAwAAAAMAAAAAAAAAAAAAAAAAAAADAAAAAwAAAAMAAAAAAAAAAAAAAAAAAAADAAAAAAAAAAMAAAADAAAAAAAAAAMAAAADAAAAAwAAAAMAAAADAAAAAwAAAAAAAAAAAAAAAQAAAAMAAAADAAAAAwAAAAMAAAADAAAAAwAAAAAAAAAAAAAAAAAAAAAAAAAAAAAAAAAAAAMAAAADAAAAAwAAAAMAAAADAAAAAwAAAAAAAAADAAAAAAAAAAAAAAADAAAAAwAAAAAAAAADAAAAAAAAAAAAAAAAAAAAAAAAAAAAAAAAAAAAAAAAAAMAAAAAAAAAAAAAAAMAAAAAAAAAAAAAAAMAAAADAAAAAAAAAAMAAAAAAAAAAwAAAAMAAAADAAAAAwAAAAAAAAAAAAAAAwAAAAAAAAADAAAAAAAAAAAAAAAAAAAAAAAAAAAAAAAAAAAAAwAAAAMAAAADAAAAAAAAAAAAAAAAAAAAAAAAAAAAAAAAAAAAAAAAAAMAAAAAAAAAAwAAAAMAAAAAAAAAAwAAAAMAAAAAAAAAAAAAAAAAAAAAAAAAAwAAAAAAAAADAAAAAAAAAAAAAAAAAAAAAwAAAAAAAAAAAAAAAAAAAAMAAAABAAAAAAAAAAMAAAAAAAAAAwAAAAMAAAADAAAAAwAAAAMAAAAAAAAAAwAAAAAAAAADAAAAAAAAAAMAAAAAAAAAAwAAAAMAAAADAAAAAwAAAAMAAAADAAAAAwAAAAAAAAADAAAAAAAAAAMAAAAAAAAAAAAAAAMAAAAAAAAAAAAAAAMAAAAAAAAAAAAAAAAAAAADAAAAAwAAAAMAAAADAAAAAAAAAAAAAAAAAAAAAAAAAAMAAAADAAAAAAAAAAMAAAAAAAAAAAAAAAMAAAAAAAAAAAAAAAAAAAAAAAAAAwAAAAMAAAAAAAAAAAAAAAAAAAADAAAAAAAAAAMAAAADAAAAAAAAAAAAAAADAAAAAAAAAAAAAAAAAAAAAwAAAAMAAAAAAAAAAAAAAAAAAAAAAAAAAAAAAAMAAAAAAAAAAAAAAAAAAAADAAAAAAAAAAMAAAAAAAAAAwAAAAAAAAADAAAAAAAAAAAAAAAAAAAAAgAAAAAAAAAAAAAAAAAAAAMAAAADAAAAAAAAAA==\",\"dtype\":\"int32\",\"order\":\"little\",\"shape\":[685]},\"CoinName\":[\"42 Coin\",\"404Coin\",\"808\",\"EliteCoin\",\"Bitcoin\",\"Ethereum\",\"Litecoin\",\"Dash\",\"Monero\",\"Ethereum Classic\",\"ZCash\",\"Bitshares\",\"DigiByte\",\"BitcoinDark\",\"Bitstake\",\"PayCoin\",\"ProsperCoin\",\"KoboCoin\",\"Spreadcoin\",\"ACoin\",\"Aero Coin\",\"ApexCoin\",\"ArchCoin\",\"Argentum\",\"Aurora Coin\",\"BetaCoin\",\"BlueCoin\",\"MyriadCoin\",\"MoonCoin\",\"ZetaCoin\",\"SexCoin\",\"Quatloo\",\"EnergyCoin\",\"QuarkCoin\",\"Riecoin\",\"Digitalcoin \",\"LimeCoinX\",\"BitBar\",\"BitMark\",\"CashCoin\",\"Catcoin\",\"CryptoBullion\",\"CannaCoin\",\"CinderCoin\",\"CoolCoin\",\"CryptCoin\",\"CasinoCoin\",\"eMark\",\"Diamond\",\"Verge\",\"DarkCash\",\"DarkShibe\",\"DevCoin\",\"EarthCoin\",\"E-Gulden\",\"Elacoin\",\"Einsteinium\",\"Emerald\",\"Exclusive Coin\",\"Flappy Coin\",\"Fuel2Coin\",\"FIBRE\",\"FireRoosterCoin\",\"FlutterCoin\",\"Franko\",\"FeatherCoin\",\"GrandCoin\",\"GlobalCoin\",\"GoldCoin\",\"GlyphCoin\",\"Halcyon\",\"HoboNickels\",\"HunterCoin\",\"HyperStake\",\"Infinite Coin\",\"IOCoin\",\"IXcoin\",\"JumBucks Coin\",\"JudgeCoin\",\"KrugerCoin\",\"LuckyCoin\",\"Litebar \",\"LitecoinDark\",\"LibrexCoin\",\"MaxCoin\",\"MegaCoin\",\"MediterraneanCoin\",\"MintCoin\",\"MinCoin\",\"MazaCoin\",\"Nautilus Coin\",\"NavCoin\",\"NoirBits\",\"NobleCoin\",\"Namecoin\",\"NyanCoin\",\"OpalCoin\",\"Orbitcoin\",\"PotCoin\",\"PhoenixCoin\",\"Reddcoin\",\"RipOffCoin\",\"RonPaulCoin\",\"StableCoin\",\"ShieldCoin\",\"SilkCoin\",\"SmartCoin\",\"SpainCoin\",\"SecureCoin\",\"SuperCoin\",\"SyncCoin\",\"SysCoin\",\"TeslaCoin\",\"TigerCoin\",\"TittieCoin\",\"TorCoin\",\"TerraCoin\",\"Umbrella\",\"UnbreakableCoin\",\"Unobtanium\",\"UroCoin\",\"UnitaryStatus Dollar\",\"UltraCoin\",\"Utility Coin\",\"ViaCoin\",\"VootCoin\",\"VeriCoin\",\"Vertcoin\",\"WorldCoin\",\"SocialXbotCoin\",\"X11 Coin\",\"Crypti\",\"JouleCoin\",\"StealthCoin\",\"XXXCoin\",\"ZCC Coin\",\"ByteCoin\",\"DigitalNote \",\"BurstCoin\",\"StorjCoin\",\"MonaCoin\",\"Neutron\",\"Sling Coin\",\"KryptCoin\",\"FairCoin\",\"Gulden\",\"RubyCoin\",\"PesetaCoin\",\"Kore\",\"Wild Beast Coin\",\"Dnotes\",\"Flo\",\"MaieutiCoin\",\"8BIT Coin\",\"Sativa Coin\",\"AeroMe\",\"ArtByte\",\"MasterTraderCoin\",\"BitCredit\",\"Folding Coin\",\"Ucoin\",\"Unitus\",\"CypherPunkCoin\",\"MaryJane Coin\",\"OmniCron\",\"CyberCoin\",\"Vtorrent\",\"GreenCoin\",\"Unattanium\",\"Cryptonite\",\"Gridmaster\",\"ConSpiracy Coin \",\"MasterCoin\",\"SoonCoin\",\"1Credit\",\"ViorCoin\",\"IslaCoin\",\"Quicksilver coin\",\"Nexus\",\"MarsCoin \",\"Singular\",\"Crypto\",\"Anarchists Prime\",\"Droidz\",\"BowsCoin\",\"CryptoCircuits\",\"Squall Coin\",\"Milllionaire Coin\",\"Song Coin\",\"BitZeny\",\"Diggits\",\"Expanse\",\"MapCoin\",\"Paycon\",\"Siacoin\",\"Emercoin\",\"BlitzCoin\",\"EverGreenCoin\",\"MindCoin\",\"I0coin\",\"Decred\",\"DogeCoinDark\",\"Revolution VR\",\"HOdlcoin\",\"EDRCoin\",\"Hitcoin\",\"Gamecredits\",\"Dashcoin\",\"DubaiCoin\",\"BiosCrypto\",\"CarpeDiemCoin\",\"PWR Coin\",\"TrumpCoin\",\"BillaryCoin\",\"EthereumScrypt\",\"Phalanx\",\"SunShotCoin\",\"GPU Coin\",\"HempCoin\",\"Adzcoin\",\"VirtaCoin\",\"SoilCoin\",\"YoCoin\",\"Universal Currency\",\"AEON\",\"SibCoin\",\"EuropeCoin\",\"Anti Bitcoin\",\"ZeitCoin\",\"SwingCoin\",\"SafeExchangeCoin\",\"Nebuchadnezzar\",\"Francs\",\"BolivarCoin\",\"GIZMOcoin\",\"SecretCoin\",\"Ratecoin\",\"Digital Bullion Gold\",\"Revenu\",\"Clinton\",\"Clockcoin\",\"VIP Tokens\",\"OrlyCoin\",\"BitSend\",\"16BitCoin\",\"ChessCoin\",\"ReeCoin\",\"Omni\",\"Let it Ride\",\"PutinCoin\",\"iBankCoin\",\"Frankywillcoin\",\"MudraCoin\",\"PizzaCoin\",\"Lutetium Coin\",\"Komodo\",\"GoldBlocks\",\"WayCoin\",\"CarterCoin\",\"Karbo\",\"BitTokens\",\"ZayedCoin\",\"MustangCoin\",\"ZoneCoin\",\"Circuits of Value\",\"RootCoin\",\"DopeCoin\",\"PROUD Money\",\"BitCurrency\",\"DollarCoin\",\"Swiscoin\",\"Shilling\",\"BuzzCoin\",\"Opair\",\"PesoBit\",\"GBR Coin\",\"Halloween Coin\",\"FujiCoin\",\"ZCoin\",\"LeaCoin\",\"CoffeeCoin\",\"RoyalCoin\",\"Zurcoin\",\"GanjaCoin V2\",\"TeamUP\",\"LanaCoin\",\"Elementrem\",\"CashOut\",\"ZClassic\",\"ARK\",\"InsaneCoin\",\"LuckChain\",\"KiloCoin\",\"Hush\",\"ArtexCoin\",\"EmberCoin\",\"XenixCoin\",\"FreeCoin\",\"NPCcoin\",\"PLNCoin\",\"Icobid\",\"AquariusCoin\",\"Kurrent\",\"Creatio\",\"Eternity\",\"Eurocoin\",\"BitcoinFast\",\"Stakenet\",\"BitConnect Coin\",\"MoneyCoin\",\"Enigma\",\"Cannabis Industry Coin\",\"Russiacoin\",\"PandaCoin\",\"GameUnits\",\"GAKHcoin\",\"Allsafe\",\"LiteCreed\",\"OsmiumCoin\",\"Bikercoins\",\"NeptuneClassic\",\"HexxCoin\",\"GoldenBird\",\"Ride My Car\",\"Klingon Empire Darsek\",\"Internet of People\",\"KushCoin\",\"Eryllium\",\"MarxCoin\",\"Printerium\",\"PacCoin\",\"Impeach\",\"Solarflarecoin\",\"Citadel\",\"Zilbercoin\",\"FirstCoin\",\"CreativeChain\",\"BeaverCoin\",\"FindCoin\",\"VaultCoin\",\"Zero\",\"OpenChat\",\"Canada eCoin\",\"Zoin\",\"Musicoin\",\"BnrtxCoin\",\"RenosCoin\",\"DubaiCoin\",\"VirtacoinPlus\",\"TajCoin\",\"Impact\",\"EB3coin\",\"Universe\",\"Atmos\",\"HappyCoin\",\"Coinonat\",\"MacronCoin\",\"Condensate\",\"Independent Money System\",\"ArgusCoin\",\"LomoCoin\",\"Bitcoin Scrypt\",\"ProCurrency\",\"GoldReserve\",\"BenjiRolls\",\"ParallelCoin\",\"GrowthCoin\",\"ILCoin\",\"Phreak\",\"Degas Coin\",\"ZSEcoin\",\"HTML5 Coin\",\"Ultimate Secure Cash\",\"EquiTrader\",\"QTUM\",\"Quantum Resistant Ledger\",\"Espers\",\"Dynamic\",\"Nano\",\"ChanCoin\",\"Dinastycoin\",\"Denarius\",\"DigitalPrice\",\"Virta Unique Coin\",\"Bitcoin Planet\",\"Unify\",\"BritCoin\",\"SocialCoin\",\"Octanox\",\"ArcticCoin\",\"DAS\",\"Linda\",\"LeviarCoin\",\"DeepOnion\",\"Bitcore\",\"gCn Coin\",\"SmartCash\",\"Signatum\",\"Onix\",\"Cream\",\"Bitcoin Cash\",\"Monoeci\",\"CampusCoin\",\"Draftcoin\",\"Vechain\",\"Sojourn Coin\",\"Stakecoin\",\"NewYorkCoin\",\"LiteBitcoin\",\"FrazCoin\",\"Kronecoin\",\"AdCoin\",\"Linx\",\"CoinonatX\",\"Ethereum Dark\",\"Sumokoin\",\"Obsidian\",\"Cardano\",\"Regalcoin\",\"BitcoinZ\",\"TrezarCoin\",\"Elements\",\"TerraNovaCoin\",\"VIVO Coin\",\"Rupee\",\"Bitcoin Gold\",\"WomenCoin\",\"Theresa May Coin\",\"NamoCoin\",\"LUXCoin\",\"Pirl\",\"Xios\",\"Bitcloud 2.0\",\"eBoost\",\"KekCoin\",\"BlackholeCoin\",\"AltCommunity Coin\",\"Pure\",\"Rupaya\",\"Infinity Economics\",\"Pura\",\"Innova\",\"Bitdeal\",\"Ellaism\",\"Sakuracoin\",\"GoByte\",\"Castle\",\"Magnet\",\"Lamden Tau\",\"Electra\",\"Bitcoin Diamond\",\"SHIELD\",\"Cash & Back Coin\",\"UltraNote\",\"BitCoal\",\"DaxxCoin\",\"Bulwark\",\"Kalkulus\",\"AC3\",\"CHIPS\",\"Lethean\",\"GermanCoin\",\"LiteCoin Ultra\",\"PopularCoin\",\"PhantomX\",\"HTML Coin\",\"Photon\",\"Sucre\",\"Fantasy Cash\",\"SparksPay\",\"Digiwage\",\"GunCoin\",\"IrishCoin\",\"Trollcoin\",\"Litecoin Plus\",\"Monkey Project\",\"Pioneer Coin\",\"UnitedBitcoin\",\"Interzone\",\"OP Coin\",\"Valorbit\",\"TokenPay\",\"1717 Masonic Commemorative Token\",\"My Big Coin\",\"TurtleCoin\",\"MUNcoin\",\"Unified Society USDEX\",\"Niobio Cash\",\"Bitcoin Private\",\"Skeincoin\",\"ShareChain\",\"Travelflex\",\"KREDS\",\"Tokyo Coin\",\"BiblePay\",\"LitecoinCash\",\"BitFlip\",\"LottoCoin\",\"LeafCoin\",\"Cerberus\",\"Bitcoin Hush\",\"Crypto Improvement Fund\",\"Stipend\",\"Poa Network\",\"Pushi\",\"Ellerium\",\"Velox\",\"Ontology\",\"Callisto Network\",\"Curium\",\"BitTube\",\"Dinero\",\"Poseidon\",\"Aidos Kuneen\",\"Bitspace\",\"Snowgem\",\"Briacoin\",\"Ignition\",\"Bitrolium\",\"Bitcoin Interest\",\"MedicCoin\",\"Alpenschillling\",\"Zelcash\",\"Bitcoin Green\",\"Deviant Coin\",\"Abjcoin\",\"Profit Hunters Coin\",\"Semux\",\"BitBlocks\",\"FuturoCoin\",\"Carebit\",\"Zealium\",\"Monero Classic\",\"Proton\",\"iDealCash\",\"Jumpcoin\",\"Infinex\",\"Bitcoin Incognito\",\"KEYCO\",\"HollyWoodCoin\",\"GINcoin\",\"PlatinCoin\",\"Loki\",\"Newton Coin\",\"Swisscoin\",\"Xt3ch\",\"MassGrid\",\"TheVig\",\"PluraCoin\",\"EmaratCoin\",\"Dekado\",\"Lynx\",\"Poseidon Quark\",\"BitcoinWSpectrum\",\"Muse\",\"Motion\",\"PlusOneCoin\",\"Axe\",\"Trivechain\",\"Dystem\",\"Giant\",\"Peony Coin\",\"SafeCoin\",\"Absolute Coin\",\"Vitae\",\"HexCoin\",\"TPCash\",\"Webchain\",\"Ryo\",\"MUSDcoin\",\"Urals Coin\",\"Qwertycoin\",\"ARENON\",\"EUNO\",\"MMOCoin\",\"Ketan\",\"NIX\",\"Safe Trade Coin\",\"Project Pai\",\"Mont Blanc\",\"XDNA\",\"PAXEX\",\"Azart\",\"Apollon\",\"ThunderStake\",\"Kcash\",\"Xchange\",\"Acute Angle Cloud\",\"Traid\",\"CrypticCoin\",\"Bettex coin\",\"ZestCoin\",\"X-CASH\",\"Actinium\",\"ETHER-1\",\"Bitcoin SV\",\"BitMoney\",\"Bitcoiin2Gen\",\"Junson Ming Chan Coin\",\"FREDEnergy\",\"Zenad\",\"C25 Coin\",\"HerbCoin\",\"Aquachain\",\"Universal Molecule\",\"Lithium\",\"Smart Bitcoin\",\"PirateCash\",\"Exosis\",\"Block-Logic\",\"Oduwa\",\"Beam\",\"Galilel\",\"Bithereum\",\"Crypto Sports\",\"Credit\",\"SLICE\",\"Dash Platinum\",\"Nasdacoin\",\"Vidulum\",\"Beetle Coin\",\"Titan Coin\",\"Award\",\"BlockStamp\",\"BLAST\",\"Bitcoin Rhodium\",\"GlobalToken\",\"Insane Coin\",\"ALAX\",\"The Freedom Coin\",\"LiteDoge\",\"Boolberry\",\"SolarCoin\",\"TruckCoin\",\"UFO Coin\",\"Ascension Coin\",\"OrangeCoin\",\"BlakeCoin\",\"BitstarCoin\",\"NeosCoin\",\"HyperCoin\",\"PinkCoin\",\"FantomCoin \",\"Crypto Escudo\",\"AudioCoin\",\"IncaKoin\",\"Piggy Coin\",\"Crown Coin\",\"Genstake\",\"Quazar Coin\",\"SmileyCoin\",\"ParkByte\",\"XiaoMiCoin\",\"Groestlcoin\",\"CapriCoin\",\" ClubCoin\",\"Radium\",\"Bata\",\"Pakcoin\",\"Creditbit \",\"OKCash\",\"Lisk\",\"HiCoin\",\"WhiteCoin\",\"Dotcoin\",\"FriendshipCoin\",\"The Hempcoin\",\"Fiii\",\"JoinCoin\",\"Triangles Coin\",\"Vollar\",\"EOS\",\"Reality Clash\",\"Oxycoin\",\"iOlite\",\"TigerCash\",\"Waves\",\"Particl\",\"BitTorrent\",\"Nxt\",\"ZEPHYR\",\"Gapcoin\",\"Beldex\",\"Horizen\",\"BitcoinPlus\"],\"ProofType\":[\"PoW/PoS\",\"PoW/PoS\",\"PoW/PoS\",\"PoW/PoS\",\"PoW\",\"PoW\",\"PoW\",\"PoW/PoS\",\"PoW\",\"PoW\",\"PoW\",\"PoS\",\"PoW\",\"PoW/PoS\",\"PoW/PoS\",\"PoS\",\"PoW\",\"PoW/PoS\",\"PoW\",\"PoW\",\"PoS\",\"PoW/PoS\",\"PoS\",\"PoW\",\"PoW/PoS\",\"PoW\",\"PoW/PoS\",\"PoW\",\"PoW\",\"PoW\",\"PoW\",\"PoW\",\"PoW/PoS\",\"PoW\",\"PoW\",\"PoW\",\"PoW\",\"PoW/PoS\",\"PoW\",\"PoW/PoS\",\"PoW\",\"PoW/PoS\",\"PoW\",\"PoW/PoS\",\"PoS\",\"PoW\",\"PoC\",\"PoW/PoS\",\"PoW/PoS\",\"PoW\",\"PoW/PoS\",\"PoW\",\"PoW\",\"PoW\",\"PoW\",\"PoW\",\"PoW\",\"PoW\",\"PoS\",\"PoW\",\"PoS\",\"PoW/PoS\",\"PoW\",\"PoS/PoW/PoT\",\"PoW\",\"PoW\",\"PoW\",\"PoW\",\"PoW\",\"PoW/PoS\",\"PoW/PoS\",\"PoW/PoS\",\"PoW\",\"PoS\",\"PoW\",\"PoW/PoS\",\"PoW\",\"PoW/PoS\",\"PoW/PoS\",\"PoW\",\"PoW\",\"PoW\",\"PoW\",\"PoW/PoS\",\"PoW/PoS\",\"PoW\",\"PoW\",\"PoS\",\"PoW\",\"PoW/PoS\",\"PoS\",\"PoW/PoS\",\"PoW\",\"PoW\",\"PoW\",\"PoW\",\"PoW/PoS\",\"PoW/PoS\",\"PoW/PoS\",\"PoW/PoS\",\"PoW/PoS\",\"PoW\",\"PoW\",\"PoW\",\"PoW/PoS\",\"PoW/PoS\",\"PoW\",\"PoW\",\"PoW\",\"PoS\",\"PoW/PoS\",\"PoW\",\"PoS\",\"PoW\",\"PoS\",\"PoW/PoS\",\"PoW\",\"PoW\",\"PoW\",\"PoW\",\"PoW\",\"PoW/PoS\",\"PoW/PoS\",\"PoW/PoS\",\"PoW\",\"PoW\",\"PoST\",\"PoW\",\"PoW\",\"PoW/PoS\",\"PoW/PoS\",\"PoS\",\"PoW\",\"PoW/PoS\",\"PoW/PoS\",\"PoW/PoS\",\"PoW\",\"PoW\",\"PoC\",\"PoS\",\"PoW\",\"PoW/PoS\",\"PoW\",\"PoS\",\"PoW/PoS\",\"PoW\",\"PoS\",\"PoW\",\"PoW/PoS\",\"PoW\",\"PoS\",\"PoW\",\"PoS\",\"PoW/PoS\",\"PoW/PoS\",\"PoW/PoS\",\"PoW\",\"PoW/PoS\",\"PoW\",\"PoW\",\"PoS\",\"PoW\",\"PoW\",\"PoW/PoS\",\"PoW\",\"PoW/PoS\",\"PoW/PoS\",\"PoW\",\"PoW\",\"PoW\",\"PoW\",\"PoW\",\"PoW\",\"PoW\",\"PoW\",\"PoW/PoS\",\"PoW/PoS\",\"PoW\",\"PoW/nPoS\",\"PoW\",\"PoW/PoS\",\"PoW\",\"PoW\",\"PoW/PoS\",\"PoW\",\"PoS\",\"PoS/PoW\",\"PoW/PoS\",\"PoW\",\"PoW\",\"PoS\",\"PoW\",\"PoS\",\"PoW/PoS\",\"PoW\",\"PoW/PoS\",\"PoS\",\"PoW/PoS\",\"PoW\",\"PoW\",\"PoW/PoS\",\"PoW\",\"PoW\",\"PoW\",\"PoW/PoS\",\"PoW/PoS\",\"PoW\",\"PoW\",\"PoW/PoS\",\"PoW/PoS\",\"PoW\",\"PoW/PoS\",\"PoS\",\"PoW/PoS\",\"PoW/PoS\",\"PoW\",\"PoW\",\"PoS\",\"PoW\",\"PoW\",\"PoW\",\"PoW\",\"PoW\",\"PoW/PoS\",\"PoW\",\"PoW\",\"PoW/PoS\",\"PoW\",\"PoS\",\"PoW/PoS\",\"PoC\",\"PoS\",\"PoW\",\"PoW\",\"PoW/PoS\",\"PoW/PoS\",\"PoW/PoS\",\"PoS\",\"PoW/PoS\",\"PoW\",\"PoW/PoS\",\"PoW/PoS\",\"PoW/PoS\",\"PoW/PoS\",\"PoW/PoS\",\"PoW/PoS\",\"PoW/PoS\",\"PoW\",\"PoS\",\"PoW/PoS\",\"PoW/PoS\",\"PoW/PoS\",\"PoS\",\"PoW\",\"PoS\",\"dPoW/PoW\",\"PoW/PoS\",\"PoS\",\"PoW/PoS\",\"PoW\",\"PoW/PoS\",\"PoW\",\"PoW/PoS\",\"PoW/PoS\",\"PoW\",\"PoW/PoS\",\"PoW\",\"PoW/PoS\",\"PoS\",\"PoW\",\"PoW/PoW\",\"PoW\",\"PoW/PoS\",\"PoS\",\"PoW/PoS\",\"PoW\",\"PoW/PoS\",\"PoW\",\"PoW\",\"PoW\",\"PoS\",\"PoS\",\"PoW\",\"PoW/PoS\",\"PoS\",\"PoW/PoS\",\"PoW\",\"PoW\",\"PoW\",\"DPoS\",\"PoW/PoS\",\"PoW/PoS\",\"PoW\",\"PoW\",\"PoW\",\"PoW/PoS\",\"PoW/PoS\",\"PoS\",\"PoW/PoS\",\"PoW/PoS\",\"PoW/PoS\",\"PoW/PoS\",\"PoW\",\"PoS\",\"PoW/PoS\",\"PoW/PoS\",\"PoW/PoS\",\"TPoS\",\"PoW/PoS\",\"PoW/PoS\",\"PoW/PoS\",\"PoW\",\"PoW/PoS\",\"PoS\",\"PoW/PoS\",\"PoW/PoS\",\"PoS\",\"PoW/PoS\",\"PoW\",\"PoW\",\"PoW/PoS\",\"PoW\",\"PoW/PoS\",\"PoS\",\"PoW/PoS\",\"PoW/PoS\",\"PoW/PoS\",\"PoW/PoS\",\"PoW\",\"PoW/PoS\",\"PoW\",\"PoW/PoS\",\"PoW\",\"PoW\",\"PoS\",\"PoW/PoS \",\"PoW\",\"PoW\",\"PoS\",\"PoW\",\"PoW\",\"PoW/PoS\",\"PoW\",\"PoW\",\"PoW\",\"PoW\",\"PoS\",\"PoW\",\"PoW/PoS\",\"PoW/PoS\",\"PoW/PoS\",\"PoW\",\"PoS\",\"PoS\",\"PoW/PoS\",\"PoW\",\"PoS\",\"PoW/PoS\",\"PoW/PoS\",\"PoW/PoS\",\"PoW/PoS\",\"PoW\",\"PoS\",\"PoW/PoS\",\"PoW\",\"PoW\",\"PoS\",\"PoW\",\"PoS\",\"PoW/PoS\",\"PoW/PoS\",\"PoW/PoS\",\"PoS\",\"PoW\",\"PoS\",\"PoW\",\"PoW/PoS\",\"PoW\",\"PoW\",\"PoW\",\"PoW\",\"PoW/PoS\",\"PoW\",\"PoW/PoS\",\"PoW/PoS\",\"PoW\",\"PoW/PoS\",\"PoW\",\"PoW/PoS\",\"PoW\",\"PoW\",\"PoW/PoS\",\"PoW\",\"PoW/PoS\",\"PoW\",\"PoW\",\"PoW\",\"PoS\",\"PoW\",\"PoW/PoS\",\"PoW\",\"PoW/PoS\",\"PoW\",\"PoS\",\"Proof of Authority\",\"PoW\",\"PoS\",\"PoW\",\"PoW\",\"PoW\",\"PoW\",\"PoW\",\"PoW\",\"PoW/PoS\",\"PoW/PoS\",\"PoW\",\"PoS\",\"PoS\",\"PoW/PoS\",\"PoW\",\"PoW/PoS\",\"PoW\",\"PoW/PoS\",\"PoW\",\"PoS\",\"PoW\",\"PoW/PoS\",\"PoW/PoS\",\"PoW/PoS\",\"PoW/PoS\",\"PoW\",\"PoW/PoS\",\"PoW/PoS\",\"PoW\",\"PoS\",\"PoW/PoS\",\"PoW/PoS\",\"PoW/PoS\",\"PoS\",\"PoS\",\"PoW\",\"PoW\",\"PoW\",\"PoW\",\"PoW\",\"PoW\",\"DPoS\",\"PoW/PoS\",\"DPoS\",\"PoW/PoS\",\"PoW/PoS\",\"PoW\",\"PoW/PoS\",\"PoW\",\"PoW\",\"PoW\",\"PoS\",\"PoS\",\"PoW\",\"PoW\",\"PoW\",\"PoW/PoS\",\"PoW/PoS\",\"PoW\",\"PoW/PoS\",\"PoW/PoS\",\"PoW\",\"PoW\",\"PoW/PoS\",\"PoW\",\"PoS\",\"PoW\",\"PoW\",\"PoW/PoS\",\"PoW/PoS\",\"PoS\",\"PoW\",\"PoW\",\"PoW\",\"PoW/PoS\",\"PoW/PoS\",\"PoS\",\"PoS\",\"PoW and PoS\",\"PoW\",\"PoW\",\"PoW/PoS\",\"PoW\",\"PoW\",\"PoW\",\"PoW\",\"PoW\",\"PoW\",\"PoS\",\"POBh\",\"PoW + Hive\",\"PoW\",\"PoW\",\"PoW\",\"PoW\",\"PoW\",\"PoW\",\"PoW/PoS\",\"PoA\",\"PoW/PoS\",\"PoW/PoS\",\"PoS\",\"PoS\",\"PoW\",\"PoW\",\"PoW\",\"PoW\",\"PoW\",\"PoW\",\"PoW/PoS\",\"PoW\",\"PoW/PoS\",\"PoW/PoS\",\"PoW\",\"PoW\",\"PoS\",\"PoW\",\"PoW/PoS\",\"PoS\",\"PoS\",\"PoW/PoS\",\"PoW/PoS\",\"DPoS\",\"PoW/PoS\",\"PoW\",\"PoW/PoS\",\"PoS\",\"PoW\",\"PoS\",\"PoW/PoS\",\"PoW\",\"PoW\",\"PoS/PoW\",\"PoW\",\"PoS\",\"PoW\",\"PoW\",\"PoW\",\"PoW\",\"PoW/PoS\",\"PoS\",\"PoW\",\"PoW/PoS\",\"PoW\",\"PoW/PoS\",\"PoS\",\"HPoW\",\"PoS\",\"PoS\",\"PoS\",\"PoW\",\"PoW\",\"PoW\",\"PoW/PoS\",\"PoS\",\"PoW/PoS\",\"PoS\",\"PoW/PoS\",\"PoW/PoS\",\"PoS\",\"PoW\",\"PoW/PoS\",\"PoW\",\"PoW\",\"PoW/PoS\",\"PoW\",\"PoW\",\"PoS\",\"PoW/PoS\",\"PoS\",\"PoS\",\"PoW\",\"PoS\",\"PoW\",\"PoS\",\"PoW/PoS\",\"PoS\",\"PoW\",\"PoW/PoS\",\"PoW/PoS\",\"Zero-Knowledge Proof\",\"PoW\",\"DPOS\",\"PoW/PoS\",\"PoW\",\"PoS\",\"PoW\",\"PoW\",\"PoW\",\"PoW\",\"PoW\",\"Pos\",\"PoW\",\"PoS\",\"PoW\",\"POS / MN\",\"PoW\",\"PoW/PoS\",\"PoW\",\"PoW\",\"PoW\",\"PoW\",\"PoS\",\"PoW\",\"PoW\",\"PoW/PoS\",\"PoW\",\"PoW/PoS\",\"PoW\",\"PoS\",\"PoW/PoS\",\"PoW\",\"PoS\",\"PoW/PoS\",\"PoW\",\"PoW/PoS\",\"PoW/PoS\",\"PoW/PoS\",\"PoW\",\"PoW\",\"PoW\",\"PoW\",\"PoW/PoS\",\"DPoS\",\"PoS\",\"PoW/PoS\",\"PoW\",\"PoW\",\"PoW/PoS\",\"PoW\",\"PoW/PoS\",\"PoW/PoS\",\"PoW\",\"PoW/PoS\",\"PoS\",\"PoW/PoS\",\"PoW/PoS\",\"PoW\",\"PoW\",\"PoW/PoS\",\"PoW/PoS\",\"PoW/PoS\",\"PoW\",\"PoW/PoS\",\"PoW\",\"PoW\",\"PoW/PoS\",\"PoW/PoS\",\"PoW\",\"PoW/PoS\",\"PoW/PoS\",\"PoS\",\"PoW\",\"PoW\",\"Proof of Trust\",\"PoW/PoS\",\"DPoS\",\"PoS\",\"PoW/PoS\",\"PoW\",\"PoW/PoS\",\"PoW/PoS\",\"DPoC\",\"PoW\",\"PoW/PoS\",\"PoW\",\"DPoS\",\"PoW\",\"DPoS\",\"PoW\",\"PoS\",\"LPoS\",\"PoS\",\"DPoS\",\"PoS/LPoS\",\"DPoS\",\"PoW/PoS\",\"PoW\",\"PoW\",\"PoS\"],\"TotalCoinSupply\":[\"42\",\"532000000\",\"0\",\"314159265359\",\"21000000\",\"0\",\"84000000\",\"22000000\",\"0\",\"210000000\",\"21000000\",\"3600570502\",\"21000000000\",\"22000000\",\"1300000\",\"12500000\",\"21000000\",\"350000000\",\"20000000\",\"1600000\",\"7000000\",\"6000000\",\"16403135\",\"64000000\",\"16768584\",\"32000000\",\"0\",\"2000000000\",\"384000000000\",\"169795588\",\"250000000\",\"100000000\",\"0\",\"247000000\",\"84000000\",\"48166000\",\"21000000 \",\"500000\",\"27580000\",\"47433600\",\"21000000 \",\"1000000\",\"13140000\",\"114000000\",\"100000000\",\"18000000\",\"40000000000\",\"0\",\"4380000\",\"16555000000\",\"3720000\",\"2043962\",\"21000000000\",\"13500000000\",\"21000000 \",\"75000000\",\"299792458\",\"32000000\",\"0\",\"100000000000\",\"100000000\",\"624000\",\"2602410\",\"0\",\"11235813\",\"336000000\",\"1420609614\",\"70000000\",\"72245700\",\"7000000\",\"0\",\"120000000\",\"42000000\",\"0\",\"90600000000\",\"22000000\",\"21000000\",\"3293010\",\"21600000\",\"265420800\",\"20000000\",\"1350000\",\"82003200\",\"1000000\",\"100000000\",\"42000000\",\"200000000\",\"0\",\"10000000\",\"2419200000\",\"16180000\",\"0\",\"50000000\",\"15000000000\",\"21000000\",\"337000000\",\"0\",\"3770000\",\"420000000\",\"98000000\",\"0\",\"12000000\",\"21000000\",\"250000000\",\"1000000\",\"1000000\",\"51200000\",\"50000000\",\"21000000\",\"0\",\"1000\",\"888000000\",\"100000000\",\"47011968\",\"2300000000\",\"10000000\",\"42000000\",\"2625000\",\"80000000\",\"250000\",\"0\",\"1600000000\",\"100000000\",\"0\",\"23000000\",\"0\",\"0\",\"84000000\",\"265420800\",\"2000000\",\"5500000\",\"0\",\"45000000\",\"0\",\"50000000\",\"1000000000\",\"184467440735\",\"10000000000\",\"2158812800\",\"500000000\",\"105120000\",\"68000000\",\"1000000\",\"17000000\",\"0\",\"1680000000\",\"0\",\"166386000\",\"12000000\",\"2628000\",\"500000000\",\"160000000\",\"2014\",\"0\",\"10000000\",\"12000000\",\"1000000000\",\"10110000\",\"210000000\",\"1000000000\",\"20000000\",\"0\",\"0\",\"0\",\"3371337\",\"0\",\"20000000\",\"10000000000\",\"0\",\"1840000000\",\"84000000\",\"33000000\",\"619478\",\"21000000\",\"92000000000\",\"0\",\"0\",\"33000000\",\"78000000\",\"33000000\",\"0\",\"65789100\",\"53760000\",\"5060000\",\"21000000\",\"0\",\"0\",\"0\",\"210240000\",\"250000000\",\"100000000\",\"16906397\",\"2228921.184\",\"50000000\",\"0\",\"1000000000\",\"3852156\",\"26298000\",\"16000000\",\"21000000\",\"21000000\",\"16500000000\",\"210000000\",\"81962100\",\"22000000\",\"26550000000\",\"84000000\",\"18446744\",\"10500000\",\"20190463.54969237\",\"21626280000 \",\"0\",\"12000000\",\"42000000\",\"4200000\",\"15000000\",\"2250000000\",\"221052632\",\"5000000000\",\"84000000\",\"21000000000\",\"30000000\",\"168351300\",\"210000000\",\"18400000\",\"24000000\",\"384000000\",\"42000000\",\" 99000000000\",\"40000000\",\"2147483647\",\"20000000\",\"20000000\",\"25000000\",\"100000\",\"21000000\",\"75000000\",\"15000000\",\"222725000\",\"2421227\",\"525000000\",\"90000000\",\"36000000\",\"139000000\",\"16000000\",\"74666667\",\"350000000\",\"616448\",\"33500000\",\"2000000000\",\"44333333\",\"100000000\",\"200000000\",\"25000000\",\"657000000\",\"200000000\",\"50000000\",\"100000000\",\"90000000\",\"10000000\",\"21000000\",\"9736000\",\"3000000\",\"21000000\",\"1200000000\",\"0\",\"200000000\",\"10000000000\",\"0\",\"10638298\",\"3100000000\",\"30000000\",\"20000000000\",\"74000000\",\"0\",\"87500000\",\"1500000000\",\"10000000\",\"21400000\",\"2000000000\",\"39999898\",\"2500124\",\"126000000\",\"100000000\",\"301000000\",\"7506000000\",\"26205539\",\"100000000\",\"21000000\",\"125000000\",\"30000000\",\"1000000000\",\"10000000000\",\"21000000\",\"500000000\",\"850000000\",\"3853326.77707314\",\"50000000\",\"7000000000\",\"38540000 \",\"200000000 \",\"42000000\",\"228000000\",\"20000000\",\"60000000\",\"20000000\",\"33000000\",\"76500000\",\"28000000\",\"650659833\",\"5000000\",\"21000000\",\"144000000\",\"32514916898\",\"13000000\",\"3315789\",\"15000000\",\"78835200\",\"2714286\",\"25000000\",\"250000000\",\"9999999\",\"450000000\",\"100000000\",\"500000000\",\"21000000\",\"9354000\",\"100000000\",\"100640000\",\"20000000\",\"100000000000\",\"21933333\",\"20000000\",\"185000000\",\"55000000\",\"110000000\",\"115000000\",\"3360000\",\"14524851.4827\",\"1000000000\",\"17000000\",\"1000000000\",\"100000000 \",\"21000000\",\"454898394\",\"210000000\",\"34426423\",\"2232901\",\"100000000\",\"36900000\",\"110000000\",\"4000000000\",\"112000000\",\"110290030\",\"100000000\",\"48252000\",\"400000000\",\"500000000\",\"21212121\",\"28600000\",\"1000000000\",\"21000000\",\"75000000000\",\"40000000\",\"35520400\",\"1000000\",\"2000000000\",\"2500000000\",\"30000000\",\"105000000\",\"2093500000\",\"90000000000\",\"200084200\",\"72000000\",\"100000000\",\"105000000\",\"50000000000\",\"0\",\"340282367\",\"30000000\",\"2000000000\",\"10000000\",\"100000000\",\"120000000\",\"100000000\",\"19276800\",\"30000000\",\" 75000000\",\"7905634\",\"60000000\",\"18900000\",\"50000000000\",\"54000000\",\"18898187.6216583\",\"21000000\",\"200000000000\",\"5000000000\",\"137500000\",\"1100000000\",\"100000000\",\"21000000\",\"9507271\",\"1010000000\",\"17405891.19707116\",\"86712634466\",\"10500000000\",\"61599965\",\"0\",\"1000000000\",\"20000000\",\"84000000\",\"100000000\",\"100000000\",\"48252000\",\"4200000\",\"88888888\",\"91388946\",\"45000000000\",\"27000000\",\"21000000000\",\"400000000\",\"1800000000\",\"15733333\",\"27000000\",\"24000000\",\"21000000\",\"25000000000\",\"100000000\",\"1200000000\",\"60000000\",\"156306732.71\",\"21000000\",\"200000000\",\"100000000\",\"21000000\",\"14788275.991\",\"5000000\",\"3686860\",\"75000000\",\"9000000000\",\"350000000\",\"45000000\",\"300000000\",\"280000000\",\"105100000\",\"31800000\",\"50000000 \",\"144000000\",\"500000000\",\"30000000000\",\"210000000\",\"660000000\",\"210000000\",\"85000000000\",\"12500000\",\"10000000000\",\"27716121\",\"20000000\",\"550000000\",\"21000000\",\"999481516\",\"50000000000\",\"150000000\",\"4999999999\",\"50000000\",\"90000000000\",\" 90000000000\",\"19800000\",\"4600000\",\"21000000\",\"120000000\",\"500000000\",\"64000000\",\"900000000\",\"4000000\",\"21000000\",\"23000000\",\"20166000\",\"23000000\",\"2000000000\",\"92233720000000000\",\"25000000\",\"1618033\",\"30000000\",\"1000000000000\",\"16600000\",\"232000000\",\"336000000\",\"21000000\",\"17000000\",\"10000000000\",\"100000000\",\"1100000000\",\"800000000\",\"5200000000\",\"840000000\",\"40000000\",\"18406979840\",\"21000000000\",\"31500000\",\"21000000\",\"500000000\",\"19340594\",\"252460800\",\"25000000\",\"60000000\",\"124000000\",\"1000000000\",\"6500000000\",\"22000000\",\"1000000000\",\"100000000\",\"21000000\",\"25000000\",\"50000000\",\"84096000\",\"3000000\",\"5000000\",\"70000000\",\"22300000\",\"500000000\",\"300000000\",\"210000000\",\"21000000\",\"88000000\",\"30000000\",\"100000000\",\"100000000\",\"500000000\",\"100000000\",\"200000000\",\"80000000\",\"18400000\",\"45000000\",\"5121951220\",\"21000000\",\"26280000\",\"21000000\",\"18000000\",\"26000000\",\"10500000\",\"600000518\",\"150000000\",\"184000000000\",\"10200000000\",\"44000000\",\"168000000\",\"100000000\",\"1000000000\",\"84000000\",\"90000000\",\"92000000000\",\"650000000 \",\"100262205\",\"18081806 \",\"22075700\",\"21000000\",\"21000000\",\"82546564\",\"21000000\",\"5151000\",\"16880000000\",\"36000000\",\"52500000\",\"100000000\",\"22105263\",\"1000000000\",\"1750000000\",\"88188888\",\"100000000\",\"210000000\",\"184470000000\",\"55000000\",\"50000000\",\"260000000\",\"210000000\",\"175000000\",\"840000000\",\"2100000000\",\"70000000\",\"366000000\",\"100000000\",\"25000000\",\"250000000\",\"18000000000\",\"1000000000\",\"100000000\",\"1000000000\",\"252000000\",\"7600000000\",\"50000000\",\"29300000\",\"100000000000\",\"84000000\",\"13666237\",\"21000000\",\"70000000000\",\"100000000\",\"0\",\"8080000000\",\"46000000\",\"6100000\",\"54000000\",\"42000000\",\"105120001.44\",\"25228800\",\"20999764\",\"105000000\",\"21000000\",\"120000000\",\"21000000\",\"262800000\",\"19035999\",\"30886000\",\"13370000\",\"74800000000\",\"100000000\",\"19700000\",\"84000000\",\"100000000\",\"500000000\",\"5000000000\",\"420000000\",\"105000000\",\"64000000\",\"2100000\",\"168000000\",\"30000000\",\"1000000000\",\"25000000\",\"35000000000\",\"18450000\",\"98100000000\",\"0\",\"4000000000\",\"0\",\"200000000\",\"7000000000\",\"54256119\",\"21000000\",\"0\",\"500000000\",\"18400000\",\"1000000000\",\"10500000000\",\"190000000\",\"1000000000\",\"42000000\",\"15000000\",\"18446744\",\"50000000000\",\"25000000\",\"400000000\",\"105000000\",\"208000000\",\"160000000\",\"9000000\",\"5000000\",\"182000000\",\"16504333\",\"105000000\",\"159918400\",\"10008835635\",\"300000000\",\"890000000\",\"60168145\",\"300000000\",\"5000000000\",\"2800000\",\"120000\",\"2100000000\",\"0\",\"24487944\",\"0\",\"1000000000\",\"1000000000\",\"100000000\",\"8634140\",\"990000000000\",\"1000000000\",\"2000000000\",\"250000000\",\"1400222610\",\"21000000\",\"1000000\"],\"TotalCoinsMined\":{\"__ndarray__\":\"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\",\"dtype\":\"float64\",\"order\":\"little\",\"shape\":[685]}},\"selected\":{\"id\":\"1775\"},\"selection_policy\":{\"id\":\"1810\"}},\"id\":\"1774\",\"type\":\"ColumnDataSource\"},{\"attributes\":{},\"id\":\"1797\",\"type\":\"NumberEditor\"},{\"attributes\":{},\"id\":\"1810\",\"type\":\"UnionRenderers\"},{\"attributes\":{},\"id\":\"1787\",\"type\":\"StringEditor\"},{\"attributes\":{\"editor\":{\"id\":\"1782\"},\"field\":\"Algorithm\",\"formatter\":{\"id\":\"1781\"},\"title\":\"Algorithm\"},\"id\":\"1783\",\"type\":\"TableColumn\"},{\"attributes\":{},\"id\":\"1786\",\"type\":\"StringFormatter\"},{\"attributes\":{\"columns\":[{\"id\":\"1778\"},{\"id\":\"1783\"},{\"id\":\"1788\"},{\"id\":\"1793\"},{\"id\":\"1798\"},{\"id\":\"1803\"}],\"height\":300,\"reorderable\":false,\"source\":{\"id\":\"1774\"},\"view\":{\"id\":\"1808\"},\"width\":700},\"id\":\"1806\",\"type\":\"DataTable\"},{\"attributes\":{},\"id\":\"1791\",\"type\":\"StringFormatter\"},{\"attributes\":{},\"id\":\"1775\",\"type\":\"Selection\"},{\"attributes\":{},\"id\":\"1802\",\"type\":\"IntEditor\"},{\"attributes\":{\"editor\":{\"id\":\"1802\"},\"field\":\"Class\",\"formatter\":{\"id\":\"1801\"},\"title\":\"Class\"},\"id\":\"1803\",\"type\":\"TableColumn\"},{\"attributes\":{\"source\":{\"id\":\"1774\"}},\"id\":\"1808\",\"type\":\"CDSView\"},{\"attributes\":{\"editor\":{\"id\":\"1792\"},\"field\":\"TotalCoinSupply\",\"formatter\":{\"id\":\"1791\"},\"title\":\"TotalCoinSupply\"},\"id\":\"1793\",\"type\":\"TableColumn\"},{\"attributes\":{},\"id\":\"1792\",\"type\":\"StringEditor\"},{\"attributes\":{\"children\":[{\"id\":\"1773\"},{\"id\":\"1806\"},{\"id\":\"1813\"}],\"margin\":[0,0,0,0],\"name\":\"Row03048\",\"tags\":[\"embedded\"]},\"id\":\"1772\",\"type\":\"Row\"},{\"attributes\":{},\"id\":\"1776\",\"type\":\"StringFormatter\"},{\"attributes\":{\"margin\":[5,5,5,5],\"name\":\"HSpacer03053\",\"sizing_mode\":\"stretch_width\"},\"id\":\"1813\",\"type\":\"Spacer\"},{\"attributes\":{\"margin\":[5,5,5,5],\"name\":\"HSpacer03052\",\"sizing_mode\":\"stretch_width\"},\"id\":\"1773\",\"type\":\"Spacer\"},{\"attributes\":{\"editor\":{\"id\":\"1787\"},\"field\":\"ProofType\",\"formatter\":{\"id\":\"1786\"},\"title\":\"ProofType\"},\"id\":\"1788\",\"type\":\"TableColumn\"},{\"attributes\":{\"format\":\"0,0.0[00000]\"},\"id\":\"1796\",\"type\":\"NumberFormatter\"},{\"attributes\":{\"editor\":{\"id\":\"1777\"},\"field\":\"CoinName\",\"formatter\":{\"id\":\"1776\"},\"title\":\"CoinName\"},\"id\":\"1778\",\"type\":\"TableColumn\"},{\"attributes\":{},\"id\":\"1777\",\"type\":\"StringEditor\"}],\"root_ids\":[\"1772\"]},\"title\":\"Bokeh Application\",\"version\":\"2.3.2\"}};\n",
       "    var render_items = [{\"docid\":\"28658e53-b9dc-49b1-a6a6-94de1e1268b4\",\"root_ids\":[\"1772\"],\"roots\":{\"1772\":\"34254da3-69ff-4a22-a2b7-846d99d7409b\"}}];\n",
       "    root.Bokeh.embed.embed_items_notebook(docs_json, render_items);\n",
       "  }\n",
       "  if (root.Bokeh !== undefined && root.Bokeh.Panel !== undefined) {\n",
       "    embed_document(root);\n",
       "  } else {\n",
       "    var attempts = 0;\n",
       "    var timer = setInterval(function(root) {\n",
       "      if (root.Bokeh !== undefined && root.Bokeh.Panel !== undefined) {\n",
       "        clearInterval(timer);\n",
       "        embed_document(root);\n",
       "      } else if (document.readyState == \"complete\") {\n",
       "        attempts++;\n",
       "        if (attempts > 200) {\n",
       "          clearInterval(timer);\n",
       "          console.log(\"Bokeh: ERROR: Unable to run BokehJS code because BokehJS library is missing\");\n",
       "        }\n",
       "      }\n",
       "    }, 25, root)\n",
       "  }\n",
       "})(window);</script>"
      ],
      "text/plain": [
       ":Table   [CoinName,Algorithm,ProofType,TotalCoinSupply,TotalCoinsMined,Class]"
      ]
     },
     "execution_count": 142,
     "metadata": {
      "application/vnd.holoviews_exec.v0+json": {
       "id": "1772"
      }
     },
     "output_type": "execute_result"
    }
   ],
   "source": [
    "# Create a table with tradable cryptocurrencies.\n",
    "tradable_crypto_table = clustered_df.hvplot.table(columns=['CoinName', 'Algorithm', 'ProofType', 'TotalCoinSupply', \n",
    "                                                  'TotalCoinsMined', 'Class'], sortable=True, selectable=True)\n",
    "tradable_crypto_table"
   ]
  },
  {
   "cell_type": "code",
   "execution_count": 143,
   "metadata": {},
   "outputs": [
    {
     "name": "stdout",
     "output_type": "stream",
     "text": [
      "There are 685 tradable cryptocurrencies.\n"
     ]
    }
   ],
   "source": [
    "# Print the total number of tradable cryptocurrencies.\n",
    "print(f'There are {len(clustered_df)} tradable cryptocurrencies.')"
   ]
  },
  {
   "cell_type": "code",
   "execution_count": 144,
   "metadata": {},
   "outputs": [
    {
     "data": {
      "text/plain": [
       "array([[4.55364914e-16, 5.94230127e-03],\n",
       "       [5.76795558e-09, 7.00182308e-03],\n",
       "       [0.00000000e+00, 5.94230122e-03],\n",
       "       ...,\n",
       "       [1.51812440e-08, 6.92655266e-03],\n",
       "       [2.27682457e-10, 5.94962775e-03],\n",
       "       [1.08420218e-11, 5.94243008e-03]])"
      ]
     },
     "execution_count": 144,
     "metadata": {},
     "output_type": "execute_result"
    }
   ],
   "source": [
    "# Scaling data to create the scatter plot with tradable cryptocurrencies.\n",
    "X_cluster = clustered_df[['TotalCoinSupply', 'TotalCoinsMined']].copy()\n",
    "X_cluster_scaled = MinMaxScaler().fit_transform(X_cluster)\n",
    "X_cluster_scaled"
   ]
  },
  {
   "cell_type": "code",
   "execution_count": 145,
   "metadata": {},
   "outputs": [
    {
     "data": {
      "text/html": [
       "<div>\n",
       "<style scoped>\n",
       "    .dataframe tbody tr th:only-of-type {\n",
       "        vertical-align: middle;\n",
       "    }\n",
       "\n",
       "    .dataframe tbody tr th {\n",
       "        vertical-align: top;\n",
       "    }\n",
       "\n",
       "    .dataframe thead th {\n",
       "        text-align: right;\n",
       "    }\n",
       "</style>\n",
       "<table border=\"1\" class=\"dataframe\">\n",
       "  <thead>\n",
       "    <tr style=\"text-align: right;\">\n",
       "      <th></th>\n",
       "      <th>TotalCoinSupply</th>\n",
       "      <th>TotalCoinsMined</th>\n",
       "      <th>CoinName</th>\n",
       "      <th>Class</th>\n",
       "    </tr>\n",
       "    <tr>\n",
       "      <th></th>\n",
       "      <th></th>\n",
       "      <th></th>\n",
       "      <th></th>\n",
       "      <th></th>\n",
       "    </tr>\n",
       "  </thead>\n",
       "  <tbody>\n",
       "    <tr>\n",
       "      <th>42</th>\n",
       "      <td>4.553649e-16</td>\n",
       "      <td>0.005942</td>\n",
       "      <td>42 Coin</td>\n",
       "      <td>0</td>\n",
       "    </tr>\n",
       "    <tr>\n",
       "      <th>404</th>\n",
       "      <td>5.767956e-09</td>\n",
       "      <td>0.007002</td>\n",
       "      <td>404Coin</td>\n",
       "      <td>0</td>\n",
       "    </tr>\n",
       "    <tr>\n",
       "      <th>808</th>\n",
       "      <td>0.000000e+00</td>\n",
       "      <td>0.005942</td>\n",
       "      <td>808</td>\n",
       "      <td>0</td>\n",
       "    </tr>\n",
       "    <tr>\n",
       "      <th>1337</th>\n",
       "      <td>3.406122e-06</td>\n",
       "      <td>0.035342</td>\n",
       "      <td>EliteCoin</td>\n",
       "      <td>0</td>\n",
       "    </tr>\n",
       "    <tr>\n",
       "      <th>BTC</th>\n",
       "      <td>2.276825e-10</td>\n",
       "      <td>0.005960</td>\n",
       "      <td>Bitcoin</td>\n",
       "      <td>3</td>\n",
       "    </tr>\n",
       "    <tr>\n",
       "      <th>ETH</th>\n",
       "      <td>0.000000e+00</td>\n",
       "      <td>0.006050</td>\n",
       "      <td>Ethereum</td>\n",
       "      <td>3</td>\n",
       "    </tr>\n",
       "    <tr>\n",
       "      <th>LTC</th>\n",
       "      <td>9.107298e-10</td>\n",
       "      <td>0.006006</td>\n",
       "      <td>Litecoin</td>\n",
       "      <td>3</td>\n",
       "    </tr>\n",
       "    <tr>\n",
       "      <th>DASH</th>\n",
       "      <td>2.385245e-10</td>\n",
       "      <td>0.005951</td>\n",
       "      <td>Dash</td>\n",
       "      <td>0</td>\n",
       "    </tr>\n",
       "    <tr>\n",
       "      <th>XMR</th>\n",
       "      <td>0.000000e+00</td>\n",
       "      <td>0.005960</td>\n",
       "      <td>Monero</td>\n",
       "      <td>3</td>\n",
       "    </tr>\n",
       "    <tr>\n",
       "      <th>ETC</th>\n",
       "      <td>2.276825e-09</td>\n",
       "      <td>0.006056</td>\n",
       "      <td>Ethereum Classic</td>\n",
       "      <td>3</td>\n",
       "    </tr>\n",
       "  </tbody>\n",
       "</table>\n",
       "</div>"
      ],
      "text/plain": [
       "      TotalCoinSupply  TotalCoinsMined          CoinName  Class\n",
       "                                                               \n",
       "42       4.553649e-16         0.005942           42 Coin      0\n",
       "404      5.767956e-09         0.007002           404Coin      0\n",
       "808      0.000000e+00         0.005942               808      0\n",
       "1337     3.406122e-06         0.035342         EliteCoin      0\n",
       "BTC      2.276825e-10         0.005960           Bitcoin      3\n",
       "ETH      0.000000e+00         0.006050          Ethereum      3\n",
       "LTC      9.107298e-10         0.006006          Litecoin      3\n",
       "DASH     2.385245e-10         0.005951              Dash      0\n",
       "XMR      0.000000e+00         0.005960            Monero      3\n",
       "ETC      2.276825e-09         0.006056  Ethereum Classic      3"
      ]
     },
     "execution_count": 145,
     "metadata": {},
     "output_type": "execute_result"
    }
   ],
   "source": [
    "# Create a new DataFrame that has the scaled data with the clustered_df DataFrame index.\n",
    "plot_df = pd.DataFrame(X_cluster_scaled, columns=['TotalCoinSupply', 'TotalCoinsMined'], index=clustered_df.index)\n",
    "\n",
    "# Add the \"CoinName\" column from the clustered_df DataFrame to the new DataFrame.\n",
    "\n",
    "plot_df['CoinName'] = clustered_df.CoinName\n",
    "# Add the \"Class\" column from the clustered_df DataFrame to the new DataFrame. \n",
    "plot_df['Class'] = clustered_df.Class\n",
    "plot_df.head(10)"
   ]
  },
  {
   "cell_type": "code",
   "execution_count": 148,
   "metadata": {},
   "outputs": [
    {
     "data": {},
     "metadata": {},
     "output_type": "display_data"
    },
    {
     "data": {
      "application/vnd.holoviews_exec.v0+json": "",
      "text/html": [
       "<div id='2551'>\n",
       "\n",
       "\n",
       "\n",
       "\n",
       "\n",
       "  <div class=\"bk-root\" id=\"38eb713b-ada9-42aa-96e9-b95ee6c32713\" data-root-id=\"2551\"></div>\n",
       "</div>\n",
       "<script type=\"application/javascript\">(function(root) {\n",
       "  function embed_document(root) {\n",
       "    var docs_json = {\"3cdaf592-203d-481a-b822-f0659343e4dd\":{\"defs\":[{\"extends\":null,\"module\":null,\"name\":\"ReactiveHTML1\",\"overrides\":[],\"properties\":[]},{\"extends\":null,\"module\":null,\"name\":\"FlexBox1\",\"overrides\":[],\"properties\":[{\"default\":\"flex-start\",\"kind\":null,\"name\":\"align_content\"},{\"default\":\"flex-start\",\"kind\":null,\"name\":\"align_items\"},{\"default\":\"row\",\"kind\":null,\"name\":\"flex_direction\"},{\"default\":\"wrap\",\"kind\":null,\"name\":\"flex_wrap\"},{\"default\":\"flex-start\",\"kind\":null,\"name\":\"justify_content\"}]},{\"extends\":null,\"module\":null,\"name\":\"TemplateActions1\",\"overrides\":[],\"properties\":[{\"default\":0,\"kind\":null,\"name\":\"open_modal\"},{\"default\":0,\"kind\":null,\"name\":\"close_modal\"}]},{\"extends\":null,\"module\":null,\"name\":\"MaterialTemplateActions1\",\"overrides\":[],\"properties\":[{\"default\":0,\"kind\":null,\"name\":\"open_modal\"},{\"default\":0,\"kind\":null,\"name\":\"close_modal\"}]}],\"roots\":{\"references\":[{\"attributes\":{\"fill_color\":{\"value\":\"#30a2da\"},\"line_color\":{\"value\":\"#30a2da\"},\"size\":{\"value\":5.477225575051661},\"x\":{\"field\":\"TotalCoinsMined\"},\"y\":{\"field\":\"TotalCoinSupply\"}},\"id\":\"2598\",\"type\":\"Scatter\"},{\"attributes\":{},\"id\":\"2617\",\"type\":\"Selection\"},{\"attributes\":{\"fill_alpha\":{\"value\":0.2},\"fill_color\":{\"value\":\"#fc4f30\"},\"line_alpha\":{\"value\":0.2},\"line_color\":{\"value\":\"#fc4f30\"},\"size\":{\"value\":5.477225575051661},\"x\":{\"field\":\"TotalCoinsMined\"},\"y\":{\"field\":\"TotalCoinSupply\"}},\"id\":\"2621\",\"type\":\"Scatter\"},{\"attributes\":{},\"id\":\"2576\",\"type\":\"SaveTool\"},{\"attributes\":{},\"id\":\"2577\",\"type\":\"PanTool\"},{\"attributes\":{\"data\":{\"Class\":[0,0,0,0,0,0,0,0,0,0,0,0,0,0,0,0,0,0,0,0,0,0,0,0,0,0,0,0,0,0,0,0,0,0,0,0,0,0,0,0,0,0,0,0,0,0,0,0,0,0,0,0,0,0,0,0,0,0,0,0,0,0,0,0,0,0,0,0,0,0,0,0,0,0,0,0,0,0,0,0,0,0,0,0,0,0,0,0,0,0,0,0,0,0,0,0,0,0,0,0,0,0,0,0,0,0,0,0,0,0,0,0,0,0,0,0,0,0,0,0,0,0,0,0,0,0,0,0,0,0,0,0,0,0,0,0,0,0,0,0,0,0,0,0,0,0,0,0,0,0,0,0,0,0,0,0,0,0,0,0,0,0,0,0,0,0,0,0,0,0,0,0,0,0,0,0,0,0,0,0,0,0,0,0,0,0,0,0,0,0,0,0,0,0,0,0,0,0,0,0,0,0,0,0,0,0,0,0,0,0,0,0,0,0,0,0,0,0,0,0,0,0,0,0,0,0,0,0,0,0,0,0,0,0,0,0,0,0,0,0,0,0,0,0,0,0,0,0,0,0,0,0,0,0,0,0,0,0,0,0,0,0,0,0,0,0,0,0,0,0,0,0,0,0,0,0,0,0,0,0,0,0,0,0,0,0,0,0,0,0,0,0,0,0,0,0,0,0,0,0,0,0,0,0,0,0,0,0,0,0,0,0,0,0,0,0,0,0,0,0,0,0,0,0,0,0,0,0,0,0,0,0,0,0,0,0,0,0,0,0,0,0,0,0,0,0,0,0,0,0,0,0,0,0,0,0,0,0,0,0,0,0,0,0,0,0,0,0,0],\"CoinName\":[\"42 Coin\",\"404Coin\",\"808\",\"EliteCoin\",\"Dash\",\"Bitshares\",\"BitcoinDark\",\"Bitstake\",\"PayCoin\",\"KoboCoin\",\"Aero Coin\",\"ApexCoin\",\"ArchCoin\",\"Aurora Coin\",\"BlueCoin\",\"EnergyCoin\",\"BitBar\",\"CashCoin\",\"CryptoBullion\",\"CinderCoin\",\"CoolCoin\",\"CasinoCoin\",\"eMark\",\"Diamond\",\"DarkCash\",\"Exclusive Coin\",\"Fuel2Coin\",\"FIBRE\",\"FlutterCoin\",\"GlyphCoin\",\"Halcyon\",\"HoboNickels\",\"HyperStake\",\"IOCoin\",\"JumBucks Coin\",\"JudgeCoin\",\"LibrexCoin\",\"MaxCoin\",\"MintCoin\",\"MazaCoin\",\"Nautilus Coin\",\"NavCoin\",\"OpalCoin\",\"Orbitcoin\",\"PotCoin\",\"PhoenixCoin\",\"Reddcoin\",\"ShieldCoin\",\"SilkCoin\",\"SuperCoin\",\"SyncCoin\",\"TeslaCoin\",\"TittieCoin\",\"TorCoin\",\"UnitaryStatus Dollar\",\"UltraCoin\",\"Utility Coin\",\"VeriCoin\",\"SocialXbotCoin\",\"X11 Coin\",\"Crypti\",\"StealthCoin\",\"XXXCoin\",\"ZCC Coin\",\"BurstCoin\",\"StorjCoin\",\"Neutron\",\"KryptCoin\",\"FairCoin\",\"RubyCoin\",\"Kore\",\"Dnotes\",\"MaieutiCoin\",\"8BIT Coin\",\"Sativa Coin\",\"AeroMe\",\"MasterTraderCoin\",\"Ucoin\",\"MaryJane Coin\",\"CyberCoin\",\"Vtorrent\",\"ViorCoin\",\"IslaCoin\",\"Nexus\",\"Singular\",\"Droidz\",\"CryptoCircuits\",\"Squall Coin\",\"Milllionaire Coin\",\"Diggits\",\"MapCoin\",\"Paycon\",\"Emercoin\",\"BlitzCoin\",\"EverGreenCoin\",\"Decred\",\"EDRCoin\",\"Hitcoin\",\"DubaiCoin\",\"BiosCrypto\",\"PWR Coin\",\"TrumpCoin\",\"BillaryCoin\",\"EthereumScrypt\",\"GPU Coin\",\"Universal Currency\",\"EuropeCoin\",\"ZeitCoin\",\"SwingCoin\",\"SafeExchangeCoin\",\"Nebuchadnezzar\",\"GIZMOcoin\",\"SecretCoin\",\"Ratecoin\",\"Digital Bullion Gold\",\"Revenu\",\"Clockcoin\",\"VIP Tokens\",\"OrlyCoin\",\"BitSend\",\"16BitCoin\",\"ChessCoin\",\"ReeCoin\",\"Let it Ride\",\"PutinCoin\",\"iBankCoin\",\"Frankywillcoin\",\"MudraCoin\",\"Lutetium Coin\",\"GoldBlocks\",\"WayCoin\",\"CarterCoin\",\"BitTokens\",\"MustangCoin\",\"ZoneCoin\",\"RootCoin\",\"PROUD Money\",\"BitCurrency\",\"Swiscoin\",\"BuzzCoin\",\"Opair\",\"PesoBit\",\"Halloween Coin\",\"CoffeeCoin\",\"RoyalCoin\",\"GanjaCoin V2\",\"TeamUP\",\"LanaCoin\",\"ARK\",\"InsaneCoin\",\"LuckChain\",\"EmberCoin\",\"XenixCoin\",\"FreeCoin\",\"NPCcoin\",\"PLNCoin\",\"Icobid\",\"AquariusCoin\",\"Creatio\",\"Eternity\",\"Eurocoin\",\"BitcoinFast\",\"Stakenet\",\"BitConnect Coin\",\"MoneyCoin\",\"Enigma\",\"Russiacoin\",\"PandaCoin\",\"GameUnits\",\"GAKHcoin\",\"Allsafe\",\"LiteCreed\",\"NeptuneClassic\",\"GoldenBird\",\"Ride My Car\",\"Klingon Empire Darsek\",\"Internet of People\",\"KushCoin\",\"Eryllium\",\"Printerium\",\"Impeach\",\"Zilbercoin\",\"FirstCoin\",\"FindCoin\",\"OpenChat\",\"RenosCoin\",\"VirtacoinPlus\",\"TajCoin\",\"Impact\",\"Universe\",\"Atmos\",\"HappyCoin\",\"MacronCoin\",\"Condensate\",\"Independent Money System\",\"ArgusCoin\",\"LomoCoin\",\"ProCurrency\",\"GoldReserve\",\"GrowthCoin\",\"Phreak\",\"Degas Coin\",\"ZSEcoin\",\"HTML5 Coin\",\"Ultimate Secure Cash\",\"QTUM\",\"Espers\",\"Denarius\",\"Virta Unique Coin\",\"Bitcoin Planet\",\"BritCoin\",\"Octanox\",\"Linda\",\"DeepOnion\",\"Signatum\",\"Cream\",\"Monoeci\",\"Draftcoin\",\"Vechain\",\"Stakecoin\",\"CoinonatX\",\"Ethereum Dark\",\"Obsidian\",\"Cardano\",\"Regalcoin\",\"TrezarCoin\",\"TerraNovaCoin\",\"Rupee\",\"WomenCoin\",\"Theresa May Coin\",\"NamoCoin\",\"LUXCoin\",\"Xios\",\"Bitcloud 2.0\",\"KekCoin\",\"BlackholeCoin\",\"AltCommunity Coin\",\"Pure\",\"Rupaya\",\"Infinity Economics\",\"Castle\",\"Magnet\",\"Lamden Tau\",\"Electra\",\"Bitcoin Diamond\",\"Cash & Back Coin\",\"Bulwark\",\"Kalkulus\",\"GermanCoin\",\"LiteCoin Ultra\",\"PhantomX\",\"HTML Coin\",\"Fantasy Cash\",\"Digiwage\",\"Trollcoin\",\"Litecoin Plus\",\"Monkey Project\",\"OP Coin\",\"Valorbit\",\"TokenPay\",\"My Big Coin\",\"Unified Society USDEX\",\"Tokyo Coin\",\"BiblePay\",\"Stipend\",\"Poa Network\",\"Pushi\",\"Ellerium\",\"Velox\",\"Ontology\",\"Bitspace\",\"Briacoin\",\"Ignition\",\"MedicCoin\",\"Zelcash\",\"Bitcoin Green\",\"Deviant Coin\",\"Abjcoin\",\"Profit Hunters Coin\",\"Semux\",\"BitBlocks\",\"Carebit\",\"Zealium\",\"Proton\",\"iDealCash\",\"Bitcoin Incognito\",\"HollyWoodCoin\",\"Swisscoin\",\"Xt3ch\",\"TheVig\",\"EmaratCoin\",\"Dekado\",\"Lynx\",\"Poseidon Quark\",\"BitcoinWSpectrum\",\"Muse\",\"Trivechain\",\"Dystem\",\"Giant\",\"Peony Coin\",\"SafeCoin\",\"Absolute Coin\",\"Vitae\",\"TPCash\",\"MUSDcoin\",\"ARENON\",\"EUNO\",\"MMOCoin\",\"Ketan\",\"Safe Trade Coin\",\"Mont Blanc\",\"XDNA\",\"PAXEX\",\"Apollon\",\"ThunderStake\",\"Kcash\",\"Traid\",\"Bettex coin\",\"BitMoney\",\"Junson Ming Chan Coin\",\"Zenad\",\"HerbCoin\",\"Oduwa\",\"Galilel\",\"Crypto Sports\",\"Credit\",\"Dash Platinum\",\"Nasdacoin\",\"Beetle Coin\",\"Titan Coin\",\"Award\",\"Insane Coin\",\"ALAX\",\"The Freedom Coin\",\"LiteDoge\",\"TruckCoin\",\"Ascension Coin\",\"OrangeCoin\",\"BitstarCoin\",\"NeosCoin\",\"HyperCoin\",\"PinkCoin\",\"AudioCoin\",\"IncaKoin\",\"Piggy Coin\",\"Genstake\",\"ParkByte\",\"XiaoMiCoin\",\"CapriCoin\",\" ClubCoin\",\"Radium\",\"Creditbit \",\"OKCash\",\"Lisk\",\"HiCoin\",\"WhiteCoin\",\"FriendshipCoin\",\"The Hempcoin\",\"Fiii\",\"Triangles Coin\",\"EOS\",\"Oxycoin\",\"TigerCash\",\"Waves\",\"Particl\",\"Nxt\",\"ZEPHYR\",\"Gapcoin\",\"BitcoinPlus\"],\"TotalCoinSupply\":{\"__ndarray__\":\"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\",\"dtype\":\"float64\",\"order\":\"little\",\"shape\":[369]},\"TotalCoinsMined\":{\"__ndarray__\":\"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\",\"dtype\":\"float64\",\"order\":\"little\",\"shape\":[369]}},\"selected\":{\"id\":\"2596\"},\"selection_policy\":{\"id\":\"2612\"}},\"id\":\"2595\",\"type\":\"ColumnDataSource\"},{\"attributes\":{},\"id\":\"2580\",\"type\":\"ResetTool\"},{\"attributes\":{},\"id\":\"2578\",\"type\":\"WheelZoomTool\"},{\"attributes\":{\"label\":{\"value\":\"3\"},\"renderers\":[{\"id\":\"2668\"}]},\"id\":\"2686\",\"type\":\"LegendItem\"},{\"attributes\":{\"data_source\":{\"id\":\"2662\"},\"glyph\":{\"id\":\"2665\"},\"hover_glyph\":null,\"muted_glyph\":{\"id\":\"2667\"},\"nonselection_glyph\":{\"id\":\"2666\"},\"selection_glyph\":{\"id\":\"2687\"},\"view\":{\"id\":\"2669\"}},\"id\":\"2668\",\"type\":\"GlyphRenderer\"},{\"attributes\":{\"overlay\":{\"id\":\"2581\"}},\"id\":\"2579\",\"type\":\"BoxZoomTool\"},{\"attributes\":{\"fill_alpha\":{\"value\":0.1},\"fill_color\":{\"value\":\"#6d904f\"},\"line_alpha\":{\"value\":0.1},\"line_color\":{\"value\":\"#6d904f\"},\"size\":{\"value\":5.477225575051661},\"x\":{\"field\":\"TotalCoinsMined\"},\"y\":{\"field\":\"TotalCoinSupply\"}},\"id\":\"2666\",\"type\":\"Scatter\"},{\"attributes\":{\"source\":{\"id\":\"2595\"}},\"id\":\"2602\",\"type\":\"CDSView\"},{\"attributes\":{\"angle\":{\"value\":0.0},\"fill_alpha\":{\"value\":1.0},\"fill_color\":{\"value\":\"#30a2da\"},\"hatch_alpha\":{\"value\":1.0},\"hatch_color\":{\"value\":\"black\"},\"hatch_scale\":{\"value\":12.0},\"hatch_weight\":{\"value\":1.0},\"line_alpha\":{\"value\":1.0},\"line_cap\":{\"value\":\"butt\"},\"line_color\":{\"value\":\"#30a2da\"},\"line_dash\":{\"value\":[]},\"line_dash_offset\":{\"value\":0},\"line_join\":{\"value\":\"bevel\"},\"line_width\":{\"value\":1},\"marker\":{\"value\":\"circle\"},\"size\":{\"value\":5.477225575051661},\"x\":{\"field\":\"TotalCoinsMined\"},\"y\":{\"field\":\"TotalCoinSupply\"}},\"id\":\"2615\",\"type\":\"Scatter\"},{\"attributes\":{\"fill_alpha\":{\"value\":0.1},\"fill_color\":{\"value\":\"#e5ae38\"},\"line_alpha\":{\"value\":0.1},\"line_color\":{\"value\":\"#e5ae38\"},\"size\":{\"value\":5.477225575051661},\"x\":{\"field\":\"TotalCoinsMined\"},\"y\":{\"field\":\"TotalCoinSupply\"}},\"id\":\"2642\",\"type\":\"Scatter\"},{\"attributes\":{\"end\":1.042857142857143,\"reset_end\":1.042857142857143,\"reset_start\":-0.04285714285714286,\"start\":-0.04285714285714286,\"tags\":[[[\"TotalCoinsMined\",\"TotalCoinsMined\",null]]]},\"id\":\"2553\",\"type\":\"Range1d\"},{\"attributes\":{},\"id\":\"2592\",\"type\":\"BasicTickFormatter\"},{\"attributes\":{\"click_policy\":\"mute\",\"items\":[{\"id\":\"2614\"},{\"id\":\"2636\"},{\"id\":\"2660\"},{\"id\":\"2686\"}],\"location\":[0,0],\"title\":\"Class\"},\"id\":\"2613\",\"type\":\"Legend\"},{\"attributes\":{\"data_source\":{\"id\":\"2595\"},\"glyph\":{\"id\":\"2598\"},\"hover_glyph\":null,\"muted_glyph\":{\"id\":\"2600\"},\"nonselection_glyph\":{\"id\":\"2599\"},\"selection_glyph\":{\"id\":\"2615\"},\"view\":{\"id\":\"2602\"}},\"id\":\"2601\",\"type\":\"GlyphRenderer\"},{\"attributes\":{\"active_multi\":null,\"tools\":[{\"id\":\"2555\"},{\"id\":\"2576\"},{\"id\":\"2577\"},{\"id\":\"2578\"},{\"id\":\"2579\"},{\"id\":\"2580\"}]},\"id\":\"2582\",\"type\":\"Toolbar\"},{\"attributes\":{},\"id\":\"2569\",\"type\":\"BasicTicker\"},{\"attributes\":{\"label\":{\"value\":\"0\"},\"renderers\":[{\"id\":\"2601\"}]},\"id\":\"2614\",\"type\":\"LegendItem\"},{\"attributes\":{\"fill_alpha\":{\"value\":0.2},\"fill_color\":{\"value\":\"#30a2da\"},\"line_alpha\":{\"value\":0.2},\"line_color\":{\"value\":\"#30a2da\"},\"size\":{\"value\":5.477225575051661},\"x\":{\"field\":\"TotalCoinsMined\"},\"y\":{\"field\":\"TotalCoinSupply\"}},\"id\":\"2600\",\"type\":\"Scatter\"},{\"attributes\":{},\"id\":\"2663\",\"type\":\"Selection\"},{\"attributes\":{\"children\":[{\"id\":\"2552\"},{\"id\":\"2559\"},{\"id\":\"2832\"}],\"margin\":[0,0,0,0],\"name\":\"Row04816\",\"tags\":[\"embedded\"]},\"id\":\"2551\",\"type\":\"Row\"},{\"attributes\":{\"bottom_units\":\"screen\",\"fill_alpha\":0.5,\"fill_color\":\"lightgrey\",\"left_units\":\"screen\",\"level\":\"overlay\",\"line_alpha\":1.0,\"line_color\":\"black\",\"line_dash\":[4,4],\"line_width\":2,\"right_units\":\"screen\",\"syncable\":false,\"top_units\":\"screen\"},\"id\":\"2581\",\"type\":\"BoxAnnotation\"},{\"attributes\":{},\"id\":\"2659\",\"type\":\"UnionRenderers\"},{\"attributes\":{\"margin\":[5,5,5,5],\"name\":\"HSpacer04820\",\"sizing_mode\":\"stretch_width\"},\"id\":\"2552\",\"type\":\"Spacer\"},{\"attributes\":{\"source\":{\"id\":\"2616\"}},\"id\":\"2623\",\"type\":\"CDSView\"},{\"attributes\":{\"angle\":{\"value\":0.0},\"fill_alpha\":{\"value\":1.0},\"fill_color\":{\"value\":\"#fc4f30\"},\"hatch_alpha\":{\"value\":1.0},\"hatch_color\":{\"value\":\"black\"},\"hatch_scale\":{\"value\":12.0},\"hatch_weight\":{\"value\":1.0},\"line_alpha\":{\"value\":1.0},\"line_cap\":{\"value\":\"butt\"},\"line_color\":{\"value\":\"#fc4f30\"},\"line_dash\":{\"value\":[]},\"line_dash_offset\":{\"value\":0},\"line_join\":{\"value\":\"bevel\"},\"line_width\":{\"value\":1},\"marker\":{\"value\":\"circle\"},\"size\":{\"value\":5.477225575051661},\"x\":{\"field\":\"TotalCoinsMined\"},\"y\":{\"field\":\"TotalCoinSupply\"}},\"id\":\"2637\",\"type\":\"Scatter\"},{\"attributes\":{},\"id\":\"2635\",\"type\":\"UnionRenderers\"},{\"attributes\":{\"data_source\":{\"id\":\"2616\"},\"glyph\":{\"id\":\"2619\"},\"hover_glyph\":null,\"muted_glyph\":{\"id\":\"2621\"},\"nonselection_glyph\":{\"id\":\"2620\"},\"selection_glyph\":{\"id\":\"2637\"},\"view\":{\"id\":\"2623\"}},\"id\":\"2622\",\"type\":\"GlyphRenderer\"},{\"attributes\":{},\"id\":\"2593\",\"type\":\"AllLabels\"},{\"attributes\":{},\"id\":\"2612\",\"type\":\"UnionRenderers\"},{\"attributes\":{\"data\":{\"Class\":[3,3,3,3,3,3,3,3,3,3,3,3,3,3,3,3,3,3,3,3,3,3,3,3,3,3,3,3,3,3,3,3,3,3,3,3,3,3,3,3,3,3,3,3,3,3,3,3,3,3,3,3,3,3,3,3,3,3,3,3,3,3,3,3,3,3,3,3,3,3,3,3,3,3,3,3,3,3,3,3,3,3,3,3,3,3,3,3,3,3,3,3,3,3,3,3,3,3,3,3,3,3,3,3,3,3,3,3,3,3,3,3,3,3,3,3,3,3,3,3,3,3,3,3,3,3,3,3,3,3,3,3,3,3,3,3,3,3,3,3,3,3,3,3,3,3,3,3,3,3,3,3,3,3,3,3,3,3,3,3,3,3,3,3,3,3,3,3,3,3,3,3,3,3,3,3,3,3,3,3,3,3,3,3,3,3,3,3,3,3,3,3,3,3,3,3,3,3,3,3,3,3,3,3,3,3,3,3,3,3,3,3,3,3,3,3,3,3,3,3,3,3,3,3,3,3,3,3,3,3,3,3,3,3,3,3,3,3,3,3,3,3,3,3,3,3,3,3,3,3,3,3,3,3,3,3,3,3,3,3,3,3,3,3,3,3,3,3,3,3,3,3,3,3,3,3,3,3,3,3,3,3,3,3,3,3,3,3,3,3,3,3,3,3,3,3,3,3,3,3,3,3,3,3,3,3,3,3,3,3,3,3,3],\"CoinName\":[\"Bitcoin\",\"Ethereum\",\"Litecoin\",\"Monero\",\"Ethereum Classic\",\"ZCash\",\"DigiByte\",\"ProsperCoin\",\"Spreadcoin\",\"ACoin\",\"Argentum\",\"BetaCoin\",\"MyriadCoin\",\"MoonCoin\",\"ZetaCoin\",\"SexCoin\",\"Quatloo\",\"QuarkCoin\",\"Riecoin\",\"Digitalcoin \",\"LimeCoinX\",\"BitMark\",\"Catcoin\",\"CannaCoin\",\"CryptCoin\",\"Verge\",\"DarkShibe\",\"DevCoin\",\"EarthCoin\",\"E-Gulden\",\"Elacoin\",\"Einsteinium\",\"Emerald\",\"Flappy Coin\",\"FireRoosterCoin\",\"Franko\",\"FeatherCoin\",\"GrandCoin\",\"GlobalCoin\",\"GoldCoin\",\"HunterCoin\",\"Infinite Coin\",\"IXcoin\",\"KrugerCoin\",\"LuckyCoin\",\"Litebar \",\"LitecoinDark\",\"MegaCoin\",\"MediterraneanCoin\",\"MinCoin\",\"NoirBits\",\"NobleCoin\",\"Namecoin\",\"NyanCoin\",\"RipOffCoin\",\"RonPaulCoin\",\"StableCoin\",\"SmartCoin\",\"SpainCoin\",\"SecureCoin\",\"SysCoin\",\"TigerCoin\",\"TerraCoin\",\"Umbrella\",\"UnbreakableCoin\",\"Unobtanium\",\"UroCoin\",\"ViaCoin\",\"VootCoin\",\"Vertcoin\",\"WorldCoin\",\"JouleCoin\",\"ByteCoin\",\"DigitalNote \",\"MonaCoin\",\"Sling Coin\",\"Gulden\",\"PesetaCoin\",\"Wild Beast Coin\",\"Flo\",\"ArtByte\",\"BitCredit\",\"Folding Coin\",\"Unitus\",\"CypherPunkCoin\",\"OmniCron\",\"GreenCoin\",\"Unattanium\",\"Cryptonite\",\"Gridmaster\",\"ConSpiracy Coin \",\"MasterCoin\",\"SoonCoin\",\"1Credit\",\"Quicksilver coin\",\"MarsCoin \",\"Crypto\",\"Anarchists Prime\",\"BowsCoin\",\"Song Coin\",\"BitZeny\",\"Expanse\",\"Siacoin\",\"MindCoin\",\"I0coin\",\"DogeCoinDark\",\"Revolution VR\",\"HOdlcoin\",\"Gamecredits\",\"Dashcoin\",\"CarpeDiemCoin\",\"Phalanx\",\"SunShotCoin\",\"HempCoin\",\"Adzcoin\",\"VirtaCoin\",\"SoilCoin\",\"YoCoin\",\"AEON\",\"SibCoin\",\"Anti Bitcoin\",\"Francs\",\"BolivarCoin\",\"Clinton\",\"Omni\",\"PizzaCoin\",\"Komodo\",\"Karbo\",\"ZayedCoin\",\"Circuits of Value\",\"DopeCoin\",\"DollarCoin\",\"Shilling\",\"GBR Coin\",\"FujiCoin\",\"ZCoin\",\"LeaCoin\",\"Zurcoin\",\"Elementrem\",\"CashOut\",\"ZClassic\",\"KiloCoin\",\"Hush\",\"ArtexCoin\",\"Kurrent\",\"Cannabis Industry Coin\",\"OsmiumCoin\",\"Bikercoins\",\"HexxCoin\",\"MarxCoin\",\"PacCoin\",\"Solarflarecoin\",\"Citadel\",\"CreativeChain\",\"BeaverCoin\",\"VaultCoin\",\"Zero\",\"Canada eCoin\",\"Zoin\",\"Musicoin\",\"BnrtxCoin\",\"DubaiCoin\",\"EB3coin\",\"Coinonat\",\"Bitcoin Scrypt\",\"BenjiRolls\",\"ParallelCoin\",\"ILCoin\",\"EquiTrader\",\"Quantum Resistant Ledger\",\"Dynamic\",\"Nano\",\"ChanCoin\",\"Dinastycoin\",\"DigitalPrice\",\"Unify\",\"SocialCoin\",\"ArcticCoin\",\"DAS\",\"LeviarCoin\",\"Bitcore\",\"gCn Coin\",\"SmartCash\",\"Onix\",\"Bitcoin Cash\",\"CampusCoin\",\"Sojourn Coin\",\"NewYorkCoin\",\"LiteBitcoin\",\"FrazCoin\",\"Kronecoin\",\"AdCoin\",\"Linx\",\"Sumokoin\",\"BitcoinZ\",\"Elements\",\"VIVO Coin\",\"Bitcoin Gold\",\"Pirl\",\"eBoost\",\"Pura\",\"Innova\",\"Bitdeal\",\"Ellaism\",\"Sakuracoin\",\"GoByte\",\"SHIELD\",\"UltraNote\",\"BitCoal\",\"DaxxCoin\",\"AC3\",\"CHIPS\",\"Lethean\",\"PopularCoin\",\"Photon\",\"Sucre\",\"SparksPay\",\"GunCoin\",\"IrishCoin\",\"Pioneer Coin\",\"UnitedBitcoin\",\"Interzone\",\"1717 Masonic Commemorative Token\",\"TurtleCoin\",\"MUNcoin\",\"Niobio Cash\",\"Bitcoin Private\",\"Skeincoin\",\"ShareChain\",\"Travelflex\",\"KREDS\",\"BitFlip\",\"LottoCoin\",\"LeafCoin\",\"Cerberus\",\"Bitcoin Hush\",\"Crypto Improvement Fund\",\"Callisto Network\",\"Curium\",\"BitTube\",\"Dinero\",\"Poseidon\",\"Aidos Kuneen\",\"Snowgem\",\"Bitrolium\",\"Bitcoin Interest\",\"Alpenschillling\",\"FuturoCoin\",\"Monero Classic\",\"Jumpcoin\",\"Infinex\",\"KEYCO\",\"GINcoin\",\"PlatinCoin\",\"Loki\",\"Newton Coin\",\"MassGrid\",\"PluraCoin\",\"Motion\",\"PlusOneCoin\",\"Axe\",\"HexCoin\",\"Webchain\",\"Ryo\",\"Urals Coin\",\"Qwertycoin\",\"NIX\",\"Project Pai\",\"Azart\",\"Xchange\",\"CrypticCoin\",\"ZestCoin\",\"X-CASH\",\"Actinium\",\"ETHER-1\",\"Bitcoin SV\",\"Bitcoiin2Gen\",\"FREDEnergy\",\"C25 Coin\",\"Aquachain\",\"Universal Molecule\",\"Lithium\",\"Smart Bitcoin\",\"PirateCash\",\"Exosis\",\"Block-Logic\",\"Beam\",\"Bithereum\",\"SLICE\",\"Vidulum\",\"BlockStamp\",\"BLAST\",\"Bitcoin Rhodium\",\"GlobalToken\",\"Boolberry\",\"SolarCoin\",\"UFO Coin\",\"BlakeCoin\",\"FantomCoin \",\"Crypto Escudo\",\"Crown Coin\",\"Quazar Coin\",\"SmileyCoin\",\"Groestlcoin\",\"Bata\",\"Pakcoin\",\"Dotcoin\",\"JoinCoin\",\"Vollar\",\"Reality Clash\",\"iOlite\",\"Beldex\",\"Horizen\"],\"TotalCoinSupply\":{\"__ndarray__\":\"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\",\"dtype\":\"float64\",\"order\":\"little\",\"shape\":[313]},\"TotalCoinsMined\":{\"__ndarray__\":\"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\",\"dtype\":\"float64\",\"order\":\"little\",\"shape\":[313]}},\"selected\":{\"id\":\"2663\"},\"selection_policy\":{\"id\":\"2685\"}},\"id\":\"2662\",\"type\":\"ColumnDataSource\"},{\"attributes\":{\"data_source\":{\"id\":\"2638\"},\"glyph\":{\"id\":\"2641\"},\"hover_glyph\":null,\"muted_glyph\":{\"id\":\"2643\"},\"nonselection_glyph\":{\"id\":\"2642\"},\"selection_glyph\":{\"id\":\"2661\"},\"view\":{\"id\":\"2645\"}},\"id\":\"2644\",\"type\":\"GlyphRenderer\"},{\"attributes\":{\"text_color\":\"black\",\"text_font_size\":\"12pt\"},\"id\":\"2560\",\"type\":\"Title\"},{\"attributes\":{\"margin\":[5,5,5,5],\"name\":\"HSpacer04821\",\"sizing_mode\":\"stretch_width\"},\"id\":\"2832\",\"type\":\"Spacer\"},{\"attributes\":{\"fill_color\":{\"value\":\"#6d904f\"},\"line_color\":{\"value\":\"#6d904f\"},\"size\":{\"value\":5.477225575051661},\"x\":{\"field\":\"TotalCoinsMined\"},\"y\":{\"field\":\"TotalCoinSupply\"}},\"id\":\"2665\",\"type\":\"Scatter\"},{\"attributes\":{\"label\":{\"value\":\"1\"},\"renderers\":[{\"id\":\"2622\"}]},\"id\":\"2636\",\"type\":\"LegendItem\"},{\"attributes\":{},\"id\":\"2589\",\"type\":\"BasicTickFormatter\"},{\"attributes\":{},\"id\":\"2596\",\"type\":\"Selection\"},{\"attributes\":{\"source\":{\"id\":\"2638\"}},\"id\":\"2645\",\"type\":\"CDSView\"},{\"attributes\":{},\"id\":\"2685\",\"type\":\"UnionRenderers\"},{\"attributes\":{\"below\":[{\"id\":\"2568\"}],\"center\":[{\"id\":\"2571\"},{\"id\":\"2575\"}],\"height\":300,\"left\":[{\"id\":\"2572\"}],\"margin\":[5,5,5,5],\"min_border_bottom\":10,\"min_border_left\":10,\"min_border_right\":10,\"min_border_top\":10,\"renderers\":[{\"id\":\"2601\"},{\"id\":\"2622\"},{\"id\":\"2644\"},{\"id\":\"2668\"}],\"right\":[{\"id\":\"2613\"}],\"sizing_mode\":\"fixed\",\"title\":{\"id\":\"2560\"},\"toolbar\":{\"id\":\"2582\"},\"width\":700,\"x_range\":{\"id\":\"2553\"},\"x_scale\":{\"id\":\"2564\"},\"y_range\":{\"id\":\"2554\"},\"y_scale\":{\"id\":\"2566\"}},\"id\":\"2559\",\"subtype\":\"Figure\",\"type\":\"Plot\"},{\"attributes\":{\"fill_alpha\":{\"value\":0.2},\"fill_color\":{\"value\":\"#6d904f\"},\"line_alpha\":{\"value\":0.2},\"line_color\":{\"value\":\"#6d904f\"},\"size\":{\"value\":5.477225575051661},\"x\":{\"field\":\"TotalCoinsMined\"},\"y\":{\"field\":\"TotalCoinSupply\"}},\"id\":\"2667\",\"type\":\"Scatter\"},{\"attributes\":{\"axis\":{\"id\":\"2568\"},\"grid_line_color\":null,\"ticker\":null},\"id\":\"2571\",\"type\":\"Grid\"},{\"attributes\":{\"angle\":{\"value\":0.0},\"fill_alpha\":{\"value\":1.0},\"fill_color\":{\"value\":\"#e5ae38\"},\"hatch_alpha\":{\"value\":1.0},\"hatch_color\":{\"value\":\"black\"},\"hatch_scale\":{\"value\":12.0},\"hatch_weight\":{\"value\":1.0},\"line_alpha\":{\"value\":1.0},\"line_cap\":{\"value\":\"butt\"},\"line_color\":{\"value\":\"#e5ae38\"},\"line_dash\":{\"value\":[]},\"line_dash_offset\":{\"value\":0},\"line_join\":{\"value\":\"bevel\"},\"line_width\":{\"value\":1},\"marker\":{\"value\":\"circle\"},\"size\":{\"value\":5.477225575051661},\"x\":{\"field\":\"TotalCoinsMined\"},\"y\":{\"field\":\"TotalCoinSupply\"}},\"id\":\"2661\",\"type\":\"Scatter\"},{\"attributes\":{},\"id\":\"2564\",\"type\":\"LinearScale\"},{\"attributes\":{\"fill_alpha\":{\"value\":0.2},\"fill_color\":{\"value\":\"#e5ae38\"},\"line_alpha\":{\"value\":0.2},\"line_color\":{\"value\":\"#e5ae38\"},\"size\":{\"value\":5.477225575051661},\"x\":{\"field\":\"TotalCoinsMined\"},\"y\":{\"field\":\"TotalCoinSupply\"}},\"id\":\"2643\",\"type\":\"Scatter\"},{\"attributes\":{},\"id\":\"2590\",\"type\":\"AllLabels\"},{\"attributes\":{\"end\":1.1,\"reset_end\":1.1,\"reset_start\":-0.1,\"start\":-0.1,\"tags\":[[[\"TotalCoinSupply\",\"TotalCoinSupply\",null]]]},\"id\":\"2554\",\"type\":\"Range1d\"},{\"attributes\":{\"source\":{\"id\":\"2662\"}},\"id\":\"2669\",\"type\":\"CDSView\"},{\"attributes\":{},\"id\":\"2566\",\"type\":\"LinearScale\"},{\"attributes\":{\"fill_alpha\":{\"value\":0.1},\"fill_color\":{\"value\":\"#fc4f30\"},\"line_alpha\":{\"value\":0.1},\"line_color\":{\"value\":\"#fc4f30\"},\"size\":{\"value\":5.477225575051661},\"x\":{\"field\":\"TotalCoinsMined\"},\"y\":{\"field\":\"TotalCoinSupply\"}},\"id\":\"2620\",\"type\":\"Scatter\"},{\"attributes\":{\"data\":{\"Class\":[2],\"CoinName\":[\"BitTorrent\"],\"TotalCoinSupply\":{\"__ndarray__\":\"H1DO9o6C5j4=\",\"dtype\":\"float64\",\"order\":\"little\",\"shape\":[1]},\"TotalCoinsMined\":{\"__ndarray__\":\"AAAAAAAA8D8=\",\"dtype\":\"float64\",\"order\":\"little\",\"shape\":[1]}},\"selected\":{\"id\":\"2639\"},\"selection_policy\":{\"id\":\"2659\"}},\"id\":\"2638\",\"type\":\"ColumnDataSource\"},{\"attributes\":{\"label\":{\"value\":\"2\"},\"renderers\":[{\"id\":\"2644\"}]},\"id\":\"2660\",\"type\":\"LegendItem\"},{\"attributes\":{\"axis_label\":\"TotalCoinSupply\",\"formatter\":{\"id\":\"2592\"},\"major_label_policy\":{\"id\":\"2593\"},\"ticker\":{\"id\":\"2573\"}},\"id\":\"2572\",\"type\":\"LinearAxis\"},{\"attributes\":{\"fill_alpha\":{\"value\":0.1},\"fill_color\":{\"value\":\"#30a2da\"},\"line_alpha\":{\"value\":0.1},\"line_color\":{\"value\":\"#30a2da\"},\"size\":{\"value\":5.477225575051661},\"x\":{\"field\":\"TotalCoinsMined\"},\"y\":{\"field\":\"TotalCoinSupply\"}},\"id\":\"2599\",\"type\":\"Scatter\"},{\"attributes\":{\"axis_label\":\"TotalCoinsMined\",\"formatter\":{\"id\":\"2589\"},\"major_label_policy\":{\"id\":\"2590\"},\"ticker\":{\"id\":\"2569\"}},\"id\":\"2568\",\"type\":\"LinearAxis\"},{\"attributes\":{\"fill_color\":{\"value\":\"#fc4f30\"},\"line_color\":{\"value\":\"#fc4f30\"},\"size\":{\"value\":5.477225575051661},\"x\":{\"field\":\"TotalCoinsMined\"},\"y\":{\"field\":\"TotalCoinSupply\"}},\"id\":\"2619\",\"type\":\"Scatter\"},{\"attributes\":{\"fill_color\":{\"value\":\"#e5ae38\"},\"line_color\":{\"value\":\"#e5ae38\"},\"size\":{\"value\":5.477225575051661},\"x\":{\"field\":\"TotalCoinsMined\"},\"y\":{\"field\":\"TotalCoinSupply\"}},\"id\":\"2641\",\"type\":\"Scatter\"},{\"attributes\":{\"callback\":null,\"renderers\":[{\"id\":\"2601\"},{\"id\":\"2622\"},{\"id\":\"2644\"},{\"id\":\"2668\"}],\"tags\":[\"hv_created\"],\"tooltips\":[[\"Class\",\"@{Class}\"],[\"TotalCoinsMined\",\"@{TotalCoinsMined}\"],[\"TotalCoinSupply\",\"@{TotalCoinSupply}\"],[\"CoinName\",\"@{CoinName}\"]]},\"id\":\"2555\",\"type\":\"HoverTool\"},{\"attributes\":{\"angle\":{\"value\":0.0},\"fill_alpha\":{\"value\":1.0},\"fill_color\":{\"value\":\"#6d904f\"},\"hatch_alpha\":{\"value\":1.0},\"hatch_color\":{\"value\":\"black\"},\"hatch_scale\":{\"value\":12.0},\"hatch_weight\":{\"value\":1.0},\"line_alpha\":{\"value\":1.0},\"line_cap\":{\"value\":\"butt\"},\"line_color\":{\"value\":\"#6d904f\"},\"line_dash\":{\"value\":[]},\"line_dash_offset\":{\"value\":0},\"line_join\":{\"value\":\"bevel\"},\"line_width\":{\"value\":1},\"marker\":{\"value\":\"circle\"},\"size\":{\"value\":5.477225575051661},\"x\":{\"field\":\"TotalCoinsMined\"},\"y\":{\"field\":\"TotalCoinSupply\"}},\"id\":\"2687\",\"type\":\"Scatter\"},{\"attributes\":{},\"id\":\"2573\",\"type\":\"BasicTicker\"},{\"attributes\":{},\"id\":\"2639\",\"type\":\"Selection\"},{\"attributes\":{\"axis\":{\"id\":\"2572\"},\"dimension\":1,\"grid_line_color\":null,\"ticker\":null},\"id\":\"2575\",\"type\":\"Grid\"},{\"attributes\":{\"data\":{\"Class\":[1,1],\"CoinName\":[\"LitecoinCash\",\"Acute Angle Cloud\"],\"TotalCoinSupply\":{\"__ndarray__\":\"v6VPScqOQz6OlI/pdkhHPg==\",\"dtype\":\"float64\",\"order\":\"little\",\"shape\":[2]},\"TotalCoinsMined\":{\"__ndarray__\":\"cI0lHxn3ej//4pYZ13N8Pw==\",\"dtype\":\"float64\",\"order\":\"little\",\"shape\":[2]}},\"selected\":{\"id\":\"2617\"},\"selection_policy\":{\"id\":\"2635\"}},\"id\":\"2616\",\"type\":\"ColumnDataSource\"}],\"root_ids\":[\"2551\"]},\"title\":\"Bokeh Application\",\"version\":\"2.3.2\"}};\n",
       "    var render_items = [{\"docid\":\"3cdaf592-203d-481a-b822-f0659343e4dd\",\"root_ids\":[\"2551\"],\"roots\":{\"2551\":\"38eb713b-ada9-42aa-96e9-b95ee6c32713\"}}];\n",
       "    root.Bokeh.embed.embed_items_notebook(docs_json, render_items);\n",
       "  }\n",
       "  if (root.Bokeh !== undefined && root.Bokeh.Panel !== undefined) {\n",
       "    embed_document(root);\n",
       "  } else {\n",
       "    var attempts = 0;\n",
       "    var timer = setInterval(function(root) {\n",
       "      if (root.Bokeh !== undefined && root.Bokeh.Panel !== undefined) {\n",
       "        clearInterval(timer);\n",
       "        embed_document(root);\n",
       "      } else if (document.readyState == \"complete\") {\n",
       "        attempts++;\n",
       "        if (attempts > 200) {\n",
       "          clearInterval(timer);\n",
       "          console.log(\"Bokeh: ERROR: Unable to run BokehJS code because BokehJS library is missing\");\n",
       "        }\n",
       "      }\n",
       "    }, 25, root)\n",
       "  }\n",
       "})(window);</script>"
      ],
      "text/plain": [
       ":NdOverlay   [Class]\n",
       "   :Scatter   [TotalCoinsMined]   (TotalCoinSupply,CoinName)"
      ]
     },
     "execution_count": 148,
     "metadata": {
      "application/vnd.holoviews_exec.v0+json": {
       "id": "2551"
      }
     },
     "output_type": "execute_result"
    }
   ],
   "source": [
    "# Create a hvplot.scatter plot using x=\"TotalCoinsMined\" and y=\"TotalCoinSupply\".\n",
    "plot_df.hvplot.scatter(x='TotalCoinsMined', y='TotalCoinSupply', hover_cols='CoinName', by='Class')"
   ]
  },
  {
   "cell_type": "code",
   "execution_count": null,
   "metadata": {},
   "outputs": [],
   "source": []
  },
  {
   "cell_type": "code",
   "execution_count": null,
   "metadata": {},
   "outputs": [],
   "source": []
  }
 ],
 "metadata": {
  "file_extension": ".py",
  "kernelspec": {
   "display_name": "PythonData",
   "language": "python",
   "name": "pythondata"
  },
  "language_info": {
   "codemirror_mode": {
    "name": "ipython",
    "version": 3
   },
   "file_extension": ".py",
   "mimetype": "text/x-python",
   "name": "python",
   "nbconvert_exporter": "python",
   "pygments_lexer": "ipython3",
   "version": "3.7.10"
  },
  "latex_envs": {
   "LaTeX_envs_menu_present": true,
   "autoclose": false,
   "autocomplete": true,
   "bibliofile": "biblio.bib",
   "cite_by": "apalike",
   "current_citInitial": 1,
   "eqLabelWithNumbers": true,
   "eqNumInitial": 1,
   "hotkeys": {
    "equation": "Ctrl-E",
    "itemize": "Ctrl-I"
   },
   "labels_anchors": false,
   "latex_user_defs": false,
   "report_style_numbering": false,
   "user_envs_cfg": false
  },
  "mimetype": "text/x-python",
  "name": "python",
  "npconvert_exporter": "python",
  "pygments_lexer": "ipython3",
  "version": 3
 },
 "nbformat": 4,
 "nbformat_minor": 2
}
